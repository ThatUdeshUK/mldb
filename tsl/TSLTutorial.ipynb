{
 "cells": [
  {
   "cell_type": "markdown",
   "id": "6f996065-781a-4bb1-ad46-b6105b34c647",
   "metadata": {},
   "source": [
    "# TSL Tutorial"
   ]
  },
  {
   "cell_type": "code",
   "execution_count": 1,
   "id": "292079c1-722f-4d1c-98e2-8ba353fb59d8",
   "metadata": {},
   "outputs": [
    {
     "name": "stderr",
     "output_type": "stream",
     "text": [
      "/homes/ukumaras/miniconda3/envs/dbml/lib/python3.12/site-packages/tqdm/auto.py:21: TqdmWarning: IProgress not found. Please update jupyter and ipywidgets. See https://ipywidgets.readthedocs.io/en/stable/user_install.html\n",
      "  from .autonotebook import tqdm as notebook_tqdm\n"
     ]
    }
   ],
   "source": [
    "import numpy as np\n",
    "import pandas as pd\n",
    "\n",
    "import torch\n",
    "import torch.nn as nn\n",
    "\n",
    "from transformers import AutoModelForSequenceClassification, AutoTokenizer\n",
    "from onnxruntime import InferenceSession\n",
    "\n",
    "import duckdb"
   ]
  },
  {
   "cell_type": "markdown",
   "id": "d89fc486-d03e-4c28-9c6a-a5dd697dbba2",
   "metadata": {},
   "source": [
    "### Load iris data"
   ]
  },
  {
   "cell_type": "code",
   "execution_count": 2,
   "id": "cdf8b441-e7a5-4ce3-b89d-c609d47c4c46",
   "metadata": {},
   "outputs": [
    {
     "data": {
      "text/html": [
       "<div>\n",
       "<style scoped>\n",
       "    .dataframe tbody tr th:only-of-type {\n",
       "        vertical-align: middle;\n",
       "    }\n",
       "\n",
       "    .dataframe tbody tr th {\n",
       "        vertical-align: top;\n",
       "    }\n",
       "\n",
       "    .dataframe thead th {\n",
       "        text-align: right;\n",
       "    }\n",
       "</style>\n",
       "<table border=\"1\" class=\"dataframe\">\n",
       "  <thead>\n",
       "    <tr style=\"text-align: right;\">\n",
       "      <th></th>\n",
       "      <th>text</th>\n",
       "      <th>label</th>\n",
       "      <th>stage</th>\n",
       "    </tr>\n",
       "  </thead>\n",
       "  <tbody>\n",
       "    <tr>\n",
       "      <th>0</th>\n",
       "      <td>I rented I AM CURIOUS-YELLOW from my video sto...</td>\n",
       "      <td>0.0</td>\n",
       "      <td>train</td>\n",
       "    </tr>\n",
       "    <tr>\n",
       "      <th>1</th>\n",
       "      <td>\"I Am Curious: Yellow\" is a risible and preten...</td>\n",
       "      <td>0.0</td>\n",
       "      <td>train</td>\n",
       "    </tr>\n",
       "    <tr>\n",
       "      <th>2</th>\n",
       "      <td>If only to avoid making this type of film in t...</td>\n",
       "      <td>0.0</td>\n",
       "      <td>train</td>\n",
       "    </tr>\n",
       "    <tr>\n",
       "      <th>3</th>\n",
       "      <td>This film was probably inspired by Godard's Ma...</td>\n",
       "      <td>0.0</td>\n",
       "      <td>train</td>\n",
       "    </tr>\n",
       "    <tr>\n",
       "      <th>4</th>\n",
       "      <td>Oh, brother...after hearing about this ridicul...</td>\n",
       "      <td>0.0</td>\n",
       "      <td>train</td>\n",
       "    </tr>\n",
       "  </tbody>\n",
       "</table>\n",
       "</div>"
      ],
      "text/plain": [
       "                                                text  label  stage\n",
       "0  I rented I AM CURIOUS-YELLOW from my video sto...    0.0  train\n",
       "1  \"I Am Curious: Yellow\" is a risible and preten...    0.0  train\n",
       "2  If only to avoid making this type of film in t...    0.0  train\n",
       "3  This film was probably inspired by Godard's Ma...    0.0  train\n",
       "4  Oh, brother...after hearing about this ridicul...    0.0  train"
      ]
     },
     "execution_count": 2,
     "metadata": {},
     "output_type": "execute_result"
    }
   ],
   "source": [
    "con = duckdb.connect(\"../test.db\")\n",
    "imdb = con.sql(\"SELECT * FROM imdb WHERE stage == 'train'\").df()\n",
    "con.close()\n",
    "\n",
    "imdb.head()"
   ]
  },
  {
   "cell_type": "code",
   "execution_count": 3,
   "id": "e0aeee57-88ea-4c28-95ac-971cf429de6b",
   "metadata": {},
   "outputs": [],
   "source": [
    "imdb_data = imdb.iloc[:, 0]\n",
    "imdb_label = imdb.iloc[:, 1]"
   ]
  },
  {
   "cell_type": "markdown",
   "id": "17ae7aa0-cd89-496e-a570-06593cf74d72",
   "metadata": {},
   "source": [
    "### Train the model"
   ]
  },
  {
   "cell_type": "code",
   "execution_count": 5,
   "id": "44ae6c61-df7d-48f8-b35d-31bb2b2a65a4",
   "metadata": {},
   "outputs": [],
   "source": [
    "model_path = \"/homes/ukumaras/scratch/Models/distilbert-base-uncased-finetuned-sst-2-english\"\n",
    "\n",
    "tokenizer = AutoTokenizer.from_pretrained(model_path)\n",
    "model = AutoModelForSequenceClassification.from_pretrained(model_path)\n",
    "\n",
    "dummy_model_input = tokenizer(\"This is a sample\", return_tensors=\"pt\")"
   ]
  },
  {
   "cell_type": "code",
   "execution_count": 6,
   "id": "01cbe885-6c0f-4d22-91e6-44f6cbba1a7e",
   "metadata": {},
   "outputs": [
    {
     "data": {
      "text/plain": [
       "{'input_ids': tensor([[ 101, 2023, 2003, 1037, 7099,  102]]), 'attention_mask': tensor([[1, 1, 1, 1, 1, 1]])}"
      ]
     },
     "execution_count": 6,
     "metadata": {},
     "output_type": "execute_result"
    }
   ],
   "source": [
    "dummy_model_input"
   ]
  },
  {
   "cell_type": "markdown",
   "id": "e4469ab5-032a-4b7d-aa88-9ad4f262b381",
   "metadata": {},
   "source": [
    "### Compile to ONNX"
   ]
  },
  {
   "cell_type": "code",
   "execution_count": 6,
   "id": "c75714f4-8691-41de-8858-d5464890204a",
   "metadata": {},
   "outputs": [],
   "source": [
    "onnx_model_name = 'distilbert_text_classification.onnx'"
   ]
  },
  {
   "cell_type": "code",
   "execution_count": null,
   "id": "e2195763",
   "metadata": {},
   "outputs": [],
   "source": [
    "\n",
    "torch.onnx.export(\n",
    "    model, \n",
    "    tuple(dummy_model_input.values()),\n",
    "    f=onnx_model_name,  \n",
    "    input_names=['input_ids', 'attention_mask'], \n",
    "    output_names=['logits'], \n",
    "    dynamic_axes={'input_ids': {0: 'batch_size', 1: 'sequence'}, \n",
    "                  'attention_mask': {0: 'batch_size', 1: 'sequence'}, \n",
    "                  'logits': {0: 'batch_size', 1: 'sequence'}}, \n",
    "    do_constant_folding=True, \n",
    "    opset_version=13, \n",
    ")"
   ]
  },
  {
   "cell_type": "markdown",
   "id": "a0ca4735",
   "metadata": {},
   "source": [
    "### Model Inference"
   ]
  },
  {
   "cell_type": "code",
   "execution_count": 10,
   "id": "fec2a26c-ee37-4b1b-ae61-4aa481276e1e",
   "metadata": {},
   "outputs": [],
   "source": [
    "onnx_model_path = \"/homes/ukumaras/scratch/Models/distilbert-base-uncased-finetuned-sst-2-english-onnx\"\n",
    "\n",
    "tokenizer = AutoTokenizer.from_pretrained(onnx_model_path)\n",
    "session = InferenceSession(onnx_model_path + \"/model.onnx\")"
   ]
  },
  {
   "cell_type": "code",
   "execution_count": 13,
   "id": "5723734f",
   "metadata": {},
   "outputs": [
    {
     "data": {
      "text/plain": [
       "{'input_ids': array([[  101,  2478,  4487, 16643, 23373,  2007,  2006, 26807,  2448,\n",
       "         7292,   999,   102]]), 'attention_mask': array([[1, 1, 1, 1, 1, 1, 1, 1, 1, 1, 1, 1]])}"
      ]
     },
     "execution_count": 13,
     "metadata": {},
     "output_type": "execute_result"
    }
   ],
   "source": [
    "\n",
    "inputs = tokenizer(\"Using DistilBERT with ONNX Runtime!\", return_tensors=\"np\")\n",
    "inputs"
   ]
  },
  {
   "cell_type": "code",
   "execution_count": null,
   "id": "bd98a2cc",
   "metadata": {},
   "outputs": [],
   "source": [
    "\n",
    "outputs = session.run(output_names=[\"logits\"], input_feed=dict(inputs))"
   ]
  },
  {
   "cell_type": "code",
   "execution_count": 12,
   "id": "ef764400",
   "metadata": {},
   "outputs": [
    {
     "data": {
      "text/plain": [
       "[array([[ 2.3462074, -1.995204 ]], dtype=float32)]"
      ]
     },
     "execution_count": 12,
     "metadata": {},
     "output_type": "execute_result"
    }
   ],
   "source": [
    "outputs"
   ]
  },
  {
   "cell_type": "code",
   "execution_count": 1,
   "id": "53e45952",
   "metadata": {},
   "outputs": [
    {
     "name": "stderr",
     "output_type": "stream",
     "text": [
      "/homes/ukumaras/miniconda3/envs/dbml/lib/python3.12/site-packages/tqdm/auto.py:21: TqdmWarning: IProgress not found. Please update jupyter and ipywidgets. See https://ipywidgets.readthedocs.io/en/stable/user_install.html\n",
      "  from .autonotebook import tqdm as notebook_tqdm\n"
     ]
    },
    {
     "name": "stdout",
     "output_type": "stream",
     "text": [
      "['last_hidden_state']\n"
     ]
    }
   ],
   "source": [
    "from transformers.models.distilbert import DistilBertConfig, DistilBertOnnxConfig\n",
    "\n",
    "config = DistilBertConfig()\n",
    "onnx_config = DistilBertOnnxConfig(config)\n",
    "print(list(onnx_config.outputs.keys()))"
   ]
  },
  {
   "cell_type": "code",
   "execution_count": 4,
   "id": "95832110",
   "metadata": {},
   "outputs": [
    {
     "data": {
      "text/plain": [
       "OrderedDict([('input_ids', {0: 'batch', 1: 'sequence'}),\n",
       "             ('attention_mask', {0: 'batch', 1: 'sequence'})])"
      ]
     },
     "execution_count": 4,
     "metadata": {},
     "output_type": "execute_result"
    }
   ],
   "source": [
    "onnx_config.inputs"
   ]
  },
  {
   "cell_type": "code",
   "execution_count": null,
   "id": "2020e86f",
   "metadata": {},
   "outputs": [],
   "source": []
  }
 ],
 "metadata": {
  "kernelspec": {
   "display_name": "Python 3 (ipykernel)",
   "language": "python",
   "name": "python3"
  },
  "language_info": {
   "codemirror_mode": {
    "name": "ipython",
    "version": 3
   },
   "file_extension": ".py",
   "mimetype": "text/x-python",
   "name": "python",
   "nbconvert_exporter": "python",
   "pygments_lexer": "ipython3",
   "version": "3.12.2"
  }
 },
 "nbformat": 4,
 "nbformat_minor": 5
}
