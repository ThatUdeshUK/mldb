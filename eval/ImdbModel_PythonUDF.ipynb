{
 "cells": [
  {
   "cell_type": "markdown",
   "id": "cf970044-283f-4ed7-b140-70b7b9f55834",
   "metadata": {},
   "source": [
    "# Evaluate Python UDF Performance (Iris)"
   ]
  },
  {
   "cell_type": "code",
   "execution_count": 13,
   "id": "ec005594-ad5e-4351-bedb-0b6e113eceb9",
   "metadata": {},
   "outputs": [],
   "source": [
    "import os\n",
    "\n",
    "import pandas as pd\n",
    "\n",
    "import time\n",
    "import json\n",
    "import duckdb\n",
    "from duckdb.typing import *\n",
    "\n",
    "import torch\n",
    "from transformers import AutoModelForSequenceClassification, AutoTokenizer\n",
    "import pyarrow as pa"
   ]
  },
  {
   "cell_type": "markdown",
   "id": "95a2d9dc-1e3d-4bc2-83e8-91bc487243db",
   "metadata": {},
   "source": [
    "### Load timing data"
   ]
  },
  {
   "cell_type": "code",
   "execution_count": 14,
   "id": "ae5a28b4-3101-433e-a61f-6d415d2f5235",
   "metadata": {},
   "outputs": [],
   "source": [
    "times = {}\n",
    "workload = 1000"
   ]
  },
  {
   "cell_type": "code",
   "execution_count": 15,
   "id": "caa8cbd3",
   "metadata": {},
   "outputs": [],
   "source": [
    "table_name = 'imdb'\n",
    "times['dataset'] = 'imdb'\n",
    "times['pipeline'] = 'python_udf_vec'\n",
    "times['workload'] = workload"
   ]
  },
  {
   "cell_type": "code",
   "execution_count": 16,
   "id": "2cd29646-e8ec-444f-8180-72644dd3ba5c",
   "metadata": {},
   "outputs": [],
   "source": [
    "con = duckdb.connect(\"../test.db\")"
   ]
  },
  {
   "cell_type": "code",
   "execution_count": 17,
   "id": "33b0bc77-7165-4f5b-b3e8-7d3f8c4de3f2",
   "metadata": {
    "scrolled": true
   },
   "outputs": [],
   "source": [
    "def load_distrilbert():\n",
    "    model_path = \"/homes/ukumaras/scratch/Models/distilbert-base-uncased-finetuned-sst-2-english\"\n",
    "    load_distrilbert.tokenizer = AutoTokenizer.from_pretrained(model_path)\n",
    "    load_distrilbert.model = AutoModelForSequenceClassification.from_pretrained(model_path)\n",
    "    return True"
   ]
  },
  {
   "cell_type": "code",
   "execution_count": 18,
   "id": "7bfb9342-5534-4260-92dd-c32a18a52f7d",
   "metadata": {},
   "outputs": [
    {
     "name": "stdout",
     "output_type": "stream",
     "text": [
      "┌────────────────────┐\n",
      "│ load_distrilbert() │\n",
      "│      boolean       │\n",
      "├────────────────────┤\n",
      "│ true               │\n",
      "└────────────────────┘\n",
      "\n"
     ]
    }
   ],
   "source": [
    "load_distrilbert.model = None\n",
    "\n",
    "st = time.perf_counter_ns()\n",
    "\n",
    "con.create_function(\"load_distrilbert\", load_distrilbert, [], BOOLEAN, side_effects=True)\n",
    "res = con.sql(\"SELECT load_distrilbert()\").show()\n",
    "\n",
    "et = time.perf_counter_ns()"
   ]
  },
  {
   "cell_type": "markdown",
   "id": "e4c9309c",
   "metadata": {},
   "source": [
    "### Predict"
   ]
  },
  {
   "cell_type": "code",
   "execution_count": 19,
   "id": "a79f900f",
   "metadata": {},
   "outputs": [],
   "source": [
    "def predict_imdb(a):\n",
    "    a = a.to_numpy()[:, None]\n",
    "    \n",
    "    print(type(a))\n",
    "    a = a.flatten().tolist()\n",
    "    inputs = load_distrilbert.tokenizer(a, return_tensors=\"pt\", max_length=512, padding=True, truncation=True)\n",
    "    \n",
    "    with torch.no_grad():\n",
    "        logits = load_distrilbert.model(**inputs).logits\n",
    "\n",
    "    predicted_class_id = logits.argmax(dim=1).numpy()\n",
    "    print(predicted_class_id)\n",
    "    \n",
    "    return pa.array(predicted_class_id)"
   ]
  },
  {
   "cell_type": "code",
   "execution_count": 20,
   "id": "ef95cff0",
   "metadata": {},
   "outputs": [
    {
     "name": "stdout",
     "output_type": "stream",
     "text": [
      "<class 'numpy.ndarray'>\n",
      "[1 0 0 ... 0 0 0]\n"
     ]
    }
   ],
   "source": [
    "con.sql(\"PRAGMA enable_profiling='json'\")\n",
    "con.create_function(\"predict_imdb\", predict_imdb, [VARCHAR], FLOAT, side_effects=True, type='arrow')\n",
    "res = con.sql(f\"EXPLAIN ANALYZE SELECT *, predict_imdb(text) FROM imdb LIMIT 1000\").fetchall()\n",
    "\n",
    "con.close()"
   ]
  },
  {
   "cell_type": "code",
   "execution_count": 21,
   "id": "7e3cda0d",
   "metadata": {},
   "outputs": [],
   "source": [
    "prediction = json.loads(res[0][1])['children'][0]['children'][0]['children'][0]['children'][0]\n",
    "times[\"predict\"] = prediction['timing'] * 1000000\n",
    "\n",
    "move = prediction['children'][0]\n",
    "times[\"move\"] = move['timing'] * 1000000"
   ]
  },
  {
   "cell_type": "markdown",
   "id": "4d1ab786-2a67-458b-a543-6c54500385e3",
   "metadata": {},
   "source": [
    "### Write to times table"
   ]
  },
  {
   "cell_type": "code",
   "execution_count": 22,
   "id": "9ad985c5",
   "metadata": {},
   "outputs": [
    {
     "data": {
      "text/html": [
       "<div>\n",
       "<style scoped>\n",
       "    .dataframe tbody tr th:only-of-type {\n",
       "        vertical-align: middle;\n",
       "    }\n",
       "\n",
       "    .dataframe tbody tr th {\n",
       "        vertical-align: top;\n",
       "    }\n",
       "\n",
       "    .dataframe thead th {\n",
       "        text-align: right;\n",
       "    }\n",
       "</style>\n",
       "<table border=\"1\" class=\"dataframe\">\n",
       "  <thead>\n",
       "    <tr style=\"text-align: right;\">\n",
       "      <th></th>\n",
       "      <th>dataset</th>\n",
       "      <th>pipeline</th>\n",
       "      <th>workload</th>\n",
       "      <th>move</th>\n",
       "      <th>load</th>\n",
       "      <th>predict</th>\n",
       "    </tr>\n",
       "  </thead>\n",
       "  <tbody>\n",
       "    <tr>\n",
       "      <th>0</th>\n",
       "      <td>imdb</td>\n",
       "      <td>python_udf_vec</td>\n",
       "      <td>1000</td>\n",
       "      <td>57272.0</td>\n",
       "      <td>2516046.093</td>\n",
       "      <td>176626405.0</td>\n",
       "    </tr>\n",
       "  </tbody>\n",
       "</table>\n",
       "</div>"
      ],
      "text/plain": [
       "  dataset        pipeline  workload     move         load      predict\n",
       "0    imdb  python_udf_vec      1000  57272.0  2516046.093  176626405.0"
      ]
     },
     "execution_count": 22,
     "metadata": {},
     "output_type": "execute_result"
    }
   ],
   "source": [
    "times['load'] = (et - st)/1000\n",
    "times_df = pd.DataFrame.from_records([times]).loc[:, ['dataset', 'pipeline', 'workload', 'move', 'load', 'predict']]\n",
    "times_df"
   ]
  },
  {
   "cell_type": "code",
   "execution_count": 23,
   "id": "6b2c3775-031f-48f3-9729-71977e94a2d8",
   "metadata": {},
   "outputs": [
    {
     "name": "stdout",
     "output_type": "stream",
     "text": [
      "┌─────────┬────────────────┬──────────┬──────────┬─────────┬───────────┬─────────────────────────┐\n",
      "│ dataset │    pipeline    │ workload │   move   │  load   │  predict  │           ts            │\n",
      "│ varchar │    varchar     │  int32   │  int32   │  int32  │   int32   │        timestamp        │\n",
      "├─────────┼────────────────┼──────────┼──────────┼─────────┼───────────┼─────────────────────────┤\n",
      "│ iris    │ python_udf_vec │  1000000 │   218034 │   13971 │   2139728 │ 2024-05-21 14:43:26.063 │\n",
      "│ iris    │ python_udf_vec │  5000000 │  1185950 │   14044 │   5536022 │ 2024-05-21 14:43:54.855 │\n",
      "│ iris    │ python_udf_vec │ 10000000 │  2224030 │   13889 │   7646142 │ 2024-05-21 14:49:48.529 │\n",
      "│ iris    │ python_udf_vec │ 15000000 │  3188160 │   13680 │  11789199 │ 2024-05-21 14:50:06.5   │\n",
      "│ iris    │ python_udf_vec │ 20000000 │  4314927 │   15031 │  14350052 │ 2024-05-21 14:50:28.176 │\n",
      "│ iris    │ python_udf_vec │  1000000 │   223791 │   14497 │   1715185 │ 2024-05-21 14:50:33.186 │\n",
      "│ iris    │ python_udf_vec │  5000000 │  1095444 │   14399 │   5390325 │ 2024-05-21 14:50:42.858 │\n",
      "│ iris    │ python_udf_vec │ 10000000 │  2147617 │   14101 │   8948654 │ 2024-05-21 14:50:57.766 │\n",
      "│ iris    │ python_udf_vec │ 15000000 │  3173435 │   14991 │  11166434 │ 2024-05-21 14:51:15.275 │\n",
      "│ iris    │ python_udf_vec │ 20000000 │  4222857 │   14943 │  14202884 │ 2024-05-21 14:51:37.02  │\n",
      "│  ·      │      ·         │     ·    │     ·    │     ·   │      ·    │           ·             │\n",
      "│  ·      │      ·         │     ·    │     ·    │     ·   │      ·    │           ·             │\n",
      "│  ·      │      ·         │     ·    │     ·    │     ·   │      ·    │           ·             │\n",
      "│ iris    │ traditional    │ 20000000 │ 69198147 │   15248 │   4355269 │ 2024-05-21 15:27:26.513 │\n",
      "│ iris    │ traditional    │  1000000 │  3894269 │   18140 │    435837 │ 2024-05-21 15:27:36.026 │\n",
      "│ iris    │ traditional    │  5000000 │ 19292867 │   13185 │   1304968 │ 2024-05-21 15:27:59.724 │\n",
      "│ iris    │ traditional    │ 10000000 │ 37823977 │   14408 │   2236935 │ 2024-05-21 15:28:43.029 │\n",
      "│ iris    │ traditional    │ 15000000 │ 52960404 │   14244 │   3259672 │ 2024-05-21 15:29:43.525 │\n",
      "│ iris    │ traditional    │ 20000000 │ 78084691 │   14970 │   4530372 │ 2024-05-21 15:31:10.795 │\n",
      "│ iris    │ traditional    │  1000000 │  4077639 │   13713 │    540836 │ 2024-05-21 15:33:14.103 │\n",
      "│ iris    │ traditional    │  5000000 │ 18545114 │   16799 │   1249587 │ 2024-05-21 15:33:39.748 │\n",
      "│ imdb    │ python_udf_vec │      100 │    57349 │ 3629683 │ 178758047 │ 2024-06-12 13:03:59.477 │\n",
      "│ imdb    │ python_udf_vec │     1000 │    57272 │ 2516046 │ 176626405 │ 2024-06-12 13:10:26.978 │\n",
      "├─────────┴────────────────┴──────────┴──────────┴─────────┴───────────┴─────────────────────────┤\n",
      "│ 32 rows (20 shown)                                                                   7 columns │\n",
      "└────────────────────────────────────────────────────────────────────────────────────────────────┘\n",
      "\n"
     ]
    }
   ],
   "source": [
    "con = duckdb.connect(\"../test.db\")\n",
    "tables = con.sql(f\"SHOW TABLES\").df()\n",
    "has_table = tables[tables.name == 'times'].shape[0] == 1\n",
    "    \n",
    "if not has_table:\n",
    "    con.sql(f\"CREATE TABLE times (dataset varchar, workload integer, move integer, load integer, predict integer, ts timestamp DEFAULT current_timestamp)\")\n",
    "\n",
    "con.sql(f\"DELETE FROM times WHERE pipeline LIKE 'opt%'\")\n",
    "con.sql(f\"INSERT INTO times (dataset, pipeline, workload, move, load, predict) SELECT * FROM times_df\")\n",
    "con.sql(f\"SELECT * FROM times\").show()\n",
    "con.close()"
   ]
  },
  {
   "cell_type": "code",
   "execution_count": 24,
   "id": "5798a4b5-dd9f-4c0e-b52c-7b1d6497ff6a",
   "metadata": {},
   "outputs": [],
   "source": [
    "con.close()"
   ]
  },
  {
   "cell_type": "code",
   "execution_count": 43,
   "id": "809f9be9-6ffa-4efa-8e85-f6c6807a6604",
   "metadata": {},
   "outputs": [],
   "source": [
    "con = duckdb.connect(\"../test.db\")\n",
    "    \n",
    "out = con.sql(f\"SELECT * FROM times WHERE dataset == 'imdb' AND workload == 1000\").df()\n",
    "con.close()"
   ]
  },
  {
   "cell_type": "code",
   "execution_count": 46,
   "id": "4944e279",
   "metadata": {},
   "outputs": [
    {
     "data": {
      "text/html": [
       "<div>\n",
       "<style scoped>\n",
       "    .dataframe tbody tr th:only-of-type {\n",
       "        vertical-align: middle;\n",
       "    }\n",
       "\n",
       "    .dataframe tbody tr th {\n",
       "        vertical-align: top;\n",
       "    }\n",
       "\n",
       "    .dataframe thead th {\n",
       "        text-align: right;\n",
       "    }\n",
       "</style>\n",
       "<table border=\"1\" class=\"dataframe\">\n",
       "  <thead>\n",
       "    <tr style=\"text-align: right;\">\n",
       "      <th></th>\n",
       "      <th>pipeline</th>\n",
       "      <th>move</th>\n",
       "      <th>load</th>\n",
       "      <th>predict</th>\n",
       "    </tr>\n",
       "  </thead>\n",
       "  <tbody>\n",
       "    <tr>\n",
       "      <th>0</th>\n",
       "      <td>python_udf_vec</td>\n",
       "      <td>57272</td>\n",
       "      <td>2516046</td>\n",
       "      <td>176626405</td>\n",
       "    </tr>\n",
       "    <tr>\n",
       "      <th>1</th>\n",
       "      <td>traditonal</td>\n",
       "      <td>718027</td>\n",
       "      <td>3641943</td>\n",
       "      <td>87026763</td>\n",
       "    </tr>\n",
       "    <tr>\n",
       "      <th>0</th>\n",
       "      <td>opt_vec (ours)</td>\n",
       "      <td>2322044</td>\n",
       "      <td>799463</td>\n",
       "      <td>117655647</td>\n",
       "    </tr>\n",
       "  </tbody>\n",
       "</table>\n",
       "</div>"
      ],
      "text/plain": [
       "         pipeline     move     load    predict\n",
       "0  python_udf_vec    57272  2516046  176626405\n",
       "1      traditonal   718027  3641943   87026763\n",
       "0  opt_vec (ours)  2322044   799463  117655647"
      ]
     },
     "execution_count": 46,
     "metadata": {},
     "output_type": "execute_result"
    }
   ],
   "source": [
    "results = pd.DataFrame(out).drop(columns=['dataset', 'ts', 'workload'])\n",
    "results = pd.concat([results, pd.DataFrame([{'pipeline': 'opt_vec (ours)', 'load': 799463, 'move': 2322044, 'predict': 117655647}])])\n",
    "results"
   ]
  },
  {
   "cell_type": "code",
   "execution_count": 47,
   "id": "716fd43b",
   "metadata": {},
   "outputs": [
    {
     "data": {
      "text/plain": [
       "<Axes: xlabel='pipeline', ylabel='time'>"
      ]
     },
     "execution_count": 47,
     "metadata": {},
     "output_type": "execute_result"
    },
    {
     "data": {
      "image/png": "[encoded data removed]",
      "text/plain": [
       "<Figure size 640x480 with 1 Axes>"
      ]
     },
     "metadata": {},
     "output_type": "display_data"
    }
   ],
   "source": [
    "final = results.melt(id_vars='pipeline', value_name='time', var_name='stage').groupby('pipeline').sum().reset_index().drop(columns=['stage'])\n",
    "import seaborn as sns\n",
    "\n",
    "sns.barplot(y='time', x='pipeline', data=final)"
   ]
  },
  {
   "cell_type": "code",
   "execution_count": null,
   "id": "4bf4f6aa",
   "metadata": {},
   "outputs": [],
   "source": []
  }
 ],
 "metadata": {
  "kernelspec": {
   "display_name": "Python 3 (ipykernel)",
   "language": "python",
   "name": "python3"
  },
  "language_info": {
   "codemirror_mode": {
    "name": "ipython",
    "version": 3
   },
   "file_extension": ".py",
   "mimetype": "text/x-python",
   "name": "python",
   "nbconvert_exporter": "python",
   "pygments_lexer": "ipython3",
   "version": "3.1.undefined"
  }
 },
 "nbformat": 4,
 "nbformat_minor": 5
}
