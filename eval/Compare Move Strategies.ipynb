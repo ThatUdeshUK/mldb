{
 "cells": [
  {
   "cell_type": "code",
   "execution_count": 1,
   "id": "3aa8e8ac-1f3d-4b42-84f0-8f9a93d81eee",
   "metadata": {},
   "outputs": [],
   "source": [
    "import os\n",
    "\n",
    "import numpy as np\n",
    "import pandas as pd\n",
    "\n",
    "import json\n",
    "import seaborn as sns\n",
    "import matplotlib.pyplot as plt"
   ]
  },
  {
   "cell_type": "code",
   "execution_count": 2,
   "id": "0200d3d0-b2b1-4157-b073-71e16fe387ed",
   "metadata": {},
   "outputs": [
    {
     "data": {
      "text/plain": [
       "['/Users/udeshuk/Developer/mldb/eval/analyze_outputs/opt_vec_row_copy_iris4_20000000.json',\n",
       " '/Users/udeshuk/Developer/mldb/eval/analyze_outputs/opt_vec_row_set_iris4_20000000.json',\n",
       " '/Users/udeshuk/Developer/mldb/eval/analyze_outputs/opt_vec_row_set_iris3_20000000.json',\n",
       " '/Users/udeshuk/Developer/mldb/eval/analyze_outputs/opt_vec_col_copy_iris5_20000000.json',\n",
       " '/Users/udeshuk/Developer/mldb/eval/analyze_outputs/opt_vec_col_set_iris5_20000000.json',\n",
       " '/Users/udeshuk/Developer/mldb/eval/analyze_outputs/opt_vec_row_copy_iris3_20000000.json',\n",
       " '/Users/udeshuk/Developer/mldb/eval/analyze_outputs/opt_vec_col_set_iris4_20000000.json',\n",
       " '/Users/udeshuk/Developer/mldb/eval/analyze_outputs/opt_vec_col_copy_iris4_20000000.json',\n",
       " '/Users/udeshuk/Developer/mldb/eval/analyze_outputs/opt_vec_row_copy_iris5_20000000.json',\n",
       " '/Users/udeshuk/Developer/mldb/eval/analyze_outputs/opt_vec_col_set_iris3_20000000.json',\n",
       " '/Users/udeshuk/Developer/mldb/eval/analyze_outputs/opt_vec_row_set_iris5_20000000.json',\n",
       " '/Users/udeshuk/Developer/mldb/eval/analyze_outputs/opt_vec_col_copy_iris3_20000000.json']"
      ]
     },
     "execution_count": 2,
     "metadata": {},
     "output_type": "execute_result"
    }
   ],
   "source": [
    "timing_dir = 'analyze_outputs'\n",
    "files = [os.path.abspath(os.path.join(timing_dir, f)) for f in os.listdir(timing_dir) if ('.json' in f) and ('copy' in f or 'set' in f)]\n",
    "files"
   ]
  },
  {
   "cell_type": "code",
   "execution_count": 3,
   "id": "0d5a6dc7-f865-4cce-ae39-c183f22825fc",
   "metadata": {},
   "outputs": [],
   "source": [
    "times_raw = {}\n",
    "\n",
    "for file in files:\n",
    "    with open(file, \"r\") as f:\n",
    "        name = file.split(\"/\")[-1].split(\".\")[0]\n",
    "        workload = name.split(\"_\")[-1]\n",
    "        key = name.split(\"_iris\")[0]\n",
    "        run = name.split(\"_iris\")[1][0]\n",
    "        times_raw[key + \"~\" + workload + \"~\" + run] = json.loads(f.read())"
   ]
  },
  {
   "cell_type": "code",
   "execution_count": 4,
   "id": "5ecb3b95-7c49-4447-a94e-98c4ab6e1c9b",
   "metadata": {},
   "outputs": [],
   "source": [
    "times = []\n",
    "\n",
    "for k, v in times_raw.items():\n",
    "    t = {}\n",
    "    t['dataset'] = 'iris'\n",
    "    t['pipeline'] = k.split(\"~\")[0][8:]\n",
    "    t['workload'] = k.split(\"~\")[1]\n",
    "    t['run'] = k.split(\"~\")[2]\n",
    "\n",
    "    if t['run'] ==  '1':\n",
    "        prediction = v['children'][0]['children'][0]['children'][0]\n",
    "    else:\n",
    "        prediction = v['children'][0]['children'][0]\n",
    "        # if t['pipeline'] == 'opt_vec2':\n",
    "        #     print(t['workload'])\n",
    "        #     pprint(prediction)\n",
    "    pred_info = prediction['extra_info'].split('|')[1:]\n",
    "    for i in pred_info:\n",
    "        kv = i.split(\":\")\n",
    "        t[kv[0]] = kv[1]\n",
    "    \n",
    "    times.append(t)"
   ]
  },
  {
   "cell_type": "code",
   "execution_count": 5,
   "id": "da2ee754-3511-414d-86fa-a8be6ec4e537",
   "metadata": {},
   "outputs": [],
   "source": [
    "times_df = pd.DataFrame.from_records(times).loc[:, ['pipeline', 'load', 'move', 'predict', 'move_rev']]\n",
    "times_df = times_df.melt(id_vars=['pipeline'], value_vars=['load', 'move', 'predict', 'move_rev'], var_name='phase', value_name='time')\n",
    "times_df['time'] = times_df['time'].astype(int)"
   ]
  },
  {
   "cell_type": "code",
   "execution_count": 6,
   "id": "2fa39f0b-25ba-4bf7-a30a-a6d16f0f7c91",
   "metadata": {},
   "outputs": [
    {
     "data": {
      "text/plain": [
       "([0, 1, 2, 3],\n",
       " [Text(0, 0, 'row_copy'),\n",
       "  Text(1, 0, 'row_set'),\n",
       "  Text(2, 0, 'col_copy'),\n",
       "  Text(3, 0, 'col_set')])"
      ]
     },
     "execution_count": 6,
     "metadata": {},
     "output_type": "execute_result"
    },
    {
     "data": {
      "image/png": "[encoded data removed]",
      "text/plain": [
       "<Figure size 640x480 with 1 Axes>"
      ]
     },
     "metadata": {},
     "output_type": "display_data"
    }
   ],
   "source": [
    "sns.barplot(times_df, x=\"pipeline\", y=\"time\", hue=\"phase\", errorbar=None)\n",
    "plt.xticks(rotation=45, ha='right')"
   ]
  },
  {
   "cell_type": "code",
   "execution_count": null,
   "id": "20acec52-ba90-44b2-9b90-6a1251ce51cb",
   "metadata": {},
   "outputs": [],
   "source": []
  }
 ],
 "metadata": {
  "kernelspec": {
   "display_name": "Python 3 (ipykernel)",
   "language": "python",
   "name": "python3"
  },
  "language_info": {
   "codemirror_mode": {
    "name": "ipython",
    "version": 3
   },
   "file_extension": ".py",
   "mimetype": "text/x-python",
   "name": "python",
   "nbconvert_exporter": "python",
   "pygments_lexer": "ipython3",
   "version": "3.12.2"
  }
 },
 "nbformat": 4,
 "nbformat_minor": 5
}
