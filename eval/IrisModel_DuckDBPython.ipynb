{
 "cells": [
  {
   "cell_type": "markdown",
   "id": "6f996065-781a-4bb1-ad46-b6105b34c647",
   "metadata": {},
   "source": [
    "# Evaluate DuckDB Python Performance (Iris)"
   ]
  },
  {
   "cell_type": "code",
   "execution_count": 1,
   "id": "292079c1-722f-4d1c-98e2-8ba353fb59d8",
   "metadata": {},
   "outputs": [],
   "source": [
    "import numpy as np\n",
    "import pandas as pd\n",
    "\n",
    "import time\n",
    "\n",
    "# from timeit import default_timer as timer\n",
    "\n",
    "import torch\n",
    "import torch.nn as nn\n",
    "\n",
    "import duckdb"
   ]
  },
  {
   "cell_type": "markdown",
   "id": "a14b5153-a73a-48cb-bca0-2559eb6f2d79",
   "metadata": {},
   "source": [
    "### Config"
   ]
  },
  {
   "cell_type": "code",
   "execution_count": 2,
   "id": "62fb327b-19c9-4eab-9f8b-12b0b4771084",
   "metadata": {},
   "outputs": [],
   "source": [
    "times = {}"
   ]
  },
  {
   "cell_type": "code",
   "execution_count": 3,
   "id": "1c0b850e-03c3-4b23-8744-e0936c725fa6",
   "metadata": {},
   "outputs": [
    {
     "data": {
      "text/plain": [
       "'iris_1_0'"
      ]
     },
     "execution_count": 3,
     "metadata": {},
     "output_type": "execute_result"
    }
   ],
   "source": [
    "table_name = 'iris'\n",
    "times['dataset'] = 'iris'\n",
    "times['pipeline'] = 'traditonal'\n",
    "\n",
    "ori_workload = False\n",
    "drop_table = False\n",
    "\n",
    "if not ori_workload:\n",
    "    workload = 1000000\n",
    "    table_name += \"_\" + str(workload / 1000000).replace(\".\", \"_\")\n",
    "    select_stmt = f\"SELECT * FROM iris_20_0 LIMIT {workload}\"\n",
    "else:\n",
    "    select_stmt = f\"SELECT * FROM iris\"\n",
    "\n",
    "table_name"
   ]
  },
  {
   "cell_type": "markdown",
   "id": "d89fc486-d03e-4c28-9c6a-a5dd697dbba2",
   "metadata": {},
   "source": [
    "### Load iris data"
   ]
  },
  {
   "cell_type": "code",
   "execution_count": 4,
   "id": "cdf8b441-e7a5-4ce3-b89d-c609d47c4c46",
   "metadata": {},
   "outputs": [
    {
     "data": {
      "text/html": [
       "<div>\n",
       "<style scoped>\n",
       "    .dataframe tbody tr th:only-of-type {\n",
       "        vertical-align: middle;\n",
       "    }\n",
       "\n",
       "    .dataframe tbody tr th {\n",
       "        vertical-align: top;\n",
       "    }\n",
       "\n",
       "    .dataframe thead th {\n",
       "        text-align: right;\n",
       "    }\n",
       "</style>\n",
       "<table border=\"1\" class=\"dataframe\">\n",
       "  <thead>\n",
       "    <tr style=\"text-align: right;\">\n",
       "      <th></th>\n",
       "      <th>sepal_length</th>\n",
       "      <th>sepal_width</th>\n",
       "      <th>petal_length</th>\n",
       "      <th>petal_width</th>\n",
       "      <th>label</th>\n",
       "    </tr>\n",
       "  </thead>\n",
       "  <tbody>\n",
       "    <tr>\n",
       "      <th>0</th>\n",
       "      <td>-0.173674</td>\n",
       "      <td>1.709595</td>\n",
       "      <td>-1.169714</td>\n",
       "      <td>-1.183812</td>\n",
       "      <td>0</td>\n",
       "    </tr>\n",
       "    <tr>\n",
       "      <th>1</th>\n",
       "      <td>2.249683</td>\n",
       "      <td>1.709595</td>\n",
       "      <td>1.672157</td>\n",
       "      <td>1.317199</td>\n",
       "      <td>2</td>\n",
       "    </tr>\n",
       "    <tr>\n",
       "      <th>2</th>\n",
       "      <td>0.553333</td>\n",
       "      <td>-0.362176</td>\n",
       "      <td>1.046945</td>\n",
       "      <td>0.790671</td>\n",
       "      <td>2</td>\n",
       "    </tr>\n",
       "    <tr>\n",
       "      <th>3</th>\n",
       "      <td>0.553333</td>\n",
       "      <td>-1.743357</td>\n",
       "      <td>0.364896</td>\n",
       "      <td>0.132510</td>\n",
       "      <td>1</td>\n",
       "    </tr>\n",
       "    <tr>\n",
       "      <th>4</th>\n",
       "      <td>1.159173</td>\n",
       "      <td>-0.131979</td>\n",
       "      <td>0.990108</td>\n",
       "      <td>1.185567</td>\n",
       "      <td>2</td>\n",
       "    </tr>\n",
       "  </tbody>\n",
       "</table>\n",
       "</div>"
      ],
      "text/plain": [
       "   sepal_length  sepal_width  petal_length  petal_width  label\n",
       "0     -0.173674     1.709595     -1.169714    -1.183812      0\n",
       "1      2.249683     1.709595      1.672157     1.317199      2\n",
       "2      0.553333    -0.362176      1.046945     0.790671      2\n",
       "3      0.553333    -1.743357      0.364896     0.132510      1\n",
       "4      1.159173    -0.131979      0.990108     1.185567      2"
      ]
     },
     "execution_count": 4,
     "metadata": {},
     "output_type": "execute_result"
    }
   ],
   "source": [
    "st = time.perf_counter_ns()\n",
    "\n",
    "con = duckdb.connect(\"../test.db\")\n",
    "iris = con.sql(select_stmt).df()\n",
    "con.close()\n",
    "\n",
    "et = time.perf_counter_ns()\n",
    "times['workload'] = iris.shape[0]\n",
    "times[\"move\"] = et - st\n",
    "iris.head()"
   ]
  },
  {
   "cell_type": "markdown",
   "id": "b932e856-9b91-47a5-af3d-de24ab1d9629",
   "metadata": {},
   "source": [
    "### Load the compiled model"
   ]
  },
  {
   "cell_type": "code",
   "execution_count": 6,
   "id": "cf4a0b9c-6a34-43cd-a399-e52760a1ea66",
   "metadata": {},
   "outputs": [],
   "source": [
    "st = time.perf_counter_ns()\n",
    "\n",
    "model_path = \"../models/iris.pt\"\n",
    "model = torch.jit.load(model_path)\n",
    "\n",
    "et = time.perf_counter_ns()\n",
    "times[\"load\"] = et - st"
   ]
  },
  {
   "cell_type": "markdown",
   "id": "4f76f0da-7a5b-4b5c-9fa6-a4713e45b6a5",
   "metadata": {},
   "source": [
    "### Predict"
   ]
  },
  {
   "cell_type": "code",
   "execution_count": 7,
   "id": "423e8708-3d93-4989-b3d1-8a085d5442ad",
   "metadata": {},
   "outputs": [],
   "source": [
    "st = time.perf_counter_ns()\n",
    "\n",
    "iris_data = iris.iloc[:, :4]\n",
    "iris_label = iris.iloc[:, 4]\n",
    "\n",
    "x = torch.FloatTensor(iris_data.values)\n",
    "\n",
    "out = model(x)\n",
    "\n",
    "et = time.perf_counter_ns()\n",
    "times[\"predict\"] = et - st"
   ]
  },
  {
   "cell_type": "code",
   "execution_count": 8,
   "id": "328c8a56-76e2-4750-8ce0-677f0bfc00ef",
   "metadata": {},
   "outputs": [
    {
     "name": "stdout",
     "output_type": "stream",
     "text": [
      "┌─────────┬──────────┬───────────┬──────────┬────────────┬─────────────────────────┐\n",
      "│ dataset │ workload │   move    │   load   │  predict   │           ts            │\n",
      "│ varchar │  int32   │   int32   │  int32   │   int32    │        timestamp        │\n",
      "├─────────┼──────────┼───────────┼──────────┼────────────┼─────────────────────────┤\n",
      "│ iris    │  1000000 │  99968156 │ 18879699 │ 1181731834 │ 2024-04-16 14:55:58.035 │\n",
      "│ iris    │  1000000 │ 110142343 │ 17123567 │  825986872 │ 2024-04-16 14:56:16.202 │\n",
      "│ iris    │  1000000 │  91453449 │ 20282890 │  785223391 │ 2024-04-16 14:56:35.162 │\n",
      "│ iris    │  1000000 │  92200839 │  5309186 │ 1545610563 │ 2024-04-16 14:56:49.705 │\n",
      "│ iris    │  1000000 │  92105644 │  5623429 │ 1015662888 │ 2024-04-16 14:56:59.238 │\n",
      "│ iris    │  1000000 │  98426867 │ 16412810 │  762114296 │ 2024-04-16 14:57:17.432 │\n",
      "└─────────┴──────────┴───────────┴──────────┴────────────┴─────────────────────────┘\n",
      "\n"
     ]
    }
   ],
   "source": [
    "times_df = pd.DataFrame.from_records([times]).loc[:, ['dataset', 'workload', 'move', 'load', 'predict']]\n",
    "\n",
    "con = duckdb.connect(\"../test.db\")\n",
    "tables = con.sql(f\"SHOW TABLES\").df()\n",
    "has_table = tables[tables.name == 'times'].shape[0] == 1\n",
    "\n",
    "if drop_table:\n",
    "    con.sql(f\"DROP TABLE IF EXISTS times\")\n",
    "    \n",
    "if not has_table:\n",
    "    con.sql(f\"CREATE TABLE times (dataset varchar, workload integer, move integer, load integer, predict integer, ts timestamp DEFAULT current_timestamp)\")\n",
    "\n",
    "con.sql(f\"INSERT INTO times (dataset, workload, move, load, predict) SELECT * FROM times_df\")\n",
    "con.sql(f\"SELECT * FROM times\").show()\n",
    "con.close()"
   ]
  },
  {
   "cell_type": "code",
   "execution_count": null,
   "id": "4457ce92-890b-43a7-948e-3d2d624f9fdc",
   "metadata": {},
   "outputs": [],
   "source": []
  },
  {
   "cell_type": "code",
   "execution_count": null,
   "id": "b75573c4-33d4-4171-ac4c-7f75529d15b0",
   "metadata": {},
   "outputs": [],
   "source": []
  },
  {
   "cell_type": "code",
   "execution_count": null,
   "id": "793fe498-24bc-4455-8e89-19ba69ca4667",
   "metadata": {},
   "outputs": [],
   "source": []
  }
 ],
 "metadata": {
  "kernelspec": {
   "display_name": "Python 3 (ipykernel)",
   "language": "python",
   "name": "python3"
  },
  "language_info": {
   "codemirror_mode": {
    "name": "ipython",
    "version": 3
   },
   "file_extension": ".py",
   "mimetype": "text/x-python",
   "name": "python",
   "nbconvert_exporter": "python",
   "pygments_lexer": "ipython3",
   "version": "3.12.2"
  }
 },
 "nbformat": 4,
 "nbformat_minor": 5
}
