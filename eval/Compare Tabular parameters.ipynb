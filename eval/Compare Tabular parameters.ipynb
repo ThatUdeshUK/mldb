{
 "cells": [
  {
   "cell_type": "code",
   "execution_count": 46,
   "id": "3aa8e8ac-1f3d-4b42-84f0-8f9a93d81eee",
   "metadata": {},
   "outputs": [],
   "source": [
    "import os\n",
    "\n",
    "import pandas as pd\n",
    "\n",
    "import json\n",
    "import seaborn as sns\n",
    "import matplotlib.pyplot as plt"
   ]
  },
  {
   "cell_type": "code",
   "execution_count": 47,
   "id": "0200d3d0-b2b1-4157-b073-71e16fe387ed",
   "metadata": {},
   "outputs": [],
   "source": [
    "timing_dir = '../eval/tabular_performance'\n",
    "files = [os.path.abspath(os.path.join(timing_dir, f)) for f in os.listdir(timing_dir) if ('.json' in f)]\n",
    "# files"
   ]
  },
  {
   "cell_type": "code",
   "execution_count": 48,
   "id": "46467f5a",
   "metadata": {},
   "outputs": [
    {
     "data": {
      "text/plain": [
       "['/u/antor/u13/ukumaras/Projects/mldb/eval/tabular_performance/opt_vec_onnx_dnn|3|256_iris_n_10000000_bs_256_run_3_intratc_2.json',\n",
       " '/u/antor/u13/ukumaras/Projects/mldb/eval/tabular_performance/opt_vec_onnx_dnn|5|512_iris_n_10000000_bs_1024_run_3_intratc_4.json',\n",
       " '/u/antor/u13/ukumaras/Projects/mldb/eval/tabular_performance/opt_vec_onnx_dnn|3|256_iris_n_10000000_bs_1024_run_2_intratc_192.json',\n",
       " '/u/antor/u13/ukumaras/Projects/mldb/eval/tabular_performance/opt_vec_onnx_dnn|1|128_iris_n_10000000_bs_1024_run_2_intratc_8.json',\n",
       " '/u/antor/u13/ukumaras/Projects/mldb/eval/tabular_performance/opt_vec_onnx_dnn|7|1024_iris_n_10000000_bs_1024_run_1_intratc_192.json',\n",
       " '/u/antor/u13/ukumaras/Projects/mldb/eval/tabular_performance/opt_vec_onnx_dnn|3|256_iris_n_10000000_bs_64_run_1_intratc_16.json',\n",
       " '/u/antor/u13/ukumaras/Projects/mldb/eval/tabular_performance/opt_vec_onnx_dnn|1|128_iris_n_10000000_bs_4096_run_3_intratc_1.json',\n",
       " '/u/antor/u13/ukumaras/Projects/mldb/eval/tabular_performance/opt_vec_onnx_dnn|7|1024_iris_n_10000000_bs_64_run_1_intratc_16.json',\n",
       " '/u/antor/u13/ukumaras/Projects/mldb/eval/tabular_performance/opt_vec_onnx_dnn|7|1024_iris_n_10000000_bs_1024_run_1_intratc_2.json',\n",
       " '/u/antor/u13/ukumaras/Projects/mldb/eval/tabular_performance/opt_vec_onnx_dnn|3|256_iris_n_10000000_bs_64_run_1_intratc_8.json',\n",
       " '/u/antor/u13/ukumaras/Projects/mldb/eval/tabular_performance/opt_vec_onnx_dnn|1|128_iris_n_10000000_bs_2048_run_1_intratc_192.json',\n",
       " '/u/antor/u13/ukumaras/Projects/mldb/eval/tabular_performance/opt_vec_onnx_dnn|3|256_iris_n_10000000_bs_2048_run_2_intratc_192.json',\n",
       " '/u/antor/u13/ukumaras/Projects/mldb/eval/tabular_performance/opt_vec_onnx_dnn|1|128_iris_n_10000000_bs_1024_run_2_intratc_4.json',\n",
       " '/u/antor/u13/ukumaras/Projects/mldb/eval/tabular_performance/opt_vec_onnx_dnn|1|128_iris_n_10000000_bs_64_run_2_intratc_32.json',\n",
       " '/u/antor/u13/ukumaras/Projects/mldb/eval/tabular_performance/opt_vec_onnx_dnn|1|128_iris_n_10000000_bs_1024_run_1_intratc_128.json',\n",
       " '/u/antor/u13/ukumaras/Projects/mldb/eval/tabular_performance/opt_vec_onnx_dnn|1|128_iris_n_10000000_bs_1024_run_3_intratc_4.json',\n",
       " '/u/antor/u13/ukumaras/Projects/mldb/eval/tabular_performance/opt_vec_onnx_dnn|1|128_iris_n_10000000_bs_64_run_1_intratc_1.json',\n",
       " '/u/antor/u13/ukumaras/Projects/mldb/eval/tabular_performance/opt_vec_onnx_dnn|5|512_iris_n_10000000_bs_4096_run_2_intratc_192.json',\n",
       " '/u/antor/u13/ukumaras/Projects/mldb/eval/tabular_performance/opt_vec_onnx_dnn|5|512_iris_n_10000000_bs_64_run_3_intratc_4.json',\n",
       " '/u/antor/u13/ukumaras/Projects/mldb/eval/tabular_performance/opt_vec_onnx_dnn|1|128_iris_n_10000000_bs_512_run_1_intratc_16.json',\n",
       " '/u/antor/u13/ukumaras/Projects/mldb/eval/tabular_performance/opt_vec_onnx_dnn|1|128_iris_n_10000000_bs_256_run_2_intratc_32.json',\n",
       " '/u/antor/u13/ukumaras/Projects/mldb/eval/tabular_performance/opt_vec_onnx_dnn|3|256_iris_n_10000000_bs_64_run_2_intratc_4.json',\n",
       " '/u/antor/u13/ukumaras/Projects/mldb/eval/tabular_performance/opt_vec_onnx_dnn|3|256_iris_n_10000000_bs_4096_run_2_intratc_1.json',\n",
       " '/u/antor/u13/ukumaras/Projects/mldb/eval/tabular_performance/opt_vec_onnx_dnn|3|256_iris_n_10000000_bs_64_run_2_intratc_8.json',\n",
       " '/u/antor/u13/ukumaras/Projects/mldb/eval/tabular_performance/opt_vec_onnx_dnn|7|1024_iris_n_10000000_bs_256_run_2_intratc_4.json',\n",
       " '/u/antor/u13/ukumaras/Projects/mldb/eval/tabular_performance/opt_vec_onnx_dnn|1|128_iris_n_10000000_bs_2048_run_3_intratc_4.json',\n",
       " '/u/antor/u13/ukumaras/Projects/mldb/eval/tabular_performance/opt_vec_onnx_dnn|5|512_iris_n_10000000_bs_64_run_3_intratc_64.json',\n",
       " '/u/antor/u13/ukumaras/Projects/mldb/eval/tabular_performance/opt_vec_onnx_dnn|3|256_iris_n_10000000_bs_64_run_3_intratc_2.json',\n",
       " '/u/antor/u13/ukumaras/Projects/mldb/eval/tabular_performance/opt_vec_onnx_dnn|5|512_iris_n_10000000_bs_2048_run_1_intratc_16.json',\n",
       " '/u/antor/u13/ukumaras/Projects/mldb/eval/tabular_performance/opt_vec_onnx_dnn|5|512_iris_n_10000000_bs_512_run_3_intratc_4.json',\n",
       " '/u/antor/u13/ukumaras/Projects/mldb/eval/tabular_performance/opt_vec_onnx_dnn|1|128_iris_n_10000000_bs_128_run_1_intratc_1.json',\n",
       " '/u/antor/u13/ukumaras/Projects/mldb/eval/tabular_performance/opt_vec_onnx_dnn|5|512_iris_n_10000000_bs_64_run_3_intratc_128.json',\n",
       " '/u/antor/u13/ukumaras/Projects/mldb/eval/tabular_performance/opt_vec_onnx_dnn|1|128_iris_n_10000000_bs_2048_run_2_intratc_2.json',\n",
       " '/u/antor/u13/ukumaras/Projects/mldb/eval/tabular_performance/opt_vec_onnx_dnn|1|128_iris_n_10000000_bs_2048_run_1_intratc_16.json',\n",
       " '/u/antor/u13/ukumaras/Projects/mldb/eval/tabular_performance/opt_vec_onnx_dnn|3|256_iris_n_10000000_bs_128_run_2_intratc_8.json',\n",
       " '/u/antor/u13/ukumaras/Projects/mldb/eval/tabular_performance/opt_vec_onnx_dnn|1|128_iris_n_10000000_bs_256_run_1_intratc_64.json',\n",
       " '/u/antor/u13/ukumaras/Projects/mldb/eval/tabular_performance/opt_vec_onnx_dnn|1|128_iris_n_10000000_bs_256_run_1_intratc_1.json',\n",
       " '/u/antor/u13/ukumaras/Projects/mldb/eval/tabular_performance/opt_vec_onnx_dnn|3|256_iris_n_10000000_bs_2048_run_1_intratc_8.json',\n",
       " '/u/antor/u13/ukumaras/Projects/mldb/eval/tabular_performance/opt_vec_onnx_dnn|3|256_iris_n_10000000_bs_2048_run_2_intratc_1.json',\n",
       " '/u/antor/u13/ukumaras/Projects/mldb/eval/tabular_performance/opt_vec_onnx_dnn|1|128_iris_n_10000000_bs_4096_run_1_intratc_2.json',\n",
       " '/u/antor/u13/ukumaras/Projects/mldb/eval/tabular_performance/opt_vec_onnx_dnn|7|1024_iris_n_10000000_bs_128_run_2_intratc_8.json',\n",
       " '/u/antor/u13/ukumaras/Projects/mldb/eval/tabular_performance/opt_vec_onnx_dnn|7|1024_iris_n_10000000_bs_128_run_2_intratc_192.json',\n",
       " '/u/antor/u13/ukumaras/Projects/mldb/eval/tabular_performance/opt_vec_onnx_dnn|3|256_iris_n_10000000_bs_1024_run_2_intratc_64.json',\n",
       " '/u/antor/u13/ukumaras/Projects/mldb/eval/tabular_performance/opt_vec_onnx_dnn|5|512_iris_n_10000000_bs_256_run_2_intratc_32.json',\n",
       " '/u/antor/u13/ukumaras/Projects/mldb/eval/tabular_performance/opt_vec_onnx_dnn|3|256_iris_n_10000000_bs_2048_run_3_intratc_32.json',\n",
       " '/u/antor/u13/ukumaras/Projects/mldb/eval/tabular_performance/opt_vec_onnx_dnn|1|128_iris_n_10000000_bs_4096_run_3_intratc_8.json',\n",
       " '/u/antor/u13/ukumaras/Projects/mldb/eval/tabular_performance/opt_vec_onnx_dnn|5|512_iris_n_10000000_bs_256_run_3_intratc_2.json',\n",
       " '/u/antor/u13/ukumaras/Projects/mldb/eval/tabular_performance/opt_vec_onnx_dnn|7|1024_iris_n_10000000_bs_4096_run_1_intratc_1.json',\n",
       " '/u/antor/u13/ukumaras/Projects/mldb/eval/tabular_performance/opt_vec_onnx_dnn|1|128_iris_n_10000000_bs_64_run_2_intratc_2.json',\n",
       " '/u/antor/u13/ukumaras/Projects/mldb/eval/tabular_performance/opt_vec_onnx_dnn|5|512_iris_n_10000000_bs_128_run_2_intratc_32.json',\n",
       " '/u/antor/u13/ukumaras/Projects/mldb/eval/tabular_performance/opt_vec_onnx_dnn|3|256_iris_n_10000000_bs_64_run_2_intratc_32.json',\n",
       " '/u/antor/u13/ukumaras/Projects/mldb/eval/tabular_performance/opt_vec_onnx_dnn|1|128_iris_n_10000000_bs_4096_run_2_intratc_4.json',\n",
       " '/u/antor/u13/ukumaras/Projects/mldb/eval/tabular_performance/opt_vec_onnx_dnn|5|512_iris_n_10000000_bs_64_run_3_intratc_1.json',\n",
       " '/u/antor/u13/ukumaras/Projects/mldb/eval/tabular_performance/opt_vec_onnx_dnn|5|512_iris_n_10000000_bs_1024_run_3_intratc_16.json',\n",
       " '/u/antor/u13/ukumaras/Projects/mldb/eval/tabular_performance/opt_vec_onnx_dnn|5|512_iris_n_10000000_bs_128_run_3_intratc_2.json',\n",
       " '/u/antor/u13/ukumaras/Projects/mldb/eval/tabular_performance/opt_vec_onnx_dnn|1|128_iris_n_10000000_bs_128_run_1_intratc_64.json',\n",
       " '/u/antor/u13/ukumaras/Projects/mldb/eval/tabular_performance/opt_vec_onnx_dnn|3|256_iris_n_10000000_bs_128_run_2_intratc_2.json',\n",
       " '/u/antor/u13/ukumaras/Projects/mldb/eval/tabular_performance/opt_vec_onnx_dnn|5|512_iris_n_10000000_bs_512_run_3_intratc_2.json',\n",
       " '/u/antor/u13/ukumaras/Projects/mldb/eval/tabular_performance/opt_vec_onnx_dnn|3|256_iris_n_10000000_bs_1024_run_2_intratc_16.json',\n",
       " '/u/antor/u13/ukumaras/Projects/mldb/eval/tabular_performance/opt_vec_onnx_dnn|1|128_iris_n_10000000_bs_64_run_2_intratc_16.json',\n",
       " '/u/antor/u13/ukumaras/Projects/mldb/eval/tabular_performance/opt_vec_onnx_dnn|5|512_iris_n_10000000_bs_512_run_3_intratc_32.json',\n",
       " '/u/antor/u13/ukumaras/Projects/mldb/eval/tabular_performance/opt_vec_onnx_dnn|1|128_iris_n_10000000_bs_256_run_3_intratc_4.json',\n",
       " '/u/antor/u13/ukumaras/Projects/mldb/eval/tabular_performance/opt_vec_onnx_dnn|5|512_iris_n_10000000_bs_1024_run_3_intratc_8.json',\n",
       " '/u/antor/u13/ukumaras/Projects/mldb/eval/tabular_performance/opt_vec_onnx_dnn|7|1024_iris_n_10000000_bs_4096_run_1_intratc_192.json',\n",
       " '/u/antor/u13/ukumaras/Projects/mldb/eval/tabular_performance/opt_vec_onnx_dnn|7|1024_iris_n_10000000_bs_256_run_1_intratc_8.json',\n",
       " '/u/antor/u13/ukumaras/Projects/mldb/eval/tabular_performance/opt_vec_onnx_dnn|7|1024_iris_n_10000000_bs_2048_run_1_intratc_2.json',\n",
       " '/u/antor/u13/ukumaras/Projects/mldb/eval/tabular_performance/opt_vec_onnx_dnn|7|1024_iris_n_10000000_bs_512_run_1_intratc_1.json',\n",
       " '/u/antor/u13/ukumaras/Projects/mldb/eval/tabular_performance/opt_vec_onnx_dnn|3|256_iris_n_10000000_bs_512_run_3_intratc_4.json',\n",
       " '/u/antor/u13/ukumaras/Projects/mldb/eval/tabular_performance/opt_vec_onnx_dnn|1|128_iris_n_10000000_bs_4096_run_3_intratc_64.json',\n",
       " '/u/antor/u13/ukumaras/Projects/mldb/eval/tabular_performance/opt_vec_onnx_dnn|5|512_iris_n_10000000_bs_128_run_3_intratc_128.json',\n",
       " '/u/antor/u13/ukumaras/Projects/mldb/eval/tabular_performance/opt_vec_onnx_dnn|1|128_iris_n_10000000_bs_1024_run_3_intratc_32.json',\n",
       " '/u/antor/u13/ukumaras/Projects/mldb/eval/tabular_performance/opt_vec_onnx_dnn|7|1024_iris_n_10000000_bs_64_run_1_intratc_32.json',\n",
       " '/u/antor/u13/ukumaras/Projects/mldb/eval/tabular_performance/opt_vec_onnx_dnn|5|512_iris_n_10000000_bs_4096_run_2_intratc_128.json',\n",
       " '/u/antor/u13/ukumaras/Projects/mldb/eval/tabular_performance/opt_vec_onnx_dnn|3|256_iris_n_10000000_bs_64_run_3_intratc_8.json',\n",
       " '/u/antor/u13/ukumaras/Projects/mldb/eval/tabular_performance/opt_vec_onnx_dnn|5|512_iris_n_10000000_bs_1024_run_1_intratc_192.json',\n",
       " '/u/antor/u13/ukumaras/Projects/mldb/eval/tabular_performance/opt_vec_onnx_dnn|3|256_iris_n_10000000_bs_4096_run_3_intratc_64.json',\n",
       " '/u/antor/u13/ukumaras/Projects/mldb/eval/tabular_performance/opt_vec_onnx_dnn|5|512_iris_n_10000000_bs_2048_run_3_intratc_1.json',\n",
       " '/u/antor/u13/ukumaras/Projects/mldb/eval/tabular_performance/opt_vec_onnx_dnn|1|128_iris_n_10000000_bs_1024_run_2_intratc_192.json',\n",
       " '/u/antor/u13/ukumaras/Projects/mldb/eval/tabular_performance/opt_vec_onnx_dnn|1|128_iris_n_10000000_bs_4096_run_3_intratc_128.json',\n",
       " '/u/antor/u13/ukumaras/Projects/mldb/eval/tabular_performance/opt_vec_onnx_dnn|3|256_iris_n_10000000_bs_256_run_3_intratc_32.json',\n",
       " '/u/antor/u13/ukumaras/Projects/mldb/eval/tabular_performance/opt_vec_onnx_dnn|3|256_iris_n_10000000_bs_256_run_3_intratc_4.json',\n",
       " '/u/antor/u13/ukumaras/Projects/mldb/eval/tabular_performance/opt_vec_onnx_dnn|5|512_iris_n_10000000_bs_1024_run_1_intratc_128.json',\n",
       " '/u/antor/u13/ukumaras/Projects/mldb/eval/tabular_performance/opt_vec_onnx_dnn|5|512_iris_n_10000000_bs_128_run_2_intratc_4.json',\n",
       " '/u/antor/u13/ukumaras/Projects/mldb/eval/tabular_performance/opt_vec_onnx_dnn|1|128_iris_n_10000000_bs_1024_run_1_intratc_1.json',\n",
       " '/u/antor/u13/ukumaras/Projects/mldb/eval/tabular_performance/opt_vec_onnx_dnn|3|256_iris_n_10000000_bs_512_run_1_intratc_1.json',\n",
       " '/u/antor/u13/ukumaras/Projects/mldb/eval/tabular_performance/opt_vec_onnx_dnn|3|256_iris_n_10000000_bs_128_run_2_intratc_128.json',\n",
       " '/u/antor/u13/ukumaras/Projects/mldb/eval/tabular_performance/opt_vec_onnx_dnn|7|1024_iris_n_10000000_bs_256_run_1_intratc_4.json',\n",
       " '/u/antor/u13/ukumaras/Projects/mldb/eval/tabular_performance/opt_vec_onnx_dnn|1|128_iris_n_10000000_bs_512_run_3_intratc_4.json',\n",
       " '/u/antor/u13/ukumaras/Projects/mldb/eval/tabular_performance/opt_vec_onnx_dnn|1|128_iris_n_10000000_bs_512_run_1_intratc_32.json',\n",
       " '/u/antor/u13/ukumaras/Projects/mldb/eval/tabular_performance/opt_vec_onnx_dnn|5|512_iris_n_10000000_bs_512_run_1_intratc_8.json',\n",
       " '/u/antor/u13/ukumaras/Projects/mldb/eval/tabular_performance/opt_vec_onnx_dnn|3|256_iris_n_10000000_bs_2048_run_3_intratc_2.json',\n",
       " '/u/antor/u13/ukumaras/Projects/mldb/eval/tabular_performance/opt_vec_onnx_dnn|1|128_iris_n_10000000_bs_64_run_1_intratc_4.json',\n",
       " '/u/antor/u13/ukumaras/Projects/mldb/eval/tabular_performance/opt_vec_onnx_dnn|7|1024_iris_n_10000000_bs_4096_run_1_intratc_2.json',\n",
       " '/u/antor/u13/ukumaras/Projects/mldb/eval/tabular_performance/opt_vec_onnx_dnn|1|128_iris_n_10000000_bs_256_run_1_intratc_4.json',\n",
       " '/u/antor/u13/ukumaras/Projects/mldb/eval/tabular_performance/opt_vec_onnx_dnn|3|256_iris_n_10000000_bs_1024_run_1_intratc_16.json',\n",
       " '/u/antor/u13/ukumaras/Projects/mldb/eval/tabular_performance/opt_vec_onnx_dnn|5|512_iris_n_10000000_bs_512_run_2_intratc_128.json',\n",
       " '/u/antor/u13/ukumaras/Projects/mldb/eval/tabular_performance/opt_vec_onnx_dnn|5|512_iris_n_10000000_bs_4096_run_3_intratc_16.json',\n",
       " '/u/antor/u13/ukumaras/Projects/mldb/eval/tabular_performance/opt_vec_onnx_dnn|5|512_iris_n_10000000_bs_512_run_3_intratc_192.json',\n",
       " '/u/antor/u13/ukumaras/Projects/mldb/eval/tabular_performance/opt_vec_onnx_dnn|5|512_iris_n_10000000_bs_1024_run_1_intratc_2.json',\n",
       " '/u/antor/u13/ukumaras/Projects/mldb/eval/tabular_performance/opt_vec_onnx_dnn|5|512_iris_n_10000000_bs_128_run_1_intratc_2.json',\n",
       " '/u/antor/u13/ukumaras/Projects/mldb/eval/tabular_performance/opt_vec_onnx_dnn|1|128_iris_n_10000000_bs_1024_run_3_intratc_2.json',\n",
       " '/u/antor/u13/ukumaras/Projects/mldb/eval/tabular_performance/opt_vec_onnx_dnn|5|512_iris_n_10000000_bs_1024_run_3_intratc_32.json',\n",
       " '/u/antor/u13/ukumaras/Projects/mldb/eval/tabular_performance/opt_vec_onnx_dnn|3|256_iris_n_10000000_bs_256_run_3_intratc_64.json',\n",
       " '/u/antor/u13/ukumaras/Projects/mldb/eval/tabular_performance/opt_vec_onnx_dnn|5|512_iris_n_10000000_bs_128_run_1_intratc_64.json',\n",
       " '/u/antor/u13/ukumaras/Projects/mldb/eval/tabular_performance/opt_vec_onnx_dnn|3|256_iris_n_10000000_bs_256_run_1_intratc_192.json',\n",
       " '/u/antor/u13/ukumaras/Projects/mldb/eval/tabular_performance/opt_vec_onnx_dnn|3|256_iris_n_10000000_bs_4096_run_1_intratc_1.json',\n",
       " '/u/antor/u13/ukumaras/Projects/mldb/eval/tabular_performance/opt_vec_onnx_dnn|7|1024_iris_n_10000000_bs_1024_run_1_intratc_4.json',\n",
       " '/u/antor/u13/ukumaras/Projects/mldb/eval/tabular_performance/opt_vec_onnx_dnn|1|128_iris_n_10000000_bs_512_run_2_intratc_192.json',\n",
       " '/u/antor/u13/ukumaras/Projects/mldb/eval/tabular_performance/opt_vec_onnx_dnn|3|256_iris_n_10000000_bs_64_run_2_intratc_64.json',\n",
       " '/u/antor/u13/ukumaras/Projects/mldb/eval/tabular_performance/opt_vec_onnx_dnn|3|256_iris_n_10000000_bs_4096_run_3_intratc_4.json',\n",
       " '/u/antor/u13/ukumaras/Projects/mldb/eval/tabular_performance/opt_vec_onnx_dnn|5|512_iris_n_10000000_bs_1024_run_3_intratc_192.json',\n",
       " '/u/antor/u13/ukumaras/Projects/mldb/eval/tabular_performance/opt_vec_onnx_dnn|3|256_iris_n_10000000_bs_4096_run_2_intratc_16.json',\n",
       " '/u/antor/u13/ukumaras/Projects/mldb/eval/tabular_performance/opt_vec_onnx_dnn|3|256_iris_n_10000000_bs_256_run_2_intratc_32.json',\n",
       " '/u/antor/u13/ukumaras/Projects/mldb/eval/tabular_performance/opt_vec_onnx_dnn|3|256_iris_n_10000000_bs_128_run_1_intratc_4.json',\n",
       " '/u/antor/u13/ukumaras/Projects/mldb/eval/tabular_performance/opt_vec_onnx_dnn|3|256_iris_n_10000000_bs_4096_run_3_intratc_32.json',\n",
       " '/u/antor/u13/ukumaras/Projects/mldb/eval/tabular_performance/opt_vec_onnx_dnn|5|512_iris_n_10000000_bs_128_run_3_intratc_4.json',\n",
       " '/u/antor/u13/ukumaras/Projects/mldb/eval/tabular_performance/opt_vec_onnx_dnn|7|1024_iris_n_10000000_bs_2048_run_1_intratc_32.json',\n",
       " '/u/antor/u13/ukumaras/Projects/mldb/eval/tabular_performance/opt_vec_onnx_dnn|1|128_iris_n_10000000_bs_512_run_1_intratc_8.json',\n",
       " '/u/antor/u13/ukumaras/Projects/mldb/eval/tabular_performance/opt_vec_onnx_dnn|1|128_iris_n_10000000_bs_1024_run_2_intratc_16.json',\n",
       " '/u/antor/u13/ukumaras/Projects/mldb/eval/tabular_performance/opt_vec_onnx_dnn|5|512_iris_n_10000000_bs_64_run_1_intratc_4.json',\n",
       " '/u/antor/u13/ukumaras/Projects/mldb/eval/tabular_performance/opt_vec_onnx_dnn|3|256_iris_n_10000000_bs_4096_run_1_intratc_8.json',\n",
       " '/u/antor/u13/ukumaras/Projects/mldb/eval/tabular_performance/opt_vec_onnx_dnn|3|256_iris_n_10000000_bs_1024_run_3_intratc_32.json',\n",
       " '/u/antor/u13/ukumaras/Projects/mldb/eval/tabular_performance/opt_vec_onnx_dnn|1|128_iris_n_10000000_bs_2048_run_3_intratc_1.json',\n",
       " '/u/antor/u13/ukumaras/Projects/mldb/eval/tabular_performance/opt_vec_onnx_dnn|1|128_iris_n_10000000_bs_256_run_3_intratc_8.json',\n",
       " '/u/antor/u13/ukumaras/Projects/mldb/eval/tabular_performance/opt_vec_onnx_dnn|3|256_iris_n_10000000_bs_512_run_2_intratc_4.json',\n",
       " '/u/antor/u13/ukumaras/Projects/mldb/eval/tabular_performance/opt_vec_onnx_dnn|3|256_iris_n_10000000_bs_256_run_3_intratc_128.json',\n",
       " '/u/antor/u13/ukumaras/Projects/mldb/eval/tabular_performance/opt_vec_onnx_dnn|5|512_iris_n_10000000_bs_4096_run_3_intratc_1.json',\n",
       " '/u/antor/u13/ukumaras/Projects/mldb/eval/tabular_performance/opt_vec_onnx_dnn|1|128_iris_n_10000000_bs_128_run_1_intratc_4.json',\n",
       " '/u/antor/u13/ukumaras/Projects/mldb/eval/tabular_performance/opt_vec_onnx_dnn|3|256_iris_n_10000000_bs_64_run_1_intratc_64.json',\n",
       " '/u/antor/u13/ukumaras/Projects/mldb/eval/tabular_performance/opt_vec_onnx_dnn|5|512_iris_n_10000000_bs_4096_run_2_intratc_4.json',\n",
       " '/u/antor/u13/ukumaras/Projects/mldb/eval/tabular_performance/opt_vec_onnx_dnn|5|512_iris_n_10000000_bs_4096_run_3_intratc_4.json',\n",
       " '/u/antor/u13/ukumaras/Projects/mldb/eval/tabular_performance/opt_vec_onnx_dnn|5|512_iris_n_10000000_bs_1024_run_1_intratc_16.json',\n",
       " '/u/antor/u13/ukumaras/Projects/mldb/eval/tabular_performance/opt_vec_onnx_dnn|5|512_iris_n_10000000_bs_2048_run_2_intratc_128.json',\n",
       " '/u/antor/u13/ukumaras/Projects/mldb/eval/tabular_performance/opt_vec_onnx_dnn|1|128_iris_n_10000000_bs_128_run_2_intratc_1.json',\n",
       " '/u/antor/u13/ukumaras/Projects/mldb/eval/tabular_performance/opt_vec_onnx_dnn|5|512_iris_n_10000000_bs_1024_run_2_intratc_128.json',\n",
       " '/u/antor/u13/ukumaras/Projects/mldb/eval/tabular_performance/opt_vec_onnx_dnn|5|512_iris_n_10000000_bs_256_run_3_intratc_8.json',\n",
       " '/u/antor/u13/ukumaras/Projects/mldb/eval/tabular_performance/opt_vec_onnx_dnn|5|512_iris_n_10000000_bs_2048_run_1_intratc_192.json',\n",
       " '/u/antor/u13/ukumaras/Projects/mldb/eval/tabular_performance/opt_vec_onnx_dnn|3|256_iris_n_10000000_bs_512_run_2_intratc_8.json',\n",
       " '/u/antor/u13/ukumaras/Projects/mldb/eval/tabular_performance/opt_vec_onnx_dnn|3|256_iris_n_10000000_bs_256_run_1_intratc_4.json',\n",
       " '/u/antor/u13/ukumaras/Projects/mldb/eval/tabular_performance/opt_vec_onnx_dnn|1|128_iris_n_10000000_bs_2048_run_3_intratc_64.json',\n",
       " '/u/antor/u13/ukumaras/Projects/mldb/eval/tabular_performance/opt_vec_onnx_dnn|5|512_iris_n_10000000_bs_4096_run_1_intratc_64.json',\n",
       " '/u/antor/u13/ukumaras/Projects/mldb/eval/tabular_performance/opt_vec_onnx_dnn|1|128_iris_n_10000000_bs_2048_run_1_intratc_8.json',\n",
       " '/u/antor/u13/ukumaras/Projects/mldb/eval/tabular_performance/opt_vec_onnx_dnn|3|256_iris_n_10000000_bs_1024_run_2_intratc_32.json',\n",
       " '/u/antor/u13/ukumaras/Projects/mldb/eval/tabular_performance/opt_vec_onnx_dnn|5|512_iris_n_10000000_bs_4096_run_1_intratc_1.json',\n",
       " '/u/antor/u13/ukumaras/Projects/mldb/eval/tabular_performance/opt_vec_onnx_dnn|1|128_iris_n_10000000_bs_1024_run_3_intratc_128.json',\n",
       " '/u/antor/u13/ukumaras/Projects/mldb/eval/tabular_performance/opt_vec_onnx_dnn|5|512_iris_n_10000000_bs_4096_run_2_intratc_64.json',\n",
       " '/u/antor/u13/ukumaras/Projects/mldb/eval/tabular_performance/opt_vec_onnx_dnn|3|256_iris_n_10000000_bs_1024_run_3_intratc_8.json',\n",
       " '/u/antor/u13/ukumaras/Projects/mldb/eval/tabular_performance/opt_vec_onnx_dnn|1|128_iris_n_10000000_bs_256_run_3_intratc_16.json',\n",
       " '/u/antor/u13/ukumaras/Projects/mldb/eval/tabular_performance/opt_vec_onnx_dnn|7|1024_iris_n_10000000_bs_4096_run_1_intratc_32.json',\n",
       " '/u/antor/u13/ukumaras/Projects/mldb/eval/tabular_performance/opt_vec_onnx_dnn|7|1024_iris_n_10000000_bs_4096_run_1_intratc_8.json',\n",
       " '/u/antor/u13/ukumaras/Projects/mldb/eval/tabular_performance/opt_vec_onnx_dnn|3|256_iris_n_10000000_bs_128_run_1_intratc_1.json',\n",
       " '/u/antor/u13/ukumaras/Projects/mldb/eval/tabular_performance/opt_vec_onnx_dnn|7|1024_iris_n_10000000_bs_128_run_2_intratc_4.json',\n",
       " '/u/antor/u13/ukumaras/Projects/mldb/eval/tabular_performance/opt_vec_onnx_dnn|5|512_iris_n_10000000_bs_4096_run_1_intratc_16.json',\n",
       " '/u/antor/u13/ukumaras/Projects/mldb/eval/tabular_performance/opt_vec_onnx_dnn|3|256_iris_n_10000000_bs_256_run_1_intratc_8.json',\n",
       " '/u/antor/u13/ukumaras/Projects/mldb/eval/tabular_performance/opt_vec_onnx_dnn|3|256_iris_n_10000000_bs_512_run_2_intratc_16.json',\n",
       " '/u/antor/u13/ukumaras/Projects/mldb/eval/tabular_performance/opt_vec_onnx_dnn|5|512_iris_n_10000000_bs_64_run_1_intratc_64.json',\n",
       " '/u/antor/u13/ukumaras/Projects/mldb/eval/tabular_performance/opt_vec_onnx_dnn|1|128_iris_n_10000000_bs_256_run_1_intratc_8.json',\n",
       " '/u/antor/u13/ukumaras/Projects/mldb/eval/tabular_performance/opt_vec_onnx_dnn|5|512_iris_n_10000000_bs_64_run_2_intratc_32.json',\n",
       " '/u/antor/u13/ukumaras/Projects/mldb/eval/tabular_performance/opt_vec_onnx_dnn|7|1024_iris_n_10000000_bs_128_run_1_intratc_64.json',\n",
       " '/u/antor/u13/ukumaras/Projects/mldb/eval/tabular_performance/opt_vec_onnx_dnn|5|512_iris_n_10000000_bs_128_run_1_intratc_32.json',\n",
       " '/u/antor/u13/ukumaras/Projects/mldb/eval/tabular_performance/opt_vec_onnx_dnn|7|1024_iris_n_10000000_bs_512_run_1_intratc_32.json',\n",
       " '/u/antor/u13/ukumaras/Projects/mldb/eval/tabular_performance/opt_vec_onnx_dnn|1|128_iris_n_10000000_bs_512_run_3_intratc_2.json',\n",
       " '/u/antor/u13/ukumaras/Projects/mldb/eval/tabular_performance/opt_vec_onnx_dnn|1|128_iris_n_10000000_bs_64_run_2_intratc_128.json',\n",
       " '/u/antor/u13/ukumaras/Projects/mldb/eval/tabular_performance/opt_vec_onnx_dnn|1|128_iris_n_10000000_bs_512_run_3_intratc_8.json',\n",
       " '/u/antor/u13/ukumaras/Projects/mldb/eval/tabular_performance/opt_vec_onnx_dnn|1|128_iris_n_10000000_bs_2048_run_1_intratc_2.json',\n",
       " '/u/antor/u13/ukumaras/Projects/mldb/eval/tabular_performance/opt_vec_onnx_dnn|5|512_iris_n_10000000_bs_4096_run_3_intratc_64.json',\n",
       " '/u/antor/u13/ukumaras/Projects/mldb/eval/tabular_performance/opt_vec_onnx_dnn|3|256_iris_n_10000000_bs_1024_run_3_intratc_192.json',\n",
       " '/u/antor/u13/ukumaras/Projects/mldb/eval/tabular_performance/opt_vec_onnx_dnn|3|256_iris_n_10000000_bs_512_run_2_intratc_1.json',\n",
       " '/u/antor/u13/ukumaras/Projects/mldb/eval/tabular_performance/opt_vec_onnx_dnn|5|512_iris_n_10000000_bs_64_run_2_intratc_128.json',\n",
       " '/u/antor/u13/ukumaras/Projects/mldb/eval/tabular_performance/opt_vec_onnx_dnn|1|128_iris_n_10000000_bs_128_run_3_intratc_4.json',\n",
       " '/u/antor/u13/ukumaras/Projects/mldb/eval/tabular_performance/opt_vec_onnx_dnn|5|512_iris_n_10000000_bs_256_run_1_intratc_16.json',\n",
       " '/u/antor/u13/ukumaras/Projects/mldb/eval/tabular_performance/opt_vec_onnx_dnn|3|256_iris_n_10000000_bs_256_run_1_intratc_16.json',\n",
       " '/u/antor/u13/ukumaras/Projects/mldb/eval/tabular_performance/opt_vec_onnx_dnn|7|1024_iris_n_10000000_bs_64_run_2_intratc_64.json',\n",
       " '/u/antor/u13/ukumaras/Projects/mldb/eval/tabular_performance/opt_vec_onnx_dnn|1|128_iris_n_10000000_bs_256_run_2_intratc_2.json',\n",
       " '/u/antor/u13/ukumaras/Projects/mldb/eval/tabular_performance/opt_vec_onnx_dnn|1|128_iris_n_10000000_bs_256_run_2_intratc_1.json',\n",
       " '/u/antor/u13/ukumaras/Projects/mldb/eval/tabular_performance/opt_vec_onnx_dnn|1|128_iris_n_10000000_bs_64_run_3_intratc_8.json',\n",
       " '/u/antor/u13/ukumaras/Projects/mldb/eval/tabular_performance/opt_vec_onnx_dnn|5|512_iris_n_10000000_bs_64_run_2_intratc_64.json',\n",
       " '/u/antor/u13/ukumaras/Projects/mldb/eval/tabular_performance/opt_vec_onnx_dnn|5|512_iris_n_10000000_bs_2048_run_1_intratc_64.json',\n",
       " '/u/antor/u13/ukumaras/Projects/mldb/eval/tabular_performance/opt_vec_onnx_dnn|1|128_iris_n_10000000_bs_64_run_2_intratc_192.json',\n",
       " '/u/antor/u13/ukumaras/Projects/mldb/eval/tabular_performance/opt_vec_onnx_dnn|7|1024_iris_n_10000000_bs_512_run_1_intratc_4.json',\n",
       " '/u/antor/u13/ukumaras/Projects/mldb/eval/tabular_performance/opt_vec_onnx_dnn|3|256_iris_n_10000000_bs_128_run_3_intratc_192.json',\n",
       " '/u/antor/u13/ukumaras/Projects/mldb/eval/tabular_performance/opt_vec_onnx_dnn|5|512_iris_n_10000000_bs_4096_run_2_intratc_16.json',\n",
       " '/u/antor/u13/ukumaras/Projects/mldb/eval/tabular_performance/opt_vec_onnx_dnn|5|512_iris_n_10000000_bs_512_run_1_intratc_32.json',\n",
       " '/u/antor/u13/ukumaras/Projects/mldb/eval/tabular_performance/opt_vec_onnx_dnn|5|512_iris_n_10000000_bs_2048_run_2_intratc_8.json',\n",
       " '/u/antor/u13/ukumaras/Projects/mldb/eval/tabular_performance/opt_vec_onnx_dnn|3|256_iris_n_10000000_bs_128_run_1_intratc_8.json',\n",
       " '/u/antor/u13/ukumaras/Projects/mldb/eval/tabular_performance/opt_vec_onnx_dnn|7|1024_iris_n_10000000_bs_64_run_1_intratc_4.json',\n",
       " '/u/antor/u13/ukumaras/Projects/mldb/eval/tabular_performance/opt_vec_onnx_dnn|3|256_iris_n_10000000_bs_512_run_3_intratc_16.json',\n",
       " '/u/antor/u13/ukumaras/Projects/mldb/eval/tabular_performance/opt_vec_onnx_dnn|3|256_iris_n_10000000_bs_64_run_1_intratc_2.json',\n",
       " '/u/antor/u13/ukumaras/Projects/mldb/eval/tabular_performance/opt_vec_onnx_dnn|5|512_iris_n_10000000_bs_64_run_2_intratc_2.json',\n",
       " '/u/antor/u13/ukumaras/Projects/mldb/eval/tabular_performance/opt_vec_onnx_dnn|3|256_iris_n_10000000_bs_64_run_3_intratc_64.json',\n",
       " '/u/antor/u13/ukumaras/Projects/mldb/eval/tabular_performance/opt_vec_onnx_dnn|7|1024_iris_n_10000000_bs_512_run_1_intratc_16.json',\n",
       " '/u/antor/u13/ukumaras/Projects/mldb/eval/tabular_performance/opt_vec_onnx_dnn|1|128_iris_n_10000000_bs_64_run_3_intratc_1.json',\n",
       " '/u/antor/u13/ukumaras/Projects/mldb/eval/tabular_performance/opt_vec_onnx_dnn|5|512_iris_n_10000000_bs_4096_run_3_intratc_192.json',\n",
       " '/u/antor/u13/ukumaras/Projects/mldb/eval/tabular_performance/opt_vec_onnx_dnn|3|256_iris_n_10000000_bs_1024_run_3_intratc_4.json',\n",
       " '/u/antor/u13/ukumaras/Projects/mldb/eval/tabular_performance/opt_vec_onnx_dnn|1|128_iris_n_10000000_bs_2048_run_1_intratc_128.json',\n",
       " '/u/antor/u13/ukumaras/Projects/mldb/eval/tabular_performance/opt_vec_onnx_dnn|1|128_iris_n_10000000_bs_2048_run_3_intratc_192.json',\n",
       " '/u/antor/u13/ukumaras/Projects/mldb/eval/tabular_performance/opt_vec_onnx_dnn|3|256_iris_n_10000000_bs_256_run_1_intratc_32.json',\n",
       " '/u/antor/u13/ukumaras/Projects/mldb/eval/tabular_performance/opt_vec_onnx_dnn|1|128_iris_n_10000000_bs_64_run_1_intratc_128.json',\n",
       " '/u/antor/u13/ukumaras/Projects/mldb/eval/tabular_performance/opt_vec_onnx_dnn|3|256_iris_n_10000000_bs_128_run_1_intratc_128.json',\n",
       " '/u/antor/u13/ukumaras/Projects/mldb/eval/tabular_performance/opt_vec_onnx_dnn|7|1024_iris_n_10000000_bs_64_run_1_intratc_192.json',\n",
       " '/u/antor/u13/ukumaras/Projects/mldb/eval/tabular_performance/opt_vec_onnx_dnn|5|512_iris_n_10000000_bs_512_run_2_intratc_192.json',\n",
       " '/u/antor/u13/ukumaras/Projects/mldb/eval/tabular_performance/opt_vec_onnx_dnn|3|256_iris_n_10000000_bs_512_run_2_intratc_128.json',\n",
       " '/u/antor/u13/ukumaras/Projects/mldb/eval/tabular_performance/opt_vec_onnx_dnn|5|512_iris_n_10000000_bs_128_run_3_intratc_32.json',\n",
       " '/u/antor/u13/ukumaras/Projects/mldb/eval/tabular_performance/opt_vec_onnx_dnn|3|256_iris_n_10000000_bs_4096_run_3_intratc_2.json',\n",
       " '/u/antor/u13/ukumaras/Projects/mldb/eval/tabular_performance/opt_vec_onnx_dnn|1|128_iris_n_10000000_bs_2048_run_2_intratc_1.json',\n",
       " '/u/antor/u13/ukumaras/Projects/mldb/eval/tabular_performance/opt_vec_onnx_dnn|5|512_iris_n_10000000_bs_256_run_2_intratc_1.json',\n",
       " '/u/antor/u13/ukumaras/Projects/mldb/eval/tabular_performance/opt_vec_onnx_dnn|5|512_iris_n_10000000_bs_64_run_1_intratc_16.json',\n",
       " '/u/antor/u13/ukumaras/Projects/mldb/eval/tabular_performance/opt_vec_onnx_dnn|5|512_iris_n_10000000_bs_512_run_1_intratc_16.json',\n",
       " '/u/antor/u13/ukumaras/Projects/mldb/eval/tabular_performance/opt_vec_onnx_dnn|5|512_iris_n_10000000_bs_256_run_2_intratc_2.json',\n",
       " '/u/antor/u13/ukumaras/Projects/mldb/eval/tabular_performance/opt_vec_onnx_dnn|1|128_iris_n_10000000_bs_2048_run_2_intratc_128.json',\n",
       " '/u/antor/u13/ukumaras/Projects/mldb/eval/tabular_performance/opt_vec_onnx_dnn|7|1024_iris_n_10000000_bs_64_run_2_intratc_192.json',\n",
       " '/u/antor/u13/ukumaras/Projects/mldb/eval/tabular_performance/opt_vec_onnx_dnn|1|128_iris_n_10000000_bs_64_run_1_intratc_192.json',\n",
       " '/u/antor/u13/ukumaras/Projects/mldb/eval/tabular_performance/opt_vec_onnx_dnn|7|1024_iris_n_10000000_bs_512_run_1_intratc_64.json',\n",
       " '/u/antor/u13/ukumaras/Projects/mldb/eval/tabular_performance/opt_vec_onnx_dnn|1|128_iris_n_10000000_bs_64_run_3_intratc_64.json',\n",
       " '/u/antor/u13/ukumaras/Projects/mldb/eval/tabular_performance/opt_vec_onnx_dnn|1|128_iris_n_10000000_bs_1024_run_1_intratc_64.json',\n",
       " '/u/antor/u13/ukumaras/Projects/mldb/eval/tabular_performance/opt_vec_onnx_dnn|3|256_iris_n_10000000_bs_4096_run_2_intratc_8.json',\n",
       " '/u/antor/u13/ukumaras/Projects/mldb/eval/tabular_performance/opt_vec_onnx_dnn|5|512_iris_n_10000000_bs_512_run_1_intratc_1.json',\n",
       " '/u/antor/u13/ukumaras/Projects/mldb/eval/tabular_performance/opt_vec_onnx_dnn|5|512_iris_n_10000000_bs_4096_run_1_intratc_4.json',\n",
       " '/u/antor/u13/ukumaras/Projects/mldb/eval/tabular_performance/opt_vec_onnx_dnn|5|512_iris_n_10000000_bs_2048_run_3_intratc_8.json',\n",
       " '/u/antor/u13/ukumaras/Projects/mldb/eval/tabular_performance/opt_vec_onnx_dnn|1|128_iris_n_10000000_bs_512_run_2_intratc_128.json',\n",
       " '/u/antor/u13/ukumaras/Projects/mldb/eval/tabular_performance/opt_vec_onnx_dnn|3|256_iris_n_10000000_bs_256_run_1_intratc_128.json',\n",
       " '/u/antor/u13/ukumaras/Projects/mldb/eval/tabular_performance/opt_vec_onnx_dnn|3|256_iris_n_10000000_bs_512_run_1_intratc_192.json',\n",
       " '/u/antor/u13/ukumaras/Projects/mldb/eval/tabular_performance/opt_vec_onnx_dnn|1|128_iris_n_10000000_bs_1024_run_3_intratc_8.json',\n",
       " '/u/antor/u13/ukumaras/Projects/mldb/eval/tabular_performance/opt_vec_onnx_dnn|5|512_iris_n_10000000_bs_128_run_2_intratc_2.json',\n",
       " '/u/antor/u13/ukumaras/Projects/mldb/eval/tabular_performance/opt_vec_onnx_dnn|5|512_iris_n_10000000_bs_1024_run_1_intratc_1.json',\n",
       " '/u/antor/u13/ukumaras/Projects/mldb/eval/tabular_performance/opt_vec_onnx_dnn|3|256_iris_n_10000000_bs_128_run_3_intratc_64.json',\n",
       " '/u/antor/u13/ukumaras/Projects/mldb/eval/tabular_performance/opt_vec_onnx_dnn|1|128_iris_n_10000000_bs_1024_run_2_intratc_32.json',\n",
       " '/u/antor/u13/ukumaras/Projects/mldb/eval/tabular_performance/opt_vec_onnx_dnn|3|256_iris_n_10000000_bs_128_run_2_intratc_16.json',\n",
       " '/u/antor/u13/ukumaras/Projects/mldb/eval/tabular_performance/opt_vec_onnx_dnn|1|128_iris_n_10000000_bs_64_run_2_intratc_4.json',\n",
       " '/u/antor/u13/ukumaras/Projects/mldb/eval/tabular_performance/opt_vec_onnx_dnn|7|1024_iris_n_10000000_bs_64_run_2_intratc_4.json',\n",
       " '/u/antor/u13/ukumaras/Projects/mldb/eval/tabular_performance/opt_vec_onnx_dnn|7|1024_iris_n_10000000_bs_2048_run_1_intratc_16.json',\n",
       " '/u/antor/u13/ukumaras/Projects/mldb/eval/tabular_performance/opt_vec_onnx_dnn|3|256_iris_n_10000000_bs_128_run_1_intratc_192.json',\n",
       " '/u/antor/u13/ukumaras/Projects/mldb/eval/tabular_performance/opt_vec_onnx_dnn|1|128_iris_n_10000000_bs_1024_run_3_intratc_16.json',\n",
       " '/u/antor/u13/ukumaras/Projects/mldb/eval/tabular_performance/opt_vec_onnx_dnn|3|256_iris_n_10000000_bs_256_run_3_intratc_192.json',\n",
       " '/u/antor/u13/ukumaras/Projects/mldb/eval/tabular_performance/opt_vec_onnx_dnn|5|512_iris_n_10000000_bs_512_run_1_intratc_4.json',\n",
       " '/u/antor/u13/ukumaras/Projects/mldb/eval/tabular_performance/opt_vec_onnx_dnn|3|256_iris_n_10000000_bs_256_run_2_intratc_8.json',\n",
       " '/u/antor/u13/ukumaras/Projects/mldb/eval/tabular_performance/opt_vec_onnx_dnn|5|512_iris_n_10000000_bs_256_run_1_intratc_32.json',\n",
       " '/u/antor/u13/ukumaras/Projects/mldb/eval/tabular_performance/opt_vec_onnx_dnn|7|1024_iris_n_10000000_bs_512_run_1_intratc_128.json',\n",
       " '/u/antor/u13/ukumaras/Projects/mldb/eval/tabular_performance/opt_vec_onnx_dnn|7|1024_iris_n_10000000_bs_2048_run_1_intratc_8.json',\n",
       " '/u/antor/u13/ukumaras/Projects/mldb/eval/tabular_performance/opt_vec_onnx_dnn|1|128_iris_n_10000000_bs_256_run_2_intratc_4.json',\n",
       " '/u/antor/u13/ukumaras/Projects/mldb/eval/tabular_performance/opt_vec_onnx_dnn|1|128_iris_n_10000000_bs_2048_run_3_intratc_128.json',\n",
       " '/u/antor/u13/ukumaras/Projects/mldb/eval/tabular_performance/opt_vec_onnx_dnn|3|256_iris_n_10000000_bs_128_run_2_intratc_4.json',\n",
       " '/u/antor/u13/ukumaras/Projects/mldb/eval/tabular_performance/opt_vec_onnx_dnn|1|128_iris_n_10000000_bs_128_run_2_intratc_4.json',\n",
       " '/u/antor/u13/ukumaras/Projects/mldb/eval/tabular_performance/opt_vec_onnx_dnn|3|256_iris_n_10000000_bs_4096_run_2_intratc_32.json',\n",
       " '/u/antor/u13/ukumaras/Projects/mldb/eval/tabular_performance/opt_vec_onnx_dnn|5|512_iris_n_10000000_bs_512_run_2_intratc_2.json',\n",
       " '/u/antor/u13/ukumaras/Projects/mldb/eval/tabular_performance/opt_vec_onnx_dnn|5|512_iris_n_10000000_bs_512_run_3_intratc_8.json',\n",
       " '/u/antor/u13/ukumaras/Projects/mldb/eval/tabular_performance/opt_vec_onnx_dnn|3|256_iris_n_10000000_bs_4096_run_1_intratc_4.json',\n",
       " '/u/antor/u13/ukumaras/Projects/mldb/eval/tabular_performance/opt_vec_onnx_dnn|3|256_iris_n_10000000_bs_64_run_1_intratc_4.json',\n",
       " '/u/antor/u13/ukumaras/Projects/mldb/eval/tabular_performance/opt_vec_onnx_dnn|5|512_iris_n_10000000_bs_128_run_1_intratc_8.json',\n",
       " '/u/antor/u13/ukumaras/Projects/mldb/eval/tabular_performance/opt_vec_onnx_dnn|1|128_iris_n_10000000_bs_256_run_2_intratc_64.json',\n",
       " '/u/antor/u13/ukumaras/Projects/mldb/eval/tabular_performance/opt_vec_onnx_dnn|1|128_iris_n_10000000_bs_2048_run_2_intratc_4.json',\n",
       " '/u/antor/u13/ukumaras/Projects/mldb/eval/tabular_performance/opt_vec_onnx_dnn|1|128_iris_n_10000000_bs_4096_run_3_intratc_32.json',\n",
       " '/u/antor/u13/ukumaras/Projects/mldb/eval/tabular_performance/opt_vec_onnx_dnn|3|256_iris_n_10000000_bs_1024_run_2_intratc_8.json',\n",
       " '/u/antor/u13/ukumaras/Projects/mldb/eval/tabular_performance/opt_vec_onnx_dnn|3|256_iris_n_10000000_bs_256_run_3_intratc_8.json',\n",
       " '/u/antor/u13/ukumaras/Projects/mldb/eval/tabular_performance/opt_vec_onnx_dnn|7|1024_iris_n_10000000_bs_64_run_1_intratc_1.json',\n",
       " '/u/antor/u13/ukumaras/Projects/mldb/eval/tabular_performance/opt_vec_onnx_dnn|7|1024_iris_n_10000000_bs_64_run_2_intratc_2.json',\n",
       " '/u/antor/u13/ukumaras/Projects/mldb/eval/tabular_performance/opt_vec_onnx_dnn|1|128_iris_n_10000000_bs_128_run_1_intratc_16.json',\n",
       " '/u/antor/u13/ukumaras/Projects/mldb/eval/tabular_performance/opt_vec_onnx_dnn|7|1024_iris_n_10000000_bs_128_run_2_intratc_2.json',\n",
       " '/u/antor/u13/ukumaras/Projects/mldb/eval/tabular_performance/opt_vec_onnx_dnn|1|128_iris_n_10000000_bs_512_run_1_intratc_2.json',\n",
       " '/u/antor/u13/ukumaras/Projects/mldb/eval/tabular_performance/opt_vec_onnx_dnn|5|512_iris_n_10000000_bs_1024_run_2_intratc_16.json',\n",
       " '/u/antor/u13/ukumaras/Projects/mldb/eval/tabular_performance/opt_vec_onnx_dnn|7|1024_iris_n_10000000_bs_1024_run_1_intratc_128.json',\n",
       " '/u/antor/u13/ukumaras/Projects/mldb/eval/tabular_performance/opt_vec_onnx_dnn|3|256_iris_n_10000000_bs_1024_run_1_intratc_32.json',\n",
       " '/u/antor/u13/ukumaras/Projects/mldb/eval/tabular_performance/opt_vec_onnx_dnn|7|1024_iris_n_10000000_bs_2048_run_1_intratc_4.json',\n",
       " '/u/antor/u13/ukumaras/Projects/mldb/eval/tabular_performance/opt_vec_onnx_dnn|5|512_iris_n_10000000_bs_1024_run_2_intratc_32.json',\n",
       " '/u/antor/u13/ukumaras/Projects/mldb/eval/tabular_performance/opt_vec_onnx_dnn|3|256_iris_n_10000000_bs_512_run_2_intratc_192.json',\n",
       " '/u/antor/u13/ukumaras/Projects/mldb/eval/tabular_performance/opt_vec_onnx_dnn|5|512_iris_n_10000000_bs_1024_run_1_intratc_4.json',\n",
       " '/u/antor/u13/ukumaras/Projects/mldb/eval/tabular_performance/opt_vec_onnx_dnn|7|1024_iris_n_10000000_bs_256_run_2_intratc_128.json',\n",
       " '/u/antor/u13/ukumaras/Projects/mldb/eval/tabular_performance/opt_vec_onnx_dnn|1|128_iris_n_10000000_bs_2048_run_1_intratc_64.json',\n",
       " '/u/antor/u13/ukumaras/Projects/mldb/eval/tabular_performance/opt_vec_onnx_dnn|5|512_iris_n_10000000_bs_64_run_2_intratc_8.json',\n",
       " '/u/antor/u13/ukumaras/Projects/mldb/eval/tabular_performance/opt_vec_onnx_dnn|5|512_iris_n_10000000_bs_64_run_3_intratc_16.json',\n",
       " '/u/antor/u13/ukumaras/Projects/mldb/eval/tabular_performance/opt_vec_onnx_dnn|5|512_iris_n_10000000_bs_1024_run_2_intratc_4.json',\n",
       " '/u/antor/u13/ukumaras/Projects/mldb/eval/tabular_performance/opt_vec_onnx_dnn|1|128_iris_n_10000000_bs_4096_run_3_intratc_4.json',\n",
       " '/u/antor/u13/ukumaras/Projects/mldb/eval/tabular_performance/opt_vec_onnx_dnn|7|1024_iris_n_10000000_bs_512_run_1_intratc_2.json',\n",
       " '/u/antor/u13/ukumaras/Projects/mldb/eval/tabular_performance/opt_vec_onnx_dnn|1|128_iris_n_10000000_bs_1024_run_1_intratc_32.json',\n",
       " '/u/antor/u13/ukumaras/Projects/mldb/eval/tabular_performance/opt_vec_onnx_dnn|3|256_iris_n_10000000_bs_128_run_1_intratc_64.json',\n",
       " '/u/antor/u13/ukumaras/Projects/mldb/eval/tabular_performance/opt_vec_onnx_dnn|1|128_iris_n_10000000_bs_256_run_2_intratc_8.json',\n",
       " '/u/antor/u13/ukumaras/Projects/mldb/eval/tabular_performance/opt_vec_onnx_dnn|5|512_iris_n_10000000_bs_256_run_3_intratc_64.json',\n",
       " '/u/antor/u13/ukumaras/Projects/mldb/eval/tabular_performance/opt_vec_onnx_dnn|5|512_iris_n_10000000_bs_128_run_3_intratc_1.json',\n",
       " '/u/antor/u13/ukumaras/Projects/mldb/eval/tabular_performance/opt_vec_onnx_dnn|3|256_iris_n_10000000_bs_64_run_3_intratc_192.json',\n",
       " '/u/antor/u13/ukumaras/Projects/mldb/eval/tabular_performance/opt_vec_onnx_dnn|3|256_iris_n_10000000_bs_128_run_2_intratc_32.json',\n",
       " '/u/antor/u13/ukumaras/Projects/mldb/eval/tabular_performance/opt_vec_onnx_dnn|1|128_iris_n_10000000_bs_1024_run_3_intratc_1.json',\n",
       " '/u/antor/u13/ukumaras/Projects/mldb/eval/tabular_performance/opt_vec_onnx_dnn|1|128_iris_n_10000000_bs_64_run_3_intratc_2.json',\n",
       " '/u/antor/u13/ukumaras/Projects/mldb/eval/tabular_performance/opt_vec_onnx_dnn|3|256_iris_n_10000000_bs_4096_run_2_intratc_64.json',\n",
       " '/u/antor/u13/ukumaras/Projects/mldb/eval/tabular_performance/opt_vec_onnx_dnn|1|128_iris_n_10000000_bs_1024_run_2_intratc_64.json',\n",
       " '/u/antor/u13/ukumaras/Projects/mldb/eval/tabular_performance/opt_vec_onnx_dnn|5|512_iris_n_10000000_bs_512_run_3_intratc_16.json',\n",
       " '/u/antor/u13/ukumaras/Projects/mldb/eval/tabular_performance/opt_vec_onnx_dnn|1|128_iris_n_10000000_bs_128_run_3_intratc_192.json',\n",
       " '/u/antor/u13/ukumaras/Projects/mldb/eval/tabular_performance/opt_vec_onnx_dnn|3|256_iris_n_10000000_bs_4096_run_2_intratc_192.json',\n",
       " '/u/antor/u13/ukumaras/Projects/mldb/eval/tabular_performance/opt_vec_onnx_dnn|5|512_iris_n_10000000_bs_256_run_3_intratc_1.json',\n",
       " '/u/antor/u13/ukumaras/Projects/mldb/eval/tabular_performance/opt_vec_onnx_dnn|3|256_iris_n_10000000_bs_64_run_3_intratc_128.json',\n",
       " '/u/antor/u13/ukumaras/Projects/mldb/eval/tabular_performance/opt_vec_onnx_dnn|5|512_iris_n_10000000_bs_2048_run_1_intratc_1.json',\n",
       " '/u/antor/u13/ukumaras/Projects/mldb/eval/tabular_performance/opt_vec_onnx_dnn|1|128_iris_n_10000000_bs_128_run_3_intratc_2.json',\n",
       " '/u/antor/u13/ukumaras/Projects/mldb/eval/tabular_performance/opt_vec_onnx_dnn|7|1024_iris_n_10000000_bs_256_run_2_intratc_32.json',\n",
       " '/u/antor/u13/ukumaras/Projects/mldb/eval/tabular_performance/opt_vec_onnx_dnn|5|512_iris_n_10000000_bs_128_run_1_intratc_128.json',\n",
       " '/u/antor/u13/ukumaras/Projects/mldb/eval/tabular_performance/opt_vec_onnx_dnn|5|512_iris_n_10000000_bs_4096_run_2_intratc_2.json',\n",
       " '/u/antor/u13/ukumaras/Projects/mldb/eval/tabular_performance/opt_vec_onnx_dnn|1|128_iris_n_10000000_bs_128_run_1_intratc_32.json',\n",
       " '/u/antor/u13/ukumaras/Projects/mldb/eval/tabular_performance/opt_vec_onnx_dnn|5|512_iris_n_10000000_bs_64_run_1_intratc_8.json',\n",
       " '/u/antor/u13/ukumaras/Projects/mldb/eval/tabular_performance/opt_vec_onnx_dnn|1|128_iris_n_10000000_bs_4096_run_2_intratc_64.json',\n",
       " '/u/antor/u13/ukumaras/Projects/mldb/eval/tabular_performance/opt_vec_onnx_dnn|3|256_iris_n_10000000_bs_256_run_3_intratc_16.json',\n",
       " '/u/antor/u13/ukumaras/Projects/mldb/eval/tabular_performance/opt_vec_onnx_dnn|7|1024_iris_n_10000000_bs_128_run_2_intratc_128.json',\n",
       " '/u/antor/u13/ukumaras/Projects/mldb/eval/tabular_performance/opt_vec_onnx_dnn|5|512_iris_n_10000000_bs_128_run_2_intratc_16.json',\n",
       " '/u/antor/u13/ukumaras/Projects/mldb/eval/tabular_performance/opt_vec_onnx_dnn|7|1024_iris_n_10000000_bs_256_run_1_intratc_16.json',\n",
       " '/u/antor/u13/ukumaras/Projects/mldb/eval/tabular_performance/opt_vec_onnx_dnn|5|512_iris_n_10000000_bs_256_run_1_intratc_2.json',\n",
       " '/u/antor/u13/ukumaras/Projects/mldb/eval/tabular_performance/opt_vec_onnx_dnn|3|256_iris_n_10000000_bs_128_run_1_intratc_16.json',\n",
       " '/u/antor/u13/ukumaras/Projects/mldb/eval/tabular_performance/opt_vec_onnx_dnn|5|512_iris_n_10000000_bs_64_run_3_intratc_2.json',\n",
       " '/u/antor/u13/ukumaras/Projects/mldb/eval/tabular_performance/opt_vec_onnx_dnn|3|256_iris_n_10000000_bs_256_run_2_intratc_192.json',\n",
       " '/u/antor/u13/ukumaras/Projects/mldb/eval/tabular_performance/opt_vec_onnx_dnn|3|256_iris_n_10000000_bs_2048_run_1_intratc_32.json',\n",
       " '/u/antor/u13/ukumaras/Projects/mldb/eval/tabular_performance/opt_vec_onnx_dnn|3|256_iris_n_10000000_bs_1024_run_1_intratc_64.json',\n",
       " '/u/antor/u13/ukumaras/Projects/mldb/eval/tabular_performance/opt_vec_onnx_dnn|5|512_iris_n_10000000_bs_256_run_1_intratc_8.json',\n",
       " '/u/antor/u13/ukumaras/Projects/mldb/eval/tabular_performance/opt_vec_onnx_dnn|1|128_iris_n_10000000_bs_128_run_3_intratc_1.json',\n",
       " '/u/antor/u13/ukumaras/Projects/mldb/eval/tabular_performance/opt_vec_onnx_dnn|1|128_iris_n_10000000_bs_512_run_1_intratc_128.json',\n",
       " '/u/antor/u13/ukumaras/Projects/mldb/eval/tabular_performance/opt_vec_onnx_dnn|3|256_iris_n_10000000_bs_64_run_2_intratc_1.json',\n",
       " '/u/antor/u13/ukumaras/Projects/mldb/eval/tabular_performance/opt_vec_onnx_dnn|3|256_iris_n_10000000_bs_512_run_1_intratc_8.json',\n",
       " '/u/antor/u13/ukumaras/Projects/mldb/eval/tabular_performance/opt_vec_onnx_dnn|3|256_iris_n_10000000_bs_128_run_3_intratc_8.json',\n",
       " '/u/antor/u13/ukumaras/Projects/mldb/eval/tabular_performance/opt_vec_onnx_dnn|5|512_iris_n_10000000_bs_256_run_3_intratc_32.json',\n",
       " '/u/antor/u13/ukumaras/Projects/mldb/eval/tabular_performance/opt_vec_onnx_dnn|7|1024_iris_n_10000000_bs_1024_run_1_intratc_1.json',\n",
       " '/u/antor/u13/ukumaras/Projects/mldb/eval/tabular_performance/opt_vec_onnx_dnn|3|256_iris_n_10000000_bs_128_run_3_intratc_2.json',\n",
       " '/u/antor/u13/ukumaras/Projects/mldb/eval/tabular_performance/opt_vec_onnx_dnn|3|256_iris_n_10000000_bs_2048_run_1_intratc_192.json',\n",
       " '/u/antor/u13/ukumaras/Projects/mldb/eval/tabular_performance/opt_vec_onnx_dnn|5|512_iris_n_10000000_bs_128_run_3_intratc_64.json',\n",
       " '/u/antor/u13/ukumaras/Projects/mldb/eval/tabular_performance/opt_vec_onnx_dnn|3|256_iris_n_10000000_bs_64_run_1_intratc_32.json',\n",
       " '/u/antor/u13/ukumaras/Projects/mldb/eval/tabular_performance/opt_vec_onnx_dnn|3|256_iris_n_10000000_bs_4096_run_2_intratc_128.json',\n",
       " '/u/antor/u13/ukumaras/Projects/mldb/eval/tabular_performance/opt_vec_onnx_dnn|7|1024_iris_n_10000000_bs_256_run_1_intratc_128.json',\n",
       " '/u/antor/u13/ukumaras/Projects/mldb/eval/tabular_performance/opt_vec_onnx_dnn|1|128_iris_n_10000000_bs_128_run_2_intratc_2.json',\n",
       " '/u/antor/u13/ukumaras/Projects/mldb/eval/tabular_performance/opt_vec_onnx_dnn|5|512_iris_n_10000000_bs_128_run_1_intratc_1.json',\n",
       " '/u/antor/u13/ukumaras/Projects/mldb/eval/tabular_performance/opt_vec_onnx_dnn|5|512_iris_n_10000000_bs_64_run_3_intratc_8.json',\n",
       " '/u/antor/u13/ukumaras/Projects/mldb/eval/tabular_performance/opt_vec_onnx_dnn|3|256_iris_n_10000000_bs_4096_run_3_intratc_16.json',\n",
       " '/u/antor/u13/ukumaras/Projects/mldb/eval/tabular_performance/opt_vec_onnx_dnn|3|256_iris_n_10000000_bs_512_run_2_intratc_64.json',\n",
       " '/u/antor/u13/ukumaras/Projects/mldb/eval/tabular_performance/opt_vec_onnx_dnn|3|256_iris_n_10000000_bs_512_run_3_intratc_128.json',\n",
       " '/u/antor/u13/ukumaras/Projects/mldb/eval/tabular_performance/opt_vec_onnx_dnn|1|128_iris_n_10000000_bs_128_run_2_intratc_16.json',\n",
       " '/u/antor/u13/ukumaras/Projects/mldb/eval/tabular_performance/opt_vec_onnx_dnn|7|1024_iris_n_10000000_bs_256_run_1_intratc_192.json',\n",
       " '/u/antor/u13/ukumaras/Projects/mldb/eval/tabular_performance/opt_vec_onnx_dnn|1|128_iris_n_10000000_bs_512_run_3_intratc_128.json',\n",
       " '/u/antor/u13/ukumaras/Projects/mldb/eval/tabular_performance/opt_vec_onnx_dnn|1|128_iris_n_10000000_bs_256_run_1_intratc_2.json',\n",
       " '/u/antor/u13/ukumaras/Projects/mldb/eval/tabular_performance/opt_vec_onnx_dnn|3|256_iris_n_10000000_bs_2048_run_3_intratc_16.json',\n",
       " '/u/antor/u13/ukumaras/Projects/mldb/eval/tabular_performance/opt_vec_onnx_dnn|1|128_iris_n_10000000_bs_512_run_2_intratc_2.json',\n",
       " '/u/antor/u13/ukumaras/Projects/mldb/eval/tabular_performance/opt_vec_onnx_dnn|5|512_iris_n_10000000_bs_2048_run_3_intratc_128.json',\n",
       " '/u/antor/u13/ukumaras/Projects/mldb/eval/tabular_performance/opt_vec_onnx_dnn|3|256_iris_n_10000000_bs_64_run_1_intratc_128.json',\n",
       " '/u/antor/u13/ukumaras/Projects/mldb/eval/tabular_performance/opt_vec_onnx_dnn|3|256_iris_n_10000000_bs_256_run_1_intratc_64.json',\n",
       " '/u/antor/u13/ukumaras/Projects/mldb/eval/tabular_performance/opt_vec_onnx_dnn|7|1024_iris_n_10000000_bs_2048_run_1_intratc_1.json',\n",
       " '/u/antor/u13/ukumaras/Projects/mldb/eval/tabular_performance/opt_vec_onnx_dnn|1|128_iris_n_10000000_bs_1024_run_1_intratc_8.json',\n",
       " '/u/antor/u13/ukumaras/Projects/mldb/eval/tabular_performance/opt_vec_onnx_dnn|5|512_iris_n_10000000_bs_4096_run_2_intratc_32.json',\n",
       " '/u/antor/u13/ukumaras/Projects/mldb/eval/tabular_performance/opt_vec_onnx_dnn|7|1024_iris_n_10000000_bs_128_run_1_intratc_4.json',\n",
       " '/u/antor/u13/ukumaras/Projects/mldb/eval/tabular_performance/opt_vec_onnx_dnn|1|128_iris_n_10000000_bs_64_run_2_intratc_8.json',\n",
       " '/u/antor/u13/ukumaras/Projects/mldb/eval/tabular_performance/opt_vec_onnx_dnn|5|512_iris_n_10000000_bs_512_run_2_intratc_8.json',\n",
       " '/u/antor/u13/ukumaras/Projects/mldb/eval/tabular_performance/opt_vec_onnx_dnn|3|256_iris_n_10000000_bs_1024_run_3_intratc_128.json',\n",
       " '/u/antor/u13/ukumaras/Projects/mldb/eval/tabular_performance/opt_vec_onnx_dnn|5|512_iris_n_10000000_bs_2048_run_1_intratc_128.json',\n",
       " '/u/antor/u13/ukumaras/Projects/mldb/eval/tabular_performance/opt_vec_onnx_dnn|7|1024_iris_n_10000000_bs_256_run_2_intratc_16.json',\n",
       " '/u/antor/u13/ukumaras/Projects/mldb/eval/tabular_performance/opt_vec_onnx_dnn|1|128_iris_n_10000000_bs_512_run_1_intratc_192.json',\n",
       " '/u/antor/u13/ukumaras/Projects/mldb/eval/tabular_performance/opt_vec_onnx_dnn|7|1024_iris_n_10000000_bs_256_run_2_intratc_1.json',\n",
       " '/u/antor/u13/ukumaras/Projects/mldb/eval/tabular_performance/opt_vec_onnx_dnn|5|512_iris_n_10000000_bs_128_run_1_intratc_4.json',\n",
       " '/u/antor/u13/ukumaras/Projects/mldb/eval/tabular_performance/opt_vec_onnx_dnn|1|128_iris_n_10000000_bs_512_run_2_intratc_32.json',\n",
       " '/u/antor/u13/ukumaras/Projects/mldb/eval/tabular_performance/opt_vec_onnx_dnn|7|1024_iris_n_10000000_bs_128_run_1_intratc_8.json',\n",
       " '/u/antor/u13/ukumaras/Projects/mldb/eval/tabular_performance/opt_vec_onnx_dnn|7|1024_iris_n_10000000_bs_256_run_1_intratc_1.json',\n",
       " '/u/antor/u13/ukumaras/Projects/mldb/eval/tabular_performance/opt_vec_onnx_dnn|5|512_iris_n_10000000_bs_2048_run_1_intratc_2.json',\n",
       " '/u/antor/u13/ukumaras/Projects/mldb/eval/tabular_performance/opt_vec_onnx_dnn|7|1024_iris_n_10000000_bs_256_run_1_intratc_64.json',\n",
       " '/u/antor/u13/ukumaras/Projects/mldb/eval/tabular_performance/opt_vec_onnx_dnn|5|512_iris_n_10000000_bs_128_run_2_intratc_64.json',\n",
       " '/u/antor/u13/ukumaras/Projects/mldb/eval/tabular_performance/opt_vec_onnx_dnn|3|256_iris_n_10000000_bs_4096_run_1_intratc_128.json',\n",
       " '/u/antor/u13/ukumaras/Projects/mldb/eval/tabular_performance/opt_vec_onnx_dnn|7|1024_iris_n_10000000_bs_4096_run_1_intratc_16.json',\n",
       " '/u/antor/u13/ukumaras/Projects/mldb/eval/tabular_performance/opt_vec_onnx_dnn|5|512_iris_n_10000000_bs_128_run_2_intratc_8.json',\n",
       " '/u/antor/u13/ukumaras/Projects/mldb/eval/tabular_performance/opt_vec_onnx_dnn|1|128_iris_n_10000000_bs_64_run_3_intratc_192.json',\n",
       " '/u/antor/u13/ukumaras/Projects/mldb/eval/tabular_performance/opt_vec_onnx_dnn|7|1024_iris_n_10000000_bs_64_run_2_intratc_16.json',\n",
       " '/u/antor/u13/ukumaras/Projects/mldb/eval/tabular_performance/opt_vec_onnx_dnn|5|512_iris_n_10000000_bs_1024_run_3_intratc_128.json',\n",
       " '/u/antor/u13/ukumaras/Projects/mldb/eval/tabular_performance/opt_vec_onnx_dnn|1|128_iris_n_10000000_bs_512_run_3_intratc_16.json',\n",
       " '/u/antor/u13/ukumaras/Projects/mldb/eval/tabular_performance/opt_vec_onnx_dnn|5|512_iris_n_10000000_bs_4096_run_1_intratc_32.json',\n",
       " '/u/antor/u13/ukumaras/Projects/mldb/eval/tabular_performance/opt_vec_onnx_dnn|5|512_iris_n_10000000_bs_4096_run_1_intratc_2.json',\n",
       " '/u/antor/u13/ukumaras/Projects/mldb/eval/tabular_performance/opt_vec_onnx_dnn|3|256_iris_n_10000000_bs_1024_run_3_intratc_64.json',\n",
       " '/u/antor/u13/ukumaras/Projects/mldb/eval/tabular_performance/opt_vec_onnx_dnn|5|512_iris_n_10000000_bs_4096_run_3_intratc_8.json',\n",
       " '/u/antor/u13/ukumaras/Projects/mldb/eval/tabular_performance/opt_vec_onnx_dnn|3|256_iris_n_10000000_bs_512_run_1_intratc_2.json',\n",
       " '/u/antor/u13/ukumaras/Projects/mldb/eval/tabular_performance/opt_vec_onnx_dnn|5|512_iris_n_10000000_bs_2048_run_3_intratc_32.json',\n",
       " '/u/antor/u13/ukumaras/Projects/mldb/eval/tabular_performance/opt_vec_onnx_dnn|1|128_iris_n_10000000_bs_1024_run_1_intratc_16.json',\n",
       " '/u/antor/u13/ukumaras/Projects/mldb/eval/tabular_performance/opt_vec_onnx_dnn|3|256_iris_n_10000000_bs_2048_run_2_intratc_32.json',\n",
       " '/u/antor/u13/ukumaras/Projects/mldb/eval/tabular_performance/opt_vec_onnx_dnn|3|256_iris_n_10000000_bs_256_run_2_intratc_2.json',\n",
       " '/u/antor/u13/ukumaras/Projects/mldb/eval/tabular_performance/opt_vec_onnx_dnn|5|512_iris_n_10000000_bs_512_run_3_intratc_128.json',\n",
       " '/u/antor/u13/ukumaras/Projects/mldb/eval/tabular_performance/opt_vec_onnx_dnn|7|1024_iris_n_10000000_bs_128_run_2_intratc_32.json',\n",
       " '/u/antor/u13/ukumaras/Projects/mldb/eval/tabular_performance/opt_vec_onnx_dnn|1|128_iris_n_10000000_bs_128_run_2_intratc_64.json',\n",
       " '/u/antor/u13/ukumaras/Projects/mldb/eval/tabular_performance/opt_vec_onnx_dnn|1|128_iris_n_10000000_bs_2048_run_2_intratc_8.json',\n",
       " '/u/antor/u13/ukumaras/Projects/mldb/eval/tabular_performance/opt_vec_onnx_dnn|5|512_iris_n_10000000_bs_64_run_1_intratc_128.json',\n",
       " '/u/antor/u13/ukumaras/Projects/mldb/eval/tabular_performance/opt_vec_onnx_dnn|1|128_iris_n_10000000_bs_64_run_3_intratc_128.json',\n",
       " '/u/antor/u13/ukumaras/Projects/mldb/eval/tabular_performance/opt_vec_onnx_dnn|3|256_iris_n_10000000_bs_2048_run_3_intratc_1.json',\n",
       " '/u/antor/u13/ukumaras/Projects/mldb/eval/tabular_performance/opt_vec_onnx_dnn|3|256_iris_n_10000000_bs_64_run_3_intratc_4.json',\n",
       " '/u/antor/u13/ukumaras/Projects/mldb/eval/tabular_performance/opt_vec_onnx_dnn|5|512_iris_n_10000000_bs_2048_run_2_intratc_4.json',\n",
       " '/u/antor/u13/ukumaras/Projects/mldb/eval/tabular_performance/opt_vec_onnx_dnn|5|512_iris_n_10000000_bs_256_run_2_intratc_64.json',\n",
       " '/u/antor/u13/ukumaras/Projects/mldb/eval/tabular_performance/opt_vec_onnx_dnn|1|128_iris_n_10000000_bs_256_run_3_intratc_2.json',\n",
       " '/u/antor/u13/ukumaras/Projects/mldb/eval/tabular_performance/opt_vec_onnx_dnn|3|256_iris_n_10000000_bs_256_run_2_intratc_4.json',\n",
       " '/u/antor/u13/ukumaras/Projects/mldb/eval/tabular_performance/opt_vec_onnx_dnn|1|128_iris_n_10000000_bs_2048_run_1_intratc_1.json',\n",
       " '/u/antor/u13/ukumaras/Projects/mldb/eval/tabular_performance/opt_vec_onnx_dnn|3|256_iris_n_10000000_bs_1024_run_2_intratc_2.json',\n",
       " '/u/antor/u13/ukumaras/Projects/mldb/eval/tabular_performance/opt_vec_onnx_dnn|5|512_iris_n_10000000_bs_256_run_3_intratc_16.json',\n",
       " '/u/antor/u13/ukumaras/Projects/mldb/eval/tabular_performance/opt_vec_onnx_dnn|5|512_iris_n_10000000_bs_4096_run_3_intratc_32.json',\n",
       " '/u/antor/u13/ukumaras/Projects/mldb/eval/tabular_performance/opt_vec_onnx_dnn|5|512_iris_n_10000000_bs_512_run_2_intratc_32.json',\n",
       " '/u/antor/u13/ukumaras/Projects/mldb/eval/tabular_performance/opt_vec_onnx_dnn|1|128_iris_n_10000000_bs_4096_run_2_intratc_32.json',\n",
       " '/u/antor/u13/ukumaras/Projects/mldb/eval/tabular_performance/opt_vec_onnx_dnn|3|256_iris_n_10000000_bs_1024_run_2_intratc_4.json',\n",
       " '/u/antor/u13/ukumaras/Projects/mldb/eval/tabular_performance/opt_vec_onnx_dnn|1|128_iris_n_10000000_bs_4096_run_2_intratc_1.json',\n",
       " '/u/antor/u13/ukumaras/Projects/mldb/eval/tabular_performance/opt_vec_onnx_dnn|5|512_iris_n_10000000_bs_64_run_1_intratc_32.json',\n",
       " '/u/antor/u13/ukumaras/Projects/mldb/eval/tabular_performance/opt_vec_onnx_dnn|5|512_iris_n_10000000_bs_2048_run_3_intratc_64.json',\n",
       " '/u/antor/u13/ukumaras/Projects/mldb/eval/tabular_performance/opt_vec_onnx_dnn|1|128_iris_n_10000000_bs_128_run_3_intratc_64.json',\n",
       " '/u/antor/u13/ukumaras/Projects/mldb/eval/tabular_performance/opt_vec_onnx_dnn|5|512_iris_n_10000000_bs_128_run_1_intratc_16.json',\n",
       " '/u/antor/u13/ukumaras/Projects/mldb/eval/tabular_performance/opt_vec_onnx_dnn|1|128_iris_n_10000000_bs_4096_run_1_intratc_16.json',\n",
       " '/u/antor/u13/ukumaras/Projects/mldb/eval/tabular_performance/opt_vec_onnx_dnn|3|256_iris_n_10000000_bs_2048_run_3_intratc_192.json',\n",
       " '/u/antor/u13/ukumaras/Projects/mldb/eval/tabular_performance/opt_vec_onnx_dnn|3|256_iris_n_10000000_bs_512_run_3_intratc_2.json',\n",
       " '/u/antor/u13/ukumaras/Projects/mldb/eval/tabular_performance/opt_vec_onnx_dnn|3|256_iris_n_10000000_bs_4096_run_2_intratc_2.json',\n",
       " '/u/antor/u13/ukumaras/Projects/mldb/eval/tabular_performance/opt_vec_onnx_dnn|7|1024_iris_n_10000000_bs_2048_run_1_intratc_128.json',\n",
       " '/u/antor/u13/ukumaras/Projects/mldb/eval/tabular_performance/opt_vec_onnx_dnn|7|1024_iris_n_10000000_bs_1024_run_1_intratc_32.json',\n",
       " '/u/antor/u13/ukumaras/Projects/mldb/eval/tabular_performance/opt_vec_onnx_dnn|5|512_iris_n_10000000_bs_128_run_2_intratc_1.json',\n",
       " '/u/antor/u13/ukumaras/Projects/mldb/eval/tabular_performance/opt_vec_onnx_dnn|5|512_iris_n_10000000_bs_1024_run_3_intratc_1.json',\n",
       " '/u/antor/u13/ukumaras/Projects/mldb/eval/tabular_performance/opt_vec_onnx_dnn|1|128_iris_n_10000000_bs_64_run_1_intratc_16.json',\n",
       " '/u/antor/u13/ukumaras/Projects/mldb/eval/tabular_performance/opt_vec_onnx_dnn|1|128_iris_n_10000000_bs_2048_run_2_intratc_192.json',\n",
       " '/u/antor/u13/ukumaras/Projects/mldb/eval/tabular_performance/opt_vec_onnx_dnn|5|512_iris_n_10000000_bs_128_run_3_intratc_16.json',\n",
       " '/u/antor/u13/ukumaras/Projects/mldb/eval/tabular_performance/opt_vec_onnx_dnn|3|256_iris_n_10000000_bs_512_run_3_intratc_192.json',\n",
       " '/u/antor/u13/ukumaras/Projects/mldb/eval/tabular_performance/opt_vec_onnx_dnn|3|256_iris_n_10000000_bs_512_run_2_intratc_32.json',\n",
       " '/u/antor/u13/ukumaras/Projects/mldb/eval/tabular_performance/opt_vec_onnx_dnn|1|128_iris_n_10000000_bs_512_run_2_intratc_1.json',\n",
       " '/u/antor/u13/ukumaras/Projects/mldb/eval/tabular_performance/opt_vec_onnx_dnn|7|1024_iris_n_10000000_bs_1024_run_1_intratc_8.json',\n",
       " '/u/antor/u13/ukumaras/Projects/mldb/eval/tabular_performance/opt_vec_onnx_dnn|3|256_iris_n_10000000_bs_64_run_1_intratc_192.json',\n",
       " '/u/antor/u13/ukumaras/Projects/mldb/eval/tabular_performance/opt_vec_onnx_dnn|3|256_iris_n_10000000_bs_2048_run_2_intratc_64.json',\n",
       " '/u/antor/u13/ukumaras/Projects/mldb/eval/tabular_performance/opt_vec_onnx_dnn|7|1024_iris_n_10000000_bs_256_run_1_intratc_32.json',\n",
       " '/u/antor/u13/ukumaras/Projects/mldb/eval/tabular_performance/opt_vec_onnx_dnn|5|512_iris_n_10000000_bs_128_run_1_intratc_192.json',\n",
       " '/u/antor/u13/ukumaras/Projects/mldb/eval/tabular_performance/opt_vec_onnx_dnn|5|512_iris_n_10000000_bs_512_run_1_intratc_192.json',\n",
       " '/u/antor/u13/ukumaras/Projects/mldb/eval/tabular_performance/opt_vec_onnx_dnn|3|256_iris_n_10000000_bs_512_run_1_intratc_32.json',\n",
       " '/u/antor/u13/ukumaras/Projects/mldb/eval/tabular_performance/opt_vec_onnx_dnn|3|256_iris_n_10000000_bs_2048_run_1_intratc_128.json',\n",
       " '/u/antor/u13/ukumaras/Projects/mldb/eval/tabular_performance/opt_vec_onnx_dnn|1|128_iris_n_10000000_bs_128_run_3_intratc_128.json',\n",
       " '/u/antor/u13/ukumaras/Projects/mldb/eval/tabular_performance/opt_vec_onnx_dnn|3|256_iris_n_10000000_bs_2048_run_2_intratc_128.json',\n",
       " '/u/antor/u13/ukumaras/Projects/mldb/eval/tabular_performance/opt_vec_onnx_dnn|3|256_iris_n_10000000_bs_512_run_1_intratc_128.json',\n",
       " '/u/antor/u13/ukumaras/Projects/mldb/eval/tabular_performance/opt_vec_onnx_dnn|5|512_iris_n_10000000_bs_64_run_3_intratc_192.json',\n",
       " '/u/antor/u13/ukumaras/Projects/mldb/eval/tabular_performance/opt_vec_onnx_dnn|7|1024_iris_n_10000000_bs_128_run_1_intratc_1.json',\n",
       " '/u/antor/u13/ukumaras/Projects/mldb/eval/tabular_performance/opt_vec_onnx_dnn|3|256_iris_n_10000000_bs_1024_run_3_intratc_1.json',\n",
       " '/u/antor/u13/ukumaras/Projects/mldb/eval/tabular_performance/opt_vec_onnx_dnn|3|256_iris_n_10000000_bs_256_run_1_intratc_2.json',\n",
       " '/u/antor/u13/ukumaras/Projects/mldb/eval/tabular_performance/opt_vec_onnx_dnn|5|512_iris_n_10000000_bs_2048_run_3_intratc_192.json',\n",
       " '/u/antor/u13/ukumaras/Projects/mldb/eval/tabular_performance/opt_vec_onnx_dnn|1|128_iris_n_10000000_bs_512_run_2_intratc_64.json',\n",
       " '/u/antor/u13/ukumaras/Projects/mldb/eval/tabular_performance/opt_vec_onnx_dnn|3|256_iris_n_10000000_bs_512_run_1_intratc_4.json',\n",
       " '/u/antor/u13/ukumaras/Projects/mldb/eval/tabular_performance/opt_vec_onnx_dnn|5|512_iris_n_10000000_bs_256_run_2_intratc_192.json',\n",
       " '/u/antor/u13/ukumaras/Projects/mldb/eval/tabular_performance/opt_vec_onnx_dnn|5|512_iris_n_10000000_bs_1024_run_1_intratc_64.json',\n",
       " '/u/antor/u13/ukumaras/Projects/mldb/eval/tabular_performance/opt_vec_onnx_dnn|3|256_iris_n_10000000_bs_2048_run_2_intratc_8.json',\n",
       " '/u/antor/u13/ukumaras/Projects/mldb/eval/tabular_performance/opt_vec_onnx_dnn|5|512_iris_n_10000000_bs_256_run_1_intratc_1.json',\n",
       " '/u/antor/u13/ukumaras/Projects/mldb/eval/tabular_performance/opt_vec_onnx_dnn|5|512_iris_n_10000000_bs_1024_run_2_intratc_1.json',\n",
       " '/u/antor/u13/ukumaras/Projects/mldb/eval/tabular_performance/opt_vec_onnx_dnn|1|128_iris_n_10000000_bs_4096_run_2_intratc_2.json',\n",
       " '/u/antor/u13/ukumaras/Projects/mldb/eval/tabular_performance/opt_vec_onnx_dnn|3|256_iris_n_10000000_bs_64_run_3_intratc_1.json',\n",
       " '/u/antor/u13/ukumaras/Projects/mldb/eval/tabular_performance/opt_vec_onnx_dnn|7|1024_iris_n_10000000_bs_64_run_1_intratc_64.json',\n",
       " '/u/antor/u13/ukumaras/Projects/mldb/eval/tabular_performance/opt_vec_onnx_dnn|3|256_iris_n_10000000_bs_128_run_3_intratc_128.json',\n",
       " '/u/antor/u13/ukumaras/Projects/mldb/eval/tabular_performance/opt_vec_onnx_dnn|5|512_iris_n_10000000_bs_64_run_2_intratc_1.json',\n",
       " '/u/antor/u13/ukumaras/Projects/mldb/eval/tabular_performance/opt_vec_onnx_dnn|1|128_iris_n_10000000_bs_64_run_1_intratc_64.json',\n",
       " '/u/antor/u13/ukumaras/Projects/mldb/eval/tabular_performance/opt_vec_onnx_dnn|5|512_iris_n_10000000_bs_512_run_3_intratc_64.json',\n",
       " '/u/antor/u13/ukumaras/Projects/mldb/eval/tabular_performance/opt_vec_onnx_dnn|3|256_iris_n_10000000_bs_1024_run_1_intratc_1.json',\n",
       " '/u/antor/u13/ukumaras/Projects/mldb/eval/tabular_performance/opt_vec_onnx_dnn|5|512_iris_n_10000000_bs_4096_run_2_intratc_8.json',\n",
       " '/u/antor/u13/ukumaras/Projects/mldb/eval/tabular_performance/opt_vec_onnx_dnn|1|128_iris_n_10000000_bs_2048_run_2_intratc_64.json',\n",
       " '/u/antor/u13/ukumaras/Projects/mldb/eval/tabular_performance/opt_vec_onnx_dnn|3|256_iris_n_10000000_bs_2048_run_3_intratc_4.json',\n",
       " '/u/antor/u13/ukumaras/Projects/mldb/eval/tabular_performance/opt_vec_onnx_dnn|5|512_iris_n_10000000_bs_4096_run_1_intratc_128.json',\n",
       " '/u/antor/u13/ukumaras/Projects/mldb/eval/tabular_performance/opt_vec_onnx_dnn|1|128_iris_n_10000000_bs_2048_run_3_intratc_32.json',\n",
       " '/u/antor/u13/ukumaras/Projects/mldb/eval/tabular_performance/opt_vec_onnx_dnn|1|128_iris_n_10000000_bs_64_run_3_intratc_4.json',\n",
       " '/u/antor/u13/ukumaras/Projects/mldb/eval/tabular_performance/opt_vec_onnx_dnn|3|256_iris_n_10000000_bs_4096_run_1_intratc_2.json',\n",
       " '/u/antor/u13/ukumaras/Projects/mldb/eval/tabular_performance/opt_vec_onnx_dnn|3|256_iris_n_10000000_bs_128_run_3_intratc_16.json',\n",
       " '/u/antor/u13/ukumaras/Projects/mldb/eval/tabular_performance/opt_vec_onnx_dnn|3|256_iris_n_10000000_bs_512_run_3_intratc_1.json',\n",
       " '/u/antor/u13/ukumaras/Projects/mldb/eval/tabular_performance/opt_vec_onnx_dnn|3|256_iris_n_10000000_bs_256_run_2_intratc_64.json',\n",
       " '/u/antor/u13/ukumaras/Projects/mldb/eval/tabular_performance/opt_vec_onnx_dnn|3|256_iris_n_10000000_bs_128_run_3_intratc_4.json',\n",
       " '/u/antor/u13/ukumaras/Projects/mldb/eval/tabular_performance/opt_vec_onnx_dnn|1|128_iris_n_10000000_bs_64_run_3_intratc_32.json',\n",
       " '/u/antor/u13/ukumaras/Projects/mldb/eval/tabular_performance/opt_vec_onnx_dnn|5|512_iris_n_10000000_bs_256_run_1_intratc_192.json',\n",
       " '/u/antor/u13/ukumaras/Projects/mldb/eval/tabular_performance/opt_vec_onnx_dnn|3|256_iris_n_10000000_bs_64_run_1_intratc_1.json',\n",
       " '/u/antor/u13/ukumaras/Projects/mldb/eval/tabular_performance/opt_vec_onnx_dnn|5|512_iris_n_10000000_bs_512_run_2_intratc_4.json',\n",
       " '/u/antor/u13/ukumaras/Projects/mldb/eval/tabular_performance/opt_vec_onnx_dnn|3|256_iris_n_10000000_bs_4096_run_1_intratc_192.json',\n",
       " '/u/antor/u13/ukumaras/Projects/mldb/eval/tabular_performance/opt_vec_onnx_dnn|1|128_iris_n_10000000_bs_128_run_1_intratc_192.json',\n",
       " '/u/antor/u13/ukumaras/Projects/mldb/eval/tabular_performance/opt_vec_onnx_dnn|5|512_iris_n_10000000_bs_2048_run_2_intratc_1.json',\n",
       " '/u/antor/u13/ukumaras/Projects/mldb/eval/tabular_performance/opt_vec_onnx_dnn|1|128_iris_n_10000000_bs_256_run_3_intratc_1.json',\n",
       " '/u/antor/u13/ukumaras/Projects/mldb/eval/tabular_performance/opt_vec_onnx_dnn|1|128_iris_n_10000000_bs_512_run_1_intratc_4.json',\n",
       " '/u/antor/u13/ukumaras/Projects/mldb/eval/tabular_performance/opt_vec_onnx_dnn|3|256_iris_n_10000000_bs_512_run_3_intratc_32.json',\n",
       " '/u/antor/u13/ukumaras/Projects/mldb/eval/tabular_performance/opt_vec_onnx_dnn|5|512_iris_n_10000000_bs_1024_run_3_intratc_64.json',\n",
       " '/u/antor/u13/ukumaras/Projects/mldb/eval/tabular_performance/opt_vec_onnx_dnn|3|256_iris_n_10000000_bs_256_run_2_intratc_128.json',\n",
       " '/u/antor/u13/ukumaras/Projects/mldb/eval/tabular_performance/opt_vec_onnx_dnn|1|128_iris_n_10000000_bs_512_run_3_intratc_1.json',\n",
       " '/u/antor/u13/ukumaras/Projects/mldb/eval/tabular_performance/opt_vec_onnx_dnn|7|1024_iris_n_10000000_bs_512_run_1_intratc_192.json',\n",
       " '/u/antor/u13/ukumaras/Projects/mldb/eval/tabular_performance/opt_vec_onnx_dnn|5|512_iris_n_10000000_bs_512_run_2_intratc_1.json',\n",
       " '/u/antor/u13/ukumaras/Projects/mldb/eval/tabular_performance/opt_vec_onnx_dnn|5|512_iris_n_10000000_bs_512_run_3_intratc_1.json',\n",
       " '/u/antor/u13/ukumaras/Projects/mldb/eval/tabular_performance/opt_vec_onnx_dnn|1|128_iris_n_10000000_bs_512_run_2_intratc_4.json',\n",
       " '/u/antor/u13/ukumaras/Projects/mldb/eval/tabular_performance/opt_vec_onnx_dnn|7|1024_iris_n_10000000_bs_256_run_2_intratc_64.json',\n",
       " '/u/antor/u13/ukumaras/Projects/mldb/eval/tabular_performance/opt_vec_onnx_dnn|3|256_iris_n_10000000_bs_128_run_1_intratc_32.json',\n",
       " '/u/antor/u13/ukumaras/Projects/mldb/eval/tabular_performance/opt_vec_onnx_dnn|7|1024_iris_n_10000000_bs_4096_run_1_intratc_128.json',\n",
       " '/u/antor/u13/ukumaras/Projects/mldb/eval/tabular_performance/opt_vec_onnx_dnn|3|256_iris_n_10000000_bs_4096_run_3_intratc_1.json',\n",
       " '/u/antor/u13/ukumaras/Projects/mldb/eval/tabular_performance/opt_vec_onnx_dnn|1|128_iris_n_10000000_bs_2048_run_1_intratc_32.json',\n",
       " '/u/antor/u13/ukumaras/Projects/mldb/eval/tabular_performance/opt_vec_onnx_dnn|5|512_iris_n_10000000_bs_2048_run_2_intratc_16.json',\n",
       " '/u/antor/u13/ukumaras/Projects/mldb/eval/tabular_performance/opt_vec_onnx_dnn|1|128_iris_n_10000000_bs_4096_run_3_intratc_16.json',\n",
       " '/u/antor/u13/ukumaras/Projects/mldb/eval/tabular_performance/opt_vec_onnx_dnn|1|128_iris_n_10000000_bs_256_run_1_intratc_192.json',\n",
       " '/u/antor/u13/ukumaras/Projects/mldb/eval/tabular_performance/opt_vec_onnx_dnn|3|256_iris_n_10000000_bs_64_run_2_intratc_16.json',\n",
       " '/u/antor/u13/ukumaras/Projects/mldb/eval/tabular_performance/opt_vec_onnx_dnn|1|128_iris_n_10000000_bs_1024_run_2_intratc_1.json',\n",
       " '/u/antor/u13/ukumaras/Projects/mldb/eval/tabular_performance/opt_vec_onnx_dnn|1|128_iris_n_10000000_bs_256_run_2_intratc_192.json',\n",
       " '/u/antor/u13/ukumaras/Projects/mldb/eval/tabular_performance/opt_vec_onnx_dnn|5|512_iris_n_10000000_bs_2048_run_3_intratc_4.json',\n",
       " '/u/antor/u13/ukumaras/Projects/mldb/eval/tabular_performance/opt_vec_onnx_dnn|5|512_iris_n_10000000_bs_256_run_1_intratc_128.json',\n",
       " '/u/antor/u13/ukumaras/Projects/mldb/eval/tabular_performance/opt_vec_onnx_dnn|5|512_iris_n_10000000_bs_2048_run_2_intratc_2.json',\n",
       " '/u/antor/u13/ukumaras/Projects/mldb/eval/tabular_performance/opt_vec_onnx_dnn|5|512_iris_n_10000000_bs_64_run_2_intratc_4.json',\n",
       " '/u/antor/u13/ukumaras/Projects/mldb/eval/tabular_performance/opt_vec_onnx_dnn|1|128_iris_n_10000000_bs_4096_run_2_intratc_128.json',\n",
       " '/u/antor/u13/ukumaras/Projects/mldb/eval/tabular_performance/opt_vec_onnx_dnn|3|256_iris_n_10000000_bs_1024_run_3_intratc_2.json',\n",
       " '/u/antor/u13/ukumaras/Projects/mldb/eval/tabular_performance/opt_vec_onnx_dnn|1|128_iris_n_10000000_bs_4096_run_3_intratc_192.json',\n",
       " '/u/antor/u13/ukumaras/Projects/mldb/eval/tabular_performance/opt_vec_onnx_dnn|3|256_iris_n_10000000_bs_2048_run_1_intratc_2.json',\n",
       " '/u/antor/u13/ukumaras/Projects/mldb/eval/tabular_performance/opt_vec_onnx_dnn|1|128_iris_n_10000000_bs_1024_run_1_intratc_2.json',\n",
       " '/u/antor/u13/ukumaras/Projects/mldb/eval/tabular_performance/opt_vec_onnx_dnn|5|512_iris_n_10000000_bs_1024_run_2_intratc_192.json',\n",
       " '/u/antor/u13/ukumaras/Projects/mldb/eval/tabular_performance/opt_vec_onnx_dnn|3|256_iris_n_10000000_bs_4096_run_3_intratc_192.json',\n",
       " '/u/antor/u13/ukumaras/Projects/mldb/eval/tabular_performance/opt_vec_onnx_dnn|7|1024_iris_n_10000000_bs_2048_run_1_intratc_192.json',\n",
       " '/u/antor/u13/ukumaras/Projects/mldb/eval/tabular_performance/opt_vec_onnx_dnn|5|512_iris_n_10000000_bs_1024_run_1_intratc_8.json',\n",
       " '/u/antor/u13/ukumaras/Projects/mldb/eval/tabular_performance/opt_vec_onnx_dnn|3|256_iris_n_10000000_bs_256_run_1_intratc_1.json',\n",
       " '/u/antor/u13/ukumaras/Projects/mldb/eval/tabular_performance/opt_vec_onnx_dnn|5|512_iris_n_10000000_bs_2048_run_2_intratc_32.json',\n",
       " '/u/antor/u13/ukumaras/Projects/mldb/eval/tabular_performance/opt_vec_onnx_dnn|1|128_iris_n_10000000_bs_128_run_2_intratc_8.json',\n",
       " '/u/antor/u13/ukumaras/Projects/mldb/eval/tabular_performance/opt_vec_onnx_dnn|1|128_iris_n_10000000_bs_2048_run_3_intratc_2.json',\n",
       " '/u/antor/u13/ukumaras/Projects/mldb/eval/tabular_performance/opt_vec_onnx_dnn|7|1024_iris_n_10000000_bs_128_run_1_intratc_32.json',\n",
       " '/u/antor/u13/ukumaras/Projects/mldb/eval/tabular_performance/opt_vec_onnx_dnn|5|512_iris_n_10000000_bs_128_run_2_intratc_192.json',\n",
       " '/u/antor/u13/ukumaras/Projects/mldb/eval/tabular_performance/opt_vec_onnx_dnn|7|1024_iris_n_10000000_bs_128_run_1_intratc_128.json',\n",
       " '/u/antor/u13/ukumaras/Projects/mldb/eval/tabular_performance/opt_vec_onnx_dnn|5|512_iris_n_10000000_bs_64_run_3_intratc_32.json',\n",
       " '/u/antor/u13/ukumaras/Projects/mldb/eval/tabular_performance/opt_vec_onnx_dnn|3|256_iris_n_10000000_bs_2048_run_2_intratc_4.json',\n",
       " '/u/antor/u13/ukumaras/Projects/mldb/eval/tabular_performance/opt_vec_onnx_dnn|7|1024_iris_n_10000000_bs_128_run_1_intratc_2.json',\n",
       " '/u/antor/u13/ukumaras/Projects/mldb/eval/tabular_performance/opt_vec_onnx_dnn|5|512_iris_n_10000000_bs_1024_run_2_intratc_8.json',\n",
       " '/u/antor/u13/ukumaras/Projects/mldb/eval/tabular_performance/opt_vec_onnx_dnn|5|512_iris_n_10000000_bs_4096_run_1_intratc_192.json',\n",
       " '/u/antor/u13/ukumaras/Projects/mldb/eval/tabular_performance/opt_vec_onnx_dnn|3|256_iris_n_10000000_bs_1024_run_1_intratc_192.json',\n",
       " '/u/antor/u13/ukumaras/Projects/mldb/eval/tabular_performance/opt_vec_onnx_dnn|5|512_iris_n_10000000_bs_2048_run_1_intratc_4.json',\n",
       " '/u/antor/u13/ukumaras/Projects/mldb/eval/tabular_performance/opt_vec_onnx_dnn|5|512_iris_n_10000000_bs_1024_run_2_intratc_2.json',\n",
       " '/u/antor/u13/ukumaras/Projects/mldb/eval/tabular_performance/opt_vec_onnx_dnn|1|128_iris_n_10000000_bs_512_run_2_intratc_16.json',\n",
       " '/u/antor/u13/ukumaras/Projects/mldb/eval/tabular_performance/opt_vec_onnx_dnn|7|1024_iris_n_10000000_bs_128_run_2_intratc_64.json',\n",
       " '/u/antor/u13/ukumaras/Projects/mldb/eval/tabular_performance/opt_vec_onnx_dnn|1|128_iris_n_10000000_bs_4096_run_1_intratc_4.json',\n",
       " '/u/antor/u13/ukumaras/Projects/mldb/eval/tabular_performance/opt_vec_onnx_dnn|1|128_iris_n_10000000_bs_64_run_1_intratc_8.json',\n",
       " '/u/antor/u13/ukumaras/Projects/mldb/eval/tabular_performance/opt_vec_onnx_dnn|1|128_iris_n_10000000_bs_1024_run_3_intratc_64.json',\n",
       " '/u/antor/u13/ukumaras/Projects/mldb/eval/tabular_performance/opt_vec_onnx_dnn|3|256_iris_n_10000000_bs_4096_run_1_intratc_32.json',\n",
       " '/u/antor/u13/ukumaras/Projects/mldb/eval/tabular_performance/opt_vec_onnx_dnn|3|256_iris_n_10000000_bs_512_run_3_intratc_64.json',\n",
       " '/u/antor/u13/ukumaras/Projects/mldb/eval/tabular_performance/opt_vec_onnx_dnn|5|512_iris_n_10000000_bs_2048_run_1_intratc_32.json',\n",
       " '/u/antor/u13/ukumaras/Projects/mldb/eval/tabular_performance/opt_vec_onnx_dnn|3|256_iris_n_10000000_bs_2048_run_1_intratc_4.json',\n",
       " '/u/antor/u13/ukumaras/Projects/mldb/eval/tabular_performance/opt_vec_onnx_dnn|3|256_iris_n_10000000_bs_64_run_3_intratc_32.json',\n",
       " '/u/antor/u13/ukumaras/Projects/mldb/eval/tabular_performance/opt_vec_onnx_dnn|7|1024_iris_n_10000000_bs_256_run_1_intratc_2.json',\n",
       " '/u/antor/u13/ukumaras/Projects/mldb/eval/tabular_performance/opt_vec_onnx_dnn|3|256_iris_n_10000000_bs_256_run_2_intratc_16.json',\n",
       " '/u/antor/u13/ukumaras/Projects/mldb/eval/tabular_performance/opt_vec_onnx_dnn|7|1024_iris_n_10000000_bs_256_run_2_intratc_2.json',\n",
       " '/u/antor/u13/ukumaras/Projects/mldb/eval/tabular_performance/opt_vec_onnx_dnn|1|128_iris_n_10000000_bs_4096_run_3_intratc_2.json',\n",
       " '/u/antor/u13/ukumaras/Projects/mldb/eval/tabular_performance/opt_vec_onnx_dnn|3|256_iris_n_10000000_bs_512_run_3_intratc_8.json',\n",
       " '/u/antor/u13/ukumaras/Projects/mldb/eval/tabular_performance/opt_vec_onnx_dnn|3|256_iris_n_10000000_bs_512_run_1_intratc_64.json',\n",
       " '/u/antor/u13/ukumaras/Projects/mldb/eval/tabular_performance/opt_vec_onnx_dnn|7|1024_iris_n_10000000_bs_256_run_2_intratc_192.json',\n",
       " '/u/antor/u13/ukumaras/Projects/mldb/eval/tabular_performance/opt_vec_onnx_dnn|1|128_iris_n_10000000_bs_256_run_3_intratc_64.json',\n",
       " '/u/antor/u13/ukumaras/Projects/mldb/eval/tabular_performance/opt_vec_onnx_dnn|1|128_iris_n_10000000_bs_256_run_3_intratc_128.json',\n",
       " '/u/antor/u13/ukumaras/Projects/mldb/eval/tabular_performance/opt_vec_onnx_dnn|3|256_iris_n_10000000_bs_128_run_3_intratc_1.json',\n",
       " '/u/antor/u13/ukumaras/Projects/mldb/eval/tabular_performance/opt_vec_onnx_dnn|3|256_iris_n_10000000_bs_4096_run_3_intratc_128.json',\n",
       " '/u/antor/u13/ukumaras/Projects/mldb/eval/tabular_performance/opt_vec_onnx_dnn|5|512_iris_n_10000000_bs_1024_run_2_intratc_64.json',\n",
       " '/u/antor/u13/ukumaras/Projects/mldb/eval/tabular_performance/opt_vec_onnx_dnn|1|128_iris_n_10000000_bs_64_run_1_intratc_2.json',\n",
       " '/u/antor/u13/ukumaras/Projects/mldb/eval/tabular_performance/opt_vec_onnx_dnn|3|256_iris_n_10000000_bs_128_run_2_intratc_1.json',\n",
       " '/u/antor/u13/ukumaras/Projects/mldb/eval/tabular_performance/opt_vec_onnx_dnn|3|256_iris_n_10000000_bs_1024_run_1_intratc_2.json',\n",
       " '/u/antor/u13/ukumaras/Projects/mldb/eval/tabular_performance/opt_vec_onnx_dnn|7|1024_iris_n_10000000_bs_64_run_1_intratc_2.json',\n",
       " '/u/antor/u13/ukumaras/Projects/mldb/eval/tabular_performance/opt_vec_onnx_dnn|3|256_iris_n_10000000_bs_4096_run_1_intratc_64.json',\n",
       " '/u/antor/u13/ukumaras/Projects/mldb/eval/tabular_performance/opt_vec_onnx_dnn|1|128_iris_n_10000000_bs_128_run_3_intratc_32.json',\n",
       " '/u/antor/u13/ukumaras/Projects/mldb/eval/tabular_performance/opt_vec_onnx_dnn|5|512_iris_n_10000000_bs_64_run_1_intratc_192.json',\n",
       " '/u/antor/u13/ukumaras/Projects/mldb/eval/tabular_performance/opt_vec_onnx_dnn|5|512_iris_n_10000000_bs_2048_run_3_intratc_2.json',\n",
       " '/u/antor/u13/ukumaras/Projects/mldb/eval/tabular_performance/opt_vec_onnx_dnn|5|512_iris_n_10000000_bs_64_run_1_intratc_1.json',\n",
       " '/u/antor/u13/ukumaras/Projects/mldb/eval/tabular_performance/opt_vec_onnx_dnn|7|1024_iris_n_10000000_bs_512_run_1_intratc_8.json',\n",
       " '/u/antor/u13/ukumaras/Projects/mldb/eval/tabular_performance/opt_vec_onnx_dnn|3|256_iris_n_10000000_bs_2048_run_1_intratc_64.json',\n",
       " '/u/antor/u13/ukumaras/Projects/mldb/eval/tabular_performance/opt_vec_onnx_dnn|5|512_iris_n_10000000_bs_4096_run_3_intratc_128.json',\n",
       " '/u/antor/u13/ukumaras/Projects/mldb/eval/tabular_performance/opt_vec_onnx_dnn|5|512_iris_n_10000000_bs_256_run_3_intratc_192.json',\n",
       " '/u/antor/u13/ukumaras/Projects/mldb/eval/tabular_performance/opt_vec_onnx_dnn|3|256_iris_n_10000000_bs_64_run_2_intratc_128.json',\n",
       " '/u/antor/u13/ukumaras/Projects/mldb/eval/tabular_performance/opt_vec_onnx_dnn|1|128_iris_n_10000000_bs_4096_run_1_intratc_1.json',\n",
       " '/u/antor/u13/ukumaras/Projects/mldb/eval/tabular_performance/opt_vec_onnx_dnn|1|128_iris_n_10000000_bs_2048_run_1_intratc_4.json',\n",
       " '/u/antor/u13/ukumaras/Projects/mldb/eval/tabular_performance/opt_vec_onnx_dnn|3|256_iris_n_10000000_bs_2048_run_1_intratc_1.json',\n",
       " '/u/antor/u13/ukumaras/Projects/mldb/eval/tabular_performance/opt_vec_onnx_dnn|1|128_iris_n_10000000_bs_2048_run_2_intratc_32.json',\n",
       " '/u/antor/u13/ukumaras/Projects/mldb/eval/tabular_performance/opt_vec_onnx_dnn|1|128_iris_n_10000000_bs_256_run_3_intratc_32.json',\n",
       " '/u/antor/u13/ukumaras/Projects/mldb/eval/tabular_performance/opt_vec_onnx_dnn|7|1024_iris_n_10000000_bs_1024_run_1_intratc_64.json',\n",
       " '/u/antor/u13/ukumaras/Projects/mldb/eval/tabular_performance/opt_vec_onnx_dnn|5|512_iris_n_10000000_bs_512_run_1_intratc_128.json',\n",
       " '/u/antor/u13/ukumaras/Projects/mldb/eval/tabular_performance/opt_vec_onnx_dnn|1|128_iris_n_10000000_bs_512_run_1_intratc_64.json',\n",
       " '/u/antor/u13/ukumaras/Projects/mldb/eval/tabular_performance/opt_vec_onnx_dnn|7|1024_iris_n_10000000_bs_256_run_2_intratc_8.json',\n",
       " '/u/antor/u13/ukumaras/Projects/mldb/eval/tabular_performance/opt_vec_onnx_dnn|5|512_iris_n_10000000_bs_4096_run_2_intratc_1.json',\n",
       " '/u/antor/u13/ukumaras/Projects/mldb/eval/tabular_performance/opt_vec_onnx_dnn|5|512_iris_n_10000000_bs_4096_run_1_intratc_8.json',\n",
       " '/u/antor/u13/ukumaras/Projects/mldb/eval/tabular_performance/opt_vec_onnx_dnn|5|512_iris_n_10000000_bs_128_run_3_intratc_8.json',\n",
       " '/u/antor/u13/ukumaras/Projects/mldb/eval/tabular_performance/opt_vec_onnx_dnn|5|512_iris_n_10000000_bs_2048_run_2_intratc_64.json',\n",
       " '/u/antor/u13/ukumaras/Projects/mldb/eval/tabular_performance/opt_vec_onnx_dnn|7|1024_iris_n_10000000_bs_128_run_1_intratc_192.json',\n",
       " '/u/antor/u13/ukumaras/Projects/mldb/eval/tabular_performance/opt_vec_onnx_dnn|1|128_iris_n_10000000_bs_512_run_1_intratc_1.json',\n",
       " '/u/antor/u13/ukumaras/Projects/mldb/eval/tabular_performance/opt_vec_onnx_dnn|3|256_iris_n_10000000_bs_128_run_2_intratc_192.json',\n",
       " '/u/antor/u13/ukumaras/Projects/mldb/eval/tabular_performance/opt_vec_onnx_dnn|1|128_iris_n_10000000_bs_64_run_2_intratc_64.json',\n",
       " '/u/antor/u13/ukumaras/Projects/mldb/eval/tabular_performance/opt_vec_onnx_dnn|1|128_iris_n_10000000_bs_2048_run_3_intratc_16.json',\n",
       " '/u/antor/u13/ukumaras/Projects/mldb/eval/tabular_performance/opt_vec_onnx_dnn|1|128_iris_n_10000000_bs_4096_run_1_intratc_64.json',\n",
       " '/u/antor/u13/ukumaras/Projects/mldb/eval/tabular_performance/opt_vec_onnx_dnn|5|512_iris_n_10000000_bs_512_run_1_intratc_64.json',\n",
       " '/u/antor/u13/ukumaras/Projects/mldb/eval/tabular_performance/opt_vec_onnx_dnn|5|512_iris_n_10000000_bs_256_run_2_intratc_8.json',\n",
       " '/u/antor/u13/ukumaras/Projects/mldb/eval/tabular_performance/opt_vec_onnx_dnn|3|256_iris_n_10000000_bs_128_run_1_intratc_2.json',\n",
       " '/u/antor/u13/ukumaras/Projects/mldb/eval/tabular_performance/opt_vec_onnx_dnn|7|1024_iris_n_10000000_bs_4096_run_1_intratc_64.json',\n",
       " '/u/antor/u13/ukumaras/Projects/mldb/eval/tabular_performance/opt_vec_onnx_dnn|7|1024_iris_n_10000000_bs_4096_run_1_intratc_4.json',\n",
       " '/u/antor/u13/ukumaras/Projects/mldb/eval/tabular_performance/opt_vec_onnx_dnn|5|512_iris_n_10000000_bs_256_run_1_intratc_64.json',\n",
       " '/u/antor/u13/ukumaras/Projects/mldb/eval/tabular_performance/opt_vec_onnx_dnn|1|128_iris_n_10000000_bs_4096_run_2_intratc_192.json',\n",
       " '/u/antor/u13/ukumaras/Projects/mldb/eval/tabular_performance/opt_vec_onnx_dnn|3|256_iris_n_10000000_bs_2048_run_1_intratc_16.json',\n",
       " '/u/antor/u13/ukumaras/Projects/mldb/eval/tabular_performance/opt_vec_onnx_dnn|1|128_iris_n_10000000_bs_256_run_1_intratc_128.json',\n",
       " '/u/antor/u13/ukumaras/Projects/mldb/eval/tabular_performance/opt_vec_onnx_dnn|3|256_iris_n_10000000_bs_1024_run_1_intratc_4.json',\n",
       " '/u/antor/u13/ukumaras/Projects/mldb/eval/tabular_performance/opt_vec_onnx_dnn|5|512_iris_n_10000000_bs_512_run_2_intratc_64.json',\n",
       " '/u/antor/u13/ukumaras/Projects/mldb/eval/tabular_performance/opt_vec_onnx_dnn|1|128_iris_n_10000000_bs_256_run_1_intratc_16.json',\n",
       " '/u/antor/u13/ukumaras/Projects/mldb/eval/tabular_performance/opt_vec_onnx_dnn|3|256_iris_n_10000000_bs_2048_run_2_intratc_16.json',\n",
       " '/u/antor/u13/ukumaras/Projects/mldb/eval/tabular_performance/opt_vec_onnx_dnn|5|512_iris_n_10000000_bs_1024_run_3_intratc_2.json',\n",
       " '/u/antor/u13/ukumaras/Projects/mldb/eval/tabular_performance/opt_vec_onnx_dnn|3|256_iris_n_10000000_bs_512_run_1_intratc_16.json',\n",
       " '/u/antor/u13/ukumaras/Projects/mldb/eval/tabular_performance/opt_vec_onnx_dnn|3|256_iris_n_10000000_bs_256_run_3_intratc_1.json',\n",
       " '/u/antor/u13/ukumaras/Projects/mldb/eval/tabular_performance/opt_vec_onnx_dnn|5|512_iris_n_10000000_bs_512_run_2_intratc_16.json',\n",
       " '/u/antor/u13/ukumaras/Projects/mldb/eval/tabular_performance/opt_vec_onnx_dnn|1|128_iris_n_10000000_bs_512_run_3_intratc_192.json',\n",
       " '/u/antor/u13/ukumaras/Projects/mldb/eval/tabular_performance/opt_vec_onnx_dnn|3|256_iris_n_10000000_bs_1024_run_2_intratc_1.json',\n",
       " '/u/antor/u13/ukumaras/Projects/mldb/eval/tabular_performance/opt_vec_onnx_dnn|3|256_iris_n_10000000_bs_2048_run_3_intratc_128.json',\n",
       " '/u/antor/u13/ukumaras/Projects/mldb/eval/tabular_performance/opt_vec_onnx_dnn|5|512_iris_n_10000000_bs_64_run_1_intratc_2.json',\n",
       " '/u/antor/u13/ukumaras/Projects/mldb/eval/tabular_performance/opt_vec_onnx_dnn|5|512_iris_n_10000000_bs_512_run_1_intratc_2.json',\n",
       " '/u/antor/u13/ukumaras/Projects/mldb/eval/tabular_performance/opt_vec_onnx_dnn|5|512_iris_n_10000000_bs_128_run_2_intratc_128.json',\n",
       " '/u/antor/u13/ukumaras/Projects/mldb/eval/tabular_performance/opt_vec_onnx_dnn|5|512_iris_n_10000000_bs_64_run_2_intratc_192.json',\n",
       " '/u/antor/u13/ukumaras/Projects/mldb/eval/tabular_performance/opt_vec_onnx_dnn|1|128_iris_n_10000000_bs_128_run_1_intratc_128.json',\n",
       " '/u/antor/u13/ukumaras/Projects/mldb/eval/tabular_performance/opt_vec_onnx_dnn|1|128_iris_n_10000000_bs_128_run_1_intratc_8.json',\n",
       " '/u/antor/u13/ukumaras/Projects/mldb/eval/tabular_performance/opt_vec_onnx_dnn|1|128_iris_n_10000000_bs_128_run_3_intratc_16.json',\n",
       " '/u/antor/u13/ukumaras/Projects/mldb/eval/tabular_performance/opt_vec_onnx_dnn|5|512_iris_n_10000000_bs_256_run_3_intratc_4.json',\n",
       " '/u/antor/u13/ukumaras/Projects/mldb/eval/tabular_performance/opt_vec_onnx_dnn|5|512_iris_n_10000000_bs_4096_run_3_intratc_2.json',\n",
       " '/u/antor/u13/ukumaras/Projects/mldb/eval/tabular_performance/opt_vec_onnx_dnn|1|128_iris_n_10000000_bs_256_run_1_intratc_32.json',\n",
       " '/u/antor/u13/ukumaras/Projects/mldb/eval/tabular_performance/opt_vec_onnx_dnn|3|256_iris_n_10000000_bs_1024_run_1_intratc_8.json',\n",
       " '/u/antor/u13/ukumaras/Projects/mldb/eval/tabular_performance/opt_vec_onnx_dnn|5|512_iris_n_10000000_bs_256_run_3_intratc_128.json',\n",
       " '/u/antor/u13/ukumaras/Projects/mldb/eval/tabular_performance/opt_vec_onnx_dnn|1|128_iris_n_10000000_bs_64_run_2_intratc_1.json',\n",
       " '/u/antor/u13/ukumaras/Projects/mldb/eval/tabular_performance/opt_vec_onnx_dnn|3|256_iris_n_10000000_bs_256_run_2_intratc_1.json',\n",
       " '/u/antor/u13/ukumaras/Projects/mldb/eval/tabular_performance/opt_vec_onnx_dnn|1|128_iris_n_10000000_bs_64_run_1_intratc_32.json',\n",
       " '/u/antor/u13/ukumaras/Projects/mldb/eval/tabular_performance/opt_vec_onnx_dnn|7|1024_iris_n_10000000_bs_128_run_1_intratc_16.json',\n",
       " '/u/antor/u13/ukumaras/Projects/mldb/eval/tabular_performance/opt_vec_onnx_dnn|5|512_iris_n_10000000_bs_256_run_1_intratc_4.json',\n",
       " '/u/antor/u13/ukumaras/Projects/mldb/eval/tabular_performance/opt_vec_onnx_dnn|3|256_iris_n_10000000_bs_1024_run_2_intratc_128.json',\n",
       " '/u/antor/u13/ukumaras/Projects/mldb/eval/tabular_performance/opt_vec_onnx_dnn|5|512_iris_n_10000000_bs_256_run_2_intratc_16.json',\n",
       " '/u/antor/u13/ukumaras/Projects/mldb/eval/tabular_performance/opt_vec_onnx_dnn|7|1024_iris_n_10000000_bs_128_run_2_intratc_16.json',\n",
       " '/u/antor/u13/ukumaras/Projects/mldb/eval/tabular_performance/opt_vec_onnx_dnn|7|1024_iris_n_10000000_bs_64_run_2_intratc_8.json',\n",
       " '/u/antor/u13/ukumaras/Projects/mldb/eval/tabular_performance/opt_vec_onnx_dnn|5|512_iris_n_10000000_bs_2048_run_1_intratc_8.json',\n",
       " '/u/antor/u13/ukumaras/Projects/mldb/eval/tabular_performance/opt_vec_onnx_dnn|1|128_iris_n_10000000_bs_256_run_2_intratc_128.json',\n",
       " '/u/antor/u13/ukumaras/Projects/mldb/eval/tabular_performance/opt_vec_onnx_dnn|1|128_iris_n_10000000_bs_4096_run_1_intratc_32.json',\n",
       " '/u/antor/u13/ukumaras/Projects/mldb/eval/tabular_performance/opt_vec_onnx_dnn|5|512_iris_n_10000000_bs_2048_run_3_intratc_16.json',\n",
       " '/u/antor/u13/ukumaras/Projects/mldb/eval/tabular_performance/opt_vec_onnx_dnn|1|128_iris_n_10000000_bs_128_run_2_intratc_32.json',\n",
       " '/u/antor/u13/ukumaras/Projects/mldb/eval/tabular_performance/opt_vec_onnx_dnn|1|128_iris_n_10000000_bs_256_run_3_intratc_192.json',\n",
       " '/u/antor/u13/ukumaras/Projects/mldb/eval/tabular_performance/opt_vec_onnx_dnn|1|128_iris_n_10000000_bs_1024_run_1_intratc_4.json',\n",
       " '/u/antor/u13/ukumaras/Projects/mldb/eval/tabular_performance/opt_vec_onnx_dnn|5|512_iris_n_10000000_bs_256_run_2_intratc_4.json',\n",
       " '/u/antor/u13/ukumaras/Projects/mldb/eval/tabular_performance/opt_vec_onnx_dnn|7|1024_iris_n_10000000_bs_64_run_2_intratc_32.json',\n",
       " '/u/antor/u13/ukumaras/Projects/mldb/eval/tabular_performance/opt_vec_onnx_dnn|1|128_iris_n_10000000_bs_64_run_3_intratc_16.json',\n",
       " '/u/antor/u13/ukumaras/Projects/mldb/eval/tabular_performance/opt_vec_onnx_dnn|7|1024_iris_n_10000000_bs_1024_run_1_intratc_16.json',\n",
       " '/u/antor/u13/ukumaras/Projects/mldb/eval/tabular_performance/opt_vec_onnx_dnn|1|128_iris_n_10000000_bs_512_run_2_intratc_8.json',\n",
       " '/u/antor/u13/ukumaras/Projects/mldb/eval/tabular_performance/opt_vec_onnx_dnn|5|512_iris_n_10000000_bs_256_run_2_intratc_128.json',\n",
       " '/u/antor/u13/ukumaras/Projects/mldb/eval/tabular_performance/opt_vec_onnx_dnn|3|256_iris_n_10000000_bs_128_run_2_intratc_64.json',\n",
       " '/u/antor/u13/ukumaras/Projects/mldb/eval/tabular_performance/opt_vec_onnx_dnn|3|256_iris_n_10000000_bs_1024_run_1_intratc_128.json',\n",
       " '/u/antor/u13/ukumaras/Projects/mldb/eval/tabular_performance/opt_vec_onnx_dnn|1|128_iris_n_10000000_bs_128_run_2_intratc_128.json',\n",
       " '/u/antor/u13/ukumaras/Projects/mldb/eval/tabular_performance/opt_vec_onnx_dnn|5|512_iris_n_10000000_bs_1024_run_1_intratc_32.json',\n",
       " '/u/antor/u13/ukumaras/Projects/mldb/eval/tabular_performance/opt_vec_onnx_dnn|3|256_iris_n_10000000_bs_64_run_2_intratc_2.json',\n",
       " '/u/antor/u13/ukumaras/Projects/mldb/eval/tabular_performance/opt_vec_onnx_dnn|1|128_iris_n_10000000_bs_4096_run_2_intratc_16.json',\n",
       " '/u/antor/u13/ukumaras/Projects/mldb/eval/tabular_performance/opt_vec_onnx_dnn|5|512_iris_n_10000000_bs_128_run_3_intratc_192.json',\n",
       " '/u/antor/u13/ukumaras/Projects/mldb/eval/tabular_performance/opt_vec_onnx_dnn|1|128_iris_n_10000000_bs_128_run_2_intratc_192.json',\n",
       " '/u/antor/u13/ukumaras/Projects/mldb/eval/tabular_performance/opt_vec_onnx_dnn|3|256_iris_n_10000000_bs_1024_run_3_intratc_16.json',\n",
       " '/u/antor/u13/ukumaras/Projects/mldb/eval/tabular_performance/opt_vec_onnx_dnn|1|128_iris_n_10000000_bs_256_run_2_intratc_16.json',\n",
       " '/u/antor/u13/ukumaras/Projects/mldb/eval/tabular_performance/opt_vec_onnx_dnn|3|256_iris_n_10000000_bs_2048_run_3_intratc_8.json',\n",
       " '/u/antor/u13/ukumaras/Projects/mldb/eval/tabular_performance/opt_vec_onnx_dnn|1|128_iris_n_10000000_bs_512_run_3_intratc_64.json',\n",
       " '/u/antor/u13/ukumaras/Projects/mldb/eval/tabular_performance/opt_vec_onnx_dnn|3|256_iris_n_10000000_bs_128_run_3_intratc_32.json',\n",
       " '/u/antor/u13/ukumaras/Projects/mldb/eval/tabular_performance/opt_vec_onnx_dnn|3|256_iris_n_10000000_bs_4096_run_2_intratc_4.json',\n",
       " '/u/antor/u13/ukumaras/Projects/mldb/eval/tabular_performance/opt_vec_onnx_dnn|1|128_iris_n_10000000_bs_1024_run_3_intratc_192.json',\n",
       " '/u/antor/u13/ukumaras/Projects/mldb/eval/tabular_performance/opt_vec_onnx_dnn|1|128_iris_n_10000000_bs_4096_run_1_intratc_192.json',\n",
       " '/u/antor/u13/ukumaras/Projects/mldb/eval/tabular_performance/opt_vec_onnx_dnn|3|256_iris_n_10000000_bs_64_run_3_intratc_16.json',\n",
       " '/u/antor/u13/ukumaras/Projects/mldb/eval/tabular_performance/opt_vec_onnx_dnn|1|128_iris_n_10000000_bs_512_run_3_intratc_32.json',\n",
       " '/u/antor/u13/ukumaras/Projects/mldb/eval/tabular_performance/opt_vec_onnx_dnn|3|256_iris_n_10000000_bs_2048_run_2_intratc_2.json',\n",
       " '/u/antor/u13/ukumaras/Projects/mldb/eval/tabular_performance/opt_vec_onnx_dnn|3|256_iris_n_10000000_bs_64_run_2_intratc_192.json',\n",
       " '/u/antor/u13/ukumaras/Projects/mldb/eval/tabular_performance/opt_vec_onnx_dnn|7|1024_iris_n_10000000_bs_128_run_2_intratc_1.json',\n",
       " '/u/antor/u13/ukumaras/Projects/mldb/eval/tabular_performance/opt_vec_onnx_dnn|3|256_iris_n_10000000_bs_4096_run_3_intratc_8.json',\n",
       " '/u/antor/u13/ukumaras/Projects/mldb/eval/tabular_performance/opt_vec_onnx_dnn|7|1024_iris_n_10000000_bs_64_run_1_intratc_128.json',\n",
       " '/u/antor/u13/ukumaras/Projects/mldb/eval/tabular_performance/opt_vec_onnx_dnn|1|128_iris_n_10000000_bs_1024_run_2_intratc_128.json',\n",
       " '/u/antor/u13/ukumaras/Projects/mldb/eval/tabular_performance/opt_vec_onnx_dnn|7|1024_iris_n_10000000_bs_64_run_1_intratc_8.json',\n",
       " '/u/antor/u13/ukumaras/Projects/mldb/eval/tabular_performance/opt_vec_onnx_dnn|1|128_iris_n_10000000_bs_2048_run_2_intratc_16.json',\n",
       " '/u/antor/u13/ukumaras/Projects/mldb/eval/tabular_performance/opt_vec_onnx_dnn|3|256_iris_n_10000000_bs_4096_run_1_intratc_16.json',\n",
       " '/u/antor/u13/ukumaras/Projects/mldb/eval/tabular_performance/opt_vec_onnx_dnn|3|256_iris_n_10000000_bs_2048_run_3_intratc_64.json',\n",
       " '/u/antor/u13/ukumaras/Projects/mldb/eval/tabular_performance/opt_vec_onnx_dnn|5|512_iris_n_10000000_bs_64_run_2_intratc_16.json',\n",
       " '/u/antor/u13/ukumaras/Projects/mldb/eval/tabular_performance/opt_vec_onnx_dnn|1|128_iris_n_10000000_bs_4096_run_2_intratc_8.json',\n",
       " '/u/antor/u13/ukumaras/Projects/mldb/eval/tabular_performance/opt_vec_onnx_dnn|1|128_iris_n_10000000_bs_1024_run_2_intratc_2.json',\n",
       " '/u/antor/u13/ukumaras/Projects/mldb/eval/tabular_performance/opt_vec_onnx_dnn|1|128_iris_n_10000000_bs_4096_run_1_intratc_8.json',\n",
       " '/u/antor/u13/ukumaras/Projects/mldb/eval/tabular_performance/opt_vec_onnx_dnn|3|256_iris_n_10000000_bs_512_run_2_intratc_2.json',\n",
       " '/u/antor/u13/ukumaras/Projects/mldb/eval/tabular_performance/opt_vec_onnx_dnn|1|128_iris_n_10000000_bs_128_run_1_intratc_2.json',\n",
       " '/u/antor/u13/ukumaras/Projects/mldb/eval/tabular_performance/opt_vec_onnx_dnn|1|128_iris_n_10000000_bs_1024_run_1_intratc_192.json',\n",
       " '/u/antor/u13/ukumaras/Projects/mldb/eval/tabular_performance/opt_vec_onnx_dnn|7|1024_iris_n_10000000_bs_64_run_2_intratc_128.json',\n",
       " '/u/antor/u13/ukumaras/Projects/mldb/eval/tabular_performance/opt_vec_onnx_dnn|1|128_iris_n_10000000_bs_128_run_3_intratc_8.json',\n",
       " '/u/antor/u13/ukumaras/Projects/mldb/eval/tabular_performance/opt_vec_onnx_dnn|1|128_iris_n_10000000_bs_2048_run_3_intratc_8.json',\n",
       " '/u/antor/u13/ukumaras/Projects/mldb/eval/tabular_performance/opt_vec_onnx_dnn|7|1024_iris_n_10000000_bs_64_run_2_intratc_1.json',\n",
       " '/u/antor/u13/ukumaras/Projects/mldb/eval/tabular_performance/opt_vec_onnx_dnn|7|1024_iris_n_10000000_bs_2048_run_1_intratc_64.json',\n",
       " '/u/antor/u13/ukumaras/Projects/mldb/eval/tabular_performance/opt_vec_onnx_dnn|1|128_iris_n_10000000_bs_4096_run_1_intratc_128.json',\n",
       " '/u/antor/u13/ukumaras/Projects/mldb/eval/tabular_performance/opt_vec_onnx_dnn|5|512_iris_n_10000000_bs_2048_run_2_intratc_192.json']"
      ]
     },
     "execution_count": 48,
     "metadata": {},
     "output_type": "execute_result"
    }
   ],
   "source": [
    "files = [f for f in files if 'intratc' in f]# and ('5|512' in f or '3|256' in f)]\n",
    "files"
   ]
  },
  {
   "cell_type": "code",
   "execution_count": 49,
   "id": "0d5a6dc7-f865-4cce-ae39-c183f22825fc",
   "metadata": {},
   "outputs": [
    {
     "data": {
      "text/html": [
       "<div>\n",
       "<style scoped>\n",
       "    .dataframe tbody tr th:only-of-type {\n",
       "        vertical-align: middle;\n",
       "    }\n",
       "\n",
       "    .dataframe tbody tr th {\n",
       "        vertical-align: top;\n",
       "    }\n",
       "\n",
       "    .dataframe thead th {\n",
       "        text-align: right;\n",
       "    }\n",
       "</style>\n",
       "<table border=\"1\" class=\"dataframe\">\n",
       "  <thead>\n",
       "    <tr style=\"text-align: right;\">\n",
       "      <th></th>\n",
       "      <th>n</th>\n",
       "      <th>bs</th>\n",
       "      <th>run</th>\n",
       "      <th>intratc</th>\n",
       "      <th>model</th>\n",
       "      <th>correct</th>\n",
       "      <th>load</th>\n",
       "      <th>move</th>\n",
       "      <th>move_rev</th>\n",
       "      <th>predict</th>\n",
       "      <th>total</th>\n",
       "      <th>total_time</th>\n",
       "      <th>acc</th>\n",
       "    </tr>\n",
       "  </thead>\n",
       "  <tbody>\n",
       "    <tr>\n",
       "      <th>0</th>\n",
       "      <td>10000000</td>\n",
       "      <td>256</td>\n",
       "      <td>3</td>\n",
       "      <td>2</td>\n",
       "      <td>|3|256</td>\n",
       "      <td>3333845</td>\n",
       "      <td>48425</td>\n",
       "      <td>706057</td>\n",
       "      <td>282172</td>\n",
       "      <td>30769982</td>\n",
       "      <td>10000000</td>\n",
       "      <td>31.806636</td>\n",
       "      <td>0.333384</td>\n",
       "    </tr>\n",
       "    <tr>\n",
       "      <th>1</th>\n",
       "      <td>10000000</td>\n",
       "      <td>1024</td>\n",
       "      <td>3</td>\n",
       "      <td>4</td>\n",
       "      <td>|5|512</td>\n",
       "      <td>3333670</td>\n",
       "      <td>59131</td>\n",
       "      <td>494581</td>\n",
       "      <td>204599</td>\n",
       "      <td>58155667</td>\n",
       "      <td>10000000</td>\n",
       "      <td>58.913978</td>\n",
       "      <td>0.333367</td>\n",
       "    </tr>\n",
       "    <tr>\n",
       "      <th>2</th>\n",
       "      <td>10000000</td>\n",
       "      <td>1024</td>\n",
       "      <td>2</td>\n",
       "      <td>192</td>\n",
       "      <td>|3|256</td>\n",
       "      <td>3333845</td>\n",
       "      <td>178014</td>\n",
       "      <td>533696</td>\n",
       "      <td>210307</td>\n",
       "      <td>18703356</td>\n",
       "      <td>10000000</td>\n",
       "      <td>19.625373</td>\n",
       "      <td>0.333384</td>\n",
       "    </tr>\n",
       "    <tr>\n",
       "      <th>3</th>\n",
       "      <td>10000000</td>\n",
       "      <td>1024</td>\n",
       "      <td>2</td>\n",
       "      <td>8</td>\n",
       "      <td>|1|128</td>\n",
       "      <td>3333362</td>\n",
       "      <td>43605</td>\n",
       "      <td>446204</td>\n",
       "      <td>151943</td>\n",
       "      <td>6264319</td>\n",
       "      <td>10000000</td>\n",
       "      <td>6.906071</td>\n",
       "      <td>0.333336</td>\n",
       "    </tr>\n",
       "    <tr>\n",
       "      <th>4</th>\n",
       "      <td>10000000</td>\n",
       "      <td>1024</td>\n",
       "      <td>1</td>\n",
       "      <td>192</td>\n",
       "      <td>|7|1024</td>\n",
       "      <td>3335908</td>\n",
       "      <td>386829</td>\n",
       "      <td>614774</td>\n",
       "      <td>340164</td>\n",
       "      <td>410109627</td>\n",
       "      <td>10000000</td>\n",
       "      <td>411.451394</td>\n",
       "      <td>0.333591</td>\n",
       "    </tr>\n",
       "    <tr>\n",
       "      <th>...</th>\n",
       "      <td>...</td>\n",
       "      <td>...</td>\n",
       "      <td>...</td>\n",
       "      <td>...</td>\n",
       "      <td>...</td>\n",
       "      <td>...</td>\n",
       "      <td>...</td>\n",
       "      <td>...</td>\n",
       "      <td>...</td>\n",
       "      <td>...</td>\n",
       "      <td>...</td>\n",
       "      <td>...</td>\n",
       "      <td>...</td>\n",
       "    </tr>\n",
       "    <tr>\n",
       "      <th>652</th>\n",
       "      <td>10000000</td>\n",
       "      <td>2048</td>\n",
       "      <td>3</td>\n",
       "      <td>8</td>\n",
       "      <td>|1|128</td>\n",
       "      <td>3333362</td>\n",
       "      <td>46509</td>\n",
       "      <td>391798</td>\n",
       "      <td>144370</td>\n",
       "      <td>3136435</td>\n",
       "      <td>10000000</td>\n",
       "      <td>3.719112</td>\n",
       "      <td>0.333336</td>\n",
       "    </tr>\n",
       "    <tr>\n",
       "      <th>653</th>\n",
       "      <td>10000000</td>\n",
       "      <td>64</td>\n",
       "      <td>2</td>\n",
       "      <td>1</td>\n",
       "      <td>|7|1024</td>\n",
       "      <td>3335908</td>\n",
       "      <td>109913</td>\n",
       "      <td>2133288</td>\n",
       "      <td>1107154</td>\n",
       "      <td>2028877915</td>\n",
       "      <td>10000000</td>\n",
       "      <td>2032.228270</td>\n",
       "      <td>0.333591</td>\n",
       "    </tr>\n",
       "    <tr>\n",
       "      <th>654</th>\n",
       "      <td>10000000</td>\n",
       "      <td>2048</td>\n",
       "      <td>1</td>\n",
       "      <td>64</td>\n",
       "      <td>|7|1024</td>\n",
       "      <td>3335908</td>\n",
       "      <td>255196</td>\n",
       "      <td>620165</td>\n",
       "      <td>269610</td>\n",
       "      <td>515714592</td>\n",
       "      <td>10000000</td>\n",
       "      <td>516.859563</td>\n",
       "      <td>0.333591</td>\n",
       "    </tr>\n",
       "    <tr>\n",
       "      <th>655</th>\n",
       "      <td>10000000</td>\n",
       "      <td>4096</td>\n",
       "      <td>1</td>\n",
       "      <td>128</td>\n",
       "      <td>|1|128</td>\n",
       "      <td>3333362</td>\n",
       "      <td>129970</td>\n",
       "      <td>318576</td>\n",
       "      <td>133548</td>\n",
       "      <td>3367645</td>\n",
       "      <td>10000000</td>\n",
       "      <td>3.949739</td>\n",
       "      <td>0.333336</td>\n",
       "    </tr>\n",
       "    <tr>\n",
       "      <th>656</th>\n",
       "      <td>10000000</td>\n",
       "      <td>2048</td>\n",
       "      <td>2</td>\n",
       "      <td>192</td>\n",
       "      <td>|5|512</td>\n",
       "      <td>3333670</td>\n",
       "      <td>192173</td>\n",
       "      <td>477924</td>\n",
       "      <td>230572</td>\n",
       "      <td>53042797</td>\n",
       "      <td>10000000</td>\n",
       "      <td>53.943466</td>\n",
       "      <td>0.333367</td>\n",
       "    </tr>\n",
       "  </tbody>\n",
       "</table>\n",
       "<p>657 rows × 13 columns</p>\n",
       "</div>"
      ],
      "text/plain": [
       "            n    bs  run  intratc    model  correct    load     move  \\\n",
       "0    10000000   256    3        2   |3|256  3333845   48425   706057   \n",
       "1    10000000  1024    3        4   |5|512  3333670   59131   494581   \n",
       "2    10000000  1024    2      192   |3|256  3333845  178014   533696   \n",
       "3    10000000  1024    2        8   |1|128  3333362   43605   446204   \n",
       "4    10000000  1024    1      192  |7|1024  3335908  386829   614774   \n",
       "..        ...   ...  ...      ...      ...      ...     ...      ...   \n",
       "652  10000000  2048    3        8   |1|128  3333362   46509   391798   \n",
       "653  10000000    64    2        1  |7|1024  3335908  109913  2133288   \n",
       "654  10000000  2048    1       64  |7|1024  3335908  255196   620165   \n",
       "655  10000000  4096    1      128   |1|128  3333362  129970   318576   \n",
       "656  10000000  2048    2      192   |5|512  3333670  192173   477924   \n",
       "\n",
       "     move_rev     predict     total   total_time       acc  \n",
       "0      282172    30769982  10000000    31.806636  0.333384  \n",
       "1      204599    58155667  10000000    58.913978  0.333367  \n",
       "2      210307    18703356  10000000    19.625373  0.333384  \n",
       "3      151943     6264319  10000000     6.906071  0.333336  \n",
       "4      340164   410109627  10000000   411.451394  0.333591  \n",
       "..        ...         ...       ...          ...       ...  \n",
       "652    144370     3136435  10000000     3.719112  0.333336  \n",
       "653   1107154  2028877915  10000000  2032.228270  0.333591  \n",
       "654    269610   515714592  10000000   516.859563  0.333591  \n",
       "655    133548     3367645  10000000     3.949739  0.333336  \n",
       "656    230572    53042797  10000000    53.943466  0.333367  \n",
       "\n",
       "[657 rows x 13 columns]"
      ]
     },
     "execution_count": 49,
     "metadata": {},
     "output_type": "execute_result"
    }
   ],
   "source": [
    "results = []\n",
    "\n",
    "for file in files:\n",
    "    with open(file, \"r\") as f:\n",
    "        name = file.split(\"/\")[-1].split(\".\")[0]\n",
    "        meta_raw = name.split(\"_iris_\")[1].split(\"_\")\n",
    "        keys = meta_raw[0::2]\n",
    "        values = meta_raw[1::2]\n",
    "\n",
    "        meta = {k: int(v) for k, v in zip(keys, values)}\n",
    "        model = name.split('dnn')[1].split(\"_\")[0]\n",
    "        model = \"|1|128\" if (model == \"\") else model\n",
    "        meta['model'] = model\n",
    "        \n",
    "        content = json.loads(f.read())\n",
    "        prediction = content['children'][0]['children'][0]\n",
    "        pred_info = prediction['extra_info'].split('|')[1:]\n",
    "        total = 0\n",
    "        for i in pred_info:\n",
    "            kv = i.split(\":\")\n",
    "            if (kv[0] in ['load', 'move', 'predict', 'move_rev']):\n",
    "                total += int(kv[1])\n",
    "            meta[kv[0]] = int(kv[1])\n",
    "        meta['total_time'] = total / (1000 * 1000)\n",
    "        meta['acc'] = float(meta['correct']) / meta['total']\n",
    "        results.append(meta)\n",
    "\n",
    "results = pd.DataFrame(results)\n",
    "results"
   ]
  },
  {
   "cell_type": "markdown",
   "id": "5ecb3b95-7c49-4447-a94e-98c4ab6e1c9b",
   "metadata": {},
   "source": [
    "## Batch Size vs Intra Thread Count"
   ]
  },
  {
   "cell_type": "code",
   "execution_count": 50,
   "id": "503e2807",
   "metadata": {},
   "outputs": [],
   "source": [
    "out = results\n",
    "out = out.loc[:, ['bs', 'intratc', 'model', 'total_time']]#.groupby(['bs', 'intratc', 'model']).mean().reset_index()\n",
    "\n",
    "model_map = {\n",
    "    '|1|128': \"Small (hidden layers: 1, dimention: 128)\",\n",
    "    '|3|256': \"Medium (hidden layers: 3, dimention: 256)\",\n",
    "    '|5|512': \"Large (hidden layers: 5, dimention: 512)\",\n",
    "    '|7|1024': \"Very Large (hidden layers: 7, dimention: 1024)\",\n",
    "}\n",
    "out['model'] = out['model'].apply(lambda x: model_map[x])"
   ]
  },
  {
   "cell_type": "code",
   "execution_count": 52,
   "id": "006ca17b",
   "metadata": {},
   "outputs": [
    {
     "data": {
      "image/png": "[encoded data removed]",
      "text/plain": [
       "<Figure size 640x480 with 2 Axes>"
      ]
     },
     "metadata": {},
     "output_type": "display_data"
    },
    {
     "name": "stdout",
     "output_type": "stream",
     "text": [
      "Index([64, 128, 256, 512, 1024, 2048, 4096], dtype='int64', name='bs')\n"
     ]
    },
    {
     "data": {
      "application/vnd.plotly.v1+json": {
       "config": {
        "plotlyServerURL": "https://plot.ly"
       },
       "data": [
        {
         "type": "contour",
         "x": [
          1,
          2,
          4,
          8,
          16,
          32,
          64,
          128,
          192
         ],
         "y": [
          64,
          128,
          256,
          512,
          1024,
          2048,
          4096
         ],
         "z": [
          [
           30.331633,
           30.647503999999998,
           31.345888666666667,
           32.146192,
           43.56453066666666,
           38.217483666666666,
           39.19357,
           35.62508966666667,
           38.91327533333333
          ],
          [
           27.126132333333334,
           30.543850333333335,
           31.76790733333333,
           26.038361,
           29.858593666666664,
           27.652756999999998,
           32.077886,
           33.598349,
           31.882197333333334
          ],
          [
           27.1621,
           27.103371999999997,
           21.526109666666667,
           22.495979666666667,
           20.106617333333332,
           22.697104999999997,
           27.33091566666667,
           21.392199,
           22.058350666666666
          ],
          [
           30.745656999999998,
           22.045592,
           17.438246333333336,
           18.697342333333335,
           19.946663333333333,
           19.056775000000002,
           16.571479333333333,
           18.410011333333333,
           17.230131333333333
          ],
          [
           27.271773,
           22.675478,
           16.14436733333333,
           15.333788333333333,
           16.069779,
           16.012739333333332,
           15.081439000000001,
           16.324680333333333,
           16.742311666666666
          ],
          [
           29.560368333333333,
           20.494615666666665,
           15.846962666666665,
           15.551513666666667,
           16.337410666666667,
           16.447228666666664,
           17.305138666666668,
           17.186716999999998,
           17.401070666666666
          ],
          [
           33.12479633333333,
           21.34091666666667,
           16.021429,
           12.475701666666666,
           14.782683,
           17.08671,
           18.834175,
           19.079672333333335,
           17.552244
          ]
         ]
        }
       ],
       "layout": {
        "template": {
         "data": {
          "bar": [
           {
            "error_x": {
             "color": "#2a3f5f"
            },
            "error_y": {
             "color": "#2a3f5f"
            },
            "marker": {
             "line": {
              "color": "#E5ECF6",
              "width": 0.5
             },
             "pattern": {
              "fillmode": "overlay",
              "size": 10,
              "solidity": 0.2
             }
            },
            "type": "bar"
           }
          ],
          "barpolar": [
           {
            "marker": {
             "line": {
              "color": "#E5ECF6",
              "width": 0.5
             },
             "pattern": {
              "fillmode": "overlay",
              "size": 10,
              "solidity": 0.2
             }
            },
            "type": "barpolar"
           }
          ],
          "carpet": [
           {
            "aaxis": {
             "endlinecolor": "#2a3f5f",
             "gridcolor": "white",
             "linecolor": "white",
             "minorgridcolor": "white",
             "startlinecolor": "#2a3f5f"
            },
            "baxis": {
             "endlinecolor": "#2a3f5f",
             "gridcolor": "white",
             "linecolor": "white",
             "minorgridcolor": "white",
             "startlinecolor": "#2a3f5f"
            },
            "type": "carpet"
           }
          ],
          "choropleth": [
           {
            "colorbar": {
             "outlinewidth": 0,
             "ticks": ""
            },
            "type": "choropleth"
           }
          ],
          "contour": [
           {
            "colorbar": {
             "outlinewidth": 0,
             "ticks": ""
            },
            "colorscale": [
             [
              0,
              "#0d0887"
             ],
             [
              0.1111111111111111,
              "#46039f"
             ],
             [
              0.2222222222222222,
              "#7201a8"
             ],
             [
              0.3333333333333333,
              "#9c179e"
             ],
             [
              0.4444444444444444,
              "#bd3786"
             ],
             [
              0.5555555555555556,
              "#d8576b"
             ],
             [
              0.6666666666666666,
              "#ed7953"
             ],
             [
              0.7777777777777778,
              "#fb9f3a"
             ],
             [
              0.8888888888888888,
              "#fdca26"
             ],
             [
              1,
              "#f0f921"
             ]
            ],
            "type": "contour"
           }
          ],
          "contourcarpet": [
           {
            "colorbar": {
             "outlinewidth": 0,
             "ticks": ""
            },
            "type": "contourcarpet"
           }
          ],
          "heatmap": [
           {
            "colorbar": {
             "outlinewidth": 0,
             "ticks": ""
            },
            "colorscale": [
             [
              0,
              "#0d0887"
             ],
             [
              0.1111111111111111,
              "#46039f"
             ],
             [
              0.2222222222222222,
              "#7201a8"
             ],
             [
              0.3333333333333333,
              "#9c179e"
             ],
             [
              0.4444444444444444,
              "#bd3786"
             ],
             [
              0.5555555555555556,
              "#d8576b"
             ],
             [
              0.6666666666666666,
              "#ed7953"
             ],
             [
              0.7777777777777778,
              "#fb9f3a"
             ],
             [
              0.8888888888888888,
              "#fdca26"
             ],
             [
              1,
              "#f0f921"
             ]
            ],
            "type": "heatmap"
           }
          ],
          "heatmapgl": [
           {
            "colorbar": {
             "outlinewidth": 0,
             "ticks": ""
            },
            "colorscale": [
             [
              0,
              "#0d0887"
             ],
             [
              0.1111111111111111,
              "#46039f"
             ],
             [
              0.2222222222222222,
              "#7201a8"
             ],
             [
              0.3333333333333333,
              "#9c179e"
             ],
             [
              0.4444444444444444,
              "#bd3786"
             ],
             [
              0.5555555555555556,
              "#d8576b"
             ],
             [
              0.6666666666666666,
              "#ed7953"
             ],
             [
              0.7777777777777778,
              "#fb9f3a"
             ],
             [
              0.8888888888888888,
              "#fdca26"
             ],
             [
              1,
              "#f0f921"
             ]
            ],
            "type": "heatmapgl"
           }
          ],
          "histogram": [
           {
            "marker": {
             "pattern": {
              "fillmode": "overlay",
              "size": 10,
              "solidity": 0.2
             }
            },
            "type": "histogram"
           }
          ],
          "histogram2d": [
           {
            "colorbar": {
             "outlinewidth": 0,
             "ticks": ""
            },
            "colorscale": [
             [
              0,
              "#0d0887"
             ],
             [
              0.1111111111111111,
              "#46039f"
             ],
             [
              0.2222222222222222,
              "#7201a8"
             ],
             [
              0.3333333333333333,
              "#9c179e"
             ],
             [
              0.4444444444444444,
              "#bd3786"
             ],
             [
              0.5555555555555556,
              "#d8576b"
             ],
             [
              0.6666666666666666,
              "#ed7953"
             ],
             [
              0.7777777777777778,
              "#fb9f3a"
             ],
             [
              0.8888888888888888,
              "#fdca26"
             ],
             [
              1,
              "#f0f921"
             ]
            ],
            "type": "histogram2d"
           }
          ],
          "histogram2dcontour": [
           {
            "colorbar": {
             "outlinewidth": 0,
             "ticks": ""
            },
            "colorscale": [
             [
              0,
              "#0d0887"
             ],
             [
              0.1111111111111111,
              "#46039f"
             ],
             [
              0.2222222222222222,
              "#7201a8"
             ],
             [
              0.3333333333333333,
              "#9c179e"
             ],
             [
              0.4444444444444444,
              "#bd3786"
             ],
             [
              0.5555555555555556,
              "#d8576b"
             ],
             [
              0.6666666666666666,
              "#ed7953"
             ],
             [
              0.7777777777777778,
              "#fb9f3a"
             ],
             [
              0.8888888888888888,
              "#fdca26"
             ],
             [
              1,
              "#f0f921"
             ]
            ],
            "type": "histogram2dcontour"
           }
          ],
          "mesh3d": [
           {
            "colorbar": {
             "outlinewidth": 0,
             "ticks": ""
            },
            "type": "mesh3d"
           }
          ],
          "parcoords": [
           {
            "line": {
             "colorbar": {
              "outlinewidth": 0,
              "ticks": ""
             }
            },
            "type": "parcoords"
           }
          ],
          "pie": [
           {
            "automargin": true,
            "type": "pie"
           }
          ],
          "scatter": [
           {
            "fillpattern": {
             "fillmode": "overlay",
             "size": 10,
             "solidity": 0.2
            },
            "type": "scatter"
           }
          ],
          "scatter3d": [
           {
            "line": {
             "colorbar": {
              "outlinewidth": 0,
              "ticks": ""
             }
            },
            "marker": {
             "colorbar": {
              "outlinewidth": 0,
              "ticks": ""
             }
            },
            "type": "scatter3d"
           }
          ],
          "scattercarpet": [
           {
            "marker": {
             "colorbar": {
              "outlinewidth": 0,
              "ticks": ""
             }
            },
            "type": "scattercarpet"
           }
          ],
          "scattergeo": [
           {
            "marker": {
             "colorbar": {
              "outlinewidth": 0,
              "ticks": ""
             }
            },
            "type": "scattergeo"
           }
          ],
          "scattergl": [
           {
            "marker": {
             "colorbar": {
              "outlinewidth": 0,
              "ticks": ""
             }
            },
            "type": "scattergl"
           }
          ],
          "scattermapbox": [
           {
            "marker": {
             "colorbar": {
              "outlinewidth": 0,
              "ticks": ""
             }
            },
            "type": "scattermapbox"
           }
          ],
          "scatterpolar": [
           {
            "marker": {
             "colorbar": {
              "outlinewidth": 0,
              "ticks": ""
             }
            },
            "type": "scatterpolar"
           }
          ],
          "scatterpolargl": [
           {
            "marker": {
             "colorbar": {
              "outlinewidth": 0,
              "ticks": ""
             }
            },
            "type": "scatterpolargl"
           }
          ],
          "scatterternary": [
           {
            "marker": {
             "colorbar": {
              "outlinewidth": 0,
              "ticks": ""
             }
            },
            "type": "scatterternary"
           }
          ],
          "surface": [
           {
            "colorbar": {
             "outlinewidth": 0,
             "ticks": ""
            },
            "colorscale": [
             [
              0,
              "#0d0887"
             ],
             [
              0.1111111111111111,
              "#46039f"
             ],
             [
              0.2222222222222222,
              "#7201a8"
             ],
             [
              0.3333333333333333,
              "#9c179e"
             ],
             [
              0.4444444444444444,
              "#bd3786"
             ],
             [
              0.5555555555555556,
              "#d8576b"
             ],
             [
              0.6666666666666666,
              "#ed7953"
             ],
             [
              0.7777777777777778,
              "#fb9f3a"
             ],
             [
              0.8888888888888888,
              "#fdca26"
             ],
             [
              1,
              "#f0f921"
             ]
            ],
            "type": "surface"
           }
          ],
          "table": [
           {
            "cells": {
             "fill": {
              "color": "#EBF0F8"
             },
             "line": {
              "color": "white"
             }
            },
            "header": {
             "fill": {
              "color": "#C8D4E3"
             },
             "line": {
              "color": "white"
             }
            },
            "type": "table"
           }
          ]
         },
         "layout": {
          "annotationdefaults": {
           "arrowcolor": "#2a3f5f",
           "arrowhead": 0,
           "arrowwidth": 1
          },
          "autotypenumbers": "strict",
          "coloraxis": {
           "colorbar": {
            "outlinewidth": 0,
            "ticks": ""
           }
          },
          "colorscale": {
           "diverging": [
            [
             0,
             "#8e0152"
            ],
            [
             0.1,
             "#c51b7d"
            ],
            [
             0.2,
             "#de77ae"
            ],
            [
             0.3,
             "#f1b6da"
            ],
            [
             0.4,
             "#fde0ef"
            ],
            [
             0.5,
             "#f7f7f7"
            ],
            [
             0.6,
             "#e6f5d0"
            ],
            [
             0.7,
             "#b8e186"
            ],
            [
             0.8,
             "#7fbc41"
            ],
            [
             0.9,
             "#4d9221"
            ],
            [
             1,
             "#276419"
            ]
           ],
           "sequential": [
            [
             0,
             "#0d0887"
            ],
            [
             0.1111111111111111,
             "#46039f"
            ],
            [
             0.2222222222222222,
             "#7201a8"
            ],
            [
             0.3333333333333333,
             "#9c179e"
            ],
            [
             0.4444444444444444,
             "#bd3786"
            ],
            [
             0.5555555555555556,
             "#d8576b"
            ],
            [
             0.6666666666666666,
             "#ed7953"
            ],
            [
             0.7777777777777778,
             "#fb9f3a"
            ],
            [
             0.8888888888888888,
             "#fdca26"
            ],
            [
             1,
             "#f0f921"
            ]
           ],
           "sequentialminus": [
            [
             0,
             "#0d0887"
            ],
            [
             0.1111111111111111,
             "#46039f"
            ],
            [
             0.2222222222222222,
             "#7201a8"
            ],
            [
             0.3333333333333333,
             "#9c179e"
            ],
            [
             0.4444444444444444,
             "#bd3786"
            ],
            [
             0.5555555555555556,
             "#d8576b"
            ],
            [
             0.6666666666666666,
             "#ed7953"
            ],
            [
             0.7777777777777778,
             "#fb9f3a"
            ],
            [
             0.8888888888888888,
             "#fdca26"
            ],
            [
             1,
             "#f0f921"
            ]
           ]
          },
          "colorway": [
           "#636efa",
           "#EF553B",
           "#00cc96",
           "#ab63fa",
           "#FFA15A",
           "#19d3f3",
           "#FF6692",
           "#B6E880",
           "#FF97FF",
           "#FECB52"
          ],
          "font": {
           "color": "#2a3f5f"
          },
          "geo": {
           "bgcolor": "white",
           "lakecolor": "white",
           "landcolor": "#E5ECF6",
           "showlakes": true,
           "showland": true,
           "subunitcolor": "white"
          },
          "hoverlabel": {
           "align": "left"
          },
          "hovermode": "closest",
          "mapbox": {
           "style": "light"
          },
          "paper_bgcolor": "white",
          "plot_bgcolor": "#E5ECF6",
          "polar": {
           "angularaxis": {
            "gridcolor": "white",
            "linecolor": "white",
            "ticks": ""
           },
           "bgcolor": "#E5ECF6",
           "radialaxis": {
            "gridcolor": "white",
            "linecolor": "white",
            "ticks": ""
           }
          },
          "scene": {
           "xaxis": {
            "backgroundcolor": "#E5ECF6",
            "gridcolor": "white",
            "gridwidth": 2,
            "linecolor": "white",
            "showbackground": true,
            "ticks": "",
            "zerolinecolor": "white"
           },
           "yaxis": {
            "backgroundcolor": "#E5ECF6",
            "gridcolor": "white",
            "gridwidth": 2,
            "linecolor": "white",
            "showbackground": true,
            "ticks": "",
            "zerolinecolor": "white"
           },
           "zaxis": {
            "backgroundcolor": "#E5ECF6",
            "gridcolor": "white",
            "gridwidth": 2,
            "linecolor": "white",
            "showbackground": true,
            "ticks": "",
            "zerolinecolor": "white"
           }
          },
          "shapedefaults": {
           "line": {
            "color": "#2a3f5f"
           }
          },
          "ternary": {
           "aaxis": {
            "gridcolor": "white",
            "linecolor": "white",
            "ticks": ""
           },
           "baxis": {
            "gridcolor": "white",
            "linecolor": "white",
            "ticks": ""
           },
           "bgcolor": "#E5ECF6",
           "caxis": {
            "gridcolor": "white",
            "linecolor": "white",
            "ticks": ""
           }
          },
          "title": {
           "x": 0.05
          },
          "xaxis": {
           "automargin": true,
           "gridcolor": "white",
           "linecolor": "white",
           "ticks": "",
           "title": {
            "standoff": 15
           },
           "zerolinecolor": "white",
           "zerolinewidth": 2
          },
          "yaxis": {
           "automargin": true,
           "gridcolor": "white",
           "linecolor": "white",
           "ticks": "",
           "title": {
            "standoff": 15
           },
           "zerolinecolor": "white",
           "zerolinewidth": 2
          }
         }
        },
        "xaxis": {
         "type": "log"
        },
        "yaxis": {
         "type": "log"
        }
       }
      },
      "text/html": [
       "<div>                            <div id=\"80df46f4-ea2d-4aaf-b8cd-c394b2683ca1\" class=\"plotly-graph-div\" style=\"height:525px; width:100%;\"></div>            <script type=\"text/javascript\">                require([\"plotly\"], function(Plotly) {                    window.PLOTLYENV=window.PLOTLYENV || {};                                    if (document.getElementById(\"80df46f4-ea2d-4aaf-b8cd-c394b2683ca1\")) {                    Plotly.newPlot(                        \"80df46f4-ea2d-4aaf-b8cd-c394b2683ca1\",                        [{\"x\":[1,2,4,8,16,32,64,128,192],\"y\":[64,128,256,512,1024,2048,4096],\"z\":[[30.331633,30.647503999999998,31.345888666666667,32.146192,43.56453066666666,38.217483666666666,39.19357,35.62508966666667,38.91327533333333],[27.126132333333334,30.543850333333335,31.76790733333333,26.038361,29.858593666666664,27.652756999999998,32.077886,33.598349,31.882197333333334],[27.1621,27.103371999999997,21.526109666666667,22.495979666666667,20.106617333333332,22.697104999999997,27.33091566666667,21.392199,22.058350666666666],[30.745656999999998,22.045592,17.438246333333336,18.697342333333335,19.946663333333333,19.056775000000002,16.571479333333333,18.410011333333333,17.230131333333333],[27.271773,22.675478,16.14436733333333,15.333788333333333,16.069779,16.012739333333332,15.081439000000001,16.324680333333333,16.742311666666666],[29.560368333333333,20.494615666666665,15.846962666666665,15.551513666666667,16.337410666666667,16.447228666666664,17.305138666666668,17.186716999999998,17.401070666666666],[33.12479633333333,21.34091666666667,16.021429,12.475701666666666,14.782683,17.08671,18.834175,19.079672333333335,17.552244]],\"type\":\"contour\"}],                        {\"template\":{\"data\":{\"histogram2dcontour\":[{\"type\":\"histogram2dcontour\",\"colorbar\":{\"outlinewidth\":0,\"ticks\":\"\"},\"colorscale\":[[0.0,\"#0d0887\"],[0.1111111111111111,\"#46039f\"],[0.2222222222222222,\"#7201a8\"],[0.3333333333333333,\"#9c179e\"],[0.4444444444444444,\"#bd3786\"],[0.5555555555555556,\"#d8576b\"],[0.6666666666666666,\"#ed7953\"],[0.7777777777777778,\"#fb9f3a\"],[0.8888888888888888,\"#fdca26\"],[1.0,\"#f0f921\"]]}],\"choropleth\":[{\"type\":\"choropleth\",\"colorbar\":{\"outlinewidth\":0,\"ticks\":\"\"}}],\"histogram2d\":[{\"type\":\"histogram2d\",\"colorbar\":{\"outlinewidth\":0,\"ticks\":\"\"},\"colorscale\":[[0.0,\"#0d0887\"],[0.1111111111111111,\"#46039f\"],[0.2222222222222222,\"#7201a8\"],[0.3333333333333333,\"#9c179e\"],[0.4444444444444444,\"#bd3786\"],[0.5555555555555556,\"#d8576b\"],[0.6666666666666666,\"#ed7953\"],[0.7777777777777778,\"#fb9f3a\"],[0.8888888888888888,\"#fdca26\"],[1.0,\"#f0f921\"]]}],\"heatmap\":[{\"type\":\"heatmap\",\"colorbar\":{\"outlinewidth\":0,\"ticks\":\"\"},\"colorscale\":[[0.0,\"#0d0887\"],[0.1111111111111111,\"#46039f\"],[0.2222222222222222,\"#7201a8\"],[0.3333333333333333,\"#9c179e\"],[0.4444444444444444,\"#bd3786\"],[0.5555555555555556,\"#d8576b\"],[0.6666666666666666,\"#ed7953\"],[0.7777777777777778,\"#fb9f3a\"],[0.8888888888888888,\"#fdca26\"],[1.0,\"#f0f921\"]]}],\"heatmapgl\":[{\"type\":\"heatmapgl\",\"colorbar\":{\"outlinewidth\":0,\"ticks\":\"\"},\"colorscale\":[[0.0,\"#0d0887\"],[0.1111111111111111,\"#46039f\"],[0.2222222222222222,\"#7201a8\"],[0.3333333333333333,\"#9c179e\"],[0.4444444444444444,\"#bd3786\"],[0.5555555555555556,\"#d8576b\"],[0.6666666666666666,\"#ed7953\"],[0.7777777777777778,\"#fb9f3a\"],[0.8888888888888888,\"#fdca26\"],[1.0,\"#f0f921\"]]}],\"contourcarpet\":[{\"type\":\"contourcarpet\",\"colorbar\":{\"outlinewidth\":0,\"ticks\":\"\"}}],\"contour\":[{\"type\":\"contour\",\"colorbar\":{\"outlinewidth\":0,\"ticks\":\"\"},\"colorscale\":[[0.0,\"#0d0887\"],[0.1111111111111111,\"#46039f\"],[0.2222222222222222,\"#7201a8\"],[0.3333333333333333,\"#9c179e\"],[0.4444444444444444,\"#bd3786\"],[0.5555555555555556,\"#d8576b\"],[0.6666666666666666,\"#ed7953\"],[0.7777777777777778,\"#fb9f3a\"],[0.8888888888888888,\"#fdca26\"],[1.0,\"#f0f921\"]]}],\"surface\":[{\"type\":\"surface\",\"colorbar\":{\"outlinewidth\":0,\"ticks\":\"\"},\"colorscale\":[[0.0,\"#0d0887\"],[0.1111111111111111,\"#46039f\"],[0.2222222222222222,\"#7201a8\"],[0.3333333333333333,\"#9c179e\"],[0.4444444444444444,\"#bd3786\"],[0.5555555555555556,\"#d8576b\"],[0.6666666666666666,\"#ed7953\"],[0.7777777777777778,\"#fb9f3a\"],[0.8888888888888888,\"#fdca26\"],[1.0,\"#f0f921\"]]}],\"mesh3d\":[{\"type\":\"mesh3d\",\"colorbar\":{\"outlinewidth\":0,\"ticks\":\"\"}}],\"scatter\":[{\"fillpattern\":{\"fillmode\":\"overlay\",\"size\":10,\"solidity\":0.2},\"type\":\"scatter\"}],\"parcoords\":[{\"type\":\"parcoords\",\"line\":{\"colorbar\":{\"outlinewidth\":0,\"ticks\":\"\"}}}],\"scatterpolargl\":[{\"type\":\"scatterpolargl\",\"marker\":{\"colorbar\":{\"outlinewidth\":0,\"ticks\":\"\"}}}],\"bar\":[{\"error_x\":{\"color\":\"#2a3f5f\"},\"error_y\":{\"color\":\"#2a3f5f\"},\"marker\":{\"line\":{\"color\":\"#E5ECF6\",\"width\":0.5},\"pattern\":{\"fillmode\":\"overlay\",\"size\":10,\"solidity\":0.2}},\"type\":\"bar\"}],\"scattergeo\":[{\"type\":\"scattergeo\",\"marker\":{\"colorbar\":{\"outlinewidth\":0,\"ticks\":\"\"}}}],\"scatterpolar\":[{\"type\":\"scatterpolar\",\"marker\":{\"colorbar\":{\"outlinewidth\":0,\"ticks\":\"\"}}}],\"histogram\":[{\"marker\":{\"pattern\":{\"fillmode\":\"overlay\",\"size\":10,\"solidity\":0.2}},\"type\":\"histogram\"}],\"scattergl\":[{\"type\":\"scattergl\",\"marker\":{\"colorbar\":{\"outlinewidth\":0,\"ticks\":\"\"}}}],\"scatter3d\":[{\"type\":\"scatter3d\",\"line\":{\"colorbar\":{\"outlinewidth\":0,\"ticks\":\"\"}},\"marker\":{\"colorbar\":{\"outlinewidth\":0,\"ticks\":\"\"}}}],\"scattermapbox\":[{\"type\":\"scattermapbox\",\"marker\":{\"colorbar\":{\"outlinewidth\":0,\"ticks\":\"\"}}}],\"scatterternary\":[{\"type\":\"scatterternary\",\"marker\":{\"colorbar\":{\"outlinewidth\":0,\"ticks\":\"\"}}}],\"scattercarpet\":[{\"type\":\"scattercarpet\",\"marker\":{\"colorbar\":{\"outlinewidth\":0,\"ticks\":\"\"}}}],\"carpet\":[{\"aaxis\":{\"endlinecolor\":\"#2a3f5f\",\"gridcolor\":\"white\",\"linecolor\":\"white\",\"minorgridcolor\":\"white\",\"startlinecolor\":\"#2a3f5f\"},\"baxis\":{\"endlinecolor\":\"#2a3f5f\",\"gridcolor\":\"white\",\"linecolor\":\"white\",\"minorgridcolor\":\"white\",\"startlinecolor\":\"#2a3f5f\"},\"type\":\"carpet\"}],\"table\":[{\"cells\":{\"fill\":{\"color\":\"#EBF0F8\"},\"line\":{\"color\":\"white\"}},\"header\":{\"fill\":{\"color\":\"#C8D4E3\"},\"line\":{\"color\":\"white\"}},\"type\":\"table\"}],\"barpolar\":[{\"marker\":{\"line\":{\"color\":\"#E5ECF6\",\"width\":0.5},\"pattern\":{\"fillmode\":\"overlay\",\"size\":10,\"solidity\":0.2}},\"type\":\"barpolar\"}],\"pie\":[{\"automargin\":true,\"type\":\"pie\"}]},\"layout\":{\"autotypenumbers\":\"strict\",\"colorway\":[\"#636efa\",\"#EF553B\",\"#00cc96\",\"#ab63fa\",\"#FFA15A\",\"#19d3f3\",\"#FF6692\",\"#B6E880\",\"#FF97FF\",\"#FECB52\"],\"font\":{\"color\":\"#2a3f5f\"},\"hovermode\":\"closest\",\"hoverlabel\":{\"align\":\"left\"},\"paper_bgcolor\":\"white\",\"plot_bgcolor\":\"#E5ECF6\",\"polar\":{\"bgcolor\":\"#E5ECF6\",\"angularaxis\":{\"gridcolor\":\"white\",\"linecolor\":\"white\",\"ticks\":\"\"},\"radialaxis\":{\"gridcolor\":\"white\",\"linecolor\":\"white\",\"ticks\":\"\"}},\"ternary\":{\"bgcolor\":\"#E5ECF6\",\"aaxis\":{\"gridcolor\":\"white\",\"linecolor\":\"white\",\"ticks\":\"\"},\"baxis\":{\"gridcolor\":\"white\",\"linecolor\":\"white\",\"ticks\":\"\"},\"caxis\":{\"gridcolor\":\"white\",\"linecolor\":\"white\",\"ticks\":\"\"}},\"coloraxis\":{\"colorbar\":{\"outlinewidth\":0,\"ticks\":\"\"}},\"colorscale\":{\"sequential\":[[0.0,\"#0d0887\"],[0.1111111111111111,\"#46039f\"],[0.2222222222222222,\"#7201a8\"],[0.3333333333333333,\"#9c179e\"],[0.4444444444444444,\"#bd3786\"],[0.5555555555555556,\"#d8576b\"],[0.6666666666666666,\"#ed7953\"],[0.7777777777777778,\"#fb9f3a\"],[0.8888888888888888,\"#fdca26\"],[1.0,\"#f0f921\"]],\"sequentialminus\":[[0.0,\"#0d0887\"],[0.1111111111111111,\"#46039f\"],[0.2222222222222222,\"#7201a8\"],[0.3333333333333333,\"#9c179e\"],[0.4444444444444444,\"#bd3786\"],[0.5555555555555556,\"#d8576b\"],[0.6666666666666666,\"#ed7953\"],[0.7777777777777778,\"#fb9f3a\"],[0.8888888888888888,\"#fdca26\"],[1.0,\"#f0f921\"]],\"diverging\":[[0,\"#8e0152\"],[0.1,\"#c51b7d\"],[0.2,\"#de77ae\"],[0.3,\"#f1b6da\"],[0.4,\"#fde0ef\"],[0.5,\"#f7f7f7\"],[0.6,\"#e6f5d0\"],[0.7,\"#b8e186\"],[0.8,\"#7fbc41\"],[0.9,\"#4d9221\"],[1,\"#276419\"]]},\"xaxis\":{\"gridcolor\":\"white\",\"linecolor\":\"white\",\"ticks\":\"\",\"title\":{\"standoff\":15},\"zerolinecolor\":\"white\",\"automargin\":true,\"zerolinewidth\":2},\"yaxis\":{\"gridcolor\":\"white\",\"linecolor\":\"white\",\"ticks\":\"\",\"title\":{\"standoff\":15},\"zerolinecolor\":\"white\",\"automargin\":true,\"zerolinewidth\":2},\"scene\":{\"xaxis\":{\"backgroundcolor\":\"#E5ECF6\",\"gridcolor\":\"white\",\"linecolor\":\"white\",\"showbackground\":true,\"ticks\":\"\",\"zerolinecolor\":\"white\",\"gridwidth\":2},\"yaxis\":{\"backgroundcolor\":\"#E5ECF6\",\"gridcolor\":\"white\",\"linecolor\":\"white\",\"showbackground\":true,\"ticks\":\"\",\"zerolinecolor\":\"white\",\"gridwidth\":2},\"zaxis\":{\"backgroundcolor\":\"#E5ECF6\",\"gridcolor\":\"white\",\"linecolor\":\"white\",\"showbackground\":true,\"ticks\":\"\",\"zerolinecolor\":\"white\",\"gridwidth\":2}},\"shapedefaults\":{\"line\":{\"color\":\"#2a3f5f\"}},\"annotationdefaults\":{\"arrowcolor\":\"#2a3f5f\",\"arrowhead\":0,\"arrowwidth\":1},\"geo\":{\"bgcolor\":\"white\",\"landcolor\":\"#E5ECF6\",\"subunitcolor\":\"white\",\"showland\":true,\"showlakes\":true,\"lakecolor\":\"white\"},\"title\":{\"x\":0.05},\"mapbox\":{\"style\":\"light\"}}},\"xaxis\":{\"type\":\"log\"},\"yaxis\":{\"type\":\"log\"}},                        {\"responsive\": true}                    ).then(function(){\n",
       "                            \n",
       "var gd = document.getElementById('80df46f4-ea2d-4aaf-b8cd-c394b2683ca1');\n",
       "var x = new MutationObserver(function (mutations, observer) {{\n",
       "        var display = window.getComputedStyle(gd).display;\n",
       "        if (!display || display === 'none') {{\n",
       "            console.log([gd, 'removed!']);\n",
       "            Plotly.purge(gd);\n",
       "            observer.disconnect();\n",
       "        }}\n",
       "}});\n",
       "\n",
       "// Listen for the removal of the full notebook cells\n",
       "var notebookContainer = gd.closest('#notebook-container');\n",
       "if (notebookContainer) {{\n",
       "    x.observe(notebookContainer, {childList: true});\n",
       "}}\n",
       "\n",
       "// Listen for the clearing of the current output cell\n",
       "var outputEl = gd.closest('.output');\n",
       "if (outputEl) {{\n",
       "    x.observe(outputEl, {childList: true});\n",
       "}}\n",
       "\n",
       "                        })                };                });            </script>        </div>"
      ]
     },
     "metadata": {},
     "output_type": "display_data"
    },
    {
     "data": {
      "image/png": "[encoded data removed]",
      "text/plain": [
       "<Figure size 640x480 with 2 Axes>"
      ]
     },
     "metadata": {},
     "output_type": "display_data"
    },
    {
     "name": "stdout",
     "output_type": "stream",
     "text": [
      "Index([64, 128, 256, 512, 1024, 2048, 4096], dtype='int64', name='bs')\n"
     ]
    },
    {
     "data": {
      "application/vnd.plotly.v1+json": {
       "config": {
        "plotlyServerURL": "https://plot.ly"
       },
       "data": [
        {
         "type": "contour",
         "x": [
          1,
          2,
          4,
          8,
          16,
          32,
          64,
          128,
          192
         ],
         "y": [
          64,
          128,
          256,
          512,
          1024,
          2048,
          4096
         ],
         "z": [
          [
           166.289378,
           113.44229666666666,
           81.24986066666668,
           68.475236,
           69.196611,
           59.19718733333334,
           73.936369,
           88.850835,
           83.89681
          ],
          [
           163.44478933333332,
           112.86203233333333,
           76.91301066666666,
           59.803449,
           65.48309266666666,
           56.72082533333333,
           82.02933266666666,
           84.68468733333333,
           67.31824333333333
          ],
          [
           170.0466746666667,
           104.25156366666666,
           65.65333166666666,
           47.75408566666667,
           61.725865,
           56.331499,
           59.30299866666667,
           54.332977666666665,
           64.02199866666668
          ],
          [
           170.52113599999998,
           98.71396233333333,
           61.71007633333334,
           41.83230833333334,
           37.051040666666665,
           34.424171333333334,
           38.41429133333333,
           46.751206333333336,
           42.29018133333333
          ],
          [
           210.15613933333336,
           117.60350433333333,
           78.86094466666667,
           57.324531,
           47.652237333333325,
           61.652793333333335,
           67.065422,
           62.145983333333334,
           64.771598
          ],
          [
           218.37132,
           125.65054433333334,
           76.78413033333334,
           49.05809166666666,
           47.58049066666666,
           54.984080000000006,
           62.815996000000005,
           72.82281,
           63.17754433333334
          ],
          [
           231.04920533333333,
           125.32338699999998,
           71.13960066666667,
           50.69917266666667,
           41.06728433333333,
           56.57227533333333,
           68.28328133333333,
           93.92005666666667,
           56.95742833333333
          ]
         ]
        }
       ],
       "layout": {
        "template": {
         "data": {
          "bar": [
           {
            "error_x": {
             "color": "#2a3f5f"
            },
            "error_y": {
             "color": "#2a3f5f"
            },
            "marker": {
             "line": {
              "color": "#E5ECF6",
              "width": 0.5
             },
             "pattern": {
              "fillmode": "overlay",
              "size": 10,
              "solidity": 0.2
             }
            },
            "type": "bar"
           }
          ],
          "barpolar": [
           {
            "marker": {
             "line": {
              "color": "#E5ECF6",
              "width": 0.5
             },
             "pattern": {
              "fillmode": "overlay",
              "size": 10,
              "solidity": 0.2
             }
            },
            "type": "barpolar"
           }
          ],
          "carpet": [
           {
            "aaxis": {
             "endlinecolor": "#2a3f5f",
             "gridcolor": "white",
             "linecolor": "white",
             "minorgridcolor": "white",
             "startlinecolor": "#2a3f5f"
            },
            "baxis": {
             "endlinecolor": "#2a3f5f",
             "gridcolor": "white",
             "linecolor": "white",
             "minorgridcolor": "white",
             "startlinecolor": "#2a3f5f"
            },
            "type": "carpet"
           }
          ],
          "choropleth": [
           {
            "colorbar": {
             "outlinewidth": 0,
             "ticks": ""
            },
            "type": "choropleth"
           }
          ],
          "contour": [
           {
            "colorbar": {
             "outlinewidth": 0,
             "ticks": ""
            },
            "colorscale": [
             [
              0,
              "#0d0887"
             ],
             [
              0.1111111111111111,
              "#46039f"
             ],
             [
              0.2222222222222222,
              "#7201a8"
             ],
             [
              0.3333333333333333,
              "#9c179e"
             ],
             [
              0.4444444444444444,
              "#bd3786"
             ],
             [
              0.5555555555555556,
              "#d8576b"
             ],
             [
              0.6666666666666666,
              "#ed7953"
             ],
             [
              0.7777777777777778,
              "#fb9f3a"
             ],
             [
              0.8888888888888888,
              "#fdca26"
             ],
             [
              1,
              "#f0f921"
             ]
            ],
            "type": "contour"
           }
          ],
          "contourcarpet": [
           {
            "colorbar": {
             "outlinewidth": 0,
             "ticks": ""
            },
            "type": "contourcarpet"
           }
          ],
          "heatmap": [
           {
            "colorbar": {
             "outlinewidth": 0,
             "ticks": ""
            },
            "colorscale": [
             [
              0,
              "#0d0887"
             ],
             [
              0.1111111111111111,
              "#46039f"
             ],
             [
              0.2222222222222222,
              "#7201a8"
             ],
             [
              0.3333333333333333,
              "#9c179e"
             ],
             [
              0.4444444444444444,
              "#bd3786"
             ],
             [
              0.5555555555555556,
              "#d8576b"
             ],
             [
              0.6666666666666666,
              "#ed7953"
             ],
             [
              0.7777777777777778,
              "#fb9f3a"
             ],
             [
              0.8888888888888888,
              "#fdca26"
             ],
             [
              1,
              "#f0f921"
             ]
            ],
            "type": "heatmap"
           }
          ],
          "heatmapgl": [
           {
            "colorbar": {
             "outlinewidth": 0,
             "ticks": ""
            },
            "colorscale": [
             [
              0,
              "#0d0887"
             ],
             [
              0.1111111111111111,
              "#46039f"
             ],
             [
              0.2222222222222222,
              "#7201a8"
             ],
             [
              0.3333333333333333,
              "#9c179e"
             ],
             [
              0.4444444444444444,
              "#bd3786"
             ],
             [
              0.5555555555555556,
              "#d8576b"
             ],
             [
              0.6666666666666666,
              "#ed7953"
             ],
             [
              0.7777777777777778,
              "#fb9f3a"
             ],
             [
              0.8888888888888888,
              "#fdca26"
             ],
             [
              1,
              "#f0f921"
             ]
            ],
            "type": "heatmapgl"
           }
          ],
          "histogram": [
           {
            "marker": {
             "pattern": {
              "fillmode": "overlay",
              "size": 10,
              "solidity": 0.2
             }
            },
            "type": "histogram"
           }
          ],
          "histogram2d": [
           {
            "colorbar": {
             "outlinewidth": 0,
             "ticks": ""
            },
            "colorscale": [
             [
              0,
              "#0d0887"
             ],
             [
              0.1111111111111111,
              "#46039f"
             ],
             [
              0.2222222222222222,
              "#7201a8"
             ],
             [
              0.3333333333333333,
              "#9c179e"
             ],
             [
              0.4444444444444444,
              "#bd3786"
             ],
             [
              0.5555555555555556,
              "#d8576b"
             ],
             [
              0.6666666666666666,
              "#ed7953"
             ],
             [
              0.7777777777777778,
              "#fb9f3a"
             ],
             [
              0.8888888888888888,
              "#fdca26"
             ],
             [
              1,
              "#f0f921"
             ]
            ],
            "type": "histogram2d"
           }
          ],
          "histogram2dcontour": [
           {
            "colorbar": {
             "outlinewidth": 0,
             "ticks": ""
            },
            "colorscale": [
             [
              0,
              "#0d0887"
             ],
             [
              0.1111111111111111,
              "#46039f"
             ],
             [
              0.2222222222222222,
              "#7201a8"
             ],
             [
              0.3333333333333333,
              "#9c179e"
             ],
             [
              0.4444444444444444,
              "#bd3786"
             ],
             [
              0.5555555555555556,
              "#d8576b"
             ],
             [
              0.6666666666666666,
              "#ed7953"
             ],
             [
              0.7777777777777778,
              "#fb9f3a"
             ],
             [
              0.8888888888888888,
              "#fdca26"
             ],
             [
              1,
              "#f0f921"
             ]
            ],
            "type": "histogram2dcontour"
           }
          ],
          "mesh3d": [
           {
            "colorbar": {
             "outlinewidth": 0,
             "ticks": ""
            },
            "type": "mesh3d"
           }
          ],
          "parcoords": [
           {
            "line": {
             "colorbar": {
              "outlinewidth": 0,
              "ticks": ""
             }
            },
            "type": "parcoords"
           }
          ],
          "pie": [
           {
            "automargin": true,
            "type": "pie"
           }
          ],
          "scatter": [
           {
            "fillpattern": {
             "fillmode": "overlay",
             "size": 10,
             "solidity": 0.2
            },
            "type": "scatter"
           }
          ],
          "scatter3d": [
           {
            "line": {
             "colorbar": {
              "outlinewidth": 0,
              "ticks": ""
             }
            },
            "marker": {
             "colorbar": {
              "outlinewidth": 0,
              "ticks": ""
             }
            },
            "type": "scatter3d"
           }
          ],
          "scattercarpet": [
           {
            "marker": {
             "colorbar": {
              "outlinewidth": 0,
              "ticks": ""
             }
            },
            "type": "scattercarpet"
           }
          ],
          "scattergeo": [
           {
            "marker": {
             "colorbar": {
              "outlinewidth": 0,
              "ticks": ""
             }
            },
            "type": "scattergeo"
           }
          ],
          "scattergl": [
           {
            "marker": {
             "colorbar": {
              "outlinewidth": 0,
              "ticks": ""
             }
            },
            "type": "scattergl"
           }
          ],
          "scattermapbox": [
           {
            "marker": {
             "colorbar": {
              "outlinewidth": 0,
              "ticks": ""
             }
            },
            "type": "scattermapbox"
           }
          ],
          "scatterpolar": [
           {
            "marker": {
             "colorbar": {
              "outlinewidth": 0,
              "ticks": ""
             }
            },
            "type": "scatterpolar"
           }
          ],
          "scatterpolargl": [
           {
            "marker": {
             "colorbar": {
              "outlinewidth": 0,
              "ticks": ""
             }
            },
            "type": "scatterpolargl"
           }
          ],
          "scatterternary": [
           {
            "marker": {
             "colorbar": {
              "outlinewidth": 0,
              "ticks": ""
             }
            },
            "type": "scatterternary"
           }
          ],
          "surface": [
           {
            "colorbar": {
             "outlinewidth": 0,
             "ticks": ""
            },
            "colorscale": [
             [
              0,
              "#0d0887"
             ],
             [
              0.1111111111111111,
              "#46039f"
             ],
             [
              0.2222222222222222,
              "#7201a8"
             ],
             [
              0.3333333333333333,
              "#9c179e"
             ],
             [
              0.4444444444444444,
              "#bd3786"
             ],
             [
              0.5555555555555556,
              "#d8576b"
             ],
             [
              0.6666666666666666,
              "#ed7953"
             ],
             [
              0.7777777777777778,
              "#fb9f3a"
             ],
             [
              0.8888888888888888,
              "#fdca26"
             ],
             [
              1,
              "#f0f921"
             ]
            ],
            "type": "surface"
           }
          ],
          "table": [
           {
            "cells": {
             "fill": {
              "color": "#EBF0F8"
             },
             "line": {
              "color": "white"
             }
            },
            "header": {
             "fill": {
              "color": "#C8D4E3"
             },
             "line": {
              "color": "white"
             }
            },
            "type": "table"
           }
          ]
         },
         "layout": {
          "annotationdefaults": {
           "arrowcolor": "#2a3f5f",
           "arrowhead": 0,
           "arrowwidth": 1
          },
          "autotypenumbers": "strict",
          "coloraxis": {
           "colorbar": {
            "outlinewidth": 0,
            "ticks": ""
           }
          },
          "colorscale": {
           "diverging": [
            [
             0,
             "#8e0152"
            ],
            [
             0.1,
             "#c51b7d"
            ],
            [
             0.2,
             "#de77ae"
            ],
            [
             0.3,
             "#f1b6da"
            ],
            [
             0.4,
             "#fde0ef"
            ],
            [
             0.5,
             "#f7f7f7"
            ],
            [
             0.6,
             "#e6f5d0"
            ],
            [
             0.7,
             "#b8e186"
            ],
            [
             0.8,
             "#7fbc41"
            ],
            [
             0.9,
             "#4d9221"
            ],
            [
             1,
             "#276419"
            ]
           ],
           "sequential": [
            [
             0,
             "#0d0887"
            ],
            [
             0.1111111111111111,
             "#46039f"
            ],
            [
             0.2222222222222222,
             "#7201a8"
            ],
            [
             0.3333333333333333,
             "#9c179e"
            ],
            [
             0.4444444444444444,
             "#bd3786"
            ],
            [
             0.5555555555555556,
             "#d8576b"
            ],
            [
             0.6666666666666666,
             "#ed7953"
            ],
            [
             0.7777777777777778,
             "#fb9f3a"
            ],
            [
             0.8888888888888888,
             "#fdca26"
            ],
            [
             1,
             "#f0f921"
            ]
           ],
           "sequentialminus": [
            [
             0,
             "#0d0887"
            ],
            [
             0.1111111111111111,
             "#46039f"
            ],
            [
             0.2222222222222222,
             "#7201a8"
            ],
            [
             0.3333333333333333,
             "#9c179e"
            ],
            [
             0.4444444444444444,
             "#bd3786"
            ],
            [
             0.5555555555555556,
             "#d8576b"
            ],
            [
             0.6666666666666666,
             "#ed7953"
            ],
            [
             0.7777777777777778,
             "#fb9f3a"
            ],
            [
             0.8888888888888888,
             "#fdca26"
            ],
            [
             1,
             "#f0f921"
            ]
           ]
          },
          "colorway": [
           "#636efa",
           "#EF553B",
           "#00cc96",
           "#ab63fa",
           "#FFA15A",
           "#19d3f3",
           "#FF6692",
           "#B6E880",
           "#FF97FF",
           "#FECB52"
          ],
          "font": {
           "color": "#2a3f5f"
          },
          "geo": {
           "bgcolor": "white",
           "lakecolor": "white",
           "landcolor": "#E5ECF6",
           "showlakes": true,
           "showland": true,
           "subunitcolor": "white"
          },
          "hoverlabel": {
           "align": "left"
          },
          "hovermode": "closest",
          "mapbox": {
           "style": "light"
          },
          "paper_bgcolor": "white",
          "plot_bgcolor": "#E5ECF6",
          "polar": {
           "angularaxis": {
            "gridcolor": "white",
            "linecolor": "white",
            "ticks": ""
           },
           "bgcolor": "#E5ECF6",
           "radialaxis": {
            "gridcolor": "white",
            "linecolor": "white",
            "ticks": ""
           }
          },
          "scene": {
           "xaxis": {
            "backgroundcolor": "#E5ECF6",
            "gridcolor": "white",
            "gridwidth": 2,
            "linecolor": "white",
            "showbackground": true,
            "ticks": "",
            "zerolinecolor": "white"
           },
           "yaxis": {
            "backgroundcolor": "#E5ECF6",
            "gridcolor": "white",
            "gridwidth": 2,
            "linecolor": "white",
            "showbackground": true,
            "ticks": "",
            "zerolinecolor": "white"
           },
           "zaxis": {
            "backgroundcolor": "#E5ECF6",
            "gridcolor": "white",
            "gridwidth": 2,
            "linecolor": "white",
            "showbackground": true,
            "ticks": "",
            "zerolinecolor": "white"
           }
          },
          "shapedefaults": {
           "line": {
            "color": "#2a3f5f"
           }
          },
          "ternary": {
           "aaxis": {
            "gridcolor": "white",
            "linecolor": "white",
            "ticks": ""
           },
           "baxis": {
            "gridcolor": "white",
            "linecolor": "white",
            "ticks": ""
           },
           "bgcolor": "#E5ECF6",
           "caxis": {
            "gridcolor": "white",
            "linecolor": "white",
            "ticks": ""
           }
          },
          "title": {
           "x": 0.05
          },
          "xaxis": {
           "automargin": true,
           "gridcolor": "white",
           "linecolor": "white",
           "ticks": "",
           "title": {
            "standoff": 15
           },
           "zerolinecolor": "white",
           "zerolinewidth": 2
          },
          "yaxis": {
           "automargin": true,
           "gridcolor": "white",
           "linecolor": "white",
           "ticks": "",
           "title": {
            "standoff": 15
           },
           "zerolinecolor": "white",
           "zerolinewidth": 2
          }
         }
        },
        "xaxis": {
         "type": "log"
        },
        "yaxis": {
         "type": "log"
        }
       }
      },
      "text/html": [
       "<div>                            <div id=\"0f376ac2-1d60-4107-aa9d-f951dda5add6\" class=\"plotly-graph-div\" style=\"height:525px; width:100%;\"></div>            <script type=\"text/javascript\">                require([\"plotly\"], function(Plotly) {                    window.PLOTLYENV=window.PLOTLYENV || {};                                    if (document.getElementById(\"0f376ac2-1d60-4107-aa9d-f951dda5add6\")) {                    Plotly.newPlot(                        \"0f376ac2-1d60-4107-aa9d-f951dda5add6\",                        [{\"x\":[1,2,4,8,16,32,64,128,192],\"y\":[64,128,256,512,1024,2048,4096],\"z\":[[166.289378,113.44229666666666,81.24986066666668,68.475236,69.196611,59.19718733333334,73.936369,88.850835,83.89681],[163.44478933333332,112.86203233333333,76.91301066666666,59.803449,65.48309266666666,56.72082533333333,82.02933266666666,84.68468733333333,67.31824333333333],[170.0466746666667,104.25156366666666,65.65333166666666,47.75408566666667,61.725865,56.331499,59.30299866666667,54.332977666666665,64.02199866666668],[170.52113599999998,98.71396233333333,61.71007633333334,41.83230833333334,37.051040666666665,34.424171333333334,38.41429133333333,46.751206333333336,42.29018133333333],[210.15613933333336,117.60350433333333,78.86094466666667,57.324531,47.652237333333325,61.652793333333335,67.065422,62.145983333333334,64.771598],[218.37132,125.65054433333334,76.78413033333334,49.05809166666666,47.58049066666666,54.984080000000006,62.815996000000005,72.82281,63.17754433333334],[231.04920533333333,125.32338699999998,71.13960066666667,50.69917266666667,41.06728433333333,56.57227533333333,68.28328133333333,93.92005666666667,56.95742833333333]],\"type\":\"contour\"}],                        {\"template\":{\"data\":{\"histogram2dcontour\":[{\"type\":\"histogram2dcontour\",\"colorbar\":{\"outlinewidth\":0,\"ticks\":\"\"},\"colorscale\":[[0.0,\"#0d0887\"],[0.1111111111111111,\"#46039f\"],[0.2222222222222222,\"#7201a8\"],[0.3333333333333333,\"#9c179e\"],[0.4444444444444444,\"#bd3786\"],[0.5555555555555556,\"#d8576b\"],[0.6666666666666666,\"#ed7953\"],[0.7777777777777778,\"#fb9f3a\"],[0.8888888888888888,\"#fdca26\"],[1.0,\"#f0f921\"]]}],\"choropleth\":[{\"type\":\"choropleth\",\"colorbar\":{\"outlinewidth\":0,\"ticks\":\"\"}}],\"histogram2d\":[{\"type\":\"histogram2d\",\"colorbar\":{\"outlinewidth\":0,\"ticks\":\"\"},\"colorscale\":[[0.0,\"#0d0887\"],[0.1111111111111111,\"#46039f\"],[0.2222222222222222,\"#7201a8\"],[0.3333333333333333,\"#9c179e\"],[0.4444444444444444,\"#bd3786\"],[0.5555555555555556,\"#d8576b\"],[0.6666666666666666,\"#ed7953\"],[0.7777777777777778,\"#fb9f3a\"],[0.8888888888888888,\"#fdca26\"],[1.0,\"#f0f921\"]]}],\"heatmap\":[{\"type\":\"heatmap\",\"colorbar\":{\"outlinewidth\":0,\"ticks\":\"\"},\"colorscale\":[[0.0,\"#0d0887\"],[0.1111111111111111,\"#46039f\"],[0.2222222222222222,\"#7201a8\"],[0.3333333333333333,\"#9c179e\"],[0.4444444444444444,\"#bd3786\"],[0.5555555555555556,\"#d8576b\"],[0.6666666666666666,\"#ed7953\"],[0.7777777777777778,\"#fb9f3a\"],[0.8888888888888888,\"#fdca26\"],[1.0,\"#f0f921\"]]}],\"heatmapgl\":[{\"type\":\"heatmapgl\",\"colorbar\":{\"outlinewidth\":0,\"ticks\":\"\"},\"colorscale\":[[0.0,\"#0d0887\"],[0.1111111111111111,\"#46039f\"],[0.2222222222222222,\"#7201a8\"],[0.3333333333333333,\"#9c179e\"],[0.4444444444444444,\"#bd3786\"],[0.5555555555555556,\"#d8576b\"],[0.6666666666666666,\"#ed7953\"],[0.7777777777777778,\"#fb9f3a\"],[0.8888888888888888,\"#fdca26\"],[1.0,\"#f0f921\"]]}],\"contourcarpet\":[{\"type\":\"contourcarpet\",\"colorbar\":{\"outlinewidth\":0,\"ticks\":\"\"}}],\"contour\":[{\"type\":\"contour\",\"colorbar\":{\"outlinewidth\":0,\"ticks\":\"\"},\"colorscale\":[[0.0,\"#0d0887\"],[0.1111111111111111,\"#46039f\"],[0.2222222222222222,\"#7201a8\"],[0.3333333333333333,\"#9c179e\"],[0.4444444444444444,\"#bd3786\"],[0.5555555555555556,\"#d8576b\"],[0.6666666666666666,\"#ed7953\"],[0.7777777777777778,\"#fb9f3a\"],[0.8888888888888888,\"#fdca26\"],[1.0,\"#f0f921\"]]}],\"surface\":[{\"type\":\"surface\",\"colorbar\":{\"outlinewidth\":0,\"ticks\":\"\"},\"colorscale\":[[0.0,\"#0d0887\"],[0.1111111111111111,\"#46039f\"],[0.2222222222222222,\"#7201a8\"],[0.3333333333333333,\"#9c179e\"],[0.4444444444444444,\"#bd3786\"],[0.5555555555555556,\"#d8576b\"],[0.6666666666666666,\"#ed7953\"],[0.7777777777777778,\"#fb9f3a\"],[0.8888888888888888,\"#fdca26\"],[1.0,\"#f0f921\"]]}],\"mesh3d\":[{\"type\":\"mesh3d\",\"colorbar\":{\"outlinewidth\":0,\"ticks\":\"\"}}],\"scatter\":[{\"fillpattern\":{\"fillmode\":\"overlay\",\"size\":10,\"solidity\":0.2},\"type\":\"scatter\"}],\"parcoords\":[{\"type\":\"parcoords\",\"line\":{\"colorbar\":{\"outlinewidth\":0,\"ticks\":\"\"}}}],\"scatterpolargl\":[{\"type\":\"scatterpolargl\",\"marker\":{\"colorbar\":{\"outlinewidth\":0,\"ticks\":\"\"}}}],\"bar\":[{\"error_x\":{\"color\":\"#2a3f5f\"},\"error_y\":{\"color\":\"#2a3f5f\"},\"marker\":{\"line\":{\"color\":\"#E5ECF6\",\"width\":0.5},\"pattern\":{\"fillmode\":\"overlay\",\"size\":10,\"solidity\":0.2}},\"type\":\"bar\"}],\"scattergeo\":[{\"type\":\"scattergeo\",\"marker\":{\"colorbar\":{\"outlinewidth\":0,\"ticks\":\"\"}}}],\"scatterpolar\":[{\"type\":\"scatterpolar\",\"marker\":{\"colorbar\":{\"outlinewidth\":0,\"ticks\":\"\"}}}],\"histogram\":[{\"marker\":{\"pattern\":{\"fillmode\":\"overlay\",\"size\":10,\"solidity\":0.2}},\"type\":\"histogram\"}],\"scattergl\":[{\"type\":\"scattergl\",\"marker\":{\"colorbar\":{\"outlinewidth\":0,\"ticks\":\"\"}}}],\"scatter3d\":[{\"type\":\"scatter3d\",\"line\":{\"colorbar\":{\"outlinewidth\":0,\"ticks\":\"\"}},\"marker\":{\"colorbar\":{\"outlinewidth\":0,\"ticks\":\"\"}}}],\"scattermapbox\":[{\"type\":\"scattermapbox\",\"marker\":{\"colorbar\":{\"outlinewidth\":0,\"ticks\":\"\"}}}],\"scatterternary\":[{\"type\":\"scatterternary\",\"marker\":{\"colorbar\":{\"outlinewidth\":0,\"ticks\":\"\"}}}],\"scattercarpet\":[{\"type\":\"scattercarpet\",\"marker\":{\"colorbar\":{\"outlinewidth\":0,\"ticks\":\"\"}}}],\"carpet\":[{\"aaxis\":{\"endlinecolor\":\"#2a3f5f\",\"gridcolor\":\"white\",\"linecolor\":\"white\",\"minorgridcolor\":\"white\",\"startlinecolor\":\"#2a3f5f\"},\"baxis\":{\"endlinecolor\":\"#2a3f5f\",\"gridcolor\":\"white\",\"linecolor\":\"white\",\"minorgridcolor\":\"white\",\"startlinecolor\":\"#2a3f5f\"},\"type\":\"carpet\"}],\"table\":[{\"cells\":{\"fill\":{\"color\":\"#EBF0F8\"},\"line\":{\"color\":\"white\"}},\"header\":{\"fill\":{\"color\":\"#C8D4E3\"},\"line\":{\"color\":\"white\"}},\"type\":\"table\"}],\"barpolar\":[{\"marker\":{\"line\":{\"color\":\"#E5ECF6\",\"width\":0.5},\"pattern\":{\"fillmode\":\"overlay\",\"size\":10,\"solidity\":0.2}},\"type\":\"barpolar\"}],\"pie\":[{\"automargin\":true,\"type\":\"pie\"}]},\"layout\":{\"autotypenumbers\":\"strict\",\"colorway\":[\"#636efa\",\"#EF553B\",\"#00cc96\",\"#ab63fa\",\"#FFA15A\",\"#19d3f3\",\"#FF6692\",\"#B6E880\",\"#FF97FF\",\"#FECB52\"],\"font\":{\"color\":\"#2a3f5f\"},\"hovermode\":\"closest\",\"hoverlabel\":{\"align\":\"left\"},\"paper_bgcolor\":\"white\",\"plot_bgcolor\":\"#E5ECF6\",\"polar\":{\"bgcolor\":\"#E5ECF6\",\"angularaxis\":{\"gridcolor\":\"white\",\"linecolor\":\"white\",\"ticks\":\"\"},\"radialaxis\":{\"gridcolor\":\"white\",\"linecolor\":\"white\",\"ticks\":\"\"}},\"ternary\":{\"bgcolor\":\"#E5ECF6\",\"aaxis\":{\"gridcolor\":\"white\",\"linecolor\":\"white\",\"ticks\":\"\"},\"baxis\":{\"gridcolor\":\"white\",\"linecolor\":\"white\",\"ticks\":\"\"},\"caxis\":{\"gridcolor\":\"white\",\"linecolor\":\"white\",\"ticks\":\"\"}},\"coloraxis\":{\"colorbar\":{\"outlinewidth\":0,\"ticks\":\"\"}},\"colorscale\":{\"sequential\":[[0.0,\"#0d0887\"],[0.1111111111111111,\"#46039f\"],[0.2222222222222222,\"#7201a8\"],[0.3333333333333333,\"#9c179e\"],[0.4444444444444444,\"#bd3786\"],[0.5555555555555556,\"#d8576b\"],[0.6666666666666666,\"#ed7953\"],[0.7777777777777778,\"#fb9f3a\"],[0.8888888888888888,\"#fdca26\"],[1.0,\"#f0f921\"]],\"sequentialminus\":[[0.0,\"#0d0887\"],[0.1111111111111111,\"#46039f\"],[0.2222222222222222,\"#7201a8\"],[0.3333333333333333,\"#9c179e\"],[0.4444444444444444,\"#bd3786\"],[0.5555555555555556,\"#d8576b\"],[0.6666666666666666,\"#ed7953\"],[0.7777777777777778,\"#fb9f3a\"],[0.8888888888888888,\"#fdca26\"],[1.0,\"#f0f921\"]],\"diverging\":[[0,\"#8e0152\"],[0.1,\"#c51b7d\"],[0.2,\"#de77ae\"],[0.3,\"#f1b6da\"],[0.4,\"#fde0ef\"],[0.5,\"#f7f7f7\"],[0.6,\"#e6f5d0\"],[0.7,\"#b8e186\"],[0.8,\"#7fbc41\"],[0.9,\"#4d9221\"],[1,\"#276419\"]]},\"xaxis\":{\"gridcolor\":\"white\",\"linecolor\":\"white\",\"ticks\":\"\",\"title\":{\"standoff\":15},\"zerolinecolor\":\"white\",\"automargin\":true,\"zerolinewidth\":2},\"yaxis\":{\"gridcolor\":\"white\",\"linecolor\":\"white\",\"ticks\":\"\",\"title\":{\"standoff\":15},\"zerolinecolor\":\"white\",\"automargin\":true,\"zerolinewidth\":2},\"scene\":{\"xaxis\":{\"backgroundcolor\":\"#E5ECF6\",\"gridcolor\":\"white\",\"linecolor\":\"white\",\"showbackground\":true,\"ticks\":\"\",\"zerolinecolor\":\"white\",\"gridwidth\":2},\"yaxis\":{\"backgroundcolor\":\"#E5ECF6\",\"gridcolor\":\"white\",\"linecolor\":\"white\",\"showbackground\":true,\"ticks\":\"\",\"zerolinecolor\":\"white\",\"gridwidth\":2},\"zaxis\":{\"backgroundcolor\":\"#E5ECF6\",\"gridcolor\":\"white\",\"linecolor\":\"white\",\"showbackground\":true,\"ticks\":\"\",\"zerolinecolor\":\"white\",\"gridwidth\":2}},\"shapedefaults\":{\"line\":{\"color\":\"#2a3f5f\"}},\"annotationdefaults\":{\"arrowcolor\":\"#2a3f5f\",\"arrowhead\":0,\"arrowwidth\":1},\"geo\":{\"bgcolor\":\"white\",\"landcolor\":\"#E5ECF6\",\"subunitcolor\":\"white\",\"showland\":true,\"showlakes\":true,\"lakecolor\":\"white\"},\"title\":{\"x\":0.05},\"mapbox\":{\"style\":\"light\"}}},\"xaxis\":{\"type\":\"log\"},\"yaxis\":{\"type\":\"log\"}},                        {\"responsive\": true}                    ).then(function(){\n",
       "                            \n",
       "var gd = document.getElementById('0f376ac2-1d60-4107-aa9d-f951dda5add6');\n",
       "var x = new MutationObserver(function (mutations, observer) {{\n",
       "        var display = window.getComputedStyle(gd).display;\n",
       "        if (!display || display === 'none') {{\n",
       "            console.log([gd, 'removed!']);\n",
       "            Plotly.purge(gd);\n",
       "            observer.disconnect();\n",
       "        }}\n",
       "}});\n",
       "\n",
       "// Listen for the removal of the full notebook cells\n",
       "var notebookContainer = gd.closest('#notebook-container');\n",
       "if (notebookContainer) {{\n",
       "    x.observe(notebookContainer, {childList: true});\n",
       "}}\n",
       "\n",
       "// Listen for the clearing of the current output cell\n",
       "var outputEl = gd.closest('.output');\n",
       "if (outputEl) {{\n",
       "    x.observe(outputEl, {childList: true});\n",
       "}}\n",
       "\n",
       "                        })                };                });            </script>        </div>"
      ]
     },
     "metadata": {},
     "output_type": "display_data"
    },
    {
     "data": {
      "image/png": "[encoded data removed]",
      "text/plain": [
       "<Figure size 640x480 with 2 Axes>"
      ]
     },
     "metadata": {},
     "output_type": "display_data"
    },
    {
     "name": "stdout",
     "output_type": "stream",
     "text": [
      "Index([64, 128, 256, 512, 1024, 2048, 4096], dtype='int64', name='bs')\n"
     ]
    },
    {
     "data": {
      "application/vnd.plotly.v1+json": {
       "config": {
        "plotlyServerURL": "https://plot.ly"
       },
       "data": [
        {
         "type": "contour",
         "x": [
          1,
          2,
          4,
          8,
          16,
          32,
          64,
          128,
          192
         ],
         "y": [
          64,
          128,
          256,
          512,
          1024,
          2048,
          4096
         ],
         "z": [
          [
           6.9538063333333335,
           8.752837999999999,
           8.797270666666668,
           8.771487666666665,
           8.992193333333333,
           9.355769666666667,
           9.371849666666668,
           9.023225333333334,
           10.120622333333333
          ],
          [
           5.380292333333333,
           7.4542150000000005,
           7.743305666666667,
           8.207713333333333,
           10.349129333333332,
           11.480088333333333,
           9.286246666666667,
           9.166007,
           9.109496333333334
          ],
          [
           4.486514666666667,
           6.736953666666667,
           5.671620666666667,
           6.051794666666666,
           7.994278666666666,
           7.672496,
           7.702495666666667,
           6.388646666666666,
           7.437237666666667
          ],
          [
           4.054976000000001,
           6.129659,
           6.374238000000001,
           6.781964666666667,
           7.114114666666667,
           6.841012666666667,
           6.968673333333332,
           7.450447333333333,
           6.742417
          ],
          [
           4.285339,
           4.957294999999999,
           5.882368333333333,
           5.786993333333332,
           6.206183333333333,
           5.602000666666666,
           5.918890333333334,
           5.356894333333334,
           5.2781
          ],
          [
           3.9094789999999997,
           4.747706666666667,
           4.208172,
           3.9651343333333333,
           4.615581,
           4.575509,
           4.605724333333334,
           4.471647,
           4.316155666666667
          ],
          [
           4.181125333333333,
           3.6466700000000003,
           4.380421666666666,
           5.142455666666667,
           3.6437039999999996,
           4.871871333333334,
           4.692802666666666,
           4.319197,
           4.211210333333334
          ]
         ]
        }
       ],
       "layout": {
        "template": {
         "data": {
          "bar": [
           {
            "error_x": {
             "color": "#2a3f5f"
            },
            "error_y": {
             "color": "#2a3f5f"
            },
            "marker": {
             "line": {
              "color": "#E5ECF6",
              "width": 0.5
             },
             "pattern": {
              "fillmode": "overlay",
              "size": 10,
              "solidity": 0.2
             }
            },
            "type": "bar"
           }
          ],
          "barpolar": [
           {
            "marker": {
             "line": {
              "color": "#E5ECF6",
              "width": 0.5
             },
             "pattern": {
              "fillmode": "overlay",
              "size": 10,
              "solidity": 0.2
             }
            },
            "type": "barpolar"
           }
          ],
          "carpet": [
           {
            "aaxis": {
             "endlinecolor": "#2a3f5f",
             "gridcolor": "white",
             "linecolor": "white",
             "minorgridcolor": "white",
             "startlinecolor": "#2a3f5f"
            },
            "baxis": {
             "endlinecolor": "#2a3f5f",
             "gridcolor": "white",
             "linecolor": "white",
             "minorgridcolor": "white",
             "startlinecolor": "#2a3f5f"
            },
            "type": "carpet"
           }
          ],
          "choropleth": [
           {
            "colorbar": {
             "outlinewidth": 0,
             "ticks": ""
            },
            "type": "choropleth"
           }
          ],
          "contour": [
           {
            "colorbar": {
             "outlinewidth": 0,
             "ticks": ""
            },
            "colorscale": [
             [
              0,
              "#0d0887"
             ],
             [
              0.1111111111111111,
              "#46039f"
             ],
             [
              0.2222222222222222,
              "#7201a8"
             ],
             [
              0.3333333333333333,
              "#9c179e"
             ],
             [
              0.4444444444444444,
              "#bd3786"
             ],
             [
              0.5555555555555556,
              "#d8576b"
             ],
             [
              0.6666666666666666,
              "#ed7953"
             ],
             [
              0.7777777777777778,
              "#fb9f3a"
             ],
             [
              0.8888888888888888,
              "#fdca26"
             ],
             [
              1,
              "#f0f921"
             ]
            ],
            "type": "contour"
           }
          ],
          "contourcarpet": [
           {
            "colorbar": {
             "outlinewidth": 0,
             "ticks": ""
            },
            "type": "contourcarpet"
           }
          ],
          "heatmap": [
           {
            "colorbar": {
             "outlinewidth": 0,
             "ticks": ""
            },
            "colorscale": [
             [
              0,
              "#0d0887"
             ],
             [
              0.1111111111111111,
              "#46039f"
             ],
             [
              0.2222222222222222,
              "#7201a8"
             ],
             [
              0.3333333333333333,
              "#9c179e"
             ],
             [
              0.4444444444444444,
              "#bd3786"
             ],
             [
              0.5555555555555556,
              "#d8576b"
             ],
             [
              0.6666666666666666,
              "#ed7953"
             ],
             [
              0.7777777777777778,
              "#fb9f3a"
             ],
             [
              0.8888888888888888,
              "#fdca26"
             ],
             [
              1,
              "#f0f921"
             ]
            ],
            "type": "heatmap"
           }
          ],
          "heatmapgl": [
           {
            "colorbar": {
             "outlinewidth": 0,
             "ticks": ""
            },
            "colorscale": [
             [
              0,
              "#0d0887"
             ],
             [
              0.1111111111111111,
              "#46039f"
             ],
             [
              0.2222222222222222,
              "#7201a8"
             ],
             [
              0.3333333333333333,
              "#9c179e"
             ],
             [
              0.4444444444444444,
              "#bd3786"
             ],
             [
              0.5555555555555556,
              "#d8576b"
             ],
             [
              0.6666666666666666,
              "#ed7953"
             ],
             [
              0.7777777777777778,
              "#fb9f3a"
             ],
             [
              0.8888888888888888,
              "#fdca26"
             ],
             [
              1,
              "#f0f921"
             ]
            ],
            "type": "heatmapgl"
           }
          ],
          "histogram": [
           {
            "marker": {
             "pattern": {
              "fillmode": "overlay",
              "size": 10,
              "solidity": 0.2
             }
            },
            "type": "histogram"
           }
          ],
          "histogram2d": [
           {
            "colorbar": {
             "outlinewidth": 0,
             "ticks": ""
            },
            "colorscale": [
             [
              0,
              "#0d0887"
             ],
             [
              0.1111111111111111,
              "#46039f"
             ],
             [
              0.2222222222222222,
              "#7201a8"
             ],
             [
              0.3333333333333333,
              "#9c179e"
             ],
             [
              0.4444444444444444,
              "#bd3786"
             ],
             [
              0.5555555555555556,
              "#d8576b"
             ],
             [
              0.6666666666666666,
              "#ed7953"
             ],
             [
              0.7777777777777778,
              "#fb9f3a"
             ],
             [
              0.8888888888888888,
              "#fdca26"
             ],
             [
              1,
              "#f0f921"
             ]
            ],
            "type": "histogram2d"
           }
          ],
          "histogram2dcontour": [
           {
            "colorbar": {
             "outlinewidth": 0,
             "ticks": ""
            },
            "colorscale": [
             [
              0,
              "#0d0887"
             ],
             [
              0.1111111111111111,
              "#46039f"
             ],
             [
              0.2222222222222222,
              "#7201a8"
             ],
             [
              0.3333333333333333,
              "#9c179e"
             ],
             [
              0.4444444444444444,
              "#bd3786"
             ],
             [
              0.5555555555555556,
              "#d8576b"
             ],
             [
              0.6666666666666666,
              "#ed7953"
             ],
             [
              0.7777777777777778,
              "#fb9f3a"
             ],
             [
              0.8888888888888888,
              "#fdca26"
             ],
             [
              1,
              "#f0f921"
             ]
            ],
            "type": "histogram2dcontour"
           }
          ],
          "mesh3d": [
           {
            "colorbar": {
             "outlinewidth": 0,
             "ticks": ""
            },
            "type": "mesh3d"
           }
          ],
          "parcoords": [
           {
            "line": {
             "colorbar": {
              "outlinewidth": 0,
              "ticks": ""
             }
            },
            "type": "parcoords"
           }
          ],
          "pie": [
           {
            "automargin": true,
            "type": "pie"
           }
          ],
          "scatter": [
           {
            "fillpattern": {
             "fillmode": "overlay",
             "size": 10,
             "solidity": 0.2
            },
            "type": "scatter"
           }
          ],
          "scatter3d": [
           {
            "line": {
             "colorbar": {
              "outlinewidth": 0,
              "ticks": ""
             }
            },
            "marker": {
             "colorbar": {
              "outlinewidth": 0,
              "ticks": ""
             }
            },
            "type": "scatter3d"
           }
          ],
          "scattercarpet": [
           {
            "marker": {
             "colorbar": {
              "outlinewidth": 0,
              "ticks": ""
             }
            },
            "type": "scattercarpet"
           }
          ],
          "scattergeo": [
           {
            "marker": {
             "colorbar": {
              "outlinewidth": 0,
              "ticks": ""
             }
            },
            "type": "scattergeo"
           }
          ],
          "scattergl": [
           {
            "marker": {
             "colorbar": {
              "outlinewidth": 0,
              "ticks": ""
             }
            },
            "type": "scattergl"
           }
          ],
          "scattermapbox": [
           {
            "marker": {
             "colorbar": {
              "outlinewidth": 0,
              "ticks": ""
             }
            },
            "type": "scattermapbox"
           }
          ],
          "scatterpolar": [
           {
            "marker": {
             "colorbar": {
              "outlinewidth": 0,
              "ticks": ""
             }
            },
            "type": "scatterpolar"
           }
          ],
          "scatterpolargl": [
           {
            "marker": {
             "colorbar": {
              "outlinewidth": 0,
              "ticks": ""
             }
            },
            "type": "scatterpolargl"
           }
          ],
          "scatterternary": [
           {
            "marker": {
             "colorbar": {
              "outlinewidth": 0,
              "ticks": ""
             }
            },
            "type": "scatterternary"
           }
          ],
          "surface": [
           {
            "colorbar": {
             "outlinewidth": 0,
             "ticks": ""
            },
            "colorscale": [
             [
              0,
              "#0d0887"
             ],
             [
              0.1111111111111111,
              "#46039f"
             ],
             [
              0.2222222222222222,
              "#7201a8"
             ],
             [
              0.3333333333333333,
              "#9c179e"
             ],
             [
              0.4444444444444444,
              "#bd3786"
             ],
             [
              0.5555555555555556,
              "#d8576b"
             ],
             [
              0.6666666666666666,
              "#ed7953"
             ],
             [
              0.7777777777777778,
              "#fb9f3a"
             ],
             [
              0.8888888888888888,
              "#fdca26"
             ],
             [
              1,
              "#f0f921"
             ]
            ],
            "type": "surface"
           }
          ],
          "table": [
           {
            "cells": {
             "fill": {
              "color": "#EBF0F8"
             },
             "line": {
              "color": "white"
             }
            },
            "header": {
             "fill": {
              "color": "#C8D4E3"
             },
             "line": {
              "color": "white"
             }
            },
            "type": "table"
           }
          ]
         },
         "layout": {
          "annotationdefaults": {
           "arrowcolor": "#2a3f5f",
           "arrowhead": 0,
           "arrowwidth": 1
          },
          "autotypenumbers": "strict",
          "coloraxis": {
           "colorbar": {
            "outlinewidth": 0,
            "ticks": ""
           }
          },
          "colorscale": {
           "diverging": [
            [
             0,
             "#8e0152"
            ],
            [
             0.1,
             "#c51b7d"
            ],
            [
             0.2,
             "#de77ae"
            ],
            [
             0.3,
             "#f1b6da"
            ],
            [
             0.4,
             "#fde0ef"
            ],
            [
             0.5,
             "#f7f7f7"
            ],
            [
             0.6,
             "#e6f5d0"
            ],
            [
             0.7,
             "#b8e186"
            ],
            [
             0.8,
             "#7fbc41"
            ],
            [
             0.9,
             "#4d9221"
            ],
            [
             1,
             "#276419"
            ]
           ],
           "sequential": [
            [
             0,
             "#0d0887"
            ],
            [
             0.1111111111111111,
             "#46039f"
            ],
            [
             0.2222222222222222,
             "#7201a8"
            ],
            [
             0.3333333333333333,
             "#9c179e"
            ],
            [
             0.4444444444444444,
             "#bd3786"
            ],
            [
             0.5555555555555556,
             "#d8576b"
            ],
            [
             0.6666666666666666,
             "#ed7953"
            ],
            [
             0.7777777777777778,
             "#fb9f3a"
            ],
            [
             0.8888888888888888,
             "#fdca26"
            ],
            [
             1,
             "#f0f921"
            ]
           ],
           "sequentialminus": [
            [
             0,
             "#0d0887"
            ],
            [
             0.1111111111111111,
             "#46039f"
            ],
            [
             0.2222222222222222,
             "#7201a8"
            ],
            [
             0.3333333333333333,
             "#9c179e"
            ],
            [
             0.4444444444444444,
             "#bd3786"
            ],
            [
             0.5555555555555556,
             "#d8576b"
            ],
            [
             0.6666666666666666,
             "#ed7953"
            ],
            [
             0.7777777777777778,
             "#fb9f3a"
            ],
            [
             0.8888888888888888,
             "#fdca26"
            ],
            [
             1,
             "#f0f921"
            ]
           ]
          },
          "colorway": [
           "#636efa",
           "#EF553B",
           "#00cc96",
           "#ab63fa",
           "#FFA15A",
           "#19d3f3",
           "#FF6692",
           "#B6E880",
           "#FF97FF",
           "#FECB52"
          ],
          "font": {
           "color": "#2a3f5f"
          },
          "geo": {
           "bgcolor": "white",
           "lakecolor": "white",
           "landcolor": "#E5ECF6",
           "showlakes": true,
           "showland": true,
           "subunitcolor": "white"
          },
          "hoverlabel": {
           "align": "left"
          },
          "hovermode": "closest",
          "mapbox": {
           "style": "light"
          },
          "paper_bgcolor": "white",
          "plot_bgcolor": "#E5ECF6",
          "polar": {
           "angularaxis": {
            "gridcolor": "white",
            "linecolor": "white",
            "ticks": ""
           },
           "bgcolor": "#E5ECF6",
           "radialaxis": {
            "gridcolor": "white",
            "linecolor": "white",
            "ticks": ""
           }
          },
          "scene": {
           "xaxis": {
            "backgroundcolor": "#E5ECF6",
            "gridcolor": "white",
            "gridwidth": 2,
            "linecolor": "white",
            "showbackground": true,
            "ticks": "",
            "zerolinecolor": "white"
           },
           "yaxis": {
            "backgroundcolor": "#E5ECF6",
            "gridcolor": "white",
            "gridwidth": 2,
            "linecolor": "white",
            "showbackground": true,
            "ticks": "",
            "zerolinecolor": "white"
           },
           "zaxis": {
            "backgroundcolor": "#E5ECF6",
            "gridcolor": "white",
            "gridwidth": 2,
            "linecolor": "white",
            "showbackground": true,
            "ticks": "",
            "zerolinecolor": "white"
           }
          },
          "shapedefaults": {
           "line": {
            "color": "#2a3f5f"
           }
          },
          "ternary": {
           "aaxis": {
            "gridcolor": "white",
            "linecolor": "white",
            "ticks": ""
           },
           "baxis": {
            "gridcolor": "white",
            "linecolor": "white",
            "ticks": ""
           },
           "bgcolor": "#E5ECF6",
           "caxis": {
            "gridcolor": "white",
            "linecolor": "white",
            "ticks": ""
           }
          },
          "title": {
           "x": 0.05
          },
          "xaxis": {
           "automargin": true,
           "gridcolor": "white",
           "linecolor": "white",
           "ticks": "",
           "title": {
            "standoff": 15
           },
           "zerolinecolor": "white",
           "zerolinewidth": 2
          },
          "yaxis": {
           "automargin": true,
           "gridcolor": "white",
           "linecolor": "white",
           "ticks": "",
           "title": {
            "standoff": 15
           },
           "zerolinecolor": "white",
           "zerolinewidth": 2
          }
         }
        },
        "xaxis": {
         "type": "log"
        },
        "yaxis": {
         "type": "log"
        }
       }
      },
      "text/html": [
       "<div>                            <div id=\"482f1630-9963-4308-832a-2142eed1933e\" class=\"plotly-graph-div\" style=\"height:525px; width:100%;\"></div>            <script type=\"text/javascript\">                require([\"plotly\"], function(Plotly) {                    window.PLOTLYENV=window.PLOTLYENV || {};                                    if (document.getElementById(\"482f1630-9963-4308-832a-2142eed1933e\")) {                    Plotly.newPlot(                        \"482f1630-9963-4308-832a-2142eed1933e\",                        [{\"x\":[1,2,4,8,16,32,64,128,192],\"y\":[64,128,256,512,1024,2048,4096],\"z\":[[6.9538063333333335,8.752837999999999,8.797270666666668,8.771487666666665,8.992193333333333,9.355769666666667,9.371849666666668,9.023225333333334,10.120622333333333],[5.380292333333333,7.4542150000000005,7.743305666666667,8.207713333333333,10.349129333333332,11.480088333333333,9.286246666666667,9.166007,9.109496333333334],[4.486514666666667,6.736953666666667,5.671620666666667,6.051794666666666,7.994278666666666,7.672496,7.702495666666667,6.388646666666666,7.437237666666667],[4.054976000000001,6.129659,6.374238000000001,6.781964666666667,7.114114666666667,6.841012666666667,6.968673333333332,7.450447333333333,6.742417],[4.285339,4.957294999999999,5.882368333333333,5.786993333333332,6.206183333333333,5.602000666666666,5.918890333333334,5.356894333333334,5.2781],[3.9094789999999997,4.747706666666667,4.208172,3.9651343333333333,4.615581,4.575509,4.605724333333334,4.471647,4.316155666666667],[4.181125333333333,3.6466700000000003,4.380421666666666,5.142455666666667,3.6437039999999996,4.871871333333334,4.692802666666666,4.319197,4.211210333333334]],\"type\":\"contour\"}],                        {\"template\":{\"data\":{\"histogram2dcontour\":[{\"type\":\"histogram2dcontour\",\"colorbar\":{\"outlinewidth\":0,\"ticks\":\"\"},\"colorscale\":[[0.0,\"#0d0887\"],[0.1111111111111111,\"#46039f\"],[0.2222222222222222,\"#7201a8\"],[0.3333333333333333,\"#9c179e\"],[0.4444444444444444,\"#bd3786\"],[0.5555555555555556,\"#d8576b\"],[0.6666666666666666,\"#ed7953\"],[0.7777777777777778,\"#fb9f3a\"],[0.8888888888888888,\"#fdca26\"],[1.0,\"#f0f921\"]]}],\"choropleth\":[{\"type\":\"choropleth\",\"colorbar\":{\"outlinewidth\":0,\"ticks\":\"\"}}],\"histogram2d\":[{\"type\":\"histogram2d\",\"colorbar\":{\"outlinewidth\":0,\"ticks\":\"\"},\"colorscale\":[[0.0,\"#0d0887\"],[0.1111111111111111,\"#46039f\"],[0.2222222222222222,\"#7201a8\"],[0.3333333333333333,\"#9c179e\"],[0.4444444444444444,\"#bd3786\"],[0.5555555555555556,\"#d8576b\"],[0.6666666666666666,\"#ed7953\"],[0.7777777777777778,\"#fb9f3a\"],[0.8888888888888888,\"#fdca26\"],[1.0,\"#f0f921\"]]}],\"heatmap\":[{\"type\":\"heatmap\",\"colorbar\":{\"outlinewidth\":0,\"ticks\":\"\"},\"colorscale\":[[0.0,\"#0d0887\"],[0.1111111111111111,\"#46039f\"],[0.2222222222222222,\"#7201a8\"],[0.3333333333333333,\"#9c179e\"],[0.4444444444444444,\"#bd3786\"],[0.5555555555555556,\"#d8576b\"],[0.6666666666666666,\"#ed7953\"],[0.7777777777777778,\"#fb9f3a\"],[0.8888888888888888,\"#fdca26\"],[1.0,\"#f0f921\"]]}],\"heatmapgl\":[{\"type\":\"heatmapgl\",\"colorbar\":{\"outlinewidth\":0,\"ticks\":\"\"},\"colorscale\":[[0.0,\"#0d0887\"],[0.1111111111111111,\"#46039f\"],[0.2222222222222222,\"#7201a8\"],[0.3333333333333333,\"#9c179e\"],[0.4444444444444444,\"#bd3786\"],[0.5555555555555556,\"#d8576b\"],[0.6666666666666666,\"#ed7953\"],[0.7777777777777778,\"#fb9f3a\"],[0.8888888888888888,\"#fdca26\"],[1.0,\"#f0f921\"]]}],\"contourcarpet\":[{\"type\":\"contourcarpet\",\"colorbar\":{\"outlinewidth\":0,\"ticks\":\"\"}}],\"contour\":[{\"type\":\"contour\",\"colorbar\":{\"outlinewidth\":0,\"ticks\":\"\"},\"colorscale\":[[0.0,\"#0d0887\"],[0.1111111111111111,\"#46039f\"],[0.2222222222222222,\"#7201a8\"],[0.3333333333333333,\"#9c179e\"],[0.4444444444444444,\"#bd3786\"],[0.5555555555555556,\"#d8576b\"],[0.6666666666666666,\"#ed7953\"],[0.7777777777777778,\"#fb9f3a\"],[0.8888888888888888,\"#fdca26\"],[1.0,\"#f0f921\"]]}],\"surface\":[{\"type\":\"surface\",\"colorbar\":{\"outlinewidth\":0,\"ticks\":\"\"},\"colorscale\":[[0.0,\"#0d0887\"],[0.1111111111111111,\"#46039f\"],[0.2222222222222222,\"#7201a8\"],[0.3333333333333333,\"#9c179e\"],[0.4444444444444444,\"#bd3786\"],[0.5555555555555556,\"#d8576b\"],[0.6666666666666666,\"#ed7953\"],[0.7777777777777778,\"#fb9f3a\"],[0.8888888888888888,\"#fdca26\"],[1.0,\"#f0f921\"]]}],\"mesh3d\":[{\"type\":\"mesh3d\",\"colorbar\":{\"outlinewidth\":0,\"ticks\":\"\"}}],\"scatter\":[{\"fillpattern\":{\"fillmode\":\"overlay\",\"size\":10,\"solidity\":0.2},\"type\":\"scatter\"}],\"parcoords\":[{\"type\":\"parcoords\",\"line\":{\"colorbar\":{\"outlinewidth\":0,\"ticks\":\"\"}}}],\"scatterpolargl\":[{\"type\":\"scatterpolargl\",\"marker\":{\"colorbar\":{\"outlinewidth\":0,\"ticks\":\"\"}}}],\"bar\":[{\"error_x\":{\"color\":\"#2a3f5f\"},\"error_y\":{\"color\":\"#2a3f5f\"},\"marker\":{\"line\":{\"color\":\"#E5ECF6\",\"width\":0.5},\"pattern\":{\"fillmode\":\"overlay\",\"size\":10,\"solidity\":0.2}},\"type\":\"bar\"}],\"scattergeo\":[{\"type\":\"scattergeo\",\"marker\":{\"colorbar\":{\"outlinewidth\":0,\"ticks\":\"\"}}}],\"scatterpolar\":[{\"type\":\"scatterpolar\",\"marker\":{\"colorbar\":{\"outlinewidth\":0,\"ticks\":\"\"}}}],\"histogram\":[{\"marker\":{\"pattern\":{\"fillmode\":\"overlay\",\"size\":10,\"solidity\":0.2}},\"type\":\"histogram\"}],\"scattergl\":[{\"type\":\"scattergl\",\"marker\":{\"colorbar\":{\"outlinewidth\":0,\"ticks\":\"\"}}}],\"scatter3d\":[{\"type\":\"scatter3d\",\"line\":{\"colorbar\":{\"outlinewidth\":0,\"ticks\":\"\"}},\"marker\":{\"colorbar\":{\"outlinewidth\":0,\"ticks\":\"\"}}}],\"scattermapbox\":[{\"type\":\"scattermapbox\",\"marker\":{\"colorbar\":{\"outlinewidth\":0,\"ticks\":\"\"}}}],\"scatterternary\":[{\"type\":\"scatterternary\",\"marker\":{\"colorbar\":{\"outlinewidth\":0,\"ticks\":\"\"}}}],\"scattercarpet\":[{\"type\":\"scattercarpet\",\"marker\":{\"colorbar\":{\"outlinewidth\":0,\"ticks\":\"\"}}}],\"carpet\":[{\"aaxis\":{\"endlinecolor\":\"#2a3f5f\",\"gridcolor\":\"white\",\"linecolor\":\"white\",\"minorgridcolor\":\"white\",\"startlinecolor\":\"#2a3f5f\"},\"baxis\":{\"endlinecolor\":\"#2a3f5f\",\"gridcolor\":\"white\",\"linecolor\":\"white\",\"minorgridcolor\":\"white\",\"startlinecolor\":\"#2a3f5f\"},\"type\":\"carpet\"}],\"table\":[{\"cells\":{\"fill\":{\"color\":\"#EBF0F8\"},\"line\":{\"color\":\"white\"}},\"header\":{\"fill\":{\"color\":\"#C8D4E3\"},\"line\":{\"color\":\"white\"}},\"type\":\"table\"}],\"barpolar\":[{\"marker\":{\"line\":{\"color\":\"#E5ECF6\",\"width\":0.5},\"pattern\":{\"fillmode\":\"overlay\",\"size\":10,\"solidity\":0.2}},\"type\":\"barpolar\"}],\"pie\":[{\"automargin\":true,\"type\":\"pie\"}]},\"layout\":{\"autotypenumbers\":\"strict\",\"colorway\":[\"#636efa\",\"#EF553B\",\"#00cc96\",\"#ab63fa\",\"#FFA15A\",\"#19d3f3\",\"#FF6692\",\"#B6E880\",\"#FF97FF\",\"#FECB52\"],\"font\":{\"color\":\"#2a3f5f\"},\"hovermode\":\"closest\",\"hoverlabel\":{\"align\":\"left\"},\"paper_bgcolor\":\"white\",\"plot_bgcolor\":\"#E5ECF6\",\"polar\":{\"bgcolor\":\"#E5ECF6\",\"angularaxis\":{\"gridcolor\":\"white\",\"linecolor\":\"white\",\"ticks\":\"\"},\"radialaxis\":{\"gridcolor\":\"white\",\"linecolor\":\"white\",\"ticks\":\"\"}},\"ternary\":{\"bgcolor\":\"#E5ECF6\",\"aaxis\":{\"gridcolor\":\"white\",\"linecolor\":\"white\",\"ticks\":\"\"},\"baxis\":{\"gridcolor\":\"white\",\"linecolor\":\"white\",\"ticks\":\"\"},\"caxis\":{\"gridcolor\":\"white\",\"linecolor\":\"white\",\"ticks\":\"\"}},\"coloraxis\":{\"colorbar\":{\"outlinewidth\":0,\"ticks\":\"\"}},\"colorscale\":{\"sequential\":[[0.0,\"#0d0887\"],[0.1111111111111111,\"#46039f\"],[0.2222222222222222,\"#7201a8\"],[0.3333333333333333,\"#9c179e\"],[0.4444444444444444,\"#bd3786\"],[0.5555555555555556,\"#d8576b\"],[0.6666666666666666,\"#ed7953\"],[0.7777777777777778,\"#fb9f3a\"],[0.8888888888888888,\"#fdca26\"],[1.0,\"#f0f921\"]],\"sequentialminus\":[[0.0,\"#0d0887\"],[0.1111111111111111,\"#46039f\"],[0.2222222222222222,\"#7201a8\"],[0.3333333333333333,\"#9c179e\"],[0.4444444444444444,\"#bd3786\"],[0.5555555555555556,\"#d8576b\"],[0.6666666666666666,\"#ed7953\"],[0.7777777777777778,\"#fb9f3a\"],[0.8888888888888888,\"#fdca26\"],[1.0,\"#f0f921\"]],\"diverging\":[[0,\"#8e0152\"],[0.1,\"#c51b7d\"],[0.2,\"#de77ae\"],[0.3,\"#f1b6da\"],[0.4,\"#fde0ef\"],[0.5,\"#f7f7f7\"],[0.6,\"#e6f5d0\"],[0.7,\"#b8e186\"],[0.8,\"#7fbc41\"],[0.9,\"#4d9221\"],[1,\"#276419\"]]},\"xaxis\":{\"gridcolor\":\"white\",\"linecolor\":\"white\",\"ticks\":\"\",\"title\":{\"standoff\":15},\"zerolinecolor\":\"white\",\"automargin\":true,\"zerolinewidth\":2},\"yaxis\":{\"gridcolor\":\"white\",\"linecolor\":\"white\",\"ticks\":\"\",\"title\":{\"standoff\":15},\"zerolinecolor\":\"white\",\"automargin\":true,\"zerolinewidth\":2},\"scene\":{\"xaxis\":{\"backgroundcolor\":\"#E5ECF6\",\"gridcolor\":\"white\",\"linecolor\":\"white\",\"showbackground\":true,\"ticks\":\"\",\"zerolinecolor\":\"white\",\"gridwidth\":2},\"yaxis\":{\"backgroundcolor\":\"#E5ECF6\",\"gridcolor\":\"white\",\"linecolor\":\"white\",\"showbackground\":true,\"ticks\":\"\",\"zerolinecolor\":\"white\",\"gridwidth\":2},\"zaxis\":{\"backgroundcolor\":\"#E5ECF6\",\"gridcolor\":\"white\",\"linecolor\":\"white\",\"showbackground\":true,\"ticks\":\"\",\"zerolinecolor\":\"white\",\"gridwidth\":2}},\"shapedefaults\":{\"line\":{\"color\":\"#2a3f5f\"}},\"annotationdefaults\":{\"arrowcolor\":\"#2a3f5f\",\"arrowhead\":0,\"arrowwidth\":1},\"geo\":{\"bgcolor\":\"white\",\"landcolor\":\"#E5ECF6\",\"subunitcolor\":\"white\",\"showland\":true,\"showlakes\":true,\"lakecolor\":\"white\"},\"title\":{\"x\":0.05},\"mapbox\":{\"style\":\"light\"}}},\"xaxis\":{\"type\":\"log\"},\"yaxis\":{\"type\":\"log\"}},                        {\"responsive\": true}                    ).then(function(){\n",
       "                            \n",
       "var gd = document.getElementById('482f1630-9963-4308-832a-2142eed1933e');\n",
       "var x = new MutationObserver(function (mutations, observer) {{\n",
       "        var display = window.getComputedStyle(gd).display;\n",
       "        if (!display || display === 'none') {{\n",
       "            console.log([gd, 'removed!']);\n",
       "            Plotly.purge(gd);\n",
       "            observer.disconnect();\n",
       "        }}\n",
       "}});\n",
       "\n",
       "// Listen for the removal of the full notebook cells\n",
       "var notebookContainer = gd.closest('#notebook-container');\n",
       "if (notebookContainer) {{\n",
       "    x.observe(notebookContainer, {childList: true});\n",
       "}}\n",
       "\n",
       "// Listen for the clearing of the current output cell\n",
       "var outputEl = gd.closest('.output');\n",
       "if (outputEl) {{\n",
       "    x.observe(outputEl, {childList: true});\n",
       "}}\n",
       "\n",
       "                        })                };                });            </script>        </div>"
      ]
     },
     "metadata": {},
     "output_type": "display_data"
    },
    {
     "data": {
      "image/png": "[encoded data removed]",
      "text/plain": [
       "<Figure size 640x480 with 2 Axes>"
      ]
     },
     "metadata": {},
     "output_type": "display_data"
    },
    {
     "name": "stdout",
     "output_type": "stream",
     "text": [
      "Index([64, 128, 256, 512, 1024, 2048, 4096], dtype='int64', name='bs')\n"
     ]
    },
    {
     "data": {
      "application/vnd.plotly.v1+json": {
       "config": {
        "plotlyServerURL": "https://plot.ly"
       },
       "data": [
        {
         "type": "contour",
         "x": [
          1,
          2,
          4,
          8,
          16,
          32,
          64,
          128,
          192
         ],
         "y": [
          64,
          128,
          256,
          512,
          1024,
          2048,
          4096
         ],
         "z": [
          [
           1734.2662525,
           1064.257461,
           735.2058715000001,
           462.283502,
           309.872584,
           311.28458950000004,
           282.951371,
           283.782886,
           291.16974
          ],
          [
           1653.637457,
           1028.5803230000001,
           588.660567,
           367.4267395,
           371.29951800000003,
           316.5635635,
           302.916898,
           297.350234,
           304.6723025
          ],
          [
           1608.1355585000001,
           799.1488245,
           405.990518,
           247.3968495,
           151.7885405,
           173.2445485,
           260.8697385,
           221.38186050000002,
           228.47044599999998
          ],
          [
           1826.623794,
           1364.838095,
           820.041854,
           533.495811,
           414.787802,
           409.893744,
           367.935048,
           518.205682,
           690.708951
          ],
          [
           2535.629441,
           1788.776582,
           1122.297214,
           777.081884,
           608.250994,
           325.505157,
           447.574526,
           442.681249,
           411.451394
          ],
          [
           1844.95541,
           1118.530428,
           697.336789,
           444.925913,
           337.557832,
           255.383849,
           516.859563,
           992.845755,
           1213.066868
          ],
          [
           1920.064995,
           1215.397996,
           834.925616,
           383.950873,
           290.697657,
           297.153387,
           507.032239,
           990.071838,
           1291.495997
          ]
         ]
        }
       ],
       "layout": {
        "template": {
         "data": {
          "bar": [
           {
            "error_x": {
             "color": "#2a3f5f"
            },
            "error_y": {
             "color": "#2a3f5f"
            },
            "marker": {
             "line": {
              "color": "#E5ECF6",
              "width": 0.5
             },
             "pattern": {
              "fillmode": "overlay",
              "size": 10,
              "solidity": 0.2
             }
            },
            "type": "bar"
           }
          ],
          "barpolar": [
           {
            "marker": {
             "line": {
              "color": "#E5ECF6",
              "width": 0.5
             },
             "pattern": {
              "fillmode": "overlay",
              "size": 10,
              "solidity": 0.2
             }
            },
            "type": "barpolar"
           }
          ],
          "carpet": [
           {
            "aaxis": {
             "endlinecolor": "#2a3f5f",
             "gridcolor": "white",
             "linecolor": "white",
             "minorgridcolor": "white",
             "startlinecolor": "#2a3f5f"
            },
            "baxis": {
             "endlinecolor": "#2a3f5f",
             "gridcolor": "white",
             "linecolor": "white",
             "minorgridcolor": "white",
             "startlinecolor": "#2a3f5f"
            },
            "type": "carpet"
           }
          ],
          "choropleth": [
           {
            "colorbar": {
             "outlinewidth": 0,
             "ticks": ""
            },
            "type": "choropleth"
           }
          ],
          "contour": [
           {
            "colorbar": {
             "outlinewidth": 0,
             "ticks": ""
            },
            "colorscale": [
             [
              0,
              "#0d0887"
             ],
             [
              0.1111111111111111,
              "#46039f"
             ],
             [
              0.2222222222222222,
              "#7201a8"
             ],
             [
              0.3333333333333333,
              "#9c179e"
             ],
             [
              0.4444444444444444,
              "#bd3786"
             ],
             [
              0.5555555555555556,
              "#d8576b"
             ],
             [
              0.6666666666666666,
              "#ed7953"
             ],
             [
              0.7777777777777778,
              "#fb9f3a"
             ],
             [
              0.8888888888888888,
              "#fdca26"
             ],
             [
              1,
              "#f0f921"
             ]
            ],
            "type": "contour"
           }
          ],
          "contourcarpet": [
           {
            "colorbar": {
             "outlinewidth": 0,
             "ticks": ""
            },
            "type": "contourcarpet"
           }
          ],
          "heatmap": [
           {
            "colorbar": {
             "outlinewidth": 0,
             "ticks": ""
            },
            "colorscale": [
             [
              0,
              "#0d0887"
             ],
             [
              0.1111111111111111,
              "#46039f"
             ],
             [
              0.2222222222222222,
              "#7201a8"
             ],
             [
              0.3333333333333333,
              "#9c179e"
             ],
             [
              0.4444444444444444,
              "#bd3786"
             ],
             [
              0.5555555555555556,
              "#d8576b"
             ],
             [
              0.6666666666666666,
              "#ed7953"
             ],
             [
              0.7777777777777778,
              "#fb9f3a"
             ],
             [
              0.8888888888888888,
              "#fdca26"
             ],
             [
              1,
              "#f0f921"
             ]
            ],
            "type": "heatmap"
           }
          ],
          "heatmapgl": [
           {
            "colorbar": {
             "outlinewidth": 0,
             "ticks": ""
            },
            "colorscale": [
             [
              0,
              "#0d0887"
             ],
             [
              0.1111111111111111,
              "#46039f"
             ],
             [
              0.2222222222222222,
              "#7201a8"
             ],
             [
              0.3333333333333333,
              "#9c179e"
             ],
             [
              0.4444444444444444,
              "#bd3786"
             ],
             [
              0.5555555555555556,
              "#d8576b"
             ],
             [
              0.6666666666666666,
              "#ed7953"
             ],
             [
              0.7777777777777778,
              "#fb9f3a"
             ],
             [
              0.8888888888888888,
              "#fdca26"
             ],
             [
              1,
              "#f0f921"
             ]
            ],
            "type": "heatmapgl"
           }
          ],
          "histogram": [
           {
            "marker": {
             "pattern": {
              "fillmode": "overlay",
              "size": 10,
              "solidity": 0.2
             }
            },
            "type": "histogram"
           }
          ],
          "histogram2d": [
           {
            "colorbar": {
             "outlinewidth": 0,
             "ticks": ""
            },
            "colorscale": [
             [
              0,
              "#0d0887"
             ],
             [
              0.1111111111111111,
              "#46039f"
             ],
             [
              0.2222222222222222,
              "#7201a8"
             ],
             [
              0.3333333333333333,
              "#9c179e"
             ],
             [
              0.4444444444444444,
              "#bd3786"
             ],
             [
              0.5555555555555556,
              "#d8576b"
             ],
             [
              0.6666666666666666,
              "#ed7953"
             ],
             [
              0.7777777777777778,
              "#fb9f3a"
             ],
             [
              0.8888888888888888,
              "#fdca26"
             ],
             [
              1,
              "#f0f921"
             ]
            ],
            "type": "histogram2d"
           }
          ],
          "histogram2dcontour": [
           {
            "colorbar": {
             "outlinewidth": 0,
             "ticks": ""
            },
            "colorscale": [
             [
              0,
              "#0d0887"
             ],
             [
              0.1111111111111111,
              "#46039f"
             ],
             [
              0.2222222222222222,
              "#7201a8"
             ],
             [
              0.3333333333333333,
              "#9c179e"
             ],
             [
              0.4444444444444444,
              "#bd3786"
             ],
             [
              0.5555555555555556,
              "#d8576b"
             ],
             [
              0.6666666666666666,
              "#ed7953"
             ],
             [
              0.7777777777777778,
              "#fb9f3a"
             ],
             [
              0.8888888888888888,
              "#fdca26"
             ],
             [
              1,
              "#f0f921"
             ]
            ],
            "type": "histogram2dcontour"
           }
          ],
          "mesh3d": [
           {
            "colorbar": {
             "outlinewidth": 0,
             "ticks": ""
            },
            "type": "mesh3d"
           }
          ],
          "parcoords": [
           {
            "line": {
             "colorbar": {
              "outlinewidth": 0,
              "ticks": ""
             }
            },
            "type": "parcoords"
           }
          ],
          "pie": [
           {
            "automargin": true,
            "type": "pie"
           }
          ],
          "scatter": [
           {
            "fillpattern": {
             "fillmode": "overlay",
             "size": 10,
             "solidity": 0.2
            },
            "type": "scatter"
           }
          ],
          "scatter3d": [
           {
            "line": {
             "colorbar": {
              "outlinewidth": 0,
              "ticks": ""
             }
            },
            "marker": {
             "colorbar": {
              "outlinewidth": 0,
              "ticks": ""
             }
            },
            "type": "scatter3d"
           }
          ],
          "scattercarpet": [
           {
            "marker": {
             "colorbar": {
              "outlinewidth": 0,
              "ticks": ""
             }
            },
            "type": "scattercarpet"
           }
          ],
          "scattergeo": [
           {
            "marker": {
             "colorbar": {
              "outlinewidth": 0,
              "ticks": ""
             }
            },
            "type": "scattergeo"
           }
          ],
          "scattergl": [
           {
            "marker": {
             "colorbar": {
              "outlinewidth": 0,
              "ticks": ""
             }
            },
            "type": "scattergl"
           }
          ],
          "scattermapbox": [
           {
            "marker": {
             "colorbar": {
              "outlinewidth": 0,
              "ticks": ""
             }
            },
            "type": "scattermapbox"
           }
          ],
          "scatterpolar": [
           {
            "marker": {
             "colorbar": {
              "outlinewidth": 0,
              "ticks": ""
             }
            },
            "type": "scatterpolar"
           }
          ],
          "scatterpolargl": [
           {
            "marker": {
             "colorbar": {
              "outlinewidth": 0,
              "ticks": ""
             }
            },
            "type": "scatterpolargl"
           }
          ],
          "scatterternary": [
           {
            "marker": {
             "colorbar": {
              "outlinewidth": 0,
              "ticks": ""
             }
            },
            "type": "scatterternary"
           }
          ],
          "surface": [
           {
            "colorbar": {
             "outlinewidth": 0,
             "ticks": ""
            },
            "colorscale": [
             [
              0,
              "#0d0887"
             ],
             [
              0.1111111111111111,
              "#46039f"
             ],
             [
              0.2222222222222222,
              "#7201a8"
             ],
             [
              0.3333333333333333,
              "#9c179e"
             ],
             [
              0.4444444444444444,
              "#bd3786"
             ],
             [
              0.5555555555555556,
              "#d8576b"
             ],
             [
              0.6666666666666666,
              "#ed7953"
             ],
             [
              0.7777777777777778,
              "#fb9f3a"
             ],
             [
              0.8888888888888888,
              "#fdca26"
             ],
             [
              1,
              "#f0f921"
             ]
            ],
            "type": "surface"
           }
          ],
          "table": [
           {
            "cells": {
             "fill": {
              "color": "#EBF0F8"
             },
             "line": {
              "color": "white"
             }
            },
            "header": {
             "fill": {
              "color": "#C8D4E3"
             },
             "line": {
              "color": "white"
             }
            },
            "type": "table"
           }
          ]
         },
         "layout": {
          "annotationdefaults": {
           "arrowcolor": "#2a3f5f",
           "arrowhead": 0,
           "arrowwidth": 1
          },
          "autotypenumbers": "strict",
          "coloraxis": {
           "colorbar": {
            "outlinewidth": 0,
            "ticks": ""
           }
          },
          "colorscale": {
           "diverging": [
            [
             0,
             "#8e0152"
            ],
            [
             0.1,
             "#c51b7d"
            ],
            [
             0.2,
             "#de77ae"
            ],
            [
             0.3,
             "#f1b6da"
            ],
            [
             0.4,
             "#fde0ef"
            ],
            [
             0.5,
             "#f7f7f7"
            ],
            [
             0.6,
             "#e6f5d0"
            ],
            [
             0.7,
             "#b8e186"
            ],
            [
             0.8,
             "#7fbc41"
            ],
            [
             0.9,
             "#4d9221"
            ],
            [
             1,
             "#276419"
            ]
           ],
           "sequential": [
            [
             0,
             "#0d0887"
            ],
            [
             0.1111111111111111,
             "#46039f"
            ],
            [
             0.2222222222222222,
             "#7201a8"
            ],
            [
             0.3333333333333333,
             "#9c179e"
            ],
            [
             0.4444444444444444,
             "#bd3786"
            ],
            [
             0.5555555555555556,
             "#d8576b"
            ],
            [
             0.6666666666666666,
             "#ed7953"
            ],
            [
             0.7777777777777778,
             "#fb9f3a"
            ],
            [
             0.8888888888888888,
             "#fdca26"
            ],
            [
             1,
             "#f0f921"
            ]
           ],
           "sequentialminus": [
            [
             0,
             "#0d0887"
            ],
            [
             0.1111111111111111,
             "#46039f"
            ],
            [
             0.2222222222222222,
             "#7201a8"
            ],
            [
             0.3333333333333333,
             "#9c179e"
            ],
            [
             0.4444444444444444,
             "#bd3786"
            ],
            [
             0.5555555555555556,
             "#d8576b"
            ],
            [
             0.6666666666666666,
             "#ed7953"
            ],
            [
             0.7777777777777778,
             "#fb9f3a"
            ],
            [
             0.8888888888888888,
             "#fdca26"
            ],
            [
             1,
             "#f0f921"
            ]
           ]
          },
          "colorway": [
           "#636efa",
           "#EF553B",
           "#00cc96",
           "#ab63fa",
           "#FFA15A",
           "#19d3f3",
           "#FF6692",
           "#B6E880",
           "#FF97FF",
           "#FECB52"
          ],
          "font": {
           "color": "#2a3f5f"
          },
          "geo": {
           "bgcolor": "white",
           "lakecolor": "white",
           "landcolor": "#E5ECF6",
           "showlakes": true,
           "showland": true,
           "subunitcolor": "white"
          },
          "hoverlabel": {
           "align": "left"
          },
          "hovermode": "closest",
          "mapbox": {
           "style": "light"
          },
          "paper_bgcolor": "white",
          "plot_bgcolor": "#E5ECF6",
          "polar": {
           "angularaxis": {
            "gridcolor": "white",
            "linecolor": "white",
            "ticks": ""
           },
           "bgcolor": "#E5ECF6",
           "radialaxis": {
            "gridcolor": "white",
            "linecolor": "white",
            "ticks": ""
           }
          },
          "scene": {
           "xaxis": {
            "backgroundcolor": "#E5ECF6",
            "gridcolor": "white",
            "gridwidth": 2,
            "linecolor": "white",
            "showbackground": true,
            "ticks": "",
            "zerolinecolor": "white"
           },
           "yaxis": {
            "backgroundcolor": "#E5ECF6",
            "gridcolor": "white",
            "gridwidth": 2,
            "linecolor": "white",
            "showbackground": true,
            "ticks": "",
            "zerolinecolor": "white"
           },
           "zaxis": {
            "backgroundcolor": "#E5ECF6",
            "gridcolor": "white",
            "gridwidth": 2,
            "linecolor": "white",
            "showbackground": true,
            "ticks": "",
            "zerolinecolor": "white"
           }
          },
          "shapedefaults": {
           "line": {
            "color": "#2a3f5f"
           }
          },
          "ternary": {
           "aaxis": {
            "gridcolor": "white",
            "linecolor": "white",
            "ticks": ""
           },
           "baxis": {
            "gridcolor": "white",
            "linecolor": "white",
            "ticks": ""
           },
           "bgcolor": "#E5ECF6",
           "caxis": {
            "gridcolor": "white",
            "linecolor": "white",
            "ticks": ""
           }
          },
          "title": {
           "x": 0.05
          },
          "xaxis": {
           "automargin": true,
           "gridcolor": "white",
           "linecolor": "white",
           "ticks": "",
           "title": {
            "standoff": 15
           },
           "zerolinecolor": "white",
           "zerolinewidth": 2
          },
          "yaxis": {
           "automargin": true,
           "gridcolor": "white",
           "linecolor": "white",
           "ticks": "",
           "title": {
            "standoff": 15
           },
           "zerolinecolor": "white",
           "zerolinewidth": 2
          }
         }
        },
        "xaxis": {
         "type": "log"
        },
        "yaxis": {
         "type": "log"
        }
       }
      },
      "text/html": [
       "<div>                            <div id=\"cf6b1fa6-4464-4286-a4f2-26528ad6032f\" class=\"plotly-graph-div\" style=\"height:525px; width:100%;\"></div>            <script type=\"text/javascript\">                require([\"plotly\"], function(Plotly) {                    window.PLOTLYENV=window.PLOTLYENV || {};                                    if (document.getElementById(\"cf6b1fa6-4464-4286-a4f2-26528ad6032f\")) {                    Plotly.newPlot(                        \"cf6b1fa6-4464-4286-a4f2-26528ad6032f\",                        [{\"x\":[1,2,4,8,16,32,64,128,192],\"y\":[64,128,256,512,1024,2048,4096],\"z\":[[1734.2662525,1064.257461,735.2058715000001,462.283502,309.872584,311.28458950000004,282.951371,283.782886,291.16974],[1653.637457,1028.5803230000001,588.660567,367.4267395,371.29951800000003,316.5635635,302.916898,297.350234,304.6723025],[1608.1355585000001,799.1488245,405.990518,247.3968495,151.7885405,173.2445485,260.8697385,221.38186050000002,228.47044599999998],[1826.623794,1364.838095,820.041854,533.495811,414.787802,409.893744,367.935048,518.205682,690.708951],[2535.629441,1788.776582,1122.297214,777.081884,608.250994,325.505157,447.574526,442.681249,411.451394],[1844.95541,1118.530428,697.336789,444.925913,337.557832,255.383849,516.859563,992.845755,1213.066868],[1920.064995,1215.397996,834.925616,383.950873,290.697657,297.153387,507.032239,990.071838,1291.495997]],\"type\":\"contour\"}],                        {\"template\":{\"data\":{\"histogram2dcontour\":[{\"type\":\"histogram2dcontour\",\"colorbar\":{\"outlinewidth\":0,\"ticks\":\"\"},\"colorscale\":[[0.0,\"#0d0887\"],[0.1111111111111111,\"#46039f\"],[0.2222222222222222,\"#7201a8\"],[0.3333333333333333,\"#9c179e\"],[0.4444444444444444,\"#bd3786\"],[0.5555555555555556,\"#d8576b\"],[0.6666666666666666,\"#ed7953\"],[0.7777777777777778,\"#fb9f3a\"],[0.8888888888888888,\"#fdca26\"],[1.0,\"#f0f921\"]]}],\"choropleth\":[{\"type\":\"choropleth\",\"colorbar\":{\"outlinewidth\":0,\"ticks\":\"\"}}],\"histogram2d\":[{\"type\":\"histogram2d\",\"colorbar\":{\"outlinewidth\":0,\"ticks\":\"\"},\"colorscale\":[[0.0,\"#0d0887\"],[0.1111111111111111,\"#46039f\"],[0.2222222222222222,\"#7201a8\"],[0.3333333333333333,\"#9c179e\"],[0.4444444444444444,\"#bd3786\"],[0.5555555555555556,\"#d8576b\"],[0.6666666666666666,\"#ed7953\"],[0.7777777777777778,\"#fb9f3a\"],[0.8888888888888888,\"#fdca26\"],[1.0,\"#f0f921\"]]}],\"heatmap\":[{\"type\":\"heatmap\",\"colorbar\":{\"outlinewidth\":0,\"ticks\":\"\"},\"colorscale\":[[0.0,\"#0d0887\"],[0.1111111111111111,\"#46039f\"],[0.2222222222222222,\"#7201a8\"],[0.3333333333333333,\"#9c179e\"],[0.4444444444444444,\"#bd3786\"],[0.5555555555555556,\"#d8576b\"],[0.6666666666666666,\"#ed7953\"],[0.7777777777777778,\"#fb9f3a\"],[0.8888888888888888,\"#fdca26\"],[1.0,\"#f0f921\"]]}],\"heatmapgl\":[{\"type\":\"heatmapgl\",\"colorbar\":{\"outlinewidth\":0,\"ticks\":\"\"},\"colorscale\":[[0.0,\"#0d0887\"],[0.1111111111111111,\"#46039f\"],[0.2222222222222222,\"#7201a8\"],[0.3333333333333333,\"#9c179e\"],[0.4444444444444444,\"#bd3786\"],[0.5555555555555556,\"#d8576b\"],[0.6666666666666666,\"#ed7953\"],[0.7777777777777778,\"#fb9f3a\"],[0.8888888888888888,\"#fdca26\"],[1.0,\"#f0f921\"]]}],\"contourcarpet\":[{\"type\":\"contourcarpet\",\"colorbar\":{\"outlinewidth\":0,\"ticks\":\"\"}}],\"contour\":[{\"type\":\"contour\",\"colorbar\":{\"outlinewidth\":0,\"ticks\":\"\"},\"colorscale\":[[0.0,\"#0d0887\"],[0.1111111111111111,\"#46039f\"],[0.2222222222222222,\"#7201a8\"],[0.3333333333333333,\"#9c179e\"],[0.4444444444444444,\"#bd3786\"],[0.5555555555555556,\"#d8576b\"],[0.6666666666666666,\"#ed7953\"],[0.7777777777777778,\"#fb9f3a\"],[0.8888888888888888,\"#fdca26\"],[1.0,\"#f0f921\"]]}],\"surface\":[{\"type\":\"surface\",\"colorbar\":{\"outlinewidth\":0,\"ticks\":\"\"},\"colorscale\":[[0.0,\"#0d0887\"],[0.1111111111111111,\"#46039f\"],[0.2222222222222222,\"#7201a8\"],[0.3333333333333333,\"#9c179e\"],[0.4444444444444444,\"#bd3786\"],[0.5555555555555556,\"#d8576b\"],[0.6666666666666666,\"#ed7953\"],[0.7777777777777778,\"#fb9f3a\"],[0.8888888888888888,\"#fdca26\"],[1.0,\"#f0f921\"]]}],\"mesh3d\":[{\"type\":\"mesh3d\",\"colorbar\":{\"outlinewidth\":0,\"ticks\":\"\"}}],\"scatter\":[{\"fillpattern\":{\"fillmode\":\"overlay\",\"size\":10,\"solidity\":0.2},\"type\":\"scatter\"}],\"parcoords\":[{\"type\":\"parcoords\",\"line\":{\"colorbar\":{\"outlinewidth\":0,\"ticks\":\"\"}}}],\"scatterpolargl\":[{\"type\":\"scatterpolargl\",\"marker\":{\"colorbar\":{\"outlinewidth\":0,\"ticks\":\"\"}}}],\"bar\":[{\"error_x\":{\"color\":\"#2a3f5f\"},\"error_y\":{\"color\":\"#2a3f5f\"},\"marker\":{\"line\":{\"color\":\"#E5ECF6\",\"width\":0.5},\"pattern\":{\"fillmode\":\"overlay\",\"size\":10,\"solidity\":0.2}},\"type\":\"bar\"}],\"scattergeo\":[{\"type\":\"scattergeo\",\"marker\":{\"colorbar\":{\"outlinewidth\":0,\"ticks\":\"\"}}}],\"scatterpolar\":[{\"type\":\"scatterpolar\",\"marker\":{\"colorbar\":{\"outlinewidth\":0,\"ticks\":\"\"}}}],\"histogram\":[{\"marker\":{\"pattern\":{\"fillmode\":\"overlay\",\"size\":10,\"solidity\":0.2}},\"type\":\"histogram\"}],\"scattergl\":[{\"type\":\"scattergl\",\"marker\":{\"colorbar\":{\"outlinewidth\":0,\"ticks\":\"\"}}}],\"scatter3d\":[{\"type\":\"scatter3d\",\"line\":{\"colorbar\":{\"outlinewidth\":0,\"ticks\":\"\"}},\"marker\":{\"colorbar\":{\"outlinewidth\":0,\"ticks\":\"\"}}}],\"scattermapbox\":[{\"type\":\"scattermapbox\",\"marker\":{\"colorbar\":{\"outlinewidth\":0,\"ticks\":\"\"}}}],\"scatterternary\":[{\"type\":\"scatterternary\",\"marker\":{\"colorbar\":{\"outlinewidth\":0,\"ticks\":\"\"}}}],\"scattercarpet\":[{\"type\":\"scattercarpet\",\"marker\":{\"colorbar\":{\"outlinewidth\":0,\"ticks\":\"\"}}}],\"carpet\":[{\"aaxis\":{\"endlinecolor\":\"#2a3f5f\",\"gridcolor\":\"white\",\"linecolor\":\"white\",\"minorgridcolor\":\"white\",\"startlinecolor\":\"#2a3f5f\"},\"baxis\":{\"endlinecolor\":\"#2a3f5f\",\"gridcolor\":\"white\",\"linecolor\":\"white\",\"minorgridcolor\":\"white\",\"startlinecolor\":\"#2a3f5f\"},\"type\":\"carpet\"}],\"table\":[{\"cells\":{\"fill\":{\"color\":\"#EBF0F8\"},\"line\":{\"color\":\"white\"}},\"header\":{\"fill\":{\"color\":\"#C8D4E3\"},\"line\":{\"color\":\"white\"}},\"type\":\"table\"}],\"barpolar\":[{\"marker\":{\"line\":{\"color\":\"#E5ECF6\",\"width\":0.5},\"pattern\":{\"fillmode\":\"overlay\",\"size\":10,\"solidity\":0.2}},\"type\":\"barpolar\"}],\"pie\":[{\"automargin\":true,\"type\":\"pie\"}]},\"layout\":{\"autotypenumbers\":\"strict\",\"colorway\":[\"#636efa\",\"#EF553B\",\"#00cc96\",\"#ab63fa\",\"#FFA15A\",\"#19d3f3\",\"#FF6692\",\"#B6E880\",\"#FF97FF\",\"#FECB52\"],\"font\":{\"color\":\"#2a3f5f\"},\"hovermode\":\"closest\",\"hoverlabel\":{\"align\":\"left\"},\"paper_bgcolor\":\"white\",\"plot_bgcolor\":\"#E5ECF6\",\"polar\":{\"bgcolor\":\"#E5ECF6\",\"angularaxis\":{\"gridcolor\":\"white\",\"linecolor\":\"white\",\"ticks\":\"\"},\"radialaxis\":{\"gridcolor\":\"white\",\"linecolor\":\"white\",\"ticks\":\"\"}},\"ternary\":{\"bgcolor\":\"#E5ECF6\",\"aaxis\":{\"gridcolor\":\"white\",\"linecolor\":\"white\",\"ticks\":\"\"},\"baxis\":{\"gridcolor\":\"white\",\"linecolor\":\"white\",\"ticks\":\"\"},\"caxis\":{\"gridcolor\":\"white\",\"linecolor\":\"white\",\"ticks\":\"\"}},\"coloraxis\":{\"colorbar\":{\"outlinewidth\":0,\"ticks\":\"\"}},\"colorscale\":{\"sequential\":[[0.0,\"#0d0887\"],[0.1111111111111111,\"#46039f\"],[0.2222222222222222,\"#7201a8\"],[0.3333333333333333,\"#9c179e\"],[0.4444444444444444,\"#bd3786\"],[0.5555555555555556,\"#d8576b\"],[0.6666666666666666,\"#ed7953\"],[0.7777777777777778,\"#fb9f3a\"],[0.8888888888888888,\"#fdca26\"],[1.0,\"#f0f921\"]],\"sequentialminus\":[[0.0,\"#0d0887\"],[0.1111111111111111,\"#46039f\"],[0.2222222222222222,\"#7201a8\"],[0.3333333333333333,\"#9c179e\"],[0.4444444444444444,\"#bd3786\"],[0.5555555555555556,\"#d8576b\"],[0.6666666666666666,\"#ed7953\"],[0.7777777777777778,\"#fb9f3a\"],[0.8888888888888888,\"#fdca26\"],[1.0,\"#f0f921\"]],\"diverging\":[[0,\"#8e0152\"],[0.1,\"#c51b7d\"],[0.2,\"#de77ae\"],[0.3,\"#f1b6da\"],[0.4,\"#fde0ef\"],[0.5,\"#f7f7f7\"],[0.6,\"#e6f5d0\"],[0.7,\"#b8e186\"],[0.8,\"#7fbc41\"],[0.9,\"#4d9221\"],[1,\"#276419\"]]},\"xaxis\":{\"gridcolor\":\"white\",\"linecolor\":\"white\",\"ticks\":\"\",\"title\":{\"standoff\":15},\"zerolinecolor\":\"white\",\"automargin\":true,\"zerolinewidth\":2},\"yaxis\":{\"gridcolor\":\"white\",\"linecolor\":\"white\",\"ticks\":\"\",\"title\":{\"standoff\":15},\"zerolinecolor\":\"white\",\"automargin\":true,\"zerolinewidth\":2},\"scene\":{\"xaxis\":{\"backgroundcolor\":\"#E5ECF6\",\"gridcolor\":\"white\",\"linecolor\":\"white\",\"showbackground\":true,\"ticks\":\"\",\"zerolinecolor\":\"white\",\"gridwidth\":2},\"yaxis\":{\"backgroundcolor\":\"#E5ECF6\",\"gridcolor\":\"white\",\"linecolor\":\"white\",\"showbackground\":true,\"ticks\":\"\",\"zerolinecolor\":\"white\",\"gridwidth\":2},\"zaxis\":{\"backgroundcolor\":\"#E5ECF6\",\"gridcolor\":\"white\",\"linecolor\":\"white\",\"showbackground\":true,\"ticks\":\"\",\"zerolinecolor\":\"white\",\"gridwidth\":2}},\"shapedefaults\":{\"line\":{\"color\":\"#2a3f5f\"}},\"annotationdefaults\":{\"arrowcolor\":\"#2a3f5f\",\"arrowhead\":0,\"arrowwidth\":1},\"geo\":{\"bgcolor\":\"white\",\"landcolor\":\"#E5ECF6\",\"subunitcolor\":\"white\",\"showland\":true,\"showlakes\":true,\"lakecolor\":\"white\"},\"title\":{\"x\":0.05},\"mapbox\":{\"style\":\"light\"}}},\"xaxis\":{\"type\":\"log\"},\"yaxis\":{\"type\":\"log\"}},                        {\"responsive\": true}                    ).then(function(){\n",
       "                            \n",
       "var gd = document.getElementById('cf6b1fa6-4464-4286-a4f2-26528ad6032f');\n",
       "var x = new MutationObserver(function (mutations, observer) {{\n",
       "        var display = window.getComputedStyle(gd).display;\n",
       "        if (!display || display === 'none') {{\n",
       "            console.log([gd, 'removed!']);\n",
       "            Plotly.purge(gd);\n",
       "            observer.disconnect();\n",
       "        }}\n",
       "}});\n",
       "\n",
       "// Listen for the removal of the full notebook cells\n",
       "var notebookContainer = gd.closest('#notebook-container');\n",
       "if (notebookContainer) {{\n",
       "    x.observe(notebookContainer, {childList: true});\n",
       "}}\n",
       "\n",
       "// Listen for the clearing of the current output cell\n",
       "var outputEl = gd.closest('.output');\n",
       "if (outputEl) {{\n",
       "    x.observe(outputEl, {childList: true});\n",
       "}}\n",
       "\n",
       "                        })                };                });            </script>        </div>"
      ]
     },
     "metadata": {},
     "output_type": "display_data"
    }
   ],
   "source": [
    "import plotly.graph_objects as go\n",
    "\n",
    "def show_plotly(df):\n",
    "    print(df.index)\n",
    "    fig = go.Figure(data =\n",
    "        go.Contour(\n",
    "            z=df.values,\n",
    "            x=df.columns, # horizontal axis\n",
    "            y=df.index # vertical axis\n",
    "        ))\n",
    "    fig.update_xaxes(type=\"log\")\n",
    "    fig.update_yaxes(type=\"log\")\n",
    "    fig.show()\n",
    "\n",
    "def show_plt(df):\n",
    "    plt.figure()\n",
    "    sns.heatmap(data=df, annot=True, fmt=\".1f\")\n",
    "    plt.xlabel(\"Layer Thread Count\")\n",
    "    plt.ylabel(\"Batch Size\")\n",
    "    plt.title(model)\n",
    "    plt.show()\n",
    "    \n",
    "for model in out['model'].drop_duplicates().values:\n",
    "    # plt.figure()\n",
    "    df = out[out['model'] == model]\n",
    "    df = df.loc[:, ['bs', 'intratc', 'total_time']].groupby(['bs', 'intratc']).mean().reset_index()\n",
    "    df = df.pivot(index=\"bs\", columns=\"intratc\", values=\"total_time\")\n",
    "    show_plt(df)\n",
    "    show_plotly(df)\n",
    "    "
   ]
  },
  {
   "cell_type": "code",
   "execution_count": null,
   "id": "31dcabe2",
   "metadata": {},
   "outputs": [],
   "source": []
  }
 ],
 "metadata": {
  "kernelspec": {
   "display_name": "Python 3 (ipykernel)",
   "language": "python",
   "name": "python3"
  },
  "language_info": {
   "codemirror_mode": {
    "name": "ipython",
    "version": 3
   },
   "file_extension": ".py",
   "mimetype": "text/x-python",
   "name": "python",
   "nbconvert_exporter": "python",
   "pygments_lexer": "ipython3",
   "version": "3.12.3"
  }
 },
 "nbformat": 4,
 "nbformat_minor": 5
}
