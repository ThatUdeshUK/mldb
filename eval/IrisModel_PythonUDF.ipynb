{
 "cells": [
  {
   "cell_type": "markdown",
   "id": "cf970044-283f-4ed7-b140-70b7b9f55834",
   "metadata": {},
   "source": [
    "# Evaluate Python UDF Performance (Iris)"
   ]
  },
  {
   "cell_type": "code",
   "execution_count": 1,
   "id": "ec005594-ad5e-4351-bedb-0b6e113eceb9",
   "metadata": {},
   "outputs": [],
   "source": [
    "import numpy as np\n",
    "import pandas as pd\n",
    "\n",
    "import time\n",
    "import json\n",
    "\n",
    "import duckdb\n",
    "from duckdb.typing import *\n",
    "from duckdb import typing\n",
    "\n",
    "import torch\n",
    "import torch.nn as nn\n",
    "import pyarrow as pa\n",
    "\n",
    "from pprint import pprint"
   ]
  },
  {
   "cell_type": "markdown",
   "id": "c9d76125-3a97-40d9-807f-52ce0cf5a1fe",
   "metadata": {},
   "source": [
    "### Config"
   ]
  },
  {
   "cell_type": "code",
   "execution_count": 2,
   "id": "33084ec8-aa66-434c-a853-7a0b961a9b9c",
   "metadata": {},
   "outputs": [],
   "source": [
    "times = {}"
   ]
  },
  {
   "cell_type": "code",
   "execution_count": 3,
   "id": "c575e774-82ec-489a-bb68-f8422ef5c9f5",
   "metadata": {},
   "outputs": [
    {
     "data": {
      "text/plain": [
       "'iris'"
      ]
     },
     "execution_count": 3,
     "metadata": {},
     "output_type": "execute_result"
    }
   ],
   "source": [
    "table_name = 'iris'\n",
    "times['dataset'] = 'iris'\n",
    "times['pipeline'] = 'python_udf_vec|d5-w512'\n",
    "\n",
    "ori_workload = False\n",
    "drop_table = False\n",
    "\n",
    "if not ori_workload:\n",
    "    workload = 20000000\n",
    "\n",
    "table_name"
   ]
  },
  {
   "cell_type": "markdown",
   "id": "95a2d9dc-1e3d-4bc2-83e8-91bc487243db",
   "metadata": {},
   "source": [
    "### Load iris data"
   ]
  },
  {
   "cell_type": "code",
   "execution_count": 4,
   "id": "ae5a28b4-3101-433e-a61f-6d415d2f5235",
   "metadata": {},
   "outputs": [],
   "source": [
    "times['workload'] = workload"
   ]
  },
  {
   "cell_type": "markdown",
   "id": "c57f02f3-7e5d-4795-817a-33031dc0e481",
   "metadata": {},
   "source": [
    "### Load the compiled model"
   ]
  },
  {
   "cell_type": "code",
   "execution_count": 5,
   "id": "b782d6b2-6681-4254-8547-6a8718794ab5",
   "metadata": {},
   "outputs": [],
   "source": [
    "con = duckdb.connect(\"../test.db\")"
   ]
  },
  {
   "cell_type": "code",
   "execution_count": 6,
   "id": "d1a84330-2884-4e45-a9bc-0a30496da9c9",
   "metadata": {},
   "outputs": [
    {
     "name": "stdout",
     "output_type": "stream",
     "text": [
      "┌─────────────┐\n",
      "│ load_iris() │\n",
      "│   boolean   │\n",
      "├─────────────┤\n",
      "│ true        │\n",
      "└─────────────┘\n",
      "\n"
     ]
    }
   ],
   "source": [
    "def load_iris():\n",
    "    model_path = \"/Users/udeshuk/Developer/mldb/models/iris_d5_w512.pt\"\n",
    "    load_iris.model = torch.jit.load(model_path)\n",
    "    return True\n",
    "\n",
    "load_iris.model = None\n",
    "\n",
    "st = time.perf_counter_ns()\n",
    "\n",
    "con.create_function(\"load_iris\", load_iris, [], BOOLEAN, side_effects=True)\n",
    "res = con.sql(\"SELECT load_iris()\").show()\n",
    "\n",
    "et = time.perf_counter_ns()\n",
    "times[\"load\"] = (et - st)/1000"
   ]
  },
  {
   "cell_type": "markdown",
   "id": "4d1ab786-2a67-458b-a543-6c54500385e3",
   "metadata": {},
   "source": [
    "### Predict"
   ]
  },
  {
   "cell_type": "code",
   "execution_count": 7,
   "id": "e8972d39-66f3-4526-9b8e-0cd922b814ee",
   "metadata": {},
   "outputs": [
    {
     "name": "stderr",
     "output_type": "stream",
     "text": [
      "/var/folders/dv/1pwqrs8j4kjghlrb3gc0b0_m0000gp/T/ipykernel_30246/3992949798.py:4: UserWarning: The given NumPy array is not writable, and PyTorch does not support non-writable tensors. This means writing to this tensor will result in undefined behavior. You may want to copy the array to protect its data or make it writable before converting it to a tensor. This type of warning will be suppressed for the rest of this program. (Triggered internally at /Users/runner/work/_temp/anaconda/conda-bld/pytorch_1711403213615/work/torch/csrc/utils/tensor_numpy.cpp:212.)\n",
      "  a = torch.from_numpy(a.to_numpy()[:, None]).float()\n"
     ]
    }
   ],
   "source": [
    "# @udf.scalar.pyarrow\n",
    "# def predict_fare(x: dt.float64) -> dt.float32:\n",
    "def predict_iris(a, b, c, d):\n",
    "    a = torch.from_numpy(a.to_numpy()[:, None]).float()\n",
    "    b = torch.from_numpy(b.to_numpy()[:, None]).float()\n",
    "    c = torch.from_numpy(c.to_numpy()[:, None]).float()\n",
    "    d = torch.from_numpy(d.to_numpy()[:, None]).float()\n",
    "\n",
    "    # print(a.shape)\n",
    "    \n",
    "    # x = torch.Tensor([a, b, c, d])\n",
    "    x = torch.cat([a, b, c, d], -1)\n",
    "    # print(x)\n",
    "\n",
    "    out = load_iris.model(x).detach().argmax(dim=1)\n",
    "\n",
    "    # print(out)\n",
    "    \n",
    "    return pa.array(out.numpy())\n",
    "\n",
    "con.sql(\"PRAGMA enable_profiling='json'\")\n",
    "con.create_function(\"predict_iris\", predict_iris, [FLOAT, FLOAT, FLOAT, FLOAT], FLOAT, side_effects=True, type='arrow')\n",
    "res = con.sql(f\"EXPLAIN ANALYZE SELECT *, predict_iris(sepal_length, sepal_width, sepal_width, sepal_width) FROM iris_20_0 LIMIT {workload}\").fetchall()\n",
    "\n",
    "con.close()"
   ]
  },
  {
   "cell_type": "code",
   "execution_count": 8,
   "id": "11282652-4bd5-42cf-a973-df0979bbb4c7",
   "metadata": {},
   "outputs": [],
   "source": [
    "# pprint(res)"
   ]
  },
  {
   "cell_type": "code",
   "execution_count": 9,
   "id": "2cd29646-e8ec-444f-8180-72644dd3ba5c",
   "metadata": {},
   "outputs": [],
   "source": [
    "prediction = json.loads(res[0][1])['children'][0]['children'][0]['children'][0]['children'][0]\n",
    "times[\"predict\"] = prediction['timing'] * 1000000\n",
    "\n",
    "move = prediction['children'][0]\n",
    "times[\"move\"] = move['timing'] * 1000000"
   ]
  },
  {
   "cell_type": "code",
   "execution_count": 10,
   "id": "6cbbaa44-da6e-4d8f-b19b-869644f71554",
   "metadata": {},
   "outputs": [
    {
     "data": {
      "text/plain": [
       "{'name': 'PROJECTION',\n",
       " 'timing': 550.454093,\n",
       " 'cardinality': 20000000,\n",
       " 'extra_info': 'sepal_length\\nsepal_width\\npetal_length\\npetal_width\\npredict_iris(sepal_length, sepal_width, sepal_width, sepal_width)\\n',\n",
       " 'timings': [],\n",
       " 'children': [{'name': 'SEQ_SCAN ',\n",
       "   'timing': 0.891964,\n",
       "   'cardinality': 20000000,\n",
       "   'extra_info': 'iris_20_0\\n[INFOSEPARATOR]\\nsepal_length\\nsepal_width\\npetal_length\\npetal_width\\n[INFOSEPARATOR]\\nEC: 20000000',\n",
       "   'timings': [],\n",
       "   'children': []}]}"
      ]
     },
     "execution_count": 10,
     "metadata": {},
     "output_type": "execute_result"
    }
   ],
   "source": [
    "prediction"
   ]
  },
  {
   "cell_type": "code",
   "execution_count": 11,
   "id": "6b2c3775-031f-48f3-9729-71977e94a2d8",
   "metadata": {},
   "outputs": [
    {
     "name": "stdout",
     "output_type": "stream",
     "text": [
      "┌─────────┬──────────┬─────────┬───────┬────────────┬─────────────────────────┬────────────────────────┐\n",
      "│ dataset │ workload │  move   │ load  │  predict   │           ts            │        pipeline        │\n",
      "│ varchar │  int32   │  int32  │ int32 │   int32    │        timestamp        │        varchar         │\n",
      "├─────────┼──────────┼─────────┼───────┼────────────┼─────────────────────────┼────────────────────────┤\n",
      "│ iris    │  1000000 │   66407 │ 11404 │     644862 │ 2024-04-16 15:39:06.832 │ duckdb_python          │\n",
      "│ iris    │  1000000 │   69000 │ 14205 │     711004 │ 2024-04-16 15:39:13.889 │ duckdb_python          │\n",
      "│ iris    │  1000000 │   87882 │ 15013 │     714544 │ 2024-04-16 15:39:37.287 │ duckdb_python          │\n",
      "│ iris    │  1000000 │   66269 │ 14332 │     696981 │ 2024-04-16 15:39:42.694 │ duckdb_python          │\n",
      "│ iris    │  1000000 │   75381 │ 14991 │     691012 │ 2024-04-16 15:39:54.801 │ duckdb_python          │\n",
      "│ iris    │  5000000 │  328913 │ 15558 │    5179009 │ 2024-04-16 15:40:13.76  │ duckdb_python          │\n",
      "│ iris    │  5000000 │  349613 │ 15064 │    2955772 │ 2024-04-16 15:40:30.815 │ duckdb_python          │\n",
      "│ iris    │  5000000 │  322196 │ 15970 │    2999283 │ 2024-04-16 15:40:42.004 │ duckdb_python          │\n",
      "│ iris    │  5000000 │  317910 │ 15293 │    3087172 │ 2024-04-16 15:40:57.448 │ duckdb_python          │\n",
      "│ iris    │  5000000 │  337603 │ 14921 │    3006441 │ 2024-04-16 15:41:07.685 │ duckdb_python          │\n",
      "│  ·      │     ·    │     ·   │     · │       ·    │            ·            │    ·                   │\n",
      "│  ·      │     ·    │     ·   │     · │       ·    │            ·            │    ·                   │\n",
      "│  ·      │     ·    │     ·   │     · │       ·    │            ·            │    ·                   │\n",
      "│ iris    │  1000000 │  127166 │     0 │    1697246 │ 2024-04-27 11:39:38.708 │ opt_vec                │\n",
      "│ iris    │ 20000000 │ 2514340 │     0 │ 1083862330 │ 2024-04-27 11:39:38.708 │ opt                    │\n",
      "│ iris    │ 10000000 │ 1284380 │     0 │   16904444 │ 2024-04-27 11:39:38.708 │ opt_vec                │\n",
      "│ iris    │ 10000000 │ 1306247 │     0 │   16777175 │ 2024-04-27 11:39:38.708 │ opt_vec                │\n",
      "│ iris    │ 10000000 │ 1051651 │     0 │   16775249 │ 2024-04-27 11:39:38.708 │ opt_vec                │\n",
      "│ iris    │  5000000 │  564841 │     0 │    7739211 │ 2024-04-27 11:39:38.708 │ opt_vec2               │\n",
      "│ iris    │ 15000000 │ 2849155 │     0 │   14521084 │ 2024-04-27 11:39:38.708 │ opt_vec3               │\n",
      "│ iris    │  5000000 │  586376 │     0 │  252963288 │ 2024-04-27 11:39:38.708 │ opt                    │\n",
      "│ iris    │ 15000000 │ 1951649 │     0 │   23390199 │ 2024-04-27 11:39:38.708 │ opt_vec2               │\n",
      "│ iris    │ 20000000 │  891964 │ 28960 │  550454093 │ 2024-04-27 11:51:29.089 │ python_udf_vec|d5-w512 │\n",
      "├─────────┴──────────┴─────────┴───────┴────────────┴─────────────────────────┴────────────────────────┤\n",
      "│ 125 rows (20 shown)                                                                        7 columns │\n",
      "└──────────────────────────────────────────────────────────────────────────────────────────────────────┘\n",
      "\n"
     ]
    }
   ],
   "source": [
    "times_df = pd.DataFrame.from_records([times]).loc[:, ['dataset', 'pipeline', 'workload', 'move', 'load', 'predict']]\n",
    "\n",
    "con = duckdb.connect(\"../test.db\")\n",
    "tables = con.sql(f\"SHOW TABLES\").df()\n",
    "has_table = tables[tables.name == 'times'].shape[0] == 1\n",
    "\n",
    "if drop_table:\n",
    "    con.sql(f\"DROP TABLE IF EXISTS times\")\n",
    "    \n",
    "if not has_table:\n",
    "    con.sql(f\"CREATE TABLE times (dataset varchar, workload integer, move integer, load integer, predict integer, ts timestamp DEFAULT current_timestamp)\")\n",
    "\n",
    "con.sql(f\"INSERT INTO times (dataset, pipeline, workload, move, load, predict) SELECT * FROM times_df\")\n",
    "con.sql(f\"SELECT * FROM times\").show()\n",
    "con.close()"
   ]
  },
  {
   "cell_type": "code",
   "execution_count": 12,
   "id": "5798a4b5-dd9f-4c0e-b52c-7b1d6497ff6a",
   "metadata": {},
   "outputs": [],
   "source": [
    "con.close()"
   ]
  },
  {
   "cell_type": "code",
   "execution_count": null,
   "id": "d0570a7e-990d-47ac-944f-1d438055d58b",
   "metadata": {},
   "outputs": [],
   "source": []
  }
 ],
 "metadata": {
  "kernelspec": {
   "display_name": "Python 3 (ipykernel)",
   "language": "python",
   "name": "python3"
  },
  "language_info": {
   "codemirror_mode": {
    "name": "ipython",
    "version": 3
   },
   "file_extension": ".py",
   "mimetype": "text/x-python",
   "name": "python",
   "nbconvert_exporter": "python",
   "pygments_lexer": "ipython3",
   "version": "3.12.2"
  }
 },
 "nbformat": 4,
 "nbformat_minor": 5
}
