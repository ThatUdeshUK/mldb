{
 "cells": [
  {
   "cell_type": "markdown",
   "id": "6f996065-781a-4bb1-ad46-b6105b34c647",
   "metadata": {},
   "source": [
    "# Evaluate Traditional Pipeline Performance (Iris)"
   ]
  },
  {
   "cell_type": "code",
   "execution_count": 1,
   "id": "292079c1-722f-4d1c-98e2-8ba353fb59d8",
   "metadata": {},
   "outputs": [],
   "source": [
    "import numpy as np\n",
    "import pandas as pd\n",
    "\n",
    "import time\n",
    "\n",
    "# from timeit import default_timer as timer\n",
    "\n",
    "import torch\n",
    "import torch.nn as nn\n",
    "\n",
    "import duckdb"
   ]
  },
  {
   "cell_type": "markdown",
   "id": "a14b5153-a73a-48cb-bca0-2559eb6f2d79",
   "metadata": {},
   "source": [
    "### Config"
   ]
  },
  {
   "cell_type": "code",
   "execution_count": 2,
   "id": "62fb327b-19c9-4eab-9f8b-12b0b4771084",
   "metadata": {},
   "outputs": [],
   "source": [
    "times = {}"
   ]
  },
  {
   "cell_type": "code",
   "execution_count": 3,
   "id": "1c0b850e-03c3-4b23-8744-e0936c725fa6",
   "metadata": {},
   "outputs": [
    {
     "data": {
      "text/plain": [
       "'iris_20_0'"
      ]
     },
     "execution_count": 3,
     "metadata": {},
     "output_type": "execute_result"
    }
   ],
   "source": [
    "table_name = 'iris'\n",
    "times['dataset'] = 'iris'\n",
    "times['pipeline'] = 'traditonal'\n",
    "\n",
    "ori_workload = False\n",
    "drop_table = False\n",
    "\n",
    "if not ori_workload:\n",
    "    workload = 20000000\n",
    "    table_name += \"_\" + str(workload / 1000000).replace(\".\", \"_\")\n",
    "    select_stmt = f\"SELECT * FROM iris_20_0 LIMIT {workload}\"\n",
    "else:\n",
    "    select_stmt = f\"SELECT * FROM iris\"\n",
    "\n",
    "table_name"
   ]
  },
  {
   "cell_type": "markdown",
   "id": "d89fc486-d03e-4c28-9c6a-a5dd697dbba2",
   "metadata": {},
   "source": [
    "### Load iris data"
   ]
  },
  {
   "cell_type": "code",
   "execution_count": 4,
   "id": "cdf8b441-e7a5-4ce3-b89d-c609d47c4c46",
   "metadata": {},
   "outputs": [
    {
     "data": {
      "text/html": [
       "<div>\n",
       "<style scoped>\n",
       "    .dataframe tbody tr th:only-of-type {\n",
       "        vertical-align: middle;\n",
       "    }\n",
       "\n",
       "    .dataframe tbody tr th {\n",
       "        vertical-align: top;\n",
       "    }\n",
       "\n",
       "    .dataframe thead th {\n",
       "        text-align: right;\n",
       "    }\n",
       "</style>\n",
       "<table border=\"1\" class=\"dataframe\">\n",
       "  <thead>\n",
       "    <tr style=\"text-align: right;\">\n",
       "      <th></th>\n",
       "      <th>sepal_length</th>\n",
       "      <th>sepal_width</th>\n",
       "      <th>petal_length</th>\n",
       "      <th>petal_width</th>\n",
       "    </tr>\n",
       "  </thead>\n",
       "  <tbody>\n",
       "    <tr>\n",
       "      <th>0</th>\n",
       "      <td>-0.173674</td>\n",
       "      <td>1.709595</td>\n",
       "      <td>-1.169714</td>\n",
       "      <td>-1.183812</td>\n",
       "    </tr>\n",
       "    <tr>\n",
       "      <th>1</th>\n",
       "      <td>2.249683</td>\n",
       "      <td>1.709595</td>\n",
       "      <td>1.672157</td>\n",
       "      <td>1.317199</td>\n",
       "    </tr>\n",
       "    <tr>\n",
       "      <th>2</th>\n",
       "      <td>0.553333</td>\n",
       "      <td>-0.362176</td>\n",
       "      <td>1.046946</td>\n",
       "      <td>0.790671</td>\n",
       "    </tr>\n",
       "    <tr>\n",
       "      <th>3</th>\n",
       "      <td>0.553333</td>\n",
       "      <td>-1.743357</td>\n",
       "      <td>0.364896</td>\n",
       "      <td>0.132510</td>\n",
       "    </tr>\n",
       "    <tr>\n",
       "      <th>4</th>\n",
       "      <td>1.159173</td>\n",
       "      <td>-0.131979</td>\n",
       "      <td>0.990108</td>\n",
       "      <td>1.185567</td>\n",
       "    </tr>\n",
       "  </tbody>\n",
       "</table>\n",
       "</div>"
      ],
      "text/plain": [
       "   sepal_length  sepal_width  petal_length  petal_width\n",
       "0     -0.173674     1.709595     -1.169714    -1.183812\n",
       "1      2.249683     1.709595      1.672157     1.317199\n",
       "2      0.553333    -0.362176      1.046946     0.790671\n",
       "3      0.553333    -1.743357      0.364896     0.132510\n",
       "4      1.159173    -0.131979      0.990108     1.185567"
      ]
     },
     "execution_count": 4,
     "metadata": {},
     "output_type": "execute_result"
    }
   ],
   "source": [
    "st = time.perf_counter_ns()\n",
    "\n",
    "con = duckdb.connect(\"../test.db\")\n",
    "iris = con.sql(select_stmt).df()\n",
    "iris.to_csv('dummy.csv', index=False)\n",
    "con.close()\n",
    "iris = pd.read_csv('dummy.csv')\n",
    "\n",
    "et = time.perf_counter_ns()\n",
    "times['workload'] = iris.shape[0]\n",
    "times[\"move\"] = (et - st)/1000\n",
    "iris.head()"
   ]
  },
  {
   "cell_type": "markdown",
   "id": "b932e856-9b91-47a5-af3d-de24ab1d9629",
   "metadata": {},
   "source": [
    "### Load the compiled model"
   ]
  },
  {
   "cell_type": "code",
   "execution_count": 5,
   "id": "cf4a0b9c-6a34-43cd-a399-e52760a1ea66",
   "metadata": {},
   "outputs": [],
   "source": [
    "st = time.perf_counter_ns()\n",
    "\n",
    "model_path = \"../models/iris.pt\"\n",
    "model = torch.jit.load(model_path)\n",
    "\n",
    "et = time.perf_counter_ns()\n",
    "times[\"load\"] = (et - st)/1000"
   ]
  },
  {
   "cell_type": "markdown",
   "id": "4f76f0da-7a5b-4b5c-9fa6-a4713e45b6a5",
   "metadata": {},
   "source": [
    "### Predict"
   ]
  },
  {
   "cell_type": "code",
   "execution_count": 6,
   "id": "423e8708-3d93-4989-b3d1-8a085d5442ad",
   "metadata": {},
   "outputs": [],
   "source": [
    "st = time.perf_counter_ns()\n",
    "\n",
    "iris_data = iris.iloc[:, :4]\n",
    "\n",
    "x = torch.FloatTensor(iris_data.values)\n",
    "\n",
    "out = model(x)\n",
    "\n",
    "et = time.perf_counter_ns()\n",
    "times[\"predict\"] = (et - st)/1000"
   ]
  },
  {
   "cell_type": "code",
   "execution_count": 7,
   "id": "328c8a56-76e2-4750-8ce0-677f0bfc00ef",
   "metadata": {},
   "outputs": [
    {
     "name": "stdout",
     "output_type": "stream",
     "text": [
      "┌─────────┬──────────┬──────────┬───────┬───────────┬─────────────────────────┬───────────────┐\n",
      "│ dataset │ workload │   move   │ load  │  predict  │           ts            │   pipeline    │\n",
      "│ varchar │  int32   │  int32   │ int32 │   int32   │        timestamp        │    varchar    │\n",
      "├─────────┼──────────┼──────────┼───────┼───────────┼─────────────────────────┼───────────────┤\n",
      "│ iris    │  1000000 │    66407 │ 11404 │    644862 │ 2024-04-16 15:39:06.832 │ duckdb_python │\n",
      "│ iris    │  1000000 │    69000 │ 14205 │    711004 │ 2024-04-16 15:39:13.889 │ duckdb_python │\n",
      "│ iris    │  1000000 │    87882 │ 15013 │    714544 │ 2024-04-16 15:39:37.287 │ duckdb_python │\n",
      "│ iris    │  1000000 │    66269 │ 14332 │    696981 │ 2024-04-16 15:39:42.694 │ duckdb_python │\n",
      "│ iris    │  1000000 │    75381 │ 14991 │    691012 │ 2024-04-16 15:39:54.801 │ duckdb_python │\n",
      "│ iris    │  5000000 │   328913 │ 15558 │   5179009 │ 2024-04-16 15:40:13.76  │ duckdb_python │\n",
      "│ iris    │  5000000 │   349613 │ 15064 │   2955772 │ 2024-04-16 15:40:30.815 │ duckdb_python │\n",
      "│ iris    │  5000000 │   322196 │ 15970 │   2999283 │ 2024-04-16 15:40:42.004 │ duckdb_python │\n",
      "│ iris    │  5000000 │   317910 │ 15293 │   3087172 │ 2024-04-16 15:40:57.448 │ duckdb_python │\n",
      "│ iris    │  5000000 │   337603 │ 14921 │   3006441 │ 2024-04-16 15:41:07.685 │ duckdb_python │\n",
      "│  ·      │     ·    │      ·   │   ·   │       ·   │            ·            │     ·         │\n",
      "│  ·      │     ·    │      ·   │   ·   │       ·   │            ·            │     ·         │\n",
      "│  ·      │     ·    │      ·   │   ·   │       ·   │            ·            │     ·         │\n",
      "│ iris    │  1000000 │  5454984 │ 19606 │    910821 │ 2024-04-18 12:26:22.867 │ traditonal    │\n",
      "│ iris    │  5000000 │ 27840914 │ 18972 │  12421689 │ 2024-04-18 12:27:29.047 │ traditonal    │\n",
      "│ iris    │  5000000 │ 27674771 │ 21407 │   9509584 │ 2024-04-18 12:28:31.948 │ traditonal    │\n",
      "│ iris    │  5000000 │ 27431071 │ 19797 │   5860736 │ 2024-04-18 12:29:46.748 │ traditonal    │\n",
      "│ iris    │  5000000 │ 27759419 │ 18652 │   6079925 │ 2024-04-18 12:31:28.865 │ traditonal    │\n",
      "│ iris    │ 10000000 │ 56305548 │ 19025 │  28944302 │ 2024-04-18 12:33:39.56  │ traditonal    │\n",
      "│ iris    │ 10000000 │ 39127974 │ 21834 │  45866863 │ 2024-04-18 12:37:16.442 │ traditonal    │\n",
      "│ iris    │ 10000000 │ 34916239 │ 19518 │  22403073 │ 2024-04-18 12:40:13.115 │ traditonal    │\n",
      "│ iris    │ 15000000 │ 54412753 │ 23535 │  98999153 │ 2024-04-18 12:59:54.179 │ traditonal    │\n",
      "│ iris    │ 20000000 │ 75078771 │ 18002 │ 291312084 │ 2024-04-18 13:09:22.025 │ traditonal    │\n",
      "├─────────┴──────────┴──────────┴───────┴───────────┴─────────────────────────┴───────────────┤\n",
      "│ 68 rows (20 shown)                                                                7 columns │\n",
      "└─────────────────────────────────────────────────────────────────────────────────────────────┘\n",
      "\n"
     ]
    }
   ],
   "source": [
    "times_df = pd.DataFrame.from_records([times]).loc[:, ['dataset', 'workload', 'pipeline', 'move', 'load', 'predict']]\n",
    "\n",
    "con = duckdb.connect(\"../test.db\")\n",
    "tables = con.sql(f\"SHOW TABLES\").df()\n",
    "has_table = tables[tables.name == 'times'].shape[0] == 1\n",
    "\n",
    "if drop_table:\n",
    "    con.sql(f\"DROP TABLE IF EXISTS times\")\n",
    "    \n",
    "if not has_table:\n",
    "    con.sql(f\"CREATE TABLE times (dataset varchar, workload integer, pipeline varchar, move integer, load integer, predict integer, ts timestamp DEFAULT current_timestamp)\")\n",
    "\n",
    "con.sql(f\"INSERT INTO times (dataset, workload, pipeline, move, load, predict) SELECT * FROM times_df\")\n",
    "con.sql(f\"SELECT * FROM times\").show()\n",
    "con.close()"
   ]
  },
  {
   "cell_type": "code",
   "execution_count": null,
   "id": "4457ce92-890b-43a7-948e-3d2d624f9fdc",
   "metadata": {},
   "outputs": [],
   "source": []
  },
  {
   "cell_type": "code",
   "execution_count": null,
   "id": "b75573c4-33d4-4171-ac4c-7f75529d15b0",
   "metadata": {},
   "outputs": [],
   "source": []
  },
  {
   "cell_type": "code",
   "execution_count": null,
   "id": "793fe498-24bc-4455-8e89-19ba69ca4667",
   "metadata": {},
   "outputs": [],
   "source": []
  }
 ],
 "metadata": {
  "kernelspec": {
   "display_name": "Python 3 (ipykernel)",
   "language": "python",
   "name": "python3"
  },
  "language_info": {
   "codemirror_mode": {
    "name": "ipython",
    "version": 3
   },
   "file_extension": ".py",
   "mimetype": "text/x-python",
   "name": "python",
   "nbconvert_exporter": "python",
   "pygments_lexer": "ipython3",
   "version": "3.12.2"
  }
 },
 "nbformat": 4,
 "nbformat_minor": 5
}
