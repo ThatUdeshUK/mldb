{
 "cells": [
  {
   "cell_type": "markdown",
   "id": "6f996065-781a-4bb1-ad46-b6105b34c647",
   "metadata": {},
   "source": [
    "# Evaluate Traditional Pipeline Performance (Iris)"
   ]
  },
  {
   "cell_type": "markdown",
   "id": "7a713c20",
   "metadata": {},
   "source": []
  },
  {
   "cell_type": "code",
   "execution_count": 1,
   "id": "292079c1-722f-4d1c-98e2-8ba353fb59d8",
   "metadata": {},
   "outputs": [
    {
     "name": "stderr",
     "output_type": "stream",
     "text": [
      "/homes/ukumaras/bin/miniconda3/envs/mldb/lib/python3.12/site-packages/tqdm/auto.py:21: TqdmWarning: IProgress not found. Please update jupyter and ipywidgets. See https://ipywidgets.readthedocs.io/en/stable/user_install.html\n",
      "  from .autonotebook import tqdm as notebook_tqdm\n"
     ]
    }
   ],
   "source": [
    "import pandas as pd\n",
    "\n",
    "import time\n",
    "\n",
    "from transformers import AutoModelForSequenceClassification, AutoTokenizer\n",
    "\n",
    "import torch\n",
    "import duckdb"
   ]
  },
  {
   "cell_type": "markdown",
   "id": "a14b5153-a73a-48cb-bca0-2559eb6f2d79",
   "metadata": {},
   "source": [
    "### Config"
   ]
  },
  {
   "cell_type": "code",
   "execution_count": 2,
   "id": "62fb327b-19c9-4eab-9f8b-12b0b4771084",
   "metadata": {},
   "outputs": [],
   "source": [
    "times = {}"
   ]
  },
  {
   "cell_type": "code",
   "execution_count": 3,
   "id": "1c0b850e-03c3-4b23-8744-e0936c725fa6",
   "metadata": {},
   "outputs": [],
   "source": [
    "table_name = 'imdb'\n",
    "times['dataset'] = 'imdb'\n",
    "times['pipeline'] = 'traditonal'\n",
    "\n",
    "workload = 1000\n",
    "select_stmt = f\"SELECT * FROM imdb LIMIT {workload}\""
   ]
  },
  {
   "cell_type": "markdown",
   "id": "d89fc486-d03e-4c28-9c6a-a5dd697dbba2",
   "metadata": {},
   "source": [
    "### Load imdb data"
   ]
  },
  {
   "cell_type": "code",
   "execution_count": 4,
   "id": "cdf8b441-e7a5-4ce3-b89d-c609d47c4c46",
   "metadata": {},
   "outputs": [
    {
     "data": {
      "text/html": [
       "<div>\n",
       "<style scoped>\n",
       "    .dataframe tbody tr th:only-of-type {\n",
       "        vertical-align: middle;\n",
       "    }\n",
       "\n",
       "    .dataframe tbody tr th {\n",
       "        vertical-align: top;\n",
       "    }\n",
       "\n",
       "    .dataframe thead th {\n",
       "        text-align: right;\n",
       "    }\n",
       "</style>\n",
       "<table border=\"1\" class=\"dataframe\">\n",
       "  <thead>\n",
       "    <tr style=\"text-align: right;\">\n",
       "      <th></th>\n",
       "      <th>text</th>\n",
       "      <th>label</th>\n",
       "      <th>stage</th>\n",
       "    </tr>\n",
       "  </thead>\n",
       "  <tbody>\n",
       "    <tr>\n",
       "      <th>0</th>\n",
       "      <td>I rented I AM CURIOUS-YELLOW from my video sto...</td>\n",
       "      <td>0.0</td>\n",
       "      <td>train</td>\n",
       "    </tr>\n",
       "    <tr>\n",
       "      <th>1</th>\n",
       "      <td>\"I Am Curious: Yellow\" is a risible and preten...</td>\n",
       "      <td>0.0</td>\n",
       "      <td>train</td>\n",
       "    </tr>\n",
       "    <tr>\n",
       "      <th>2</th>\n",
       "      <td>If only to avoid making this type of film in t...</td>\n",
       "      <td>0.0</td>\n",
       "      <td>train</td>\n",
       "    </tr>\n",
       "    <tr>\n",
       "      <th>3</th>\n",
       "      <td>This film was probably inspired by Godard's Ma...</td>\n",
       "      <td>0.0</td>\n",
       "      <td>train</td>\n",
       "    </tr>\n",
       "    <tr>\n",
       "      <th>4</th>\n",
       "      <td>Oh, brother...after hearing about this ridicul...</td>\n",
       "      <td>0.0</td>\n",
       "      <td>train</td>\n",
       "    </tr>\n",
       "  </tbody>\n",
       "</table>\n",
       "</div>"
      ],
      "text/plain": [
       "                                                text  label  stage\n",
       "0  I rented I AM CURIOUS-YELLOW from my video sto...    0.0  train\n",
       "1  \"I Am Curious: Yellow\" is a risible and preten...    0.0  train\n",
       "2  If only to avoid making this type of film in t...    0.0  train\n",
       "3  This film was probably inspired by Godard's Ma...    0.0  train\n",
       "4  Oh, brother...after hearing about this ridicul...    0.0  train"
      ]
     },
     "execution_count": 4,
     "metadata": {},
     "output_type": "execute_result"
    }
   ],
   "source": [
    "st = time.perf_counter_ns()\n",
    "\n",
    "con = duckdb.connect(\"../test.db\")\n",
    "imdb = con.sql(select_stmt).df()\n",
    "imdb.to_csv('dummy.csv', index=False)\n",
    "con.close()\n",
    "imdb = pd.read_csv('dummy.csv')\n",
    "\n",
    "et = time.perf_counter_ns()\n",
    "times['workload'] = imdb.shape[0]\n",
    "times[\"move\"] = (et - st)/1000\n",
    "imdb.head()"
   ]
  },
  {
   "cell_type": "code",
   "execution_count": 14,
   "id": "c942b43c",
   "metadata": {},
   "outputs": [
    {
     "data": {
      "text/plain": [
       "(1000, 3)"
      ]
     },
     "execution_count": 14,
     "metadata": {},
     "output_type": "execute_result"
    }
   ],
   "source": [
    "imdb.shape"
   ]
  },
  {
   "cell_type": "markdown",
   "id": "b932e856-9b91-47a5-af3d-de24ab1d9629",
   "metadata": {},
   "source": [
    "### Load the compiled model"
   ]
  },
  {
   "cell_type": "code",
   "execution_count": 5,
   "id": "cf4a0b9c-6a34-43cd-a399-e52760a1ea66",
   "metadata": {},
   "outputs": [],
   "source": [
    "st = time.perf_counter_ns()\n",
    "\n",
    "model_path = \"/homes/ukumaras/scratch/Models/distilbert-base-uncased-finetuned-sst-2-english\"\n",
    "tokenizer = AutoTokenizer.from_pretrained(model_path)\n",
    "model = AutoModelForSequenceClassification.from_pretrained(model_path)\n",
    "\n",
    "et = time.perf_counter_ns()\n",
    "times[\"load\"] = (et - st)/1000"
   ]
  },
  {
   "cell_type": "markdown",
   "id": "4f76f0da-7a5b-4b5c-9fa6-a4713e45b6a5",
   "metadata": {},
   "source": [
    "### Predict"
   ]
  },
  {
   "cell_type": "code",
   "execution_count": 10,
   "id": "423e8708-3d93-4989-b3d1-8a085d5442ad",
   "metadata": {},
   "outputs": [],
   "source": [
    "st = time.perf_counter_ns()\n",
    "\n",
    "inputs = tokenizer(list(imdb['text'].values), return_tensors=\"pt\", max_length=512, padding=True, truncation=True)\n",
    "    \n",
    "with torch.no_grad():\n",
    "    logits = model(**inputs).logits\n",
    "\n",
    "predicted_class_id = logits.argmax(dim=1).numpy()\n",
    "\n",
    "et = time.perf_counter_ns()\n",
    "times[\"predict\"] = (et - st)/1000"
   ]
  },
  {
   "cell_type": "code",
   "execution_count": 11,
   "id": "4e48e39d",
   "metadata": {},
   "outputs": [
    {
     "data": {
      "text/html": [
       "<div>\n",
       "<style scoped>\n",
       "    .dataframe tbody tr th:only-of-type {\n",
       "        vertical-align: middle;\n",
       "    }\n",
       "\n",
       "    .dataframe tbody tr th {\n",
       "        vertical-align: top;\n",
       "    }\n",
       "\n",
       "    .dataframe thead th {\n",
       "        text-align: right;\n",
       "    }\n",
       "</style>\n",
       "<table border=\"1\" class=\"dataframe\">\n",
       "  <thead>\n",
       "    <tr style=\"text-align: right;\">\n",
       "      <th></th>\n",
       "      <th>dataset</th>\n",
       "      <th>pipeline</th>\n",
       "      <th>workload</th>\n",
       "      <th>move</th>\n",
       "      <th>load</th>\n",
       "      <th>predict</th>\n",
       "    </tr>\n",
       "  </thead>\n",
       "  <tbody>\n",
       "    <tr>\n",
       "      <th>0</th>\n",
       "      <td>imdb</td>\n",
       "      <td>traditonal</td>\n",
       "      <td>1000</td>\n",
       "      <td>718026.979</td>\n",
       "      <td>3641943.229</td>\n",
       "      <td>8.702676e+07</td>\n",
       "    </tr>\n",
       "  </tbody>\n",
       "</table>\n",
       "</div>"
      ],
      "text/plain": [
       "  dataset    pipeline  workload        move         load       predict\n",
       "0    imdb  traditonal      1000  718026.979  3641943.229  8.702676e+07"
      ]
     },
     "execution_count": 11,
     "metadata": {},
     "output_type": "execute_result"
    }
   ],
   "source": [
    "times_df = pd.DataFrame.from_records([times]).loc[:, ['dataset', 'pipeline', 'workload', 'move', 'load', 'predict']]\n",
    "times_df"
   ]
  },
  {
   "cell_type": "code",
   "execution_count": 13,
   "id": "328c8a56-76e2-4750-8ce0-677f0bfc00ef",
   "metadata": {},
   "outputs": [
    {
     "name": "stdout",
     "output_type": "stream",
     "text": [
      "┌─────────┬────────────────┬──────────┬──────────┬─────────┬───────────┬─────────────────────────┐\n",
      "│ dataset │    pipeline    │ workload │   move   │  load   │  predict  │           ts            │\n",
      "│ varchar │    varchar     │  int32   │  int32   │  int32  │   int32   │        timestamp        │\n",
      "├─────────┼────────────────┼──────────┼──────────┼─────────┼───────────┼─────────────────────────┤\n",
      "│ iris    │ python_udf_vec │  1000000 │   218034 │   13971 │   2139728 │ 2024-05-21 14:43:26.063 │\n",
      "│ iris    │ python_udf_vec │  5000000 │  1185950 │   14044 │   5536022 │ 2024-05-21 14:43:54.855 │\n",
      "│ iris    │ python_udf_vec │ 10000000 │  2224030 │   13889 │   7646142 │ 2024-05-21 14:49:48.529 │\n",
      "│ iris    │ python_udf_vec │ 15000000 │  3188160 │   13680 │  11789199 │ 2024-05-21 14:50:06.5   │\n",
      "│ iris    │ python_udf_vec │ 20000000 │  4314927 │   15031 │  14350052 │ 2024-05-21 14:50:28.176 │\n",
      "│ iris    │ python_udf_vec │  1000000 │   223791 │   14497 │   1715185 │ 2024-05-21 14:50:33.186 │\n",
      "│ iris    │ python_udf_vec │  5000000 │  1095444 │   14399 │   5390325 │ 2024-05-21 14:50:42.858 │\n",
      "│ iris    │ python_udf_vec │ 10000000 │  2147617 │   14101 │   8948654 │ 2024-05-21 14:50:57.766 │\n",
      "│ iris    │ python_udf_vec │ 15000000 │  3173435 │   14991 │  11166434 │ 2024-05-21 14:51:15.275 │\n",
      "│ iris    │ python_udf_vec │ 20000000 │  4222857 │   14943 │  14202884 │ 2024-05-21 14:51:37.02  │\n",
      "│  ·      │      ·         │     ·    │     ·    │     ·   │       ·   │           ·             │\n",
      "│  ·      │      ·         │     ·    │     ·    │     ·   │       ·   │           ·             │\n",
      "│  ·      │      ·         │     ·    │     ·    │     ·   │       ·   │           ·             │\n",
      "│ iris    │ traditional    │  1000000 │  3894269 │   18140 │    435837 │ 2024-05-21 15:27:36.026 │\n",
      "│ iris    │ traditional    │  5000000 │ 19292867 │   13185 │   1304968 │ 2024-05-21 15:27:59.724 │\n",
      "│ iris    │ traditional    │ 10000000 │ 37823977 │   14408 │   2236935 │ 2024-05-21 15:28:43.029 │\n",
      "│ iris    │ traditional    │ 15000000 │ 52960404 │   14244 │   3259672 │ 2024-05-21 15:29:43.525 │\n",
      "│ iris    │ traditional    │ 20000000 │ 78084691 │   14970 │   4530372 │ 2024-05-21 15:31:10.795 │\n",
      "│ iris    │ traditional    │  1000000 │  4077639 │   13713 │    540836 │ 2024-05-21 15:33:14.103 │\n",
      "│ iris    │ traditional    │  5000000 │ 18545114 │   16799 │   1249587 │ 2024-05-21 15:33:39.748 │\n",
      "│ imdb    │ python_udf_vec │      100 │    57349 │ 3629683 │ 178758047 │ 2024-06-12 13:03:59.477 │\n",
      "│ imdb    │ python_udf_vec │     1000 │    57272 │ 2516046 │ 176626405 │ 2024-06-12 13:10:26.978 │\n",
      "│ imdb    │ traditonal     │     1000 │   718027 │ 3641943 │  87026763 │ 2024-06-12 14:01:43.915 │\n",
      "├─────────┴────────────────┴──────────┴──────────┴─────────┴───────────┴─────────────────────────┤\n",
      "│ 33 rows (20 shown)                                                                   7 columns │\n",
      "└────────────────────────────────────────────────────────────────────────────────────────────────┘\n",
      "\n"
     ]
    }
   ],
   "source": [
    "con = duckdb.connect(\"../test.db\")\n",
    "tables = con.sql(f\"SHOW TABLES\").df()\n",
    "has_table = tables[tables.name == 'times'].shape[0] == 1\n",
    "    \n",
    "if not has_table:\n",
    "    con.sql(f\"CREATE TABLE times (dataset varchar, workload integer, move integer, load integer, predict integer, ts timestamp DEFAULT current_timestamp)\")\n",
    "\n",
    "con.sql(f\"DELETE FROM times WHERE pipeline LIKE 'opt%'\")\n",
    "con.sql(f\"INSERT INTO times (dataset, pipeline, workload, move, load, predict) SELECT * FROM times_df\")\n",
    "con.sql(f\"SELECT * FROM times\").show()\n",
    "con.close()"
   ]
  },
  {
   "cell_type": "code",
   "execution_count": null,
   "id": "4457ce92-890b-43a7-948e-3d2d624f9fdc",
   "metadata": {},
   "outputs": [],
   "source": []
  },
  {
   "cell_type": "code",
   "execution_count": null,
   "id": "b75573c4-33d4-4171-ac4c-7f75529d15b0",
   "metadata": {},
   "outputs": [],
   "source": []
  },
  {
   "cell_type": "code",
   "execution_count": null,
   "id": "793fe498-24bc-4455-8e89-19ba69ca4667",
   "metadata": {},
   "outputs": [],
   "source": []
  }
 ],
 "metadata": {
  "kernelspec": {
   "display_name": "Python 3 (ipykernel)",
   "language": "python",
   "name": "python3"
  },
  "language_info": {
   "codemirror_mode": {
    "name": "ipython",
    "version": 3
   },
   "file_extension": ".py",
   "mimetype": "text/x-python",
   "name": "python",
   "nbconvert_exporter": "python",
   "pygments_lexer": "ipython3",
   "version": "3.1.undefined"
  }
 },
 "nbformat": 4,
 "nbformat_minor": 5
}
