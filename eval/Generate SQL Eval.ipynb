{
 "cells": [
  {
   "cell_type": "markdown",
   "id": "578810a9-62d0-415f-b6c7-66fd447390a3",
   "metadata": {},
   "source": [
    "# Generate SQL Eval"
   ]
  },
  {
   "cell_type": "code",
   "execution_count": 8,
   "id": "0e424802-1d18-4f0f-ac3a-7585a7836e9e",
   "metadata": {},
   "outputs": [],
   "source": [
    "json_profile_stmt = \"PRAGMA enable_profiling='json';\"\n",
    "\n",
    "# model = \"'/Users/udeshuk/Developer/mldb/models/iris_v2.pt'\";\n",
    "# model = \"'/Users/udeshuk/Developer/mldb/models/iris_d1_w128.onnx'\";\n",
    "model = \"'/homes/ukumaras/Projects/mldb/models/iris_d1_w128.pt'\";\n",
    "# model = \"'/homes/ukumaras/Projects/mldb/models/iris_d1_w128.onnx'\";\n",
    "\n",
    "# output_dir = \"/Users/udeshuk/Developer/mldb/eval/analyze_outputs\";\n",
    "output_dir = \"/homes/ukumaras/Projects/mldb/eval/analyze_outputs\";"
   ]
  },
  {
   "cell_type": "code",
   "execution_count": 4,
   "id": "b1139dca-47e4-470c-9571-96ff2512be18",
   "metadata": {},
   "outputs": [],
   "source": [
    "with open('eval_iris_gen.sql', 'w') as f:\n",
    "    f.write(json_profile_stmt + \"\\n\\n\")\n",
    "\n",
    "    pipeline = \"opt_vec_scalar\"\n",
    "    run = 5\n",
    "    workloads = [1000000, 5000000, 10000000, 15000000, 20000000]\n",
    "    \n",
    "    for workload in workloads:\n",
    "        eval_out_stmt = f\"PRAGMA profile_output='{output_dir}/{pipeline}_iris{run}_{workload}.json';\"\n",
    "        select_stmt = f\"SELECT *  FROM PREDICT ({model}, (SELECT *  FROM iris_20_0 LIMIT {workload})) WITH (cls FLOAT) as a;\"\n",
    "        f.write(eval_out_stmt + \"\\n\" + select_stmt + \"\\n\\n\")"
   ]
  },
  {
   "cell_type": "code",
   "execution_count": 9,
   "id": "fffd9d4c-7413-467a-b626-b91f5d823c20",
   "metadata": {},
   "outputs": [],
   "source": [
    "with open('eval_iris_gen.sql', 'w') as f:\n",
    "    f.write(json_profile_stmt + \"\\n\\n\")\n",
    "\n",
    "    pipeline = \"opt_vec_torch\"\n",
    "    runs = [3, 4, 5]\n",
    "    workloads = [1000000, 5000000, 10000000, 15000000, 20000000]\n",
    "\n",
    "    for run in runs:\n",
    "        for workload in workloads:\n",
    "            eval_out_stmt = f\"PRAGMA profile_output='{output_dir}/{pipeline}_iris{run}_{workload}.json';\"\n",
    "            select_stmt = f\"SELECT *  FROM PREDICT ({model}, (SELECT sepal_length, sepal_width, petal_length, petal_width FROM iris_20_0 LIMIT {workload})) WITH (setosa FLOAT, versicolour FLOAT, virginica FLOAT) as a;\"\n",
    "            f.write(eval_out_stmt + \"\\n\" + select_stmt + \"\\n\\n\")"
   ]
  },
  {
   "cell_type": "code",
   "execution_count": null,
   "id": "f2cce218-9fd3-47b0-b754-de0b12331b7b",
   "metadata": {},
   "outputs": [],
   "source": []
  }
 ],
 "metadata": {
  "kernelspec": {
   "display_name": "Python 3 (ipykernel)",
   "language": "python",
   "name": "python3"
  },
  "language_info": {
   "codemirror_mode": {
    "name": "ipython",
    "version": 3
   },
   "file_extension": ".py",
   "mimetype": "text/x-python",
   "name": "python",
   "nbconvert_exporter": "python",
   "pygments_lexer": "ipython3",
   "version": "3.12.2"
  }
 },
 "nbformat": 4,
 "nbformat_minor": 5
}
