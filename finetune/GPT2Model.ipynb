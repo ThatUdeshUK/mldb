{
 "cells": [
  {
   "cell_type": "markdown",
   "id": "6f996065-781a-4bb1-ad46-b6105b34c647",
   "metadata": {},
   "source": [
    "Use GPT2 models"
   ]
  },
  {
   "cell_type": "code",
   "execution_count": null,
   "id": "292079c1-722f-4d1c-98e2-8ba353fb59d8",
   "metadata": {},
   "outputs": [],
   "source": [
    "import numpy as np\n",
    "import pandas as pd\n",
    "\n",
    "from datasets import Dataset\n",
    "\n",
    "from transformers import GPT2Tokenizer, GPT2ForSequenceClassification\n",
    "\n",
    "import duckdb"
   ]
  },
  {
   "cell_type": "markdown",
   "id": "d89fc486-d03e-4c28-9c6a-a5dd697dbba2",
   "metadata": {},
   "source": [
    "### Load iris data"
   ]
  },
  {
   "cell_type": "code",
   "execution_count": null,
   "id": "cdf8b441-e7a5-4ce3-b89d-c609d47c4c46",
   "metadata": {},
   "outputs": [],
   "source": [
    "con = duckdb.connect(\"../imdb.db\")\n",
    "imdb = con.sql(\"SELECT * FROM imdb\").df()\n",
    "con.close()\n",
    "\n",
    "imdb['label'] = imdb['label'].astype(int)\n",
    "imdb.head()"
   ]
  },
  {
   "cell_type": "code",
   "execution_count": null,
   "id": "2d4299ec",
   "metadata": {},
   "outputs": [],
   "source": [
    "imdb_test = Dataset.from_pandas(imdb[imdb['stage'] == 'test'].drop(columns=['stage']))"
   ]
  },
  {
   "cell_type": "markdown",
   "id": "17ae7aa0-cd89-496e-a570-06593cf74d72",
   "metadata": {},
   "source": [
    "### Train the model"
   ]
  },
  {
   "cell_type": "code",
   "execution_count": null,
   "id": "44ae6c61-df7d-48f8-b35d-31bb2b2a65a4",
   "metadata": {},
   "outputs": [],
   "source": [
    "model_name = 'gpt2-imdb-finetune'\n",
    "model_path = f\"/homes/ukumaras/scratch/Models/{model_name}\"\n",
    "# model_path = f\"hipnologo/gpt2-imdb-finetune\""
   ]
  },
  {
   "cell_type": "code",
   "execution_count": null,
   "id": "01cbe885-6c0f-4d22-91e6-44f6cbba1a7e",
   "metadata": {},
   "outputs": [],
   "source": [
    "tokenizer = GPT2Tokenizer.from_pretrained(model_path)\n",
    "model = GPT2ForSequenceClassification.from_pretrained(model_path)"
   ]
  },
  {
   "cell_type": "code",
   "execution_count": null,
   "id": "f6edbcb7",
   "metadata": {},
   "outputs": [],
   "source": [
    "imdb_test['text']"
   ]
  },
  {
   "cell_type": "code",
   "execution_count": null,
   "id": "8cf13b5f",
   "metadata": {},
   "outputs": [],
   "source": [
    "tokenizer.padding_side = \"left\"\n",
    "\n",
    "# Define PAD Token = EOS Token = 50256\n",
    "tokenizer.pad_token = tokenizer.eos_token"
   ]
  },
  {
   "cell_type": "code",
   "execution_count": null,
   "id": "bba4c906",
   "metadata": {},
   "outputs": [],
   "source": [
    "# encoding the input text\n",
    "input = tokenizer.batch_encode_plus(imdb_test['text'][:100], return_tensors=\"pt\", padding=True, truncation=True, max_length=512)\n",
    "input\n",
    "\n",
    "# # Move the input_ids tensor to the same device as the model\n",
    "# input_ids = input_ids.to(model.device)\n",
    "\n",
    "# # getting the logits \n",
    "logits = model(**input).logits"
   ]
  },
  {
   "cell_type": "code",
   "execution_count": null,
   "id": "6aa38a7d",
   "metadata": {},
   "outputs": [],
   "source": [
    "# getting the predicted class\n",
    "predicted_class = logits.argmax(-1)"
   ]
  },
  {
   "cell_type": "code",
   "execution_count": null,
   "id": "2020e86f",
   "metadata": {},
   "outputs": [],
   "source": [
    "predicted_class"
   ]
  },
  {
   "cell_type": "code",
   "execution_count": null,
   "id": "d0a51824",
   "metadata": {},
   "outputs": [],
   "source": [
    "imdb_test['label']"
   ]
  },
  {
   "cell_type": "code",
   "execution_count": null,
   "id": "3e43dba4",
   "metadata": {},
   "outputs": [],
   "source": []
  }
 ],
 "metadata": {
  "kernelspec": {
   "display_name": "Python 3 (ipykernel)",
   "language": "python",
   "name": "python3"
  },
  "language_info": {
   "codemirror_mode": {
    "name": "ipython",
    "version": 3
   },
   "file_extension": ".py",
   "mimetype": "text/x-python",
   "name": "python",
   "nbconvert_exporter": "python",
   "pygments_lexer": "ipython3",
   "version": "3.12.4"
  }
 },
 "nbformat": 4,
 "nbformat_minor": 5
}
