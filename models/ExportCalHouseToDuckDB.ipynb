{
 "cells": [
  {
   "cell_type": "markdown",
   "id": "6f996065-781a-4bb1-ad46-b6105b34c647",
   "metadata": {},
   "source": [
    "# Export California Housing Dataset to DuckDB"
   ]
  },
  {
   "cell_type": "code",
   "execution_count": 1,
   "id": "292079c1-722f-4d1c-98e2-8ba353fb59d8",
   "metadata": {},
   "outputs": [],
   "source": [
    "import numpy as np\n",
    "import pandas as pd\n",
    "\n",
    "from sklearn import datasets\n",
    "from sklearn.preprocessing import StandardScaler\n",
    "\n",
    "import duckdb"
   ]
  },
  {
   "cell_type": "markdown",
   "id": "d89fc486-d03e-4c28-9c6a-a5dd697dbba2",
   "metadata": {},
   "source": [
    "### Load iris data"
   ]
  },
  {
   "cell_type": "code",
   "execution_count": 2,
   "id": "907b1b20-60b2-4fe9-ab77-90cff9b899c2",
   "metadata": {},
   "outputs": [
    {
     "data": {
      "text/plain": [
       "['MedInc',\n",
       " 'HouseAge',\n",
       " 'AveRooms',\n",
       " 'AveBedrms',\n",
       " 'Population',\n",
       " 'AveOccup',\n",
       " 'Latitude',\n",
       " 'Longitude']"
      ]
     },
     "execution_count": 2,
     "metadata": {},
     "output_type": "execute_result"
    }
   ],
   "source": [
    "cal_house = datasets.fetch_california_housing()\n",
    "\n",
    "cal_house_cols = cal_house.feature_names\n",
    "cal_house_cols"
   ]
  },
  {
   "cell_type": "code",
   "execution_count": 3,
   "id": "dc319109-a867-47f6-9520-c6b22f196671",
   "metadata": {},
   "outputs": [
    {
     "data": {
      "text/html": [
       "<div>\n",
       "<style scoped>\n",
       "    .dataframe tbody tr th:only-of-type {\n",
       "        vertical-align: middle;\n",
       "    }\n",
       "\n",
       "    .dataframe tbody tr th {\n",
       "        vertical-align: top;\n",
       "    }\n",
       "\n",
       "    .dataframe thead th {\n",
       "        text-align: right;\n",
       "    }\n",
       "</style>\n",
       "<table border=\"1\" class=\"dataframe\">\n",
       "  <thead>\n",
       "    <tr style=\"text-align: right;\">\n",
       "      <th></th>\n",
       "      <th>MedInc</th>\n",
       "      <th>HouseAge</th>\n",
       "      <th>AveRooms</th>\n",
       "      <th>AveBedrms</th>\n",
       "      <th>Population</th>\n",
       "      <th>AveOccup</th>\n",
       "      <th>Latitude</th>\n",
       "      <th>Longitude</th>\n",
       "      <th>Value</th>\n",
       "    </tr>\n",
       "  </thead>\n",
       "  <tbody>\n",
       "    <tr>\n",
       "      <th>0</th>\n",
       "      <td>8.3252</td>\n",
       "      <td>41.0</td>\n",
       "      <td>6.984127</td>\n",
       "      <td>1.023810</td>\n",
       "      <td>322.0</td>\n",
       "      <td>2.555556</td>\n",
       "      <td>37.88</td>\n",
       "      <td>-122.23</td>\n",
       "      <td>4.526</td>\n",
       "    </tr>\n",
       "    <tr>\n",
       "      <th>1</th>\n",
       "      <td>8.3014</td>\n",
       "      <td>21.0</td>\n",
       "      <td>6.238137</td>\n",
       "      <td>0.971880</td>\n",
       "      <td>2401.0</td>\n",
       "      <td>2.109842</td>\n",
       "      <td>37.86</td>\n",
       "      <td>-122.22</td>\n",
       "      <td>3.585</td>\n",
       "    </tr>\n",
       "    <tr>\n",
       "      <th>2</th>\n",
       "      <td>7.2574</td>\n",
       "      <td>52.0</td>\n",
       "      <td>8.288136</td>\n",
       "      <td>1.073446</td>\n",
       "      <td>496.0</td>\n",
       "      <td>2.802260</td>\n",
       "      <td>37.85</td>\n",
       "      <td>-122.24</td>\n",
       "      <td>3.521</td>\n",
       "    </tr>\n",
       "    <tr>\n",
       "      <th>3</th>\n",
       "      <td>5.6431</td>\n",
       "      <td>52.0</td>\n",
       "      <td>5.817352</td>\n",
       "      <td>1.073059</td>\n",
       "      <td>558.0</td>\n",
       "      <td>2.547945</td>\n",
       "      <td>37.85</td>\n",
       "      <td>-122.25</td>\n",
       "      <td>3.413</td>\n",
       "    </tr>\n",
       "    <tr>\n",
       "      <th>4</th>\n",
       "      <td>3.8462</td>\n",
       "      <td>52.0</td>\n",
       "      <td>6.281853</td>\n",
       "      <td>1.081081</td>\n",
       "      <td>565.0</td>\n",
       "      <td>2.181467</td>\n",
       "      <td>37.85</td>\n",
       "      <td>-122.25</td>\n",
       "      <td>3.422</td>\n",
       "    </tr>\n",
       "  </tbody>\n",
       "</table>\n",
       "</div>"
      ],
      "text/plain": [
       "   MedInc  HouseAge  AveRooms  AveBedrms  Population  AveOccup  Latitude  \\\n",
       "0  8.3252      41.0  6.984127   1.023810       322.0  2.555556     37.88   \n",
       "1  8.3014      21.0  6.238137   0.971880      2401.0  2.109842     37.86   \n",
       "2  7.2574      52.0  8.288136   1.073446       496.0  2.802260     37.85   \n",
       "3  5.6431      52.0  5.817352   1.073059       558.0  2.547945     37.85   \n",
       "4  3.8462      52.0  6.281853   1.081081       565.0  2.181467     37.85   \n",
       "\n",
       "   Longitude  Value  \n",
       "0    -122.23  4.526  \n",
       "1    -122.22  3.585  \n",
       "2    -122.24  3.521  \n",
       "3    -122.25  3.413  \n",
       "4    -122.25  3.422  "
      ]
     },
     "execution_count": 3,
     "metadata": {},
     "output_type": "execute_result"
    }
   ],
   "source": [
    "cal_house_data = cal_house.data\n",
    "\n",
    "cal_house_data = pd.DataFrame(cal_house_data, columns=cal_house_cols)\n",
    "cal_house_data['Value'] = cal_house.target\n",
    "cal_house_data.head()"
   ]
  },
  {
   "cell_type": "markdown",
   "id": "17ae7aa0-cd89-496e-a570-06593cf74d72",
   "metadata": {},
   "source": [
    "### Connect to the DB"
   ]
  },
  {
   "cell_type": "code",
   "execution_count": 4,
   "id": "b42f4567-cc16-4a74-83d6-2cfb030e9f7c",
   "metadata": {},
   "outputs": [],
   "source": [
    "con = duckdb.connect(\"../test.db\")"
   ]
  },
  {
   "cell_type": "markdown",
   "id": "e110095f-2296-47fc-a9e7-d521cf6480b6",
   "metadata": {},
   "source": [
    "### Create the iris table and populate"
   ]
  },
  {
   "cell_type": "code",
   "execution_count": 5,
   "id": "d86e40e9-6496-4a73-8202-1221a9f550ed",
   "metadata": {},
   "outputs": [
    {
     "name": "stdout",
     "output_type": "stream",
     "text": [
      "┌────────┬──────────┬───────────┬────────────┬────────────┬───────────┬──────────┬───────────┬───────┐\n",
      "│ MedInc │ HouseAge │ AveRooms  │ AveBedrms  │ Population │ AveOccup  │ Latitude │ Longitude │ Value │\n",
      "│ float  │  float   │   float   │   float    │   float    │   float   │  float   │   float   │ float │\n",
      "├────────┼──────────┼───────────┼────────────┼────────────┼───────────┼──────────┼───────────┼───────┤\n",
      "│ 8.3252 │     41.0 │  6.984127 │  1.0238096 │      322.0 │ 2.5555556 │    37.88 │   -122.23 │ 4.526 │\n",
      "│ 8.3014 │     21.0 │ 6.2381372 │  0.9718805 │     2401.0 │ 2.1098418 │    37.86 │   -122.22 │ 3.585 │\n",
      "│ 7.2574 │     52.0 │  8.288136 │  1.0734463 │      496.0 │   2.80226 │    37.85 │   -122.24 │ 3.521 │\n",
      "│ 5.6431 │     52.0 │  5.817352 │  1.0730593 │      558.0 │ 2.5479453 │    37.85 │   -122.25 │ 3.413 │\n",
      "│ 3.8462 │     52.0 │  6.281853 │   1.081081 │      565.0 │ 2.1814673 │    37.85 │   -122.25 │ 3.422 │\n",
      "│ 4.0368 │     52.0 │  4.761658 │   1.103627 │      413.0 │ 2.1398964 │    37.85 │   -122.25 │ 2.697 │\n",
      "│ 3.6591 │     52.0 │ 4.9319067 │  0.9513619 │     1094.0 │ 2.1284046 │    37.84 │   -122.25 │ 2.992 │\n",
      "│   3.12 │     52.0 │  4.797527 │  1.0618238 │     1157.0 │ 1.7882534 │    37.84 │   -122.25 │ 2.414 │\n",
      "│ 2.0804 │     42.0 │ 4.2941175 │   1.117647 │     1206.0 │ 2.0268908 │    37.84 │   -122.26 │ 2.267 │\n",
      "│ 3.6912 │     52.0 │  4.970588 │ 0.99019605 │     1551.0 │ 2.1722689 │    37.84 │   -122.25 │ 2.611 │\n",
      "│    ·   │       ·  │      ·    │      ·     │        ·   │     ·     │      ·   │      ·    │   ·   │\n",
      "│    ·   │       ·  │      ·    │      ·     │        ·   │     ·     │      ·   │      ·    │   ·   │\n",
      "│    ·   │       ·  │      ·    │      ·     │        ·   │     ·     │      ·   │      ·    │   ·   │\n",
      "│ 2.8864 │     17.0 │ 6.2809362 │  1.1538461 │      892.0 │ 2.9832776 │    39.09 │   -121.07 │ 1.431 │\n",
      "│ 2.5887 │     13.0 │ 5.3110046 │  1.0334928 │      602.0 │ 2.8803828 │    39.08 │    -121.1 │ 1.444 │\n",
      "│ 2.3062 │     16.0 │  5.263158 │  1.0368421 │      508.0 │ 2.6736841 │    39.09 │   -121.11 │ 1.388 │\n",
      "│ 3.6563 │     17.0 │ 5.9014087 │  1.1338028 │      388.0 │ 2.7323945 │    39.03 │   -121.12 │ 1.635 │\n",
      "│ 4.4375 │     10.0 │   6.04142 │  0.9802761 │     1168.0 │ 2.3037474 │    39.13 │   -121.05 │ 1.851 │\n",
      "│ 4.0775 │     10.0 │    6.1409 │  1.0254403 │     1275.0 │ 2.4951077 │    39.14 │   -121.03 │ 1.645 │\n",
      "│ 4.0848 │      8.0 │  6.350394 │  1.0918635 │     1977.0 │ 2.5944881 │    39.13 │   -121.07 │ 1.559 │\n",
      "│ 3.6333 │      7.0 │ 7.2434554 │  1.1073298 │     1143.0 │ 2.9921465 │    39.11 │   -121.05 │ 1.702 │\n",
      "│  3.463 │      8.0 │ 6.3636365 │  1.1662971 │     1307.0 │ 2.8980045 │    39.08 │   -121.04 │ 2.017 │\n",
      "│ 3.0781 │      7.0 │    5.4875 │       1.05 │      246.0 │     3.075 │    39.09 │    -121.0 │ 1.625 │\n",
      "├────────┴──────────┴───────────┴────────────┴────────────┴───────────┴──────────┴───────────┴───────┤\n",
      "│ ? rows (>9999 rows, 20 shown)                                                            9 columns │\n",
      "└────────────────────────────────────────────────────────────────────────────────────────────────────┘\n",
      "\n"
     ]
    }
   ],
   "source": [
    "con.sql(\"DROP TABLE IF EXISTS cal_house\")\n",
    "\n",
    "create_sql = \"CREATE TABLE cal_house (\" + \" , \".join([c + \" FLOAT\" for c in cal_house_data.columns]) + \");\"\n",
    "con.sql(create_sql)\n",
    "\n",
    "con.sql(\"INSERT INTO cal_house (\" + \", \".join(cal_house_data.columns) + \") SELECT * FROM cal_house_data\")\n",
    "\n",
    "con.sql(\"SELECT * FROM cal_house\").show()\n",
    "\n",
    "con.close()"
   ]
  },
  {
   "cell_type": "code",
   "execution_count": null,
   "id": "357fbb5f-5bd5-45d7-9070-906e7a06439d",
   "metadata": {},
   "outputs": [],
   "source": []
  }
 ],
 "metadata": {
  "kernelspec": {
   "display_name": "Python 3 (ipykernel)",
   "language": "python",
   "name": "python3"
  },
  "language_info": {
   "codemirror_mode": {
    "name": "ipython",
    "version": 3
   },
   "file_extension": ".py",
   "mimetype": "text/x-python",
   "name": "python",
   "nbconvert_exporter": "python",
   "pygments_lexer": "ipython3",
   "version": "3.12.3"
  }
 },
 "nbformat": 4,
 "nbformat_minor": 5
}
