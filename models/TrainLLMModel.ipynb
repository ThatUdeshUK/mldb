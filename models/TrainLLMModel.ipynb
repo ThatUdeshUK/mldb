{
 "cells": [
  {
   "cell_type": "markdown",
   "id": "6f996065-781a-4bb1-ad46-b6105b34c647",
   "metadata": {},
   "source": [
    "# Export to DuckDB"
   ]
  },
  {
   "cell_type": "code",
   "execution_count": 1,
   "id": "292079c1-722f-4d1c-98e2-8ba353fb59d8",
   "metadata": {},
   "outputs": [],
   "source": [
    "import numpy as np\n",
    "import pandas as pd\n",
    "\n",
    "import torch\n",
    "import torch.nn as nn\n",
    "\n",
    "import duckdb"
   ]
  },
  {
   "cell_type": "markdown",
   "id": "d89fc486-d03e-4c28-9c6a-a5dd697dbba2",
   "metadata": {},
   "source": [
    "### Load iris data"
   ]
  },
  {
   "cell_type": "code",
   "execution_count": 2,
   "id": "cdf8b441-e7a5-4ce3-b89d-c609d47c4c46",
   "metadata": {},
   "outputs": [
    {
     "data": {
      "text/html": [
       "<div>\n",
       "<style scoped>\n",
       "    .dataframe tbody tr th:only-of-type {\n",
       "        vertical-align: middle;\n",
       "    }\n",
       "\n",
       "    .dataframe tbody tr th {\n",
       "        vertical-align: top;\n",
       "    }\n",
       "\n",
       "    .dataframe thead th {\n",
       "        text-align: right;\n",
       "    }\n",
       "</style>\n",
       "<table border=\"1\" class=\"dataframe\">\n",
       "  <thead>\n",
       "    <tr style=\"text-align: right;\">\n",
       "      <th></th>\n",
       "      <th>sepal_length</th>\n",
       "      <th>sepal_width</th>\n",
       "      <th>petal_length</th>\n",
       "      <th>petal_width</th>\n",
       "      <th>label</th>\n",
       "    </tr>\n",
       "  </thead>\n",
       "  <tbody>\n",
       "    <tr>\n",
       "      <th>0</th>\n",
       "      <td>-0.900681</td>\n",
       "      <td>1.019004</td>\n",
       "      <td>-1.340227</td>\n",
       "      <td>-1.315444</td>\n",
       "      <td>0</td>\n",
       "    </tr>\n",
       "    <tr>\n",
       "      <th>1</th>\n",
       "      <td>-1.143017</td>\n",
       "      <td>-0.131979</td>\n",
       "      <td>-1.340227</td>\n",
       "      <td>-1.315444</td>\n",
       "      <td>0</td>\n",
       "    </tr>\n",
       "    <tr>\n",
       "      <th>2</th>\n",
       "      <td>-1.385353</td>\n",
       "      <td>0.328414</td>\n",
       "      <td>-1.397064</td>\n",
       "      <td>-1.315444</td>\n",
       "      <td>0</td>\n",
       "    </tr>\n",
       "    <tr>\n",
       "      <th>3</th>\n",
       "      <td>-1.506521</td>\n",
       "      <td>0.098217</td>\n",
       "      <td>-1.283389</td>\n",
       "      <td>-1.315444</td>\n",
       "      <td>0</td>\n",
       "    </tr>\n",
       "    <tr>\n",
       "      <th>4</th>\n",
       "      <td>-1.021849</td>\n",
       "      <td>1.249201</td>\n",
       "      <td>-1.340227</td>\n",
       "      <td>-1.315444</td>\n",
       "      <td>0</td>\n",
       "    </tr>\n",
       "  </tbody>\n",
       "</table>\n",
       "</div>"
      ],
      "text/plain": [
       "   sepal_length  sepal_width  petal_length  petal_width  label\n",
       "0     -0.900681     1.019004     -1.340227    -1.315444      0\n",
       "1     -1.143017    -0.131979     -1.340227    -1.315444      0\n",
       "2     -1.385353     0.328414     -1.397064    -1.315444      0\n",
       "3     -1.506521     0.098217     -1.283389    -1.315444      0\n",
       "4     -1.021849     1.249201     -1.340227    -1.315444      0"
      ]
     },
     "execution_count": 2,
     "metadata": {},
     "output_type": "execute_result"
    }
   ],
   "source": [
    "con = duckdb.connect(\"../test.db\")\n",
    "iris = con.sql(\"SELECT * FROM iris\").df().drop(columns=['id'])\n",
    "con.close()\n",
    "\n",
    "iris.head()"
   ]
  },
  {
   "cell_type": "code",
   "execution_count": 3,
   "id": "e0aeee57-88ea-4c28-95ac-971cf429de6b",
   "metadata": {},
   "outputs": [],
   "source": [
    "iris_data = iris.iloc[:, :4]\n",
    "iris_label = iris.iloc[:, 4]"
   ]
  },
  {
   "cell_type": "markdown",
   "id": "17ae7aa0-cd89-496e-a570-06593cf74d72",
   "metadata": {},
   "source": [
    "### Train the model"
   ]
  },
  {
   "cell_type": "code",
   "execution_count": 4,
   "id": "44ae6c61-df7d-48f8-b35d-31bb2b2a65a4",
   "metadata": {},
   "outputs": [],
   "source": [
    "x = torch.FloatTensor(iris_data.values)\n",
    "y = torch.LongTensor(iris_label.values)"
   ]
  },
  {
   "cell_type": "code",
   "execution_count": 5,
   "id": "01cbe885-6c0f-4d22-91e6-44f6cbba1a7e",
   "metadata": {},
   "outputs": [],
   "source": [
    "class NeuralNetworkClassificationModel(nn.Module):\n",
    "    def __init__(self,input_dim,output_dim):\n",
    "        super(NeuralNetworkClassificationModel,self).__init__()\n",
    "        model_w = 128\n",
    "        self.input_layer    = nn.Linear(input_dim, model_w)\n",
    "        self.hidden_layer1  = nn.Linear(model_w,model_w)\n",
    "        self.hidden_layer2  = nn.Linear(model_w,model_w)\n",
    "        self.hidden_layer3  = nn.Linear(model_w,model_w)\n",
    "        self.hidden_layer4  = nn.Linear(model_w,model_w)\n",
    "        self.hidden_layer5  = nn.Linear(model_w,64)\n",
    "        self.output_layer   = nn.Linear(64,output_dim)\n",
    "        self.relu = nn.ReLU()\n",
    "\n",
    "    def forward_train(self, x):\n",
    "        out =  self.relu(self.input_layer(x))\n",
    "        out =  self.relu(self.hidden_layer1(out))\n",
    "        out =  self.relu(self.hidden_layer2(out))\n",
    "        out =  self.relu(self.hidden_layer3(out))\n",
    "        out =  self.relu(self.hidden_layer4(out))\n",
    "        out =  self.relu(self.hidden_layer5(out))\n",
    "        out =  self.output_layer(out)\n",
    "        return out\n",
    "    \n",
    "    def forward(self,x):\n",
    "        out =  self.forward_train(x) #.argmax(dim=1).float()\n",
    "        return out"
   ]
  },
  {
   "cell_type": "code",
   "execution_count": 6,
   "id": "915f1553-544a-4bc9-92e2-cb7d0d675fd4",
   "metadata": {},
   "outputs": [],
   "source": [
    "input_dim  = 4 \n",
    "output_dim = 3\n",
    "model = NeuralNetworkClassificationModel(input_dim,output_dim)"
   ]
  },
  {
   "cell_type": "code",
   "execution_count": 7,
   "id": "ed734056-11a6-4cc4-aacf-be6bf76fe8c3",
   "metadata": {},
   "outputs": [],
   "source": [
    "learning_rate = 0.01\n",
    "criterion = nn.CrossEntropyLoss()\n",
    "optimizer = torch.optim.Adam(model.parameters(), lr=learning_rate)"
   ]
  },
  {
   "cell_type": "code",
   "execution_count": 8,
   "id": "1bb12a48-6280-4e7f-81ce-107aa666399a",
   "metadata": {},
   "outputs": [],
   "source": [
    "def train_network(model,optimizer,criterion,X_train,y_train,num_epochs,train_losses,test_losses):\n",
    "    for epoch in range(num_epochs):\n",
    "        #clear out the gradients from the last step loss.backward()\n",
    "        optimizer.zero_grad()\n",
    "        \n",
    "        #forward feed\n",
    "        output_train = model.forward_train(X_train)\n",
    "\n",
    "        #calculate the loss\n",
    "        loss_train = criterion(output_train, y_train)\n",
    "\n",
    "        #backward propagation: calculate gradients\n",
    "        loss_train.backward()\n",
    "\n",
    "        #update the weights\n",
    "        optimizer.step()\n",
    "\n",
    "        train_losses[epoch] = loss_train.item()\n",
    "\n",
    "        if (epoch + 1) % 50 == 0:\n",
    "            print(f\"Epoch {epoch+1}/{num_epochs}, Train Loss: {loss_train.item():.4f}\")"
   ]
  },
  {
   "cell_type": "code",
   "execution_count": 9,
   "id": "bbcd5535-864b-4096-be5e-b5a64ec02f28",
   "metadata": {},
   "outputs": [],
   "source": [
    "num_epochs = 1000\n",
    "train_losses = np.zeros(num_epochs)\n",
    "test_losses  = np.zeros(num_epochs)"
   ]
  },
  {
   "cell_type": "code",
   "execution_count": 10,
   "id": "e34c16f7-7696-49d3-83c2-bde6afea9377",
   "metadata": {},
   "outputs": [
    {
     "name": "stdout",
     "output_type": "stream",
     "text": [
      "Epoch 50/1000, Train Loss: 0.0206\n",
      "Epoch 100/1000, Train Loss: 0.0000\n",
      "Epoch 150/1000, Train Loss: 0.0000\n",
      "Epoch 200/1000, Train Loss: 0.0000\n",
      "Epoch 250/1000, Train Loss: 0.0000\n",
      "Epoch 300/1000, Train Loss: 0.0000\n",
      "Epoch 350/1000, Train Loss: 0.0000\n",
      "Epoch 400/1000, Train Loss: 0.0000\n",
      "Epoch 450/1000, Train Loss: 0.0000\n",
      "Epoch 500/1000, Train Loss: 0.0000\n",
      "Epoch 550/1000, Train Loss: 0.0000\n",
      "Epoch 600/1000, Train Loss: 0.0000\n",
      "Epoch 650/1000, Train Loss: 0.0000\n",
      "Epoch 700/1000, Train Loss: 0.0000\n",
      "Epoch 750/1000, Train Loss: 0.0000\n",
      "Epoch 800/1000, Train Loss: 0.0000\n",
      "Epoch 850/1000, Train Loss: 0.0000\n",
      "Epoch 900/1000, Train Loss: 0.0000\n",
      "Epoch 950/1000, Train Loss: 0.0000\n",
      "Epoch 1000/1000, Train Loss: 0.0000\n"
     ]
    }
   ],
   "source": [
    "train_network(model,optimizer,criterion,x,y,num_epochs,train_losses,test_losses)"
   ]
  },
  {
   "cell_type": "markdown",
   "id": "b932e856-9b91-47a5-af3d-de24ab1d9629",
   "metadata": {},
   "source": [
    "### Compile as TorchScript"
   ]
  },
  {
   "cell_type": "code",
   "execution_count": 11,
   "id": "cf4a0b9c-6a34-43cd-a399-e52760a1ea66",
   "metadata": {},
   "outputs": [],
   "source": [
    "sm = torch.jit.script(model)"
   ]
  },
  {
   "cell_type": "code",
   "execution_count": 12,
   "id": "eb6e1aa6-bd7d-4652-87d7-781f75b78eff",
   "metadata": {},
   "outputs": [],
   "source": [
    "sm.save(\"iris_d5_w128.pt\")"
   ]
  },
  {
   "cell_type": "code",
   "execution_count": null,
   "id": "6752d574-a108-4365-ab49-7e514e56c7de",
   "metadata": {},
   "outputs": [],
   "source": []
  }
 ],
 "metadata": {
  "kernelspec": {
   "display_name": "Python 3 (ipykernel)",
   "language": "python",
   "name": "python3"
  },
  "language_info": {
   "codemirror_mode": {
    "name": "ipython",
    "version": 3
   },
   "file_extension": ".py",
   "mimetype": "text/x-python",
   "name": "python",
   "nbconvert_exporter": "python",
   "pygments_lexer": "ipython3",
   "version": "3.12.2"
  }
 },
 "nbformat": 4,
 "nbformat_minor": 5
}
