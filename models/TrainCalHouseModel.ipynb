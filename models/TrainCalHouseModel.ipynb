{
 "cells": [
  {
   "cell_type": "markdown",
   "id": "6f996065-781a-4bb1-ad46-b6105b34c647",
   "metadata": {},
   "source": [
    "# Export to DuckDB"
   ]
  },
  {
   "cell_type": "code",
   "execution_count": 1,
   "id": "292079c1-722f-4d1c-98e2-8ba353fb59d8",
   "metadata": {},
   "outputs": [],
   "source": [
    "import numpy as np\n",
    "import pandas as pd\n",
    "\n",
    "import torch\n",
    "import torch.nn as nn\n",
    "import torch.optim as optim\n",
    "\n",
    "import duckdb"
   ]
  },
  {
   "cell_type": "markdown",
   "id": "d89fc486-d03e-4c28-9c6a-a5dd697dbba2",
   "metadata": {},
   "source": [
    "### Load iris data"
   ]
  },
  {
   "cell_type": "code",
   "execution_count": 2,
   "id": "cdf8b441-e7a5-4ce3-b89d-c609d47c4c46",
   "metadata": {},
   "outputs": [
    {
     "data": {
      "text/html": [
       "<div>\n",
       "<style scoped>\n",
       "    .dataframe tbody tr th:only-of-type {\n",
       "        vertical-align: middle;\n",
       "    }\n",
       "\n",
       "    .dataframe tbody tr th {\n",
       "        vertical-align: top;\n",
       "    }\n",
       "\n",
       "    .dataframe thead th {\n",
       "        text-align: right;\n",
       "    }\n",
       "</style>\n",
       "<table border=\"1\" class=\"dataframe\">\n",
       "  <thead>\n",
       "    <tr style=\"text-align: right;\">\n",
       "      <th></th>\n",
       "      <th>MedInc</th>\n",
       "      <th>HouseAge</th>\n",
       "      <th>AveRooms</th>\n",
       "      <th>AveBedrms</th>\n",
       "      <th>Population</th>\n",
       "      <th>AveOccup</th>\n",
       "      <th>Latitude</th>\n",
       "      <th>Longitude</th>\n",
       "      <th>Value</th>\n",
       "    </tr>\n",
       "  </thead>\n",
       "  <tbody>\n",
       "    <tr>\n",
       "      <th>0</th>\n",
       "      <td>8.3252</td>\n",
       "      <td>41.0</td>\n",
       "      <td>6.984127</td>\n",
       "      <td>1.023810</td>\n",
       "      <td>322.0</td>\n",
       "      <td>2.555556</td>\n",
       "      <td>37.880001</td>\n",
       "      <td>-122.230003</td>\n",
       "      <td>4.526</td>\n",
       "    </tr>\n",
       "    <tr>\n",
       "      <th>1</th>\n",
       "      <td>8.3014</td>\n",
       "      <td>21.0</td>\n",
       "      <td>6.238137</td>\n",
       "      <td>0.971880</td>\n",
       "      <td>2401.0</td>\n",
       "      <td>2.109842</td>\n",
       "      <td>37.860001</td>\n",
       "      <td>-122.220001</td>\n",
       "      <td>3.585</td>\n",
       "    </tr>\n",
       "    <tr>\n",
       "      <th>2</th>\n",
       "      <td>7.2574</td>\n",
       "      <td>52.0</td>\n",
       "      <td>8.288136</td>\n",
       "      <td>1.073446</td>\n",
       "      <td>496.0</td>\n",
       "      <td>2.802260</td>\n",
       "      <td>37.849998</td>\n",
       "      <td>-122.239998</td>\n",
       "      <td>3.521</td>\n",
       "    </tr>\n",
       "    <tr>\n",
       "      <th>3</th>\n",
       "      <td>5.6431</td>\n",
       "      <td>52.0</td>\n",
       "      <td>5.817352</td>\n",
       "      <td>1.073059</td>\n",
       "      <td>558.0</td>\n",
       "      <td>2.547945</td>\n",
       "      <td>37.849998</td>\n",
       "      <td>-122.250000</td>\n",
       "      <td>3.413</td>\n",
       "    </tr>\n",
       "    <tr>\n",
       "      <th>4</th>\n",
       "      <td>3.8462</td>\n",
       "      <td>52.0</td>\n",
       "      <td>6.281853</td>\n",
       "      <td>1.081081</td>\n",
       "      <td>565.0</td>\n",
       "      <td>2.181467</td>\n",
       "      <td>37.849998</td>\n",
       "      <td>-122.250000</td>\n",
       "      <td>3.422</td>\n",
       "    </tr>\n",
       "  </tbody>\n",
       "</table>\n",
       "</div>"
      ],
      "text/plain": [
       "   MedInc  HouseAge  AveRooms  AveBedrms  Population  AveOccup   Latitude  \\\n",
       "0  8.3252      41.0  6.984127   1.023810       322.0  2.555556  37.880001   \n",
       "1  8.3014      21.0  6.238137   0.971880      2401.0  2.109842  37.860001   \n",
       "2  7.2574      52.0  8.288136   1.073446       496.0  2.802260  37.849998   \n",
       "3  5.6431      52.0  5.817352   1.073059       558.0  2.547945  37.849998   \n",
       "4  3.8462      52.0  6.281853   1.081081       565.0  2.181467  37.849998   \n",
       "\n",
       "    Longitude  Value  \n",
       "0 -122.230003  4.526  \n",
       "1 -122.220001  3.585  \n",
       "2 -122.239998  3.521  \n",
       "3 -122.250000  3.413  \n",
       "4 -122.250000  3.422  "
      ]
     },
     "execution_count": 2,
     "metadata": {},
     "output_type": "execute_result"
    }
   ],
   "source": [
    "con = duckdb.connect(\"../test.db\")\n",
    "cal_house = con.sql(\"SELECT * FROM cal_house\").df().drop(columns=['id'])\n",
    "con.close()\n",
    "\n",
    "cal_house.head()"
   ]
  },
  {
   "cell_type": "code",
   "execution_count": 16,
   "id": "3559b791-9ff0-471a-9d3a-1c86743869e9",
   "metadata": {},
   "outputs": [
    {
     "data": {
      "text/html": [
       "<div>\n",
       "<style scoped>\n",
       "    .dataframe tbody tr th:only-of-type {\n",
       "        vertical-align: middle;\n",
       "    }\n",
       "\n",
       "    .dataframe tbody tr th {\n",
       "        vertical-align: top;\n",
       "    }\n",
       "\n",
       "    .dataframe thead th {\n",
       "        text-align: right;\n",
       "    }\n",
       "</style>\n",
       "<table border=\"1\" class=\"dataframe\">\n",
       "  <thead>\n",
       "    <tr style=\"text-align: right;\">\n",
       "      <th></th>\n",
       "      <th>MedInc</th>\n",
       "      <th>HouseAge</th>\n",
       "      <th>AveRooms</th>\n",
       "      <th>AveBedrms</th>\n",
       "      <th>Population</th>\n",
       "      <th>AveOccup</th>\n",
       "      <th>Latitude</th>\n",
       "      <th>Longitude</th>\n",
       "      <th>Value</th>\n",
       "    </tr>\n",
       "  </thead>\n",
       "  <tbody>\n",
       "    <tr>\n",
       "      <th>2045</th>\n",
       "      <td>1.4007</td>\n",
       "      <td>7.0</td>\n",
       "      <td>4.466424</td>\n",
       "      <td>1.174229</td>\n",
       "      <td>1587.0</td>\n",
       "      <td>2.880218</td>\n",
       "      <td>36.730000</td>\n",
       "      <td>-119.730003</td>\n",
       "      <td>2.250</td>\n",
       "    </tr>\n",
       "    <tr>\n",
       "      <th>2046</th>\n",
       "      <td>1.4646</td>\n",
       "      <td>9.0</td>\n",
       "      <td>4.514151</td>\n",
       "      <td>1.158019</td>\n",
       "      <td>1116.0</td>\n",
       "      <td>2.632076</td>\n",
       "      <td>36.730000</td>\n",
       "      <td>-119.720001</td>\n",
       "      <td>0.659</td>\n",
       "    </tr>\n",
       "    <tr>\n",
       "      <th>2047</th>\n",
       "      <td>6.8162</td>\n",
       "      <td>15.0</td>\n",
       "      <td>7.383621</td>\n",
       "      <td>1.060345</td>\n",
       "      <td>766.0</td>\n",
       "      <td>3.301724</td>\n",
       "      <td>36.720001</td>\n",
       "      <td>-119.720001</td>\n",
       "      <td>1.272</td>\n",
       "    </tr>\n",
       "    <tr>\n",
       "      <th>2048</th>\n",
       "      <td>0.6991</td>\n",
       "      <td>26.0</td>\n",
       "      <td>2.669021</td>\n",
       "      <td>1.014127</td>\n",
       "      <td>1660.0</td>\n",
       "      <td>1.675076</td>\n",
       "      <td>36.720001</td>\n",
       "      <td>-119.730003</td>\n",
       "      <td>0.895</td>\n",
       "    </tr>\n",
       "    <tr>\n",
       "      <th>2049</th>\n",
       "      <td>2.2437</td>\n",
       "      <td>9.0</td>\n",
       "      <td>4.114213</td>\n",
       "      <td>1.086294</td>\n",
       "      <td>678.0</td>\n",
       "      <td>1.720812</td>\n",
       "      <td>36.730000</td>\n",
       "      <td>-119.730003</td>\n",
       "      <td>0.542</td>\n",
       "    </tr>\n",
       "  </tbody>\n",
       "</table>\n",
       "</div>"
      ],
      "text/plain": [
       "      MedInc  HouseAge  AveRooms  AveBedrms  Population  AveOccup   Latitude  \\\n",
       "2045  1.4007       7.0  4.466424   1.174229      1587.0  2.880218  36.730000   \n",
       "2046  1.4646       9.0  4.514151   1.158019      1116.0  2.632076  36.730000   \n",
       "2047  6.8162      15.0  7.383621   1.060345       766.0  3.301724  36.720001   \n",
       "2048  0.6991      26.0  2.669021   1.014127      1660.0  1.675076  36.720001   \n",
       "2049  2.2437       9.0  4.114213   1.086294       678.0  1.720812  36.730000   \n",
       "\n",
       "       Longitude  Value  \n",
       "2045 -119.730003  2.250  \n",
       "2046 -119.720001  0.659  \n",
       "2047 -119.720001  1.272  \n",
       "2048 -119.730003  0.895  \n",
       "2049 -119.730003  0.542  "
      ]
     },
     "execution_count": 16,
     "metadata": {},
     "output_type": "execute_result"
    }
   ],
   "source": [
    "cal_house.iloc[2045:2050, :]"
   ]
  },
  {
   "cell_type": "code",
   "execution_count": 3,
   "id": "e0aeee57-88ea-4c28-95ac-971cf429de6b",
   "metadata": {},
   "outputs": [],
   "source": [
    "cal_house_data = cal_house.iloc[:, :8]\n",
    "cal_house_value = cal_house.iloc[:, 8]"
   ]
  },
  {
   "cell_type": "markdown",
   "id": "17ae7aa0-cd89-496e-a570-06593cf74d72",
   "metadata": {},
   "source": [
    "### Train the model"
   ]
  },
  {
   "cell_type": "code",
   "execution_count": 4,
   "id": "44ae6c61-df7d-48f8-b35d-31bb2b2a65a4",
   "metadata": {},
   "outputs": [],
   "source": [
    "x = torch.FloatTensor(cal_house_data.values)\n",
    "y = torch.FloatTensor(cal_house_value.values).reshape(-1, 1)"
   ]
  },
  {
   "cell_type": "code",
   "execution_count": 5,
   "id": "915f1553-544a-4bc9-92e2-cb7d0d675fd4",
   "metadata": {},
   "outputs": [],
   "source": [
    "model = model = nn.Sequential(\n",
    "    nn.Linear(8, 24),\n",
    "    nn.ReLU(),\n",
    "    nn.Linear(24, 12),\n",
    "    nn.ReLU(),\n",
    "    nn.Linear(12, 6),\n",
    "    nn.ReLU(),\n",
    "    nn.Linear(6, 1)\n",
    ")"
   ]
  },
  {
   "cell_type": "code",
   "execution_count": 6,
   "id": "ed734056-11a6-4cc4-aacf-be6bf76fe8c3",
   "metadata": {},
   "outputs": [],
   "source": [
    "learning_rate = 0.0001\n",
    "loss_fn = nn.MSELoss()  # mean square error\n",
    "optimizer = optim.Adam(model.parameters(), lr=learning_rate)"
   ]
  },
  {
   "cell_type": "code",
   "execution_count": 7,
   "id": "1bb12a48-6280-4e7f-81ce-107aa666399a",
   "metadata": {},
   "outputs": [],
   "source": [
    "def train_network(model, optimizer, loss_fn, X_train, y_train, num_epochs, train_losses):\n",
    "    for epoch in range(num_epochs):\n",
    "        #clear out the gradients from the last step loss.backward()\n",
    "        optimizer.zero_grad()\n",
    "        \n",
    "        #forward feed\n",
    "        output_train = model(X_train)\n",
    "\n",
    "        #calculate the loss\n",
    "        loss_train = loss_fn(output_train, y_train)\n",
    "\n",
    "        #backward propagation: calculate gradients\n",
    "        loss_train.backward()\n",
    "\n",
    "        #update the weights\n",
    "        optimizer.step()\n",
    "\n",
    "        train_losses[epoch] = loss_train.item()\n",
    "\n",
    "        if (epoch + 1) % 50 == 0:\n",
    "            print(f\"Epoch {epoch+1}/{num_epochs}, Train Loss: {loss_train.item():.4f}\")"
   ]
  },
  {
   "cell_type": "code",
   "execution_count": 8,
   "id": "bbcd5535-864b-4096-be5e-b5a64ec02f28",
   "metadata": {},
   "outputs": [],
   "source": [
    "num_epochs = 1000\n",
    "train_losses = np.zeros(num_epochs)"
   ]
  },
  {
   "cell_type": "code",
   "execution_count": 9,
   "id": "e34c16f7-7696-49d3-83c2-bde6afea9377",
   "metadata": {},
   "outputs": [
    {
     "name": "stdout",
     "output_type": "stream",
     "text": [
      "Epoch 50/1000, Train Loss: 254.0938\n",
      "Epoch 100/1000, Train Loss: 136.0820\n",
      "Epoch 150/1000, Train Loss: 68.7756\n",
      "Epoch 200/1000, Train Loss: 33.5440\n",
      "Epoch 250/1000, Train Loss: 16.2363\n",
      "Epoch 300/1000, Train Loss: 8.3917\n",
      "Epoch 350/1000, Train Loss: 4.9005\n",
      "Epoch 400/1000, Train Loss: 3.2734\n",
      "Epoch 450/1000, Train Loss: 2.4597\n",
      "Epoch 500/1000, Train Loss: 2.0302\n",
      "Epoch 550/1000, Train Loss: 1.7866\n",
      "Epoch 600/1000, Train Loss: 1.6406\n",
      "Epoch 650/1000, Train Loss: 1.5471\n",
      "Epoch 700/1000, Train Loss: 1.4852\n",
      "Epoch 750/1000, Train Loss: 1.4434\n",
      "Epoch 800/1000, Train Loss: 1.4135\n",
      "Epoch 850/1000, Train Loss: 1.3918\n",
      "Epoch 900/1000, Train Loss: 1.3757\n",
      "Epoch 950/1000, Train Loss: 1.3627\n",
      "Epoch 1000/1000, Train Loss: 1.3523\n"
     ]
    }
   ],
   "source": [
    "train_network(model,optimizer,loss_fn,x,y,num_epochs,train_losses)"
   ]
  },
  {
   "cell_type": "markdown",
   "id": "b932e856-9b91-47a5-af3d-de24ab1d9629",
   "metadata": {},
   "source": [
    "### Compile as TorchScript"
   ]
  },
  {
   "cell_type": "code",
   "execution_count": 10,
   "id": "cf4a0b9c-6a34-43cd-a399-e52760a1ea66",
   "metadata": {},
   "outputs": [],
   "source": [
    "sm = torch.jit.script(model)"
   ]
  },
  {
   "cell_type": "code",
   "execution_count": 11,
   "id": "eb6e1aa6-bd7d-4652-87d7-781f75b78eff",
   "metadata": {},
   "outputs": [],
   "source": [
    "sm.save(\"cal_house.pt\")"
   ]
  },
  {
   "cell_type": "code",
   "execution_count": null,
   "id": "a76172b6-64dd-4025-9e14-fd109f33182b",
   "metadata": {},
   "outputs": [],
   "source": []
  }
 ],
 "metadata": {
  "kernelspec": {
   "display_name": "Python 3 (ipykernel)",
   "language": "python",
   "name": "python3"
  },
  "language_info": {
   "codemirror_mode": {
    "name": "ipython",
    "version": 3
   },
   "file_extension": ".py",
   "mimetype": "text/x-python",
   "name": "python",
   "nbconvert_exporter": "python",
   "pygments_lexer": "ipython3",
   "version": "3.12.2"
  }
 },
 "nbformat": 4,
 "nbformat_minor": 5
}
