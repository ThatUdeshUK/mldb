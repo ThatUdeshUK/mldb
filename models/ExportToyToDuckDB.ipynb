{
 "cells": [
  {
   "cell_type": "markdown",
   "id": "6f996065-781a-4bb1-ad46-b6105b34c647",
   "metadata": {},
   "source": [
    "# Export Toy Dataset to DuckDB"
   ]
  },
  {
   "cell_type": "code",
   "execution_count": 1,
   "id": "292079c1-722f-4d1c-98e2-8ba353fb59d8",
   "metadata": {},
   "outputs": [],
   "source": [
    "import numpy as np\n",
    "import pandas as pd\n",
    "\n",
    "import duckdb"
   ]
  },
  {
   "cell_type": "markdown",
   "id": "d89fc486-d03e-4c28-9c6a-a5dd697dbba2",
   "metadata": {},
   "source": [
    "### Load iris data"
   ]
  },
  {
   "cell_type": "code",
   "execution_count": 8,
   "id": "cdf8b441-e7a5-4ce3-b89d-c609d47c4c46",
   "metadata": {},
   "outputs": [],
   "source": [
    "toy = np.random.rand(10, 3) * 10\n",
    "toy_cols = ['A', 'B', 'C']"
   ]
  },
  {
   "cell_type": "code",
   "execution_count": 9,
   "id": "dc319109-a867-47f6-9520-c6b22f196671",
   "metadata": {},
   "outputs": [
    {
     "data": {
      "text/html": [
       "<div>\n",
       "<style scoped>\n",
       "    .dataframe tbody tr th:only-of-type {\n",
       "        vertical-align: middle;\n",
       "    }\n",
       "\n",
       "    .dataframe tbody tr th {\n",
       "        vertical-align: top;\n",
       "    }\n",
       "\n",
       "    .dataframe thead th {\n",
       "        text-align: right;\n",
       "    }\n",
       "</style>\n",
       "<table border=\"1\" class=\"dataframe\">\n",
       "  <thead>\n",
       "    <tr style=\"text-align: right;\">\n",
       "      <th></th>\n",
       "      <th>A</th>\n",
       "      <th>B</th>\n",
       "      <th>C</th>\n",
       "    </tr>\n",
       "  </thead>\n",
       "  <tbody>\n",
       "    <tr>\n",
       "      <th>0</th>\n",
       "      <td>1.735437</td>\n",
       "      <td>0.786922</td>\n",
       "      <td>2.886817</td>\n",
       "    </tr>\n",
       "    <tr>\n",
       "      <th>1</th>\n",
       "      <td>4.025798</td>\n",
       "      <td>7.259126</td>\n",
       "      <td>9.711503</td>\n",
       "    </tr>\n",
       "    <tr>\n",
       "      <th>2</th>\n",
       "      <td>8.270045</td>\n",
       "      <td>7.980089</td>\n",
       "      <td>6.167088</td>\n",
       "    </tr>\n",
       "    <tr>\n",
       "      <th>3</th>\n",
       "      <td>4.596388</td>\n",
       "      <td>7.292284</td>\n",
       "      <td>5.468243</td>\n",
       "    </tr>\n",
       "    <tr>\n",
       "      <th>4</th>\n",
       "      <td>8.232891</td>\n",
       "      <td>3.692195</td>\n",
       "      <td>8.685392</td>\n",
       "    </tr>\n",
       "  </tbody>\n",
       "</table>\n",
       "</div>"
      ],
      "text/plain": [
       "          A         B         C\n",
       "0  1.735437  0.786922  2.886817\n",
       "1  4.025798  7.259126  9.711503\n",
       "2  8.270045  7.980089  6.167088\n",
       "3  4.596388  7.292284  5.468243\n",
       "4  8.232891  3.692195  8.685392"
      ]
     },
     "execution_count": 9,
     "metadata": {},
     "output_type": "execute_result"
    }
   ],
   "source": [
    "toy_data = pd.DataFrame(toy, columns=toy_cols)\n",
    "toy_data.head()"
   ]
  },
  {
   "cell_type": "markdown",
   "id": "17ae7aa0-cd89-496e-a570-06593cf74d72",
   "metadata": {},
   "source": [
    "### Connect to the DB"
   ]
  },
  {
   "cell_type": "code",
   "execution_count": 11,
   "id": "b42f4567-cc16-4a74-83d6-2cfb030e9f7c",
   "metadata": {},
   "outputs": [],
   "source": [
    "con = duckdb.connect(\"../test.db\")"
   ]
  },
  {
   "cell_type": "markdown",
   "id": "e110095f-2296-47fc-a9e7-d521cf6480b6",
   "metadata": {},
   "source": [
    "### Create the iris table and populate"
   ]
  },
  {
   "cell_type": "code",
   "execution_count": 12,
   "id": "d86e40e9-6496-4a73-8202-1221a9f550ed",
   "metadata": {},
   "outputs": [
    {
     "name": "stdout",
     "output_type": "stream",
     "text": [
      "┌───────────┬───────────┬────────────┐\n",
      "│     A     │     B     │     C      │\n",
      "│   float   │   float   │   float    │\n",
      "├───────────┼───────────┼────────────┤\n",
      "│ 1.7354373 │ 0.7869225 │  2.8868167 │\n",
      "│ 4.0257983 │  7.259126 │   9.711503 │\n",
      "│  8.270045 │ 7.9800887 │  6.1670885 │\n",
      "│ 4.5963883 │  7.292284 │  5.4682426 │\n",
      "│  8.232891 │ 3.6921954 │   8.685392 │\n",
      "│ 2.2735395 │ 1.9311339 │  1.4999186 │\n",
      "│ 1.8435255 │ 6.6621566 │  1.4271868 │\n",
      "│ 7.4393454 │ 3.2236278 │   8.736746 │\n",
      "│  9.595182 │  9.928217 │ 0.10220494 │\n",
      "│  9.876394 │  8.154968 │   8.120614 │\n",
      "├───────────┴───────────┴────────────┤\n",
      "│ 10 rows                  3 columns │\n",
      "└────────────────────────────────────┘\n",
      "\n"
     ]
    }
   ],
   "source": [
    "con.sql(\"DROP TABLE IF EXISTS toy\")\n",
    "# con.sql(\"DROP SEQUENCE IF EXISTS seq_irisid\")\n",
    "\n",
    "# con.sql(\"CREATE SEQUENCE seq_irisid START 1\")\n",
    "con.sql(\"CREATE TABLE toy (A float, B float, C float)\")\n",
    "\n",
    "con.sql(\"INSERT INTO toy SELECT * FROM toy_data\")\n",
    "\n",
    "con.sql(\"SELECT * FROM toy\").show()\n",
    "\n",
    "con.close()"
   ]
  },
  {
   "cell_type": "code",
   "execution_count": null,
   "id": "357fbb5f-5bd5-45d7-9070-906e7a06439d",
   "metadata": {},
   "outputs": [],
   "source": []
  }
 ],
 "metadata": {
  "kernelspec": {
   "display_name": "Python 3 (ipykernel)",
   "language": "python",
   "name": "python3"
  },
  "language_info": {
   "codemirror_mode": {
    "name": "ipython",
    "version": 3
   },
   "file_extension": ".py",
   "mimetype": "text/x-python",
   "name": "python",
   "nbconvert_exporter": "python",
   "pygments_lexer": "ipython3",
   "version": "3.12.2"
  }
 },
 "nbformat": 4,
 "nbformat_minor": 5
}
