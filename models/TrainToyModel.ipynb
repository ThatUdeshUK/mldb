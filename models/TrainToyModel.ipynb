{
 "cells": [
  {
   "cell_type": "markdown",
   "id": "6f996065-781a-4bb1-ad46-b6105b34c647",
   "metadata": {},
   "source": [
    "# Export to DuckDB"
   ]
  },
  {
   "cell_type": "code",
   "execution_count": 1,
   "id": "292079c1-722f-4d1c-98e2-8ba353fb59d8",
   "metadata": {},
   "outputs": [],
   "source": [
    "import numpy as np\n",
    "import pandas as pd\n",
    "\n",
    "import torch\n",
    "import torch.nn as nn\n",
    "\n",
    "import duckdb"
   ]
  },
  {
   "cell_type": "markdown",
   "id": "d89fc486-d03e-4c28-9c6a-a5dd697dbba2",
   "metadata": {},
   "source": [
    "### Load iris data"
   ]
  },
  {
   "cell_type": "code",
   "execution_count": 2,
   "id": "cdf8b441-e7a5-4ce3-b89d-c609d47c4c46",
   "metadata": {},
   "outputs": [
    {
     "data": {
      "text/html": [
       "<div>\n",
       "<style scoped>\n",
       "    .dataframe tbody tr th:only-of-type {\n",
       "        vertical-align: middle;\n",
       "    }\n",
       "\n",
       "    .dataframe tbody tr th {\n",
       "        vertical-align: top;\n",
       "    }\n",
       "\n",
       "    .dataframe thead th {\n",
       "        text-align: right;\n",
       "    }\n",
       "</style>\n",
       "<table border=\"1\" class=\"dataframe\">\n",
       "  <thead>\n",
       "    <tr style=\"text-align: right;\">\n",
       "      <th></th>\n",
       "      <th>A</th>\n",
       "      <th>B</th>\n",
       "      <th>C</th>\n",
       "    </tr>\n",
       "  </thead>\n",
       "  <tbody>\n",
       "    <tr>\n",
       "      <th>0</th>\n",
       "      <td>1.735437</td>\n",
       "      <td>0.786923</td>\n",
       "      <td>2.886817</td>\n",
       "    </tr>\n",
       "    <tr>\n",
       "      <th>1</th>\n",
       "      <td>4.025798</td>\n",
       "      <td>7.259126</td>\n",
       "      <td>9.711503</td>\n",
       "    </tr>\n",
       "    <tr>\n",
       "      <th>2</th>\n",
       "      <td>8.270045</td>\n",
       "      <td>7.980089</td>\n",
       "      <td>6.167089</td>\n",
       "    </tr>\n",
       "    <tr>\n",
       "      <th>3</th>\n",
       "      <td>4.596388</td>\n",
       "      <td>7.292284</td>\n",
       "      <td>5.468243</td>\n",
       "    </tr>\n",
       "    <tr>\n",
       "      <th>4</th>\n",
       "      <td>8.232891</td>\n",
       "      <td>3.692195</td>\n",
       "      <td>8.685392</td>\n",
       "    </tr>\n",
       "  </tbody>\n",
       "</table>\n",
       "</div>"
      ],
      "text/plain": [
       "          A         B         C\n",
       "0  1.735437  0.786923  2.886817\n",
       "1  4.025798  7.259126  9.711503\n",
       "2  8.270045  7.980089  6.167089\n",
       "3  4.596388  7.292284  5.468243\n",
       "4  8.232891  3.692195  8.685392"
      ]
     },
     "execution_count": 2,
     "metadata": {},
     "output_type": "execute_result"
    }
   ],
   "source": [
    "con = duckdb.connect(\"../test.db\")\n",
    "toy = con.sql(\"SELECT * FROM toy\").df()\n",
    "con.close()\n",
    "\n",
    "toy.head()"
   ]
  },
  {
   "cell_type": "code",
   "execution_count": 3,
   "id": "e0aeee57-88ea-4c28-95ac-971cf429de6b",
   "metadata": {},
   "outputs": [],
   "source": [
    "toy_data = toy.iloc[:, :4]"
   ]
  },
  {
   "cell_type": "markdown",
   "id": "17ae7aa0-cd89-496e-a570-06593cf74d72",
   "metadata": {},
   "source": [
    "### Train the model"
   ]
  },
  {
   "cell_type": "code",
   "execution_count": 4,
   "id": "44ae6c61-df7d-48f8-b35d-31bb2b2a65a4",
   "metadata": {},
   "outputs": [],
   "source": [
    "x = torch.FloatTensor(toy_data.values)"
   ]
  },
  {
   "cell_type": "code",
   "execution_count": 5,
   "id": "01cbe885-6c0f-4d22-91e6-44f6cbba1a7e",
   "metadata": {},
   "outputs": [],
   "source": [
    "class MeanModel(nn.Module):\n",
    "    def __init__(self):\n",
    "        super(MeanModel, self).__init__()\n",
    "    \n",
    "    def forward(self,x):\n",
    "        out =  x.mean(dim=1).reshape([-1, 1])\n",
    "        return out"
   ]
  },
  {
   "cell_type": "code",
   "execution_count": 6,
   "id": "915f1553-544a-4bc9-92e2-cb7d0d675fd4",
   "metadata": {},
   "outputs": [],
   "source": [
    "model = MeanModel()"
   ]
  },
  {
   "cell_type": "code",
   "execution_count": 7,
   "id": "1bb12a48-6280-4e7f-81ce-107aa666399a",
   "metadata": {},
   "outputs": [],
   "source": [
    "def train_network(model, X_train):        \n",
    "    #forward feed\n",
    "    output_train = model(X_train)\n",
    "    print(output_train)"
   ]
  },
  {
   "cell_type": "code",
   "execution_count": 8,
   "id": "e34c16f7-7696-49d3-83c2-bde6afea9377",
   "metadata": {},
   "outputs": [
    {
     "name": "stdout",
     "output_type": "stream",
     "text": [
      "tensor([[1.8031],\n",
      "        [6.9988],\n",
      "        [7.4724],\n",
      "        [5.7856],\n",
      "        [6.8702],\n",
      "        [1.9015],\n",
      "        [3.3110],\n",
      "        [6.4666],\n",
      "        [6.5419],\n",
      "        [8.7173]])\n"
     ]
    }
   ],
   "source": [
    "train_network(model, x)"
   ]
  },
  {
   "cell_type": "markdown",
   "id": "b932e856-9b91-47a5-af3d-de24ab1d9629",
   "metadata": {},
   "source": [
    "### Compile as TorchScript"
   ]
  },
  {
   "cell_type": "code",
   "execution_count": 9,
   "id": "cf4a0b9c-6a34-43cd-a399-e52760a1ea66",
   "metadata": {},
   "outputs": [],
   "source": [
    "sm = torch.jit.script(model)"
   ]
  },
  {
   "cell_type": "code",
   "execution_count": 10,
   "id": "eb6e1aa6-bd7d-4652-87d7-781f75b78eff",
   "metadata": {},
   "outputs": [],
   "source": [
    "sm.save(\"toy.pt\")"
   ]
  }
 ],
 "metadata": {
  "kernelspec": {
   "display_name": "Python 3 (ipykernel)",
   "language": "python",
   "name": "python3"
  },
  "language_info": {
   "codemirror_mode": {
    "name": "ipython",
    "version": 3
   },
   "file_extension": ".py",
   "mimetype": "text/x-python",
   "name": "python",
   "nbconvert_exporter": "python",
   "pygments_lexer": "ipython3",
   "version": "3.12.2"
  }
 },
 "nbformat": 4,
 "nbformat_minor": 5
}
