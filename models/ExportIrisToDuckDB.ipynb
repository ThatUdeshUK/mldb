{
 "cells": [
  {
   "cell_type": "markdown",
   "id": "6f996065-781a-4bb1-ad46-b6105b34c647",
   "metadata": {},
   "source": [
    "# Export Iris Dataset to DuckDB"
   ]
  },
  {
   "cell_type": "code",
   "execution_count": 7,
   "id": "292079c1-722f-4d1c-98e2-8ba353fb59d8",
   "metadata": {},
   "outputs": [],
   "source": [
    "import numpy as np\n",
    "import pandas as pd\n",
    "\n",
    "from sklearn import datasets\n",
    "from sklearn.preprocessing import StandardScaler\n",
    "\n",
    "import duckdb"
   ]
  },
  {
   "cell_type": "markdown",
   "id": "89306251-3e62-4617-a245-819583280e56",
   "metadata": {},
   "source": [
    "### Config"
   ]
  },
  {
   "cell_type": "code",
   "execution_count": 8,
   "id": "7f8d01e6-7b3b-44a0-862a-c91319c34878",
   "metadata": {},
   "outputs": [
    {
     "data": {
      "text/plain": [
       "'iris_20_0'"
      ]
     },
     "execution_count": 8,
     "metadata": {},
     "output_type": "execute_result"
    }
   ],
   "source": [
    "table_name = 'iris'\n",
    "ori_workload = False\n",
    "\n",
    "if not ori_workload:\n",
    "    workload = 20000000\n",
    "    table_name += \"_\" + str(workload / 1000000).replace(\".\", \"_\")\n",
    "\n",
    "table_name"
   ]
  },
  {
   "cell_type": "markdown",
   "id": "d89fc486-d03e-4c28-9c6a-a5dd697dbba2",
   "metadata": {},
   "source": [
    "### Load iris data"
   ]
  },
  {
   "cell_type": "code",
   "execution_count": 9,
   "id": "cdf8b441-e7a5-4ce3-b89d-c609d47c4c46",
   "metadata": {},
   "outputs": [],
   "source": [
    "iris = datasets.load_iris()\n",
    "iris_cols = ['sepal_length', 'sepal_width', 'petal_length', 'petal_width']"
   ]
  },
  {
   "cell_type": "code",
   "execution_count": 10,
   "id": "dc319109-a867-47f6-9520-c6b22f196671",
   "metadata": {},
   "outputs": [
    {
     "data": {
      "text/html": [
       "<div>\n",
       "<style scoped>\n",
       "    .dataframe tbody tr th:only-of-type {\n",
       "        vertical-align: middle;\n",
       "    }\n",
       "\n",
       "    .dataframe tbody tr th {\n",
       "        vertical-align: top;\n",
       "    }\n",
       "\n",
       "    .dataframe thead th {\n",
       "        text-align: right;\n",
       "    }\n",
       "</style>\n",
       "<table border=\"1\" class=\"dataframe\">\n",
       "  <thead>\n",
       "    <tr style=\"text-align: right;\">\n",
       "      <th></th>\n",
       "      <th>sepal_length</th>\n",
       "      <th>sepal_width</th>\n",
       "      <th>petal_length</th>\n",
       "      <th>petal_width</th>\n",
       "      <th>label</th>\n",
       "    </tr>\n",
       "  </thead>\n",
       "  <tbody>\n",
       "    <tr>\n",
       "      <th>0</th>\n",
       "      <td>-0.900681</td>\n",
       "      <td>1.019004</td>\n",
       "      <td>-1.340227</td>\n",
       "      <td>-1.315444</td>\n",
       "      <td>0</td>\n",
       "    </tr>\n",
       "    <tr>\n",
       "      <th>1</th>\n",
       "      <td>-1.143017</td>\n",
       "      <td>-0.131979</td>\n",
       "      <td>-1.340227</td>\n",
       "      <td>-1.315444</td>\n",
       "      <td>0</td>\n",
       "    </tr>\n",
       "    <tr>\n",
       "      <th>2</th>\n",
       "      <td>-1.385353</td>\n",
       "      <td>0.328414</td>\n",
       "      <td>-1.397064</td>\n",
       "      <td>-1.315444</td>\n",
       "      <td>0</td>\n",
       "    </tr>\n",
       "    <tr>\n",
       "      <th>3</th>\n",
       "      <td>-1.506521</td>\n",
       "      <td>0.098217</td>\n",
       "      <td>-1.283389</td>\n",
       "      <td>-1.315444</td>\n",
       "      <td>0</td>\n",
       "    </tr>\n",
       "    <tr>\n",
       "      <th>4</th>\n",
       "      <td>-1.021849</td>\n",
       "      <td>1.249201</td>\n",
       "      <td>-1.340227</td>\n",
       "      <td>-1.315444</td>\n",
       "      <td>0</td>\n",
       "    </tr>\n",
       "  </tbody>\n",
       "</table>\n",
       "</div>"
      ],
      "text/plain": [
       "   sepal_length  sepal_width  petal_length  petal_width  label\n",
       "0     -0.900681     1.019004     -1.340227    -1.315444      0\n",
       "1     -1.143017    -0.131979     -1.340227    -1.315444      0\n",
       "2     -1.385353     0.328414     -1.397064    -1.315444      0\n",
       "3     -1.506521     0.098217     -1.283389    -1.315444      0\n",
       "4     -1.021849     1.249201     -1.340227    -1.315444      0"
      ]
     },
     "execution_count": 10,
     "metadata": {},
     "output_type": "execute_result"
    }
   ],
   "source": [
    "# iris_data = pd.read_csv('data/iris.data', names=[, 'class']).drop(columns=iris_cols + ['class'])\n",
    "\n",
    "scaler = StandardScaler()\n",
    "iris_data = scaler.fit_transform(iris.data)\n",
    "\n",
    "iris_data = pd.DataFrame(iris_data, columns=iris_cols)\n",
    "iris_data['label'] = iris.target\n",
    "iris_data.head()"
   ]
  },
  {
   "cell_type": "code",
   "execution_count": 11,
   "id": "4cc476c6-7ca4-44de-9587-939452d52490",
   "metadata": {},
   "outputs": [],
   "source": [
    "if not ori_workload:\n",
    "    iris_data = iris_data.sample(n=workload, replace=True)"
   ]
  },
  {
   "cell_type": "code",
   "execution_count": 12,
   "id": "56fab7b8",
   "metadata": {},
   "outputs": [],
   "source": [
    "# iris_data.drop(columns=['label']).to_csv('dump.csv', header=False)"
   ]
  },
  {
   "cell_type": "markdown",
   "id": "17ae7aa0-cd89-496e-a570-06593cf74d72",
   "metadata": {},
   "source": [
    "### Connect to the DB"
   ]
  },
  {
   "cell_type": "code",
   "execution_count": 18,
   "id": "b42f4567-cc16-4a74-83d6-2cfb030e9f7c",
   "metadata": {},
   "outputs": [],
   "source": [
    "# con = duckdb.connect(\"../test_4096.db\")"
   ]
  },
  {
   "cell_type": "markdown",
   "id": "e110095f-2296-47fc-a9e7-d521cf6480b6",
   "metadata": {},
   "source": [
    "### Create the iris table and populate"
   ]
  },
  {
   "cell_type": "code",
   "execution_count": 19,
   "id": "d86e40e9-6496-4a73-8202-1221a9f550ed",
   "metadata": {},
   "outputs": [
    {
     "name": "stdout",
     "output_type": "stream",
     "text": [
      "┌──────────────┬─────────────┬──────────────┬──────────────┬───────┐\n",
      "│ sepal_length │ sepal_width │ petal_length │ petal_width  │ label │\n",
      "│    float     │    float    │    float     │    float     │ int32 │\n",
      "├──────────────┼─────────────┼──────────────┼──────────────┼───────┤\n",
      "│    0.6745011 │  0.32841405 │    0.4217337 │    0.3957741 │     1 │\n",
      "│   0.31099755 │   -0.592373 │   0.13754657 │   0.13250974 │     1 │\n",
      "│  -0.53717756 │   1.9397914 │    -1.397064 │   -1.0521799 │     0 │\n",
      "│    0.5533333 │   0.7888076 │    1.0469455 │    1.5804638 │     2 │\n",
      "│   -0.9006812 │   0.5586108 │   -1.1697142 │   -0.9205477 │     0 │\n",
      "│   -0.9006812 │   1.7095946 │   -1.0560393 │   -1.0521799 │     0 │\n",
      "│    0.5533333 │  -1.7433568 │   0.36489627 │   0.13250974 │     1 │\n",
      "│   0.31099755 │   -0.592373 │   0.53540856 │ 0.0008775479 │     1 │\n",
      "│    -1.021849 │   0.7888076 │   -1.2833891 │   -1.3154444 │     0 │\n",
      "│   -0.7795133 │   1.0190043 │   -1.2833891 │   -1.3154444 │     0 │\n",
      "│        ·     │       ·     │        ·     │         ·    │     · │\n",
      "│        ·     │       ·     │        ·     │         ·    │     · │\n",
      "│        ·     │       ·     │        ·     │         ·    │     · │\n",
      "│  -0.17367394 │  -1.2829633 │    0.7059208 │     1.053935 │     2 │\n",
      "│    1.0380048 │ -0.13197948 │    0.8195957 │    1.4488316 │     2 │\n",
      "│  0.068661794 │ -0.13197948 │   0.76275826 │   0.79067063 │     2 │\n",
      "│  -0.17367394 │   -0.592373 │    0.4217337 │   0.13250974 │     1 │\n",
      "│    -1.021849 │  0.32841405 │   -1.4539014 │   -1.3154444 │     0 │\n",
      "│    1.1591727 │ -0.13197948 │   0.99010795 │    1.1855673 │     2 │\n",
      "│  -0.29484183 │  -1.2829633 │  0.080709144 │  -0.13075463 │     1 │\n",
      "│  -0.17367394 │   3.0907753 │   -1.2833891 │   -1.0521799 │     0 │\n",
      "│ -0.052506078 │  -0.8225698 │  0.080709144 │ 0.0008775479 │     1 │\n",
      "│  -0.17367394 │   -0.592373 │    0.4217337 │   0.13250974 │     1 │\n",
      "├──────────────┴─────────────┴──────────────┴──────────────┴───────┤\n",
      "│ ? rows (>9999 rows, 20 shown)                          5 columns │\n",
      "└──────────────────────────────────────────────────────────────────┘\n",
      "\n"
     ]
    }
   ],
   "source": [
    "# con.sql(f\"DROP TABLE IF EXISTS {table_name}\")\n",
    "\n",
    "# con.sql(f\"CREATE TABLE {table_name} (sepal_length float, sepal_width float, petal_length float, petal_width float, label integer)\")\n",
    "\n",
    "# con.sql(f\"INSERT INTO {table_name} SELECT * FROM iris_data\")\n",
    "\n",
    "# con.sql(f\"SELECT * FROM {table_name}\").show()\n",
    "\n",
    "# con.close()"
   ]
  },
  {
   "cell_type": "code",
   "execution_count": 21,
   "id": "357fbb5f-5bd5-45d7-9070-906e7a06439d",
   "metadata": {},
   "outputs": [],
   "source": [
    "iris_data.to_csv('../out.csv', header=True, index=False)"
   ]
  },
  {
   "cell_type": "code",
   "execution_count": null,
   "id": "3c2c95af-ac9b-4a1b-9cdb-0a7d25c945a4",
   "metadata": {},
   "outputs": [],
   "source": []
  }
 ],
 "metadata": {
  "kernelspec": {
   "display_name": "Python 3 (ipykernel)",
   "language": "python",
   "name": "python3"
  },
  "language_info": {
   "codemirror_mode": {
    "name": "ipython",
    "version": 3
   },
   "file_extension": ".py",
   "mimetype": "text/x-python",
   "name": "python",
   "nbconvert_exporter": "python",
   "pygments_lexer": "ipython3",
   "version": "3.12.3"
  }
 },
 "nbformat": 4,
 "nbformat_minor": 5
}
