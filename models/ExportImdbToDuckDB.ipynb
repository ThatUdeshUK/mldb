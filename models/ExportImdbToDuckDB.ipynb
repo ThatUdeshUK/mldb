{
 "cells": [
  {
   "cell_type": "markdown",
   "id": "6f996065-781a-4bb1-ad46-b6105b34c647",
   "metadata": {},
   "source": [
    "# Export IMDB Dataset to DuckDB"
   ]
  },
  {
   "cell_type": "code",
   "execution_count": 2,
   "id": "292079c1-722f-4d1c-98e2-8ba353fb59d8",
   "metadata": {},
   "outputs": [
    {
     "name": "stderr",
     "output_type": "stream",
     "text": [
      "/homes/ukumaras/scratch/miniconda3/envs/mldb/lib/python3.12/site-packages/tqdm/auto.py:21: TqdmWarning: IProgress not found. Please update jupyter and ipywidgets. See https://ipywidgets.readthedocs.io/en/stable/user_install.html\n",
      "  from .autonotebook import tqdm as notebook_tqdm\n"
     ]
    }
   ],
   "source": [
    "import numpy as np\n",
    "import pandas as pd\n",
    "\n",
    "# from sklearn.preprocessing import StandardScaler\n",
    "\n",
    "from datasets import load_dataset\n",
    "\n",
    "import duckdb"
   ]
  },
  {
   "cell_type": "markdown",
   "id": "89306251-3e62-4617-a245-819583280e56",
   "metadata": {},
   "source": [
    "### Config"
   ]
  },
  {
   "cell_type": "code",
   "execution_count": 3,
   "id": "7f8d01e6-7b3b-44a0-862a-c91319c34878",
   "metadata": {},
   "outputs": [
    {
     "data": {
      "text/plain": [
       "'imdb'"
      ]
     },
     "execution_count": 3,
     "metadata": {},
     "output_type": "execute_result"
    }
   ],
   "source": [
    "table_name = 'imdb'\n",
    "table_name"
   ]
  },
  {
   "cell_type": "markdown",
   "id": "d89fc486-d03e-4c28-9c6a-a5dd697dbba2",
   "metadata": {},
   "source": [
    "### Load iris data"
   ]
  },
  {
   "cell_type": "code",
   "execution_count": 4,
   "id": "cdf8b441-e7a5-4ce3-b89d-c609d47c4c46",
   "metadata": {},
   "outputs": [
    {
     "name": "stderr",
     "output_type": "stream",
     "text": [
      "Downloading readme: 100%|██████████| 7.81k/7.81k [00:00<00:00, 41.5MB/s]\n",
      "Downloading data: 100%|██████████| 21.0M/21.0M [00:01<00:00, 17.7MB/s]\n",
      "Downloading data: 100%|██████████| 20.5M/20.5M [00:00<00:00, 71.8MB/s]\n",
      "Downloading data: 100%|██████████| 42.0M/42.0M [00:00<00:00, 90.4MB/s]\n",
      "Generating train split: 100%|██████████| 25000/25000 [00:00<00:00, 27240.93 examples/s]\n",
      "Generating test split: 100%|██████████| 25000/25000 [00:00<00:00, 30759.98 examples/s]\n",
      "Generating unsupervised split: 100%|██████████| 50000/50000 [00:02<00:00, 22513.63 examples/s]\n"
     ]
    },
    {
     "data": {
      "text/html": [
       "<div>\n",
       "<style scoped>\n",
       "    .dataframe tbody tr th:only-of-type {\n",
       "        vertical-align: middle;\n",
       "    }\n",
       "\n",
       "    .dataframe tbody tr th {\n",
       "        vertical-align: top;\n",
       "    }\n",
       "\n",
       "    .dataframe thead th {\n",
       "        text-align: right;\n",
       "    }\n",
       "</style>\n",
       "<table border=\"1\" class=\"dataframe\">\n",
       "  <thead>\n",
       "    <tr style=\"text-align: right;\">\n",
       "      <th></th>\n",
       "      <th>text</th>\n",
       "      <th>label</th>\n",
       "      <th>stage</th>\n",
       "    </tr>\n",
       "  </thead>\n",
       "  <tbody>\n",
       "    <tr>\n",
       "      <th>0</th>\n",
       "      <td>I rented I AM CURIOUS-YELLOW from my video sto...</td>\n",
       "      <td>0</td>\n",
       "      <td>train</td>\n",
       "    </tr>\n",
       "    <tr>\n",
       "      <th>1</th>\n",
       "      <td>\"I Am Curious: Yellow\" is a risible and preten...</td>\n",
       "      <td>0</td>\n",
       "      <td>train</td>\n",
       "    </tr>\n",
       "    <tr>\n",
       "      <th>2</th>\n",
       "      <td>If only to avoid making this type of film in t...</td>\n",
       "      <td>0</td>\n",
       "      <td>train</td>\n",
       "    </tr>\n",
       "    <tr>\n",
       "      <th>3</th>\n",
       "      <td>This film was probably inspired by Godard's Ma...</td>\n",
       "      <td>0</td>\n",
       "      <td>train</td>\n",
       "    </tr>\n",
       "    <tr>\n",
       "      <th>4</th>\n",
       "      <td>Oh, brother...after hearing about this ridicul...</td>\n",
       "      <td>0</td>\n",
       "      <td>train</td>\n",
       "    </tr>\n",
       "  </tbody>\n",
       "</table>\n",
       "</div>"
      ],
      "text/plain": [
       "                                                text  label  stage\n",
       "0  I rented I AM CURIOUS-YELLOW from my video sto...      0  train\n",
       "1  \"I Am Curious: Yellow\" is a risible and preten...      0  train\n",
       "2  If only to avoid making this type of film in t...      0  train\n",
       "3  This film was probably inspired by Godard's Ma...      0  train\n",
       "4  Oh, brother...after hearing about this ridicul...      0  train"
      ]
     },
     "execution_count": 4,
     "metadata": {},
     "output_type": "execute_result"
    }
   ],
   "source": [
    "imdb = load_dataset(\"imdb\")\n",
    "\n",
    "imdb_train = pd.DataFrame(imdb[\"train\"], columns=['text', 'label'])\n",
    "imdb_train['stage'] = \"train\"\n",
    "\n",
    "imdb_test = pd.DataFrame(imdb[\"test\"], columns=['text', 'label'])\n",
    "imdb_test['stage'] = \"test\"\n",
    "\n",
    "imdb_all = pd.concat([imdb_train, imdb_test])\n",
    "imdb_all.head()"
   ]
  },
  {
   "cell_type": "markdown",
   "id": "714da50a",
   "metadata": {},
   "source": [
    "### Export to CSV "
   ]
  },
  {
   "cell_type": "code",
   "execution_count": 5,
   "id": "9e834310",
   "metadata": {},
   "outputs": [],
   "source": [
    "# imdb_all.to_csv('~/scratch/Datasets/imdb.csv', header=True, index=False)"
   ]
  },
  {
   "cell_type": "code",
   "execution_count": 6,
   "id": "d64e2392",
   "metadata": {},
   "outputs": [],
   "source": [
    "# fail"
   ]
  },
  {
   "cell_type": "markdown",
   "id": "17ae7aa0-cd89-496e-a570-06593cf74d72",
   "metadata": {},
   "source": [
    "### Connect to the DB"
   ]
  },
  {
   "cell_type": "code",
   "execution_count": 7,
   "id": "b42f4567-cc16-4a74-83d6-2cfb030e9f7c",
   "metadata": {},
   "outputs": [],
   "source": [
    "con = duckdb.connect(\"../test_4096.db\")"
   ]
  },
  {
   "cell_type": "markdown",
   "id": "e110095f-2296-47fc-a9e7-d521cf6480b6",
   "metadata": {},
   "source": [
    "### Create the iris table and populate"
   ]
  },
  {
   "cell_type": "code",
   "execution_count": 9,
   "id": "d86e40e9-6496-4a73-8202-1221a9f550ed",
   "metadata": {},
   "outputs": [
    {
     "name": "stdout",
     "output_type": "stream",
     "text": [
      "┌────────────────────────────────────────────────────────────────────────────────────────────────────┬───────┬─────────┐\n",
      "│                                                text                                                │ label │  stage  │\n",
      "│                                              varchar                                               │ float │ varchar │\n",
      "├────────────────────────────────────────────────────────────────────────────────────────────────────┼───────┼─────────┤\n",
      "│ I rented I AM CURIOUS-YELLOW from my video store because of all the controversy that surrounded …  │   0.0 │ train   │\n",
      "│ \"I Am Curious: Yellow\" is a risible and pretentious steaming pile. It doesn't matter what one's …  │   0.0 │ train   │\n",
      "│ If only to avoid making this type of film in the future. This film is interesting as an experime…  │   0.0 │ train   │\n",
      "│ This film was probably inspired by Godard's Masculin, féminin and I urge you to see that film in…  │   0.0 │ train   │\n",
      "│ Oh, brother...after hearing about this ridiculous film for umpteen years all I can think of is t…  │   0.0 │ train   │\n",
      "│ I would put this at the top of my list of films in the category of unwatchable trash! There are …  │   0.0 │ train   │\n",
      "│ Whoever wrote the screenplay for this movie obviously never consulted any books about Lucille Ba…  │   0.0 │ train   │\n",
      "│ When I first saw a glimpse of this movie, I quickly noticed the actress who was playing the role…  │   0.0 │ train   │\n",
      "│ Who are these \"They\"- the actors? the filmmakers? Certainly couldn't be the audience- this is am…  │   0.0 │ train   │\n",
      "│ This is said to be a personal film for Peter Bogdonavitch. He based it on his life but changed t…  │   0.0 │ train   │\n",
      "│                                                 ·                                                  │    ·  │   ·     │\n",
      "│                                                 ·                                                  │    ·  │   ·     │\n",
      "│                                                 ·                                                  │    ·  │   ·     │\n",
      "│ Zombie Nation 2004 R<br /><br />Hey, I was bored. I looked in my Comcastic little box to find a …  │   0.0 │ train   │\n",
      "│ I only watched the first 30 minutes of this and what I saw was a total piece of crap. The scenes…  │   0.0 │ train   │\n",
      "│ This movie had me going. The title was perhaps the greatest idea that I heard. I thought it was …  │   0.0 │ train   │\n",
      "│ If ever there was a film that deserved a big fat zero rating it's this pile of crap. I love zomb…  │   0.0 │ train   │\n",
      "│ Notice I have given this 1 star if the option been given I would have given this zero. As I put …  │   0.0 │ train   │\n",
      "│ usually I support independent art and i try to be very comprehensive and tolerant...i tend to su…  │   0.0 │ train   │\n",
      "│ Thank God! I didn't waste my money renting it but i downloaded it! This happens to be the worst …  │   0.0 │ train   │\n",
      "│ Not worth the video rental or the time or the occasional efforts.<br /><br />*Makeup that a chil…  │   0.0 │ train   │\n",
      "│ I stopped by BB and picked up 4 zombie flicks to watch over the weekend. Now, I understand that …  │   0.0 │ train   │\n",
      "│ This film has to be the worst I have ever seen. The title of the film deceives the audience into…  │   0.0 │ train   │\n",
      "├────────────────────────────────────────────────────────────────────────────────────────────────────┴───────┴─────────┤\n",
      "│ ? rows (>9999 rows, 20 shown)                                                                              3 columns │\n",
      "└──────────────────────────────────────────────────────────────────────────────────────────────────────────────────────┘\n",
      "\n"
     ]
    }
   ],
   "source": [
    "con.sql(f\"DROP TABLE IF EXISTS {table_name}\")\n",
    "\n",
    "# con.sql(f\"CREATE TYPE ml_stage AS ENUM ('train', 'test')\")\n",
    "\n",
    "con.sql(f\"CREATE TABLE {table_name} (text varchar, label float, stage varchar)\")\n",
    "\n",
    "con.sql(f\"INSERT INTO {table_name} SELECT * FROM imdb_all\")\n",
    "\n",
    "con.sql(f\"SELECT * FROM {table_name}\").show()\n",
    "\n",
    "con.close()"
   ]
  },
  {
   "cell_type": "code",
   "execution_count": null,
   "id": "357fbb5f-5bd5-45d7-9070-906e7a06439d",
   "metadata": {},
   "outputs": [
    {
     "ename": "",
     "evalue": "",
     "output_type": "error",
     "traceback": [
      "\u001b[1;31mRunning cells with 'mldb (Python 3.1.-1)' requires the ipykernel package.\n",
      "\u001b[1;31mRun the following command to install 'ipykernel' into the Python environment. \n",
      "\u001b[1;31mCommand: 'conda install -n mldb ipykernel --update-deps --force-reinstall'"
     ]
    }
   ],
   "source": [
    "# iris_data.to_csv('../out.csv', header=False, index=False)"
   ]
  },
  {
   "cell_type": "code",
   "execution_count": null,
   "id": "3c2c95af-ac9b-4a1b-9cdb-0a7d25c945a4",
   "metadata": {},
   "outputs": [
    {
     "ename": "",
     "evalue": "",
     "output_type": "error",
     "traceback": [
      "\u001b[1;31mRunning cells with 'mldb (Python 3.1.-1)' requires the ipykernel package.\n",
      "\u001b[1;31mRun the following command to install 'ipykernel' into the Python environment. \n",
      "\u001b[1;31mCommand: 'conda install -n mldb ipykernel --update-deps --force-reinstall'"
     ]
    }
   ],
   "source": []
  }
 ],
 "metadata": {
  "kernelspec": {
   "display_name": "Python 3 (ipykernel)",
   "language": "python",
   "name": "python3"
  },
  "language_info": {
   "codemirror_mode": {
    "name": "ipython",
    "version": 3
   },
   "file_extension": ".py",
   "mimetype": "text/x-python",
   "name": "python",
   "nbconvert_exporter": "python",
   "pygments_lexer": "ipython3",
   "version": "3.12.4"
  }
 },
 "nbformat": 4,
 "nbformat_minor": 5
}
